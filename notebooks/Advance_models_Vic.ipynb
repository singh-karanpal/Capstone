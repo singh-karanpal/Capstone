{
 "cells": [
  {
   "cell_type": "markdown",
   "metadata": {
    "colab_type": "text",
    "id": "gAP89TsxvOyZ"
   },
   "source": [
    "# Load dependencies"
   ]
  },
  {
   "cell_type": "code",
   "execution_count": 1,
   "metadata": {
    "colab": {
     "base_uri": "https://localhost:8080/",
     "height": 34
    },
    "colab_type": "code",
    "id": "e-3gJnncvbj5",
    "outputId": "74291565-81f8-4424-a183-77eff5cd5d81"
   },
   "outputs": [
    {
     "name": "stderr",
     "output_type": "stream",
     "text": [
      "Using TensorFlow backend.\n"
     ]
    }
   ],
   "source": [
    "# LOAD DEPENDENCIES\n",
    "# General\n",
    "import pandas as pd\n",
    "import numpy as np\n",
    "import time\n",
    "import tensorflow as tf\n",
    "import tensorflow_hub as tensorflow_hub\n",
    "from tensorflow import keras\n",
    "\n",
    "# Embeddings\n",
    "from sklearn.feature_extraction.text import TfidfVectorizer, CountVectorizer  #TD-IDF & Bag of Words\n",
    "from tensorflow.keras.preprocessing.text import Tokenizer  #GloVe\n",
    "# from sentence_transformers import SentenceTransformer  #BERT\n",
    "\n",
    "# Models\n",
    "from keras.preprocessing.sequence import pad_sequences #Glove of CNN\n",
    "# from keras.models import Sequential #Glove of CNN\n",
    "from tensorflow.keras.models import Sequential\n",
    "from tensorflow.keras.layers import Dense, Dropout, Flatten, Activation, Reshape\n",
    "from tensorflow.keras.layers import Conv1D, Conv2D, MaxPooling2D, GlobalMaxPooling1D, MaxPool1D, MaxPooling1D\n",
    "from tensorflow.keras.layers import Embedding, LSTM, Input, Lambda, InputLayer\n",
    "from sklearn.metrics import precision_score, recall_score, f1_score, accuracy_score, hamming_loss\n",
    "\n",
    "# To use GPU-Accelerated Machine Learning on MacOS\n",
    "# import os\n",
    "# os.environ[\"KERAS_BACKEND\"] = \"plaidml.keras.backend\"\n",
    "\n",
    "# plot\n",
    "import altair as alt\n",
    "# alt.renderers.enable('default')\n",
    "# alt.renderers.enable('mimetype')\n",
    "# alt.data_transformers.enable('json')"
   ]
  },
  {
   "cell_type": "code",
   "execution_count": null,
   "metadata": {
    "colab": {},
    "colab_type": "code",
    "id": "wFqfXxOIvT0v"
   },
   "outputs": [],
   "source": [
    "# funtion to plot\n",
    "def plot_metrics(hist):\n",
    "  '''\n",
    "  Returns an Altair plot of the loss and accuracy for the train and \n",
    "  validation datasets based in the history of the model\n",
    "\n",
    "  Input:\n",
    "  ------\n",
    "  hist (object) tensorflow.python.keras.callbacks.History\n",
    "\n",
    "  Output:\n",
    "  -------\n",
    "  Altair plot\n",
    "  '''\n",
    "  df = pd.DataFrame(hist.history.values(), hist.history.keys())\\\n",
    "        .T.rename(columns={\"loss\":\"train_loss\",\n",
    "                          \"accuracy\":\"train_accuracy\",\n",
    "                          \"val_loss\":\"valid_loss\",\n",
    "                          \"val_accuracy\":\"valid_accuracy\"})\n",
    "  df = pd.DataFrame(df.stack()).reset_index().drop(columns=[])\\\n",
    "        .rename(columns={\"level_0\":'epoch', 'level_1':'metric', 0:'value'})\n",
    "  plot = alt.Chart(df).mark_line().encode(\n",
    "      x='epoch:Q',\n",
    "      y='value:Q',\n",
    "      color='metric'\n",
    "  ).properties(\n",
    "    title='Loss and Accuracy'\n",
    "  )\n",
    "  return plot"
   ]
  },
  {
   "cell_type": "code",
   "execution_count": null,
   "metadata": {
    "colab": {},
    "colab_type": "code",
    "id": "XTAKSZVjF-Jp"
   },
   "outputs": [],
   "source": [
    "# Last's year function\n",
    "def theme_results(Ytrue, Ypred):\n",
    "    '''Calculate accuracies for theme classification\n",
    "    Parameters\n",
    "    ----------\n",
    "    Ytrue : array of shape (n_obeservations, n_labels)\n",
    "        Correct labels for the 12 text classifications\n",
    "    Ypred : array of shape (n_obeservations, n_labels)\n",
    "        Predicted labels for the 12 text classifications\n",
    "    Returns\n",
    "    -------\n",
    "    overall_results : dataframes of overall evaluation metrics\n",
    "    theme_results : dataframe of evaluation metrics by class\n",
    "    '''\n",
    "    # Calculate individual accuracies and evaluation metrics for each class\n",
    "    labels = ['CPD', 'CB', 'EWC', 'Exec', 'FWE', 'SP', 'RE', 'Sup', 'SW',\n",
    "              'TEPE', 'VMG', 'OTH']\n",
    "    Y_count = []\n",
    "    pred_count = []\n",
    "    error = []\n",
    "    #dummy_diff = []\n",
    "    accuracies = []\n",
    "    precision = []\n",
    "    recall = []\n",
    "    for i in np.arange(Ytrue.shape[1]):\n",
    "        Y_count.append(np.sum(Ytrue[:, i] == 1))\n",
    "        pred_count.append(np.sum(Ypred[:, i] == 1))\n",
    "        error.append(1 - accuracy_score(Ytrue[:, i], Ypred[:, i]))\n",
    "        #dummy_diff.append((np.mean(Ytrue[:, i] == 1)) - error[i])\n",
    "        accuracies.append(accuracy_score(Ytrue[:, i], Ypred[:, i]))\n",
    "        precision.append(precision_score(Ytrue[:, i], Ypred[:, i]))\n",
    "        recall.append(recall_score(Ytrue[:, i], Ypred[:, i]))\n",
    "    theme_results = pd.DataFrame({'Label': labels,\n",
    "                                  'Y_count': Y_count,\n",
    "                                  'Pred_count': pred_count,\n",
    "                                  'Error': error,\n",
    "                                 # 'Dummy_Diff': dummy_diff,\n",
    "                                  'Accuarcy': accuracies,\n",
    "                                  'Precision': precision,\n",
    "                                  'Recall': recall})\n",
    "    return theme_results"
   ]
  },
  {
   "cell_type": "markdown",
   "metadata": {
    "colab_type": "text",
    "id": "6YoL3M5ILWCG"
   },
   "source": [
    "# GloVe - CNN"
   ]
  },
  {
   "cell_type": "markdown",
   "metadata": {
    "colab_type": "text",
    "id": "8q_ADnLvPGuH"
   },
   "source": [
    "## Load datasets (Glove)"
   ]
  },
  {
   "cell_type": "code",
   "execution_count": null,
   "metadata": {
    "colab": {},
    "colab_type": "code",
    "id": "cG2FKs8ZLVkc"
   },
   "outputs": [],
   "source": [
    "# LOAD DEPENDENCIES\n",
    "import os\n",
    "#os.environ[\"KERAS_BACKEND\"] = \"plaidml.keras.backend\"\n",
    "import keras\n",
    "from keras.datasets import mnist\n",
    "from keras import models\n",
    "from keras.models import Sequential\n",
    "from keras import layers\n",
    "from keras.layers import Dense, Dropout, Flatten, Activation\n",
    "from keras.layers import Conv1D, Conv2D, MaxPooling2D, GlobalMaxPooling1D, MaxPool1D, MaxPooling1D, GlobalMaxPool1D, SpatialDropout1D, GlobalAveragePooling1D\n",
    "from keras.preprocessing.text import Tokenizer\n",
    "from keras.preprocessing.sequence import pad_sequences\n",
    "from keras.layers import Embedding, LSTM\n",
    "from keras.utils import to_categorical\n",
    "import tensorflow as tf\n",
    "from keras import backend as K\n",
    "\n",
    "import pandas as pd\n",
    "import numpy as np\n",
    "from urllib.request import urlopen\n",
    "from bs4 import BeautifulSoup\n",
    "import re\n",
    "import spacy\n",
    "# from collections import Counter\n",
    "import en_core_web_sm\n",
    "nlp = en_core_web_sm.load()\n",
    "\n",
    "from sklearn.model_selection import train_test_split\n",
    "from sklearn.feature_extraction.text import CountVectorizer\n",
    "from sklearn.metrics import precision_score, recall_score, f1_score, accuracy_score, hamming_loss\n",
    "from tensorflow.keras.metrics import Recall, Precision\n"
   ]
  },
  {
   "cell_type": "code",
   "execution_count": 6,
   "metadata": {
    "colab": {
     "base_uri": "https://localhost:8080/",
     "height": 34
    },
    "colab_type": "code",
    "id": "VRXASePcL781",
    "outputId": "47056e21-b176-463a-ce9b-dccc7320003f"
   },
   "outputs": [
    {
     "name": "stdout",
     "output_type": "stream",
     "text": [
      "Drive already mounted at /content/drive; to attempt to forcibly remount, call drive.mount(\"/content/drive\", force_remount=True).\n"
     ]
    }
   ],
   "source": [
    "#LOAD DATASETS\n",
    "from google.colab import drive\n",
    "drive.mount('/content/drive')\n",
    "\n",
    "root = \"/content/drive/My Drive/Colab Notebooks/models_mds/data/\"\n",
    "X_train = np.load(root + \"padded_docs_train.npy\")\n",
    "X_valid = np.load(root + \"padded_docs_valid.npy\")\n",
    "glove_embeddings = np.load(root + \"embedding_matrix_GLOVE.npy\")\n",
    "\n",
    "# retrieve targets\n",
    "y_train = np.load(root + \"y_train_thm.npy\") #\"y_train_sub.npy\")\n",
    "y_valid = np.load(root + \"y_valid_thm.npy\") #\"y_train_sub.npy\")"
   ]
  },
  {
   "cell_type": "code",
   "execution_count": 7,
   "metadata": {
    "colab": {
     "base_uri": "https://localhost:8080/",
     "height": 136
    },
    "colab_type": "code",
    "id": "i7O9TdHfMahE",
    "outputId": "a157f542-2c1c-4596-b3c2-19095044615a"
   },
   "outputs": [
    {
     "name": "stdout",
     "output_type": "stream",
     "text": [
      "glove_embeddings (8639, 300) \n",
      "\n",
      "X_train (10376, 87) \n",
      "y_train (10376, 12) \n",
      "\n",
      "X_valid (2594, 87) \n",
      "y_valid (2594, 12)\n"
     ]
    }
   ],
   "source": [
    "# SHAPES\n",
    "print(\"glove_embeddings\", glove_embeddings.shape,\n",
    "      \"\\n\\nX_train\", X_train.shape,\n",
    "      \"\\ny_train\", y_train.shape,\n",
    "      \"\\n\\nX_valid\", X_valid.shape,\n",
    "      \"\\ny_valid\", y_valid.shape)"
   ]
  },
  {
   "cell_type": "markdown",
   "metadata": {
    "colab_type": "text",
    "id": "A4n0_fWjPixW"
   },
   "source": [
    "## Based in Karan's model"
   ]
  },
  {
   "cell_type": "code",
   "execution_count": null,
   "metadata": {
    "colab": {},
    "colab_type": "code",
    "id": "Nzd33eMrM6-4"
   },
   "outputs": [],
   "source": [
    "# MODEL\n",
    "\n",
    "max_features = glove_embeddings.shape[0] # vocabulary\n",
    "maxlen = 87 # longest comment\n",
    "batch_size = 128\n",
    "filters = 250\n",
    "kernel_size = 3\n",
    "hidden_dims = 250\n",
    "epochs = 20\n",
    "embed_size = 300 # glove 300d dataset\n",
    "n_class = 12"
   ]
  },
  {
   "cell_type": "code",
   "execution_count": 9,
   "metadata": {
    "colab": {
     "base_uri": "https://localhost:8080/",
     "height": 493
    },
    "colab_type": "code",
    "id": "pqudQ5HINr3m",
    "outputId": "f92ebd34-b609-4029-94bf-0a7782f8dd83"
   },
   "outputs": [
    {
     "name": "stdout",
     "output_type": "stream",
     "text": [
      "Model: \"sequential_1\"\n",
      "_________________________________________________________________\n",
      "Layer (type)                 Output Shape              Param #   \n",
      "=================================================================\n",
      "embedding_1 (Embedding)      (None, 87, 300)           2591700   \n",
      "_________________________________________________________________\n",
      "dropout_1 (Dropout)          (None, 87, 300)           0         \n",
      "_________________________________________________________________\n",
      "conv1d_1 (Conv1D)            (None, 85, 250)           225250    \n",
      "_________________________________________________________________\n",
      "max_pooling1d_1 (MaxPooling1 (None, 42, 250)           0         \n",
      "_________________________________________________________________\n",
      "conv1d_2 (Conv1D)            (None, 40, 250)           187750    \n",
      "_________________________________________________________________\n",
      "max_pooling1d_2 (MaxPooling1 (None, 20, 250)           0         \n",
      "_________________________________________________________________\n",
      "flatten_1 (Flatten)          (None, 5000)              0         \n",
      "_________________________________________________________________\n",
      "dense_1 (Dense)              (None, 250)               1250250   \n",
      "_________________________________________________________________\n",
      "dense_2 (Dense)              (None, 250)               62750     \n",
      "_________________________________________________________________\n",
      "dense_3 (Dense)              (None, 12)                3012      \n",
      "=================================================================\n",
      "Total params: 4,320,712\n",
      "Trainable params: 1,729,012\n",
      "Non-trainable params: 2,591,700\n",
      "_________________________________________________________________\n"
     ]
    }
   ],
   "source": [
    "model = Sequential()\n",
    "\n",
    "model.add(Embedding(max_features, embed_size, weights=[glove_embeddings], trainable=False, input_length=maxlen))\n",
    "\n",
    "model.add(Dropout(0.2))\n",
    "model.add(Conv1D(filters, kernel_size, padding='valid', activation='relu',\n",
    "                 strides=1))\n",
    "model.add(MaxPooling1D())\n",
    "model.add(Conv1D(filters, kernel_size, padding='valid',activation='relu'))\n",
    "model.add(MaxPooling1D())\n",
    "model.add(Flatten())\n",
    "\n",
    "# L2 regularization\n",
    "model.add(Dense(hidden_dims, activation = 'relu', kernel_regularizer=keras.regularizers.l2(0.001)))\n",
    "model.add(Dense(hidden_dims, activation = 'relu', kernel_regularizer=keras.regularizers.l2(0.001)))\n",
    "model.add(Dense(n_class, activation = 'sigmoid'))\n",
    "\n",
    "model.summary()"
   ]
  },
  {
   "cell_type": "code",
   "execution_count": 10,
   "metadata": {
    "colab": {
     "base_uri": "https://localhost:8080/",
     "height": 731
    },
    "colab_type": "code",
    "id": "Fh0Krxu1Nsn3",
    "outputId": "584c466c-8a11-4520-9b53-edbe04ee9551"
   },
   "outputs": [
    {
     "name": "stdout",
     "output_type": "stream",
     "text": [
      "Train on 10376 samples, validate on 2594 samples\n",
      "Epoch 1/20\n",
      "10376/10376 [==============================] - 8s 796us/step - loss: 0.6032 - accuracy: 0.8815 - val_loss: 0.3801 - val_accuracy: 0.8976\n",
      "Epoch 2/20\n",
      "10376/10376 [==============================] - 1s 127us/step - loss: 0.3261 - accuracy: 0.9029 - val_loss: 0.2851 - val_accuracy: 0.9124\n",
      "Epoch 3/20\n",
      "10376/10376 [==============================] - 1s 127us/step - loss: 0.2637 - accuracy: 0.9162 - val_loss: 0.2442 - val_accuracy: 0.9224\n",
      "Epoch 4/20\n",
      "10376/10376 [==============================] - 1s 126us/step - loss: 0.2323 - accuracy: 0.9261 - val_loss: 0.2285 - val_accuracy: 0.9276\n",
      "Epoch 5/20\n",
      "10376/10376 [==============================] - 1s 127us/step - loss: 0.2111 - accuracy: 0.9327 - val_loss: 0.2229 - val_accuracy: 0.9296\n",
      "Epoch 6/20\n",
      "10376/10376 [==============================] - 1s 127us/step - loss: 0.1970 - accuracy: 0.9373 - val_loss: 0.2367 - val_accuracy: 0.9232\n",
      "Epoch 7/20\n",
      "10376/10376 [==============================] - 1s 127us/step - loss: 0.1863 - accuracy: 0.9404 - val_loss: 0.2120 - val_accuracy: 0.9324\n",
      "Epoch 8/20\n",
      "10376/10376 [==============================] - 1s 126us/step - loss: 0.1737 - accuracy: 0.9453 - val_loss: 0.2139 - val_accuracy: 0.9320\n",
      "Epoch 9/20\n",
      "10376/10376 [==============================] - 1s 127us/step - loss: 0.1643 - accuracy: 0.9491 - val_loss: 0.2207 - val_accuracy: 0.9321\n",
      "Epoch 10/20\n",
      "10376/10376 [==============================] - 1s 126us/step - loss: 0.1610 - accuracy: 0.9509 - val_loss: 0.2157 - val_accuracy: 0.9321\n",
      "Epoch 11/20\n",
      "10376/10376 [==============================] - 1s 126us/step - loss: 0.1464 - accuracy: 0.9564 - val_loss: 0.2169 - val_accuracy: 0.9333\n",
      "Epoch 12/20\n",
      "10376/10376 [==============================] - 1s 126us/step - loss: 0.1370 - accuracy: 0.9599 - val_loss: 0.2303 - val_accuracy: 0.9299\n",
      "Epoch 13/20\n",
      "10376/10376 [==============================] - 1s 127us/step - loss: 0.1310 - accuracy: 0.9622 - val_loss: 0.2346 - val_accuracy: 0.9295\n",
      "Epoch 14/20\n",
      "10376/10376 [==============================] - 1s 127us/step - loss: 0.1203 - accuracy: 0.9664 - val_loss: 0.2415 - val_accuracy: 0.9316\n",
      "Epoch 15/20\n",
      "10376/10376 [==============================] - 1s 126us/step - loss: 0.1196 - accuracy: 0.9672 - val_loss: 0.2460 - val_accuracy: 0.9310\n",
      "Epoch 16/20\n",
      "10376/10376 [==============================] - 1s 126us/step - loss: 0.1085 - accuracy: 0.9714 - val_loss: 0.2549 - val_accuracy: 0.9283\n",
      "Epoch 17/20\n",
      "10376/10376 [==============================] - 1s 126us/step - loss: 0.0999 - accuracy: 0.9749 - val_loss: 0.2621 - val_accuracy: 0.9316\n",
      "Epoch 18/20\n",
      "10376/10376 [==============================] - 1s 126us/step - loss: 0.0910 - accuracy: 0.9785 - val_loss: 0.2604 - val_accuracy: 0.9298\n",
      "Epoch 19/20\n",
      "10376/10376 [==============================] - 1s 127us/step - loss: 0.0888 - accuracy: 0.9791 - val_loss: 0.2681 - val_accuracy: 0.9284\n",
      "Epoch 20/20\n",
      "10376/10376 [==============================] - 1s 127us/step - loss: 0.0851 - accuracy: 0.9806 - val_loss: 0.2704 - val_accuracy: 0.9280\n"
     ]
    },
    {
     "data": {
      "text/plain": [
       "<keras.callbacks.callbacks.History at 0x7f4a04244c50>"
      ]
     },
     "execution_count": 10,
     "metadata": {
      "tags": []
     },
     "output_type": "execute_result"
    }
   ],
   "source": [
    "from sklearn.utils import class_weight\n",
    "model.compile(loss='binary_crossentropy', optimizer='adam', \n",
    "              metrics=['accuracy'])\n",
    "\n",
    "# Train Model\n",
    "model.fit(X_train, y_train, batch_size=batch_size, epochs=epochs, \n",
    "          class_weight='auto', validation_data=(X_valid, y_valid))#validation_split=0.15)"
   ]
  },
  {
   "cell_type": "markdown",
   "metadata": {
    "colab_type": "text",
    "id": "hKJeVojkmabM"
   },
   "source": [
    "### Comparing accuracy"
   ]
  },
  {
   "cell_type": "code",
   "execution_count": 11,
   "metadata": {
    "colab": {
     "base_uri": "https://localhost:8080/",
     "height": 51
    },
    "colab_type": "code",
    "id": "BgtlWB7CkHxb",
    "outputId": "999f527d-09bd-4764-807f-93b76597ba17"
   },
   "outputs": [
    {
     "name": "stdout",
     "output_type": "stream",
     "text": [
      "2594/2594 [==============================] - 0s 139us/step\n"
     ]
    },
    {
     "data": {
      "text/plain": [
       "0.9280391931533813"
      ]
     },
     "execution_count": 11,
     "metadata": {
      "tags": []
     },
     "output_type": "execute_result"
    }
   ],
   "source": [
    "# KERAS ACCURACY FOR VALIDATION DATASET\n",
    "score = model.evaluate(X_valid, y_valid)\n",
    "score[1]"
   ]
  },
  {
   "cell_type": "markdown",
   "metadata": {
    "colab_type": "text",
    "id": "Z5KiDDm5QON-"
   },
   "source": [
    "This result are the same to the results from the previous run for the validation dataset."
   ]
  },
  {
   "cell_type": "code",
   "execution_count": 12,
   "metadata": {
    "colab": {
     "base_uri": "https://localhost:8080/",
     "height": 34
    },
    "colab_type": "code",
    "id": "bmFnrDpWNhWu",
    "outputId": "542f48ab-6540-4803-b5df-07a3ac231398"
   },
   "outputs": [
    {
     "data": {
      "text/plain": [
       "0.9280390645078386"
      ]
     },
     "execution_count": 12,
     "metadata": {
      "tags": []
     },
     "output_type": "execute_result"
    }
   ],
   "source": [
    "# KERAS ACCURACY MANUALLY OBTAINED\n",
    "manual_obtained = (model.predict(X_valid) > 0.5)\n",
    "np.mean(manual_obtained==y_valid)"
   ]
  },
  {
   "cell_type": "code",
   "execution_count": 13,
   "metadata": {
    "colab": {
     "base_uri": "https://localhost:8080/",
     "height": 51
    },
    "colab_type": "code",
    "id": "sFqorsEMmKUx",
    "outputId": "77a57ae6-f15a-44bf-95d1-eacd30416763"
   },
   "outputs": [
    {
     "name": "stdout",
     "output_type": "stream",
     "text": [
      "2594/2594 [==============================] - 0s 38us/step\n",
      "0.9280390645078386 this number should be the same as the Keras' accuracy for validation dataset\n"
     ]
    }
   ],
   "source": [
    "# PREDICTIONS\n",
    "# get the prediction\n",
    "y_pred = model.predict(X_valid, batch_size=batch_size, verbose=1)\n",
    "# rounding the predictions\n",
    "y_pred_binary = (y_pred > 0.5) * 1\n",
    "# obtaining the Scikit-learn's accuracy for each label\n",
    "res = []\n",
    "for i in range(0, y_valid.shape[1]):\n",
    "  res.append(accuracy_score(y_valid[:,i], y_pred_binary[:,i]))\n",
    "# getting the mean\n",
    "same = np.mean(res)\n",
    "print(same, \"this number should be the same as the Keras' accuracy for validation dataset\")"
   ]
  },
  {
   "cell_type": "code",
   "execution_count": 14,
   "metadata": {
    "colab": {
     "base_uri": "https://localhost:8080/",
     "height": 34
    },
    "colab_type": "code",
    "id": "bDG8vO4BHrs9",
    "outputId": "07f56c84-3e07-4bd7-ea40-bf08fe0340c2"
   },
   "outputs": [
    {
     "name": "stdout",
     "output_type": "stream",
     "text": [
      "sklearn_accuracy 0.4637625289128759\n"
     ]
    }
   ],
   "source": [
    "# SCIKIT-LEARN METRICS FOR THE WHOLE MODEL\n",
    "sklearn_accuracy = accuracy_score(y_valid, y_pred_binary)\n",
    "print('sklearn_accuracy', sklearn_accuracy)"
   ]
  },
  {
   "cell_type": "code",
   "execution_count": 19,
   "metadata": {
    "colab": {
     "base_uri": "https://localhost:8080/",
     "height": 238
    },
    "colab_type": "code",
    "id": "ju4ZSlFWNeIv",
    "outputId": "eab5cd28-7fee-4bf0-9b9b-ec6ae96d9aa2"
   },
   "outputs": [
    {
     "name": "stdout",
     "output_type": "stream",
     "text": [
      "2594/2594 [==============================] - 0s 42us/step\n",
      "Micro-average quality numbers:\n"
     ]
    },
    {
     "data": {
      "text/html": [
       "<div>\n",
       "<style scoped>\n",
       "    .dataframe tbody tr th:only-of-type {\n",
       "        vertical-align: middle;\n",
       "    }\n",
       "\n",
       "    .dataframe tbody tr th {\n",
       "        vertical-align: top;\n",
       "    }\n",
       "\n",
       "    .dataframe thead th {\n",
       "        text-align: right;\n",
       "    }\n",
       "</style>\n",
       "<table border=\"1\" class=\"dataframe\">\n",
       "  <thead>\n",
       "    <tr style=\"text-align: right;\">\n",
       "      <th></th>\n",
       "      <th>Threshold</th>\n",
       "      <th>Accuracy all model</th>\n",
       "      <th>Accuracy average (keras)</th>\n",
       "      <th>Hamming loss</th>\n",
       "      <th>Precision</th>\n",
       "      <th>Recall</th>\n",
       "      <th>F1-measure</th>\n",
       "    </tr>\n",
       "  </thead>\n",
       "  <tbody>\n",
       "    <tr>\n",
       "      <th>0</th>\n",
       "      <td>0.5</td>\n",
       "      <td>0.463763</td>\n",
       "      <td>0.928039</td>\n",
       "      <td>0.071961</td>\n",
       "      <td>0.705182</td>\n",
       "      <td>0.654505</td>\n",
       "      <td>0.678899</td>\n",
       "    </tr>\n",
       "    <tr>\n",
       "      <th>1</th>\n",
       "      <td>0.6</td>\n",
       "      <td>0.475328</td>\n",
       "      <td>0.928039</td>\n",
       "      <td>0.068877</td>\n",
       "      <td>0.740222</td>\n",
       "      <td>0.627695</td>\n",
       "      <td>0.679330</td>\n",
       "    </tr>\n",
       "    <tr>\n",
       "      <th>2</th>\n",
       "      <td>0.7</td>\n",
       "      <td>0.472244</td>\n",
       "      <td>0.928039</td>\n",
       "      <td>0.067753</td>\n",
       "      <td>0.769176</td>\n",
       "      <td>0.595909</td>\n",
       "      <td>0.671546</td>\n",
       "    </tr>\n",
       "    <tr>\n",
       "      <th>3</th>\n",
       "      <td>0.8</td>\n",
       "      <td>0.468003</td>\n",
       "      <td>0.928039</td>\n",
       "      <td>0.066724</td>\n",
       "      <td>0.805149</td>\n",
       "      <td>0.561913</td>\n",
       "      <td>0.661892</td>\n",
       "    </tr>\n",
       "    <tr>\n",
       "      <th>4</th>\n",
       "      <td>0.9</td>\n",
       "      <td>0.457209</td>\n",
       "      <td>0.928039</td>\n",
       "      <td>0.067014</td>\n",
       "      <td>0.849772</td>\n",
       "      <td>0.514373</td>\n",
       "      <td>0.640840</td>\n",
       "    </tr>\n",
       "  </tbody>\n",
       "</table>\n",
       "</div>"
      ],
      "text/plain": [
       "   Threshold  Accuracy all model  ...    Recall  F1-measure\n",
       "0        0.5            0.463763  ...  0.654505    0.678899\n",
       "1        0.6            0.475328  ...  0.627695    0.679330\n",
       "2        0.7            0.472244  ...  0.595909    0.671546\n",
       "3        0.8            0.468003  ...  0.561913    0.661892\n",
       "4        0.9            0.457209  ...  0.514373    0.640840\n",
       "\n",
       "[5 rows x 7 columns]"
      ]
     },
     "execution_count": 19,
     "metadata": {
      "tags": []
     },
     "output_type": "execute_result"
    }
   ],
   "source": [
    "# PREDICTIONS\n",
    "# get the prediction\n",
    "y_pred = model.predict(X_valid, batch_size=batch_size, verbose=1)\n",
    "# rounding the predictions\n",
    "y_pred_binary = (y_pred > 0.5) * 1\n",
    "\n",
    "# PRECISION & RECALL\n",
    "\n",
    "predictions_results = []\n",
    "thresholds=np.arange(.5, 1, 0.1).tolist()\n",
    "\n",
    "for val in thresholds:\n",
    "    pred = y_pred.copy()\n",
    "    pred[pred>=val]=1\n",
    "    pred[pred<val]=0\n",
    "\n",
    "    accuracy = accuracy_score(y_valid, pred, normalize=True, sample_weight=None)\n",
    "    res = []\n",
    "    for i in range(0, y_valid.shape[1]):\n",
    "       res.append(accuracy_score(y_valid[:,i], y_pred_binary[:,i]))\n",
    "    accuracy_keras = np.mean(res)\n",
    "    hamming = hamming_loss(y_valid, pred)\n",
    "    precision = precision_score(y_valid, pred, average='micro')\n",
    "    recall = recall_score(y_valid, pred, average='micro')\n",
    "    f1 = f1_score(y_valid, pred, average='micro')\n",
    "   \n",
    "    case= {'Threshold': val,\n",
    "           'Accuracy all model': accuracy,\n",
    "           'Accuracy average (keras)': accuracy_keras,\n",
    "           'Hamming loss': hamming,\n",
    "           'Precision': precision,\n",
    "           'Recall': recall,\n",
    "           'F1-measure': f1}\n",
    "    predictions_results.append(case)\n",
    "\n",
    "print(\"Micro-average quality numbers:\")\n",
    "pd.DataFrame(predictions_results)"
   ]
  },
  {
   "cell_type": "code",
   "execution_count": 20,
   "metadata": {
    "colab": {
     "base_uri": "https://localhost:8080/",
     "height": 421
    },
    "colab_type": "code",
    "id": "jdzrkSpGGLW-",
    "outputId": "d2084e03-4773-4b50-e45b-9d30ae0a523a"
   },
   "outputs": [
    {
     "data": {
      "text/html": [
       "<div>\n",
       "<style scoped>\n",
       "    .dataframe tbody tr th:only-of-type {\n",
       "        vertical-align: middle;\n",
       "    }\n",
       "\n",
       "    .dataframe tbody tr th {\n",
       "        vertical-align: top;\n",
       "    }\n",
       "\n",
       "    .dataframe thead th {\n",
       "        text-align: right;\n",
       "    }\n",
       "</style>\n",
       "<table border=\"1\" class=\"dataframe\">\n",
       "  <thead>\n",
       "    <tr style=\"text-align: right;\">\n",
       "      <th></th>\n",
       "      <th>Label</th>\n",
       "      <th>Y_count</th>\n",
       "      <th>Pred_count</th>\n",
       "      <th>Error</th>\n",
       "      <th>Accuarcy</th>\n",
       "      <th>Precision</th>\n",
       "      <th>Recall</th>\n",
       "    </tr>\n",
       "  </thead>\n",
       "  <tbody>\n",
       "    <tr>\n",
       "      <th>0</th>\n",
       "      <td>CPD</td>\n",
       "      <td>344</td>\n",
       "      <td>349</td>\n",
       "      <td>0.076715</td>\n",
       "      <td>0.923285</td>\n",
       "      <td>0.707736</td>\n",
       "      <td>0.718023</td>\n",
       "    </tr>\n",
       "    <tr>\n",
       "      <th>1</th>\n",
       "      <td>CB</td>\n",
       "      <td>317</td>\n",
       "      <td>345</td>\n",
       "      <td>0.046261</td>\n",
       "      <td>0.953739</td>\n",
       "      <td>0.785507</td>\n",
       "      <td>0.854890</td>\n",
       "    </tr>\n",
       "    <tr>\n",
       "      <th>2</th>\n",
       "      <td>EWC</td>\n",
       "      <td>231</td>\n",
       "      <td>132</td>\n",
       "      <td>0.062066</td>\n",
       "      <td>0.937934</td>\n",
       "      <td>0.765152</td>\n",
       "      <td>0.437229</td>\n",
       "    </tr>\n",
       "    <tr>\n",
       "      <th>3</th>\n",
       "      <td>Exec</td>\n",
       "      <td>353</td>\n",
       "      <td>399</td>\n",
       "      <td>0.101773</td>\n",
       "      <td>0.898227</td>\n",
       "      <td>0.611529</td>\n",
       "      <td>0.691218</td>\n",
       "    </tr>\n",
       "    <tr>\n",
       "      <th>4</th>\n",
       "      <td>FWE</td>\n",
       "      <td>187</td>\n",
       "      <td>177</td>\n",
       "      <td>0.037008</td>\n",
       "      <td>0.962992</td>\n",
       "      <td>0.757062</td>\n",
       "      <td>0.716578</td>\n",
       "    </tr>\n",
       "    <tr>\n",
       "      <th>5</th>\n",
       "      <td>SP</td>\n",
       "      <td>252</td>\n",
       "      <td>312</td>\n",
       "      <td>0.072475</td>\n",
       "      <td>0.927525</td>\n",
       "      <td>0.602564</td>\n",
       "      <td>0.746032</td>\n",
       "    </tr>\n",
       "    <tr>\n",
       "      <th>6</th>\n",
       "      <td>RE</td>\n",
       "      <td>204</td>\n",
       "      <td>166</td>\n",
       "      <td>0.070933</td>\n",
       "      <td>0.929067</td>\n",
       "      <td>0.560241</td>\n",
       "      <td>0.455882</td>\n",
       "    </tr>\n",
       "    <tr>\n",
       "      <th>7</th>\n",
       "      <td>Sup</td>\n",
       "      <td>258</td>\n",
       "      <td>185</td>\n",
       "      <td>0.075173</td>\n",
       "      <td>0.924827</td>\n",
       "      <td>0.670270</td>\n",
       "      <td>0.480620</td>\n",
       "    </tr>\n",
       "    <tr>\n",
       "      <th>8</th>\n",
       "      <td>SW</td>\n",
       "      <td>396</td>\n",
       "      <td>375</td>\n",
       "      <td>0.101388</td>\n",
       "      <td>0.898612</td>\n",
       "      <td>0.677333</td>\n",
       "      <td>0.641414</td>\n",
       "    </tr>\n",
       "    <tr>\n",
       "      <th>9</th>\n",
       "      <td>TEPE</td>\n",
       "      <td>605</td>\n",
       "      <td>575</td>\n",
       "      <td>0.062452</td>\n",
       "      <td>0.937548</td>\n",
       "      <td>0.885217</td>\n",
       "      <td>0.841322</td>\n",
       "    </tr>\n",
       "    <tr>\n",
       "      <th>10</th>\n",
       "      <td>VMG</td>\n",
       "      <td>364</td>\n",
       "      <td>336</td>\n",
       "      <td>0.116423</td>\n",
       "      <td>0.883577</td>\n",
       "      <td>0.592262</td>\n",
       "      <td>0.546703</td>\n",
       "    </tr>\n",
       "    <tr>\n",
       "      <th>11</th>\n",
       "      <td>OTH</td>\n",
       "      <td>107</td>\n",
       "      <td>7</td>\n",
       "      <td>0.040864</td>\n",
       "      <td>0.959136</td>\n",
       "      <td>0.571429</td>\n",
       "      <td>0.037383</td>\n",
       "    </tr>\n",
       "  </tbody>\n",
       "</table>\n",
       "</div>"
      ],
      "text/plain": [
       "   Label  Y_count  Pred_count     Error  Accuarcy  Precision    Recall\n",
       "0    CPD      344         349  0.076715  0.923285   0.707736  0.718023\n",
       "1     CB      317         345  0.046261  0.953739   0.785507  0.854890\n",
       "2    EWC      231         132  0.062066  0.937934   0.765152  0.437229\n",
       "3   Exec      353         399  0.101773  0.898227   0.611529  0.691218\n",
       "4    FWE      187         177  0.037008  0.962992   0.757062  0.716578\n",
       "5     SP      252         312  0.072475  0.927525   0.602564  0.746032\n",
       "6     RE      204         166  0.070933  0.929067   0.560241  0.455882\n",
       "7    Sup      258         185  0.075173  0.924827   0.670270  0.480620\n",
       "8     SW      396         375  0.101388  0.898612   0.677333  0.641414\n",
       "9   TEPE      605         575  0.062452  0.937548   0.885217  0.841322\n",
       "10   VMG      364         336  0.116423  0.883577   0.592262  0.546703\n",
       "11   OTH      107           7  0.040864  0.959136   0.571429  0.037383"
      ]
     },
     "execution_count": 20,
     "metadata": {
      "tags": []
     },
     "output_type": "execute_result"
    }
   ],
   "source": [
    "# RESULTS PER LABEL\n",
    "theme_results(y_valid, y_pred_binary)"
   ]
  },
  {
   "cell_type": "markdown",
   "metadata": {
    "colab_type": "text",
    "id": "TGDymzQtR54e"
   },
   "source": [
    "# USE - CNN\n",
    "*USE: Universal Sentence Encoder*"
   ]
  },
  {
   "cell_type": "markdown",
   "metadata": {
    "colab_type": "text",
    "id": "4YYaJ0DoSYgY"
   },
   "source": [
    "## Load datasets (USE)"
   ]
  },
  {
   "cell_type": "code",
   "execution_count": 32,
   "metadata": {
    "colab": {
     "base_uri": "https://localhost:8080/",
     "height": 34
    },
    "colab_type": "code",
    "id": "JhGWEkSYSUu9",
    "outputId": "8c2ea2c9-d78a-41dd-f162-d32a648dc955"
   },
   "outputs": [
    {
     "name": "stdout",
     "output_type": "stream",
     "text": [
      "Drive already mounted at /content/drive; to attempt to forcibly remount, call drive.mount(\"/content/drive\", force_remount=True).\n"
     ]
    }
   ],
   "source": [
    "# LOAD DATASETS\n",
    "from google.colab import drive\n",
    "drive.mount('/content/drive')\n",
    "\n",
    "root = \"/content/drive/My Drive/Colab Notebooks/models_mds/data/\"\n",
    "X_train = np.load(root + \"embedding_matrix_USE_train.npy\")\n",
    "X_valid = np.load(root + \"embedding_matrix_USE_valid.npy\")\n",
    "\n",
    "# retrieve targets\n",
    "y_train = np.load(root + \"y_train_thm.npy\") #\"y_train_sub.npy\")\n",
    "y_valid = np.load(root + \"y_valid_thm.npy\") #\"y_valid_sub.npy\")"
   ]
  },
  {
   "cell_type": "code",
   "execution_count": 5,
   "metadata": {
    "colab": {
     "base_uri": "https://localhost:8080/",
     "height": 102
    },
    "colab_type": "code",
    "id": "fKgLXstjSdvM",
    "outputId": "9370310c-3a21-4c6c-ce96-64ce9efb9f4f"
   },
   "outputs": [
    {
     "name": "stdout",
     "output_type": "stream",
     "text": [
      "X_train (10376, 512) \n",
      "y_train (10376, 12) \n",
      "\n",
      "X_valid (2594, 512) \n",
      "y_valid (2594, 12)\n"
     ]
    }
   ],
   "source": [
    "# SHAPES\n",
    "print(\"X_train\", X_train.shape,\n",
    "      \"\\ny_train\", y_train.shape,\n",
    "      \"\\n\\nX_valid\", X_valid.shape,\n",
    "      \"\\ny_valid\", y_valid.shape)"
   ]
  },
  {
   "cell_type": "markdown",
   "metadata": {
    "colab_type": "text",
    "id": "hBR2HW6WfNFI"
   },
   "source": [
    "## Dense model"
   ]
  },
  {
   "cell_type": "code",
   "execution_count": null,
   "metadata": {
    "colab": {},
    "colab_type": "code",
    "id": "pb6sZzvOfVGJ"
   },
   "outputs": [],
   "source": [
    "max_features = X_train.shape[0] # =10376\n",
    "# maxlen = padded_docs_train.shape[1] # =150\n",
    "batch_size = 128\n",
    "filters = 250\n",
    "kernel_size = 3\n",
    "hidden_dims = 250\n",
    "epochs = 50\n",
    "embed_size = 512 # for universal sentence encoder\n",
    "n_class = 12"
   ]
  },
  {
   "cell_type": "code",
   "execution_count": 29,
   "metadata": {
    "colab": {
     "base_uri": "https://localhost:8080/",
     "height": 425
    },
    "colab_type": "code",
    "id": "SrwstoV-fVU7",
    "outputId": "0dc62263-2143-4b7e-cbf5-3906ff104f5f"
   },
   "outputs": [
    {
     "name": "stdout",
     "output_type": "stream",
     "text": [
      "Model: \"sequential_3\"\n",
      "_________________________________________________________________\n",
      "Layer (type)                 Output Shape              Param #   \n",
      "=================================================================\n",
      "dense_10 (Dense)             (None, 10376)             5322888   \n",
      "_________________________________________________________________\n",
      "dropout_4 (Dropout)          (None, 10376)             0         \n",
      "_________________________________________________________________\n",
      "dense_11 (Dense)             (None, 128)               1328256   \n",
      "_________________________________________________________________\n",
      "dropout_5 (Dropout)          (None, 128)               0         \n",
      "_________________________________________________________________\n",
      "dense_12 (Dense)             (None, 64)                8256      \n",
      "_________________________________________________________________\n",
      "dense_13 (Dense)             (None, 250)               16250     \n",
      "_________________________________________________________________\n",
      "dense_14 (Dense)             (None, 128)               32128     \n",
      "_________________________________________________________________\n",
      "dense_15 (Dense)             (None, 12)                1548      \n",
      "=================================================================\n",
      "Total params: 6,709,326\n",
      "Trainable params: 6,709,326\n",
      "Non-trainable params: 0\n",
      "_________________________________________________________________\n"
     ]
    }
   ],
   "source": [
    "model = Sequential()\n",
    "model.add(Dense(max_features, input_shape=(embed_size,), activation = 'relu'))\n",
    "model.add(Dropout(0.2))\n",
    "model.add(Dense(128, activation='relu'))\n",
    "# model.add(Dense(hidden_dims, activation = 'relu', \n",
    "#                 kernel_regularizer=tf.keras.regularizers.l1(0.01)))\n",
    "model.add(Dropout(0.4))\n",
    "model.add(Dense(64, activation='relu'))\n",
    "model.add(Dense(hidden_dims, activation = 'relu', \n",
    "                kernel_regularizer=tf.keras.regularizers.l2(0.01)))\n",
    "model.add(Dense(128, activation='relu'))\n",
    "model.add(Dense(n_class, activation='sigmoid'))\n",
    "\n",
    "model.summary()"
   ]
  },
  {
   "cell_type": "code",
   "execution_count": 30,
   "metadata": {
    "colab": {
     "base_uri": "https://localhost:8080/",
     "height": 1000
    },
    "colab_type": "code",
    "id": "RPUC4crefViE",
    "outputId": "1373d458-b128-41bf-a4f8-c8668f9bd5eb"
   },
   "outputs": [
    {
     "name": "stdout",
     "output_type": "stream",
     "text": [
      "Train on 10376 samples, validate on 2594 samples\n",
      "Epoch 1/50\n",
      "10376/10376 [==============================] - 1s 120us/step - loss: 0.8488 - accuracy: 0.8712 - val_loss: 0.4205 - val_accuracy: 0.9009\n",
      "Epoch 2/50\n",
      "10376/10376 [==============================] - 1s 97us/step - loss: 0.3275 - accuracy: 0.9039 - val_loss: 0.2528 - val_accuracy: 0.9128\n",
      "Epoch 3/50\n",
      "10376/10376 [==============================] - 1s 96us/step - loss: 0.2484 - accuracy: 0.9137 - val_loss: 0.2215 - val_accuracy: 0.9222\n",
      "Epoch 4/50\n",
      "10376/10376 [==============================] - 1s 96us/step - loss: 0.2266 - accuracy: 0.9197 - val_loss: 0.2163 - val_accuracy: 0.9226\n",
      "Epoch 5/50\n",
      "10376/10376 [==============================] - 1s 97us/step - loss: 0.2172 - accuracy: 0.9228 - val_loss: 0.2075 - val_accuracy: 0.9259\n",
      "Epoch 6/50\n",
      "10376/10376 [==============================] - 1s 97us/step - loss: 0.2072 - accuracy: 0.9264 - val_loss: 0.2070 - val_accuracy: 0.9252\n",
      "Epoch 7/50\n",
      "10376/10376 [==============================] - 1s 97us/step - loss: 0.1987 - accuracy: 0.9288 - val_loss: 0.2051 - val_accuracy: 0.9270\n",
      "Epoch 8/50\n",
      "10376/10376 [==============================] - 1s 97us/step - loss: 0.1906 - accuracy: 0.9319 - val_loss: 0.2027 - val_accuracy: 0.9275\n",
      "Epoch 9/50\n",
      "10376/10376 [==============================] - 1s 96us/step - loss: 0.1798 - accuracy: 0.9356 - val_loss: 0.2021 - val_accuracy: 0.9298\n",
      "Epoch 10/50\n",
      "10376/10376 [==============================] - 1s 96us/step - loss: 0.1703 - accuracy: 0.9389 - val_loss: 0.2069 - val_accuracy: 0.9276\n",
      "Epoch 11/50\n",
      "10376/10376 [==============================] - 1s 97us/step - loss: 0.1641 - accuracy: 0.9415 - val_loss: 0.2054 - val_accuracy: 0.9296\n",
      "Epoch 12/50\n",
      "10376/10376 [==============================] - 1s 97us/step - loss: 0.1504 - accuracy: 0.9467 - val_loss: 0.2153 - val_accuracy: 0.9280\n",
      "Epoch 13/50\n",
      "10376/10376 [==============================] - 1s 97us/step - loss: 0.1414 - accuracy: 0.9499 - val_loss: 0.2150 - val_accuracy: 0.9295\n",
      "Epoch 14/50\n",
      "10376/10376 [==============================] - 1s 96us/step - loss: 0.1341 - accuracy: 0.9528 - val_loss: 0.2310 - val_accuracy: 0.9270\n",
      "Epoch 15/50\n",
      "10376/10376 [==============================] - 1s 97us/step - loss: 0.1265 - accuracy: 0.9561 - val_loss: 0.2349 - val_accuracy: 0.9261\n",
      "Epoch 16/50\n",
      "10376/10376 [==============================] - 1s 96us/step - loss: 0.1167 - accuracy: 0.9585 - val_loss: 0.2355 - val_accuracy: 0.9277\n",
      "Epoch 17/50\n",
      "10376/10376 [==============================] - 1s 97us/step - loss: 0.1066 - accuracy: 0.9630 - val_loss: 0.2508 - val_accuracy: 0.9254\n",
      "Epoch 18/50\n",
      "10376/10376 [==============================] - 1s 96us/step - loss: 0.1001 - accuracy: 0.9652 - val_loss: 0.2549 - val_accuracy: 0.9253\n",
      "Epoch 19/50\n",
      "10376/10376 [==============================] - 1s 97us/step - loss: 0.0959 - accuracy: 0.9667 - val_loss: 0.2639 - val_accuracy: 0.9251\n",
      "Epoch 20/50\n",
      "10376/10376 [==============================] - 1s 96us/step - loss: 0.0885 - accuracy: 0.9693 - val_loss: 0.2793 - val_accuracy: 0.9247\n",
      "Epoch 21/50\n",
      "10376/10376 [==============================] - 1s 97us/step - loss: 0.0840 - accuracy: 0.9713 - val_loss: 0.2815 - val_accuracy: 0.9266\n",
      "Epoch 22/50\n",
      "10376/10376 [==============================] - 1s 96us/step - loss: 0.0801 - accuracy: 0.9724 - val_loss: 0.2923 - val_accuracy: 0.9239\n",
      "Epoch 23/50\n",
      "10376/10376 [==============================] - 1s 96us/step - loss: 0.0774 - accuracy: 0.9735 - val_loss: 0.3097 - val_accuracy: 0.9231\n",
      "Epoch 24/50\n",
      "10376/10376 [==============================] - 1s 96us/step - loss: 0.0746 - accuracy: 0.9744 - val_loss: 0.3078 - val_accuracy: 0.9224\n",
      "Epoch 25/50\n",
      "10376/10376 [==============================] - 1s 97us/step - loss: 0.0731 - accuracy: 0.9751 - val_loss: 0.3164 - val_accuracy: 0.9203\n",
      "Epoch 26/50\n",
      "10376/10376 [==============================] - 1s 97us/step - loss: 0.0698 - accuracy: 0.9763 - val_loss: 0.3126 - val_accuracy: 0.9248\n",
      "Epoch 27/50\n",
      "10376/10376 [==============================] - 1s 97us/step - loss: 0.0638 - accuracy: 0.9783 - val_loss: 0.3375 - val_accuracy: 0.9225\n",
      "Epoch 28/50\n",
      "10376/10376 [==============================] - 1s 96us/step - loss: 0.0631 - accuracy: 0.9795 - val_loss: 0.3411 - val_accuracy: 0.9251\n",
      "Epoch 29/50\n",
      "10376/10376 [==============================] - 1s 97us/step - loss: 0.0590 - accuracy: 0.9802 - val_loss: 0.3439 - val_accuracy: 0.9209\n",
      "Epoch 30/50\n",
      "10376/10376 [==============================] - 1s 97us/step - loss: 0.0593 - accuracy: 0.9801 - val_loss: 0.3547 - val_accuracy: 0.9202\n",
      "Epoch 31/50\n",
      "10376/10376 [==============================] - 1s 97us/step - loss: 0.0558 - accuracy: 0.9816 - val_loss: 0.3750 - val_accuracy: 0.9239\n",
      "Epoch 32/50\n",
      "10376/10376 [==============================] - 1s 97us/step - loss: 0.0527 - accuracy: 0.9830 - val_loss: 0.3758 - val_accuracy: 0.9251\n",
      "Epoch 33/50\n",
      "10376/10376 [==============================] - 1s 98us/step - loss: 0.0529 - accuracy: 0.9826 - val_loss: 0.3796 - val_accuracy: 0.9228\n",
      "Epoch 34/50\n",
      "10376/10376 [==============================] - 1s 97us/step - loss: 0.0511 - accuracy: 0.9832 - val_loss: 0.3849 - val_accuracy: 0.9201\n",
      "Epoch 35/50\n",
      "10376/10376 [==============================] - 1s 98us/step - loss: 0.0531 - accuracy: 0.9829 - val_loss: 0.4036 - val_accuracy: 0.9230\n",
      "Epoch 36/50\n",
      "10376/10376 [==============================] - 1s 98us/step - loss: 0.0475 - accuracy: 0.9848 - val_loss: 0.4048 - val_accuracy: 0.9233\n",
      "Epoch 37/50\n",
      "10376/10376 [==============================] - 1s 97us/step - loss: 0.0469 - accuracy: 0.9849 - val_loss: 0.4014 - val_accuracy: 0.9222\n",
      "Epoch 38/50\n",
      "10376/10376 [==============================] - 1s 96us/step - loss: 0.0465 - accuracy: 0.9851 - val_loss: 0.4343 - val_accuracy: 0.9255\n",
      "Epoch 39/50\n",
      "10376/10376 [==============================] - 1s 96us/step - loss: 0.0454 - accuracy: 0.9855 - val_loss: 0.4112 - val_accuracy: 0.9217\n",
      "Epoch 40/50\n",
      "10376/10376 [==============================] - 1s 97us/step - loss: 0.0453 - accuracy: 0.9857 - val_loss: 0.4041 - val_accuracy: 0.9220\n",
      "Epoch 41/50\n",
      "10376/10376 [==============================] - 1s 95us/step - loss: 0.0450 - accuracy: 0.9858 - val_loss: 0.4470 - val_accuracy: 0.9257\n",
      "Epoch 42/50\n",
      "10376/10376 [==============================] - 1s 96us/step - loss: 0.0444 - accuracy: 0.9863 - val_loss: 0.4258 - val_accuracy: 0.9219\n",
      "Epoch 43/50\n",
      "10376/10376 [==============================] - 1s 96us/step - loss: 0.0414 - accuracy: 0.9872 - val_loss: 0.4390 - val_accuracy: 0.9242\n",
      "Epoch 44/50\n",
      "10376/10376 [==============================] - 1s 98us/step - loss: 0.0382 - accuracy: 0.9881 - val_loss: 0.4437 - val_accuracy: 0.9217\n",
      "Epoch 45/50\n",
      "10376/10376 [==============================] - 1s 96us/step - loss: 0.0389 - accuracy: 0.9882 - val_loss: 0.4705 - val_accuracy: 0.9240\n",
      "Epoch 46/50\n",
      "10376/10376 [==============================] - 1s 96us/step - loss: 0.0387 - accuracy: 0.9884 - val_loss: 0.4691 - val_accuracy: 0.9231\n",
      "Epoch 47/50\n",
      "10376/10376 [==============================] - 1s 96us/step - loss: 0.0449 - accuracy: 0.9864 - val_loss: 0.4650 - val_accuracy: 0.9233\n",
      "Epoch 48/50\n",
      "10376/10376 [==============================] - 1s 96us/step - loss: 0.0371 - accuracy: 0.9884 - val_loss: 0.4633 - val_accuracy: 0.9224\n",
      "Epoch 49/50\n",
      "10376/10376 [==============================] - 1s 96us/step - loss: 0.0376 - accuracy: 0.9888 - val_loss: 0.4602 - val_accuracy: 0.9234\n",
      "Epoch 50/50\n",
      "10376/10376 [==============================] - 1s 96us/step - loss: 0.0381 - accuracy: 0.9882 - val_loss: 0.4881 - val_accuracy: 0.9223\n"
     ]
    }
   ],
   "source": [
    "model.compile(loss='binary_crossentropy', optimizer='adam',\n",
    "              metrics=['accuracy'])\n",
    "\n",
    "# Train Model\n",
    "history = model.fit(X_train, y_train, batch_size=batch_size, epochs=epochs,\n",
    "                    validation_data=(X_valid, y_valid))"
   ]
  },
  {
   "cell_type": "code",
   "execution_count": 31,
   "metadata": {
    "colab": {
     "base_uri": "https://localhost:8080/",
     "height": 385
    },
    "colab_type": "code",
    "id": "XNoIsfn8gG0t",
    "outputId": "52e73b44-2261-4e35-d3cf-c2afa73bf3cd"
   },
   "outputs": [
    {
     "data": {
      "text/html": [
       "\n",
       "<div id=\"altair-viz-a559b955a8824170867f4fd589d269e8\"></div>\n",
       "<script type=\"text/javascript\">\n",
       "  (function(spec, embedOpt){\n",
       "    let outputDiv = document.currentScript.previousElementSibling;\n",
       "    if (outputDiv.id !== \"altair-viz-a559b955a8824170867f4fd589d269e8\") {\n",
       "      outputDiv = document.getElementById(\"altair-viz-a559b955a8824170867f4fd589d269e8\");\n",
       "    }\n",
       "    const paths = {\n",
       "      \"vega\": \"https://cdn.jsdelivr.net/npm//vega@5?noext\",\n",
       "      \"vega-lib\": \"https://cdn.jsdelivr.net/npm//vega-lib?noext\",\n",
       "      \"vega-lite\": \"https://cdn.jsdelivr.net/npm//vega-lite@4.8.1?noext\",\n",
       "      \"vega-embed\": \"https://cdn.jsdelivr.net/npm//vega-embed@6?noext\",\n",
       "    };\n",
       "\n",
       "    function loadScript(lib) {\n",
       "      return new Promise(function(resolve, reject) {\n",
       "        var s = document.createElement('script');\n",
       "        s.src = paths[lib];\n",
       "        s.async = true;\n",
       "        s.onload = () => resolve(paths[lib]);\n",
       "        s.onerror = () => reject(`Error loading script: ${paths[lib]}`);\n",
       "        document.getElementsByTagName(\"head\")[0].appendChild(s);\n",
       "      });\n",
       "    }\n",
       "\n",
       "    function showError(err) {\n",
       "      outputDiv.innerHTML = `<div class=\"error\" style=\"color:red;\">${err}</div>`;\n",
       "      throw err;\n",
       "    }\n",
       "\n",
       "    function displayChart(vegaEmbed) {\n",
       "      vegaEmbed(outputDiv, spec, embedOpt)\n",
       "        .catch(err => showError(`Javascript Error: ${err.message}<br>This usually means there's a typo in your chart specification. See the javascript console for the full traceback.`));\n",
       "    }\n",
       "\n",
       "    if(typeof define === \"function\" && define.amd) {\n",
       "      requirejs.config({paths});\n",
       "      require([\"vega-embed\"], displayChart, err => showError(`Error loading script: ${err.message}`));\n",
       "    } else if (typeof vegaEmbed === \"function\") {\n",
       "      displayChart(vegaEmbed);\n",
       "    } else {\n",
       "      loadScript(\"vega\")\n",
       "        .then(() => loadScript(\"vega-lite\"))\n",
       "        .then(() => loadScript(\"vega-embed\"))\n",
       "        .catch(showError)\n",
       "        .then(() => displayChart(vegaEmbed));\n",
       "    }\n",
       "  })({\"config\": {\"view\": {\"continuousWidth\": 400, \"continuousHeight\": 300}}, \"data\": {\"name\": \"data-1ab2006bf17bea0b3815bfb36f8324eb\"}, \"mark\": \"line\", \"encoding\": {\"color\": {\"type\": \"nominal\", \"field\": \"metric\"}, \"x\": {\"type\": \"quantitative\", \"field\": \"epoch\"}, \"y\": {\"type\": \"quantitative\", \"field\": \"value\"}}, \"title\": \"Loss and Accuracy\", \"$schema\": \"https://vega.github.io/schema/vega-lite/v4.8.1.json\", \"datasets\": {\"data-1ab2006bf17bea0b3815bfb36f8324eb\": [{\"epoch\": 0, \"metric\": \"valid_loss\", \"value\": 0.420528440587596}, {\"epoch\": 0, \"metric\": \"valid_accuracy\", \"value\": 0.9008930325508118}, {\"epoch\": 0, \"metric\": \"train_loss\", \"value\": 0.848843069148229}, {\"epoch\": 0, \"metric\": \"train_accuracy\", \"value\": 0.8712413311004639}, {\"epoch\": 1, \"metric\": \"valid_loss\", \"value\": 0.25276986518178246}, {\"epoch\": 1, \"metric\": \"valid_accuracy\", \"value\": 0.9127795100212097}, {\"epoch\": 1, \"metric\": \"train_loss\", \"value\": 0.3275273976734076}, {\"epoch\": 1, \"metric\": \"train_accuracy\", \"value\": 0.9039290547370911}, {\"epoch\": 2, \"metric\": \"valid_loss\", \"value\": 0.22154320167548489}, {\"epoch\": 2, \"metric\": \"valid_accuracy\", \"value\": 0.9222243428230286}, {\"epoch\": 2, \"metric\": \"train_loss\", \"value\": 0.24839584170944798}, {\"epoch\": 2, \"metric\": \"train_accuracy\", \"value\": 0.9136630892753601}, {\"epoch\": 3, \"metric\": \"valid_loss\", \"value\": 0.2163352134509002}, {\"epoch\": 3, \"metric\": \"valid_accuracy\", \"value\": 0.9226098656654358}, {\"epoch\": 3, \"metric\": \"train_loss\", \"value\": 0.22661254133917133}, {\"epoch\": 3, \"metric\": \"train_accuracy\", \"value\": 0.9197346568107605}, {\"epoch\": 4, \"metric\": \"valid_loss\", \"value\": 0.20746903978546674}, {\"epoch\": 4, \"metric\": \"valid_accuracy\", \"value\": 0.9258545637130737}, {\"epoch\": 4, \"metric\": \"train_loss\", \"value\": 0.21724700674977593}, {\"epoch\": 4, \"metric\": \"train_accuracy\", \"value\": 0.9227868318557739}, {\"epoch\": 5, \"metric\": \"valid_loss\", \"value\": 0.20702235871723457}, {\"epoch\": 5, \"metric\": \"valid_accuracy\", \"value\": 0.925212025642395}, {\"epoch\": 5, \"metric\": \"train_loss\", \"value\": 0.2072038072848559}, {\"epoch\": 5, \"metric\": \"train_accuracy\", \"value\": 0.9264328479766846}, {\"epoch\": 6, \"metric\": \"valid_loss\", \"value\": 0.20507139112274742}, {\"epoch\": 6, \"metric\": \"valid_accuracy\", \"value\": 0.9270110726356506}, {\"epoch\": 6, \"metric\": \"train_loss\", \"value\": 0.19869076486450024}, {\"epoch\": 6, \"metric\": \"train_accuracy\", \"value\": 0.9287618398666382}, {\"epoch\": 7, \"metric\": \"valid_loss\", \"value\": 0.2027413090468372}, {\"epoch\": 7, \"metric\": \"valid_accuracy\", \"value\": 0.9274929761886597}, {\"epoch\": 7, \"metric\": \"train_loss\", \"value\": 0.1906344715158298}, {\"epoch\": 7, \"metric\": \"train_accuracy\", \"value\": 0.9319021105766296}, {\"epoch\": 8, \"metric\": \"valid_loss\", \"value\": 0.20213151371010285}, {\"epoch\": 8, \"metric\": \"valid_accuracy\", \"value\": 0.9297739267349243}, {\"epoch\": 8, \"metric\": \"train_loss\", \"value\": 0.1798314552527257}, {\"epoch\": 8, \"metric\": \"train_accuracy\", \"value\": 0.9356206655502319}, {\"epoch\": 9, \"metric\": \"valid_loss\", \"value\": 0.20685366305049419}, {\"epoch\": 9, \"metric\": \"valid_accuracy\", \"value\": 0.9275894165039062}, {\"epoch\": 9, \"metric\": \"train_loss\", \"value\": 0.17034539349417366}, {\"epoch\": 9, \"metric\": \"train_accuracy\", \"value\": 0.9389133453369141}, {\"epoch\": 10, \"metric\": \"valid_loss\", \"value\": 0.2053906147582952}, {\"epoch\": 10, \"metric\": \"valid_accuracy\", \"value\": 0.9296452403068542}, {\"epoch\": 10, \"metric\": \"train_loss\", \"value\": 0.1641366898255249}, {\"epoch\": 10, \"metric\": \"train_accuracy\", \"value\": 0.9415395259857178}, {\"epoch\": 11, \"metric\": \"valid_loss\", \"value\": 0.21525128466079302}, {\"epoch\": 11, \"metric\": \"valid_accuracy\", \"value\": 0.9279748201370239}, {\"epoch\": 11, \"metric\": \"train_loss\", \"value\": 0.15035715555584053}, {\"epoch\": 11, \"metric\": \"train_accuracy\", \"value\": 0.9466556310653687}, {\"epoch\": 12, \"metric\": \"valid_loss\", \"value\": 0.21495080707665123}, {\"epoch\": 12, \"metric\": \"valid_accuracy\", \"value\": 0.929548978805542}, {\"epoch\": 12, \"metric\": \"train_loss\", \"value\": 0.14144573931107635}, {\"epoch\": 12, \"metric\": \"train_accuracy\", \"value\": 0.9499082565307617}, {\"epoch\": 13, \"metric\": \"valid_loss\", \"value\": 0.23103123565499564}, {\"epoch\": 13, \"metric\": \"valid_accuracy\", \"value\": 0.9270432591438293}, {\"epoch\": 13, \"metric\": \"train_loss\", \"value\": 0.13405496665580327}, {\"epoch\": 13, \"metric\": \"train_accuracy\", \"value\": 0.9527757167816162}, {\"epoch\": 14, \"metric\": \"valid_loss\", \"value\": 0.23489800931953336}, {\"epoch\": 14, \"metric\": \"valid_accuracy\", \"value\": 0.9260793924331665}, {\"epoch\": 14, \"metric\": \"train_loss\", \"value\": 0.12650995162145487}, {\"epoch\": 14, \"metric\": \"train_accuracy\", \"value\": 0.9560765027999878}, {\"epoch\": 15, \"metric\": \"valid_loss\", \"value\": 0.23549079252787525}, {\"epoch\": 15, \"metric\": \"valid_accuracy\", \"value\": 0.9277499318122864}, {\"epoch\": 15, \"metric\": \"train_loss\", \"value\": 0.11674074799902363}, {\"epoch\": 15, \"metric\": \"train_accuracy\", \"value\": 0.9585419297218323}, {\"epoch\": 16, \"metric\": \"valid_loss\", \"value\": 0.250840842608957}, {\"epoch\": 16, \"metric\": \"valid_accuracy\", \"value\": 0.9254047870635986}, {\"epoch\": 16, \"metric\": \"train_loss\", \"value\": 0.10663676794988887}, {\"epoch\": 16, \"metric\": \"train_accuracy\", \"value\": 0.9630396366119385}, {\"epoch\": 17, \"metric\": \"valid_loss\", \"value\": 0.25485554164018465}, {\"epoch\": 17, \"metric\": \"valid_accuracy\", \"value\": 0.9252763390541077}, {\"epoch\": 17, \"metric\": \"train_loss\", \"value\": 0.10010854095657146}, {\"epoch\": 17, \"metric\": \"train_accuracy\", \"value\": 0.9652402400970459}, {\"epoch\": 18, \"metric\": \"valid_loss\", \"value\": 0.2638606752513828}, {\"epoch\": 18, \"metric\": \"valid_accuracy\", \"value\": 0.9251477718353271}, {\"epoch\": 18, \"metric\": \"train_loss\", \"value\": 0.09589164289907942}, {\"epoch\": 18, \"metric\": \"train_accuracy\", \"value\": 0.9666697978973389}, {\"epoch\": 19, \"metric\": \"valid_loss\", \"value\": 0.27926852791329576}, {\"epoch\": 19, \"metric\": \"valid_accuracy\", \"value\": 0.9246658682823181}, {\"epoch\": 19, \"metric\": \"train_loss\", \"value\": 0.08845204765762654}, {\"epoch\": 19, \"metric\": \"train_accuracy\", \"value\": 0.9693122506141663}, {\"epoch\": 20, \"metric\": \"valid_loss\", \"value\": 0.2815023186511045}, {\"epoch\": 20, \"metric\": \"valid_accuracy\", \"value\": 0.9265612959861755}, {\"epoch\": 20, \"metric\": \"train_loss\", \"value\": 0.08400277551277932}, {\"epoch\": 20, \"metric\": \"train_accuracy\", \"value\": 0.9713202714920044}, {\"epoch\": 21, \"metric\": \"valid_loss\", \"value\": 0.29232191184712264}, {\"epoch\": 21, \"metric\": \"valid_accuracy\", \"value\": 0.923862874507904}, {\"epoch\": 21, \"metric\": \"train_loss\", \"value\": 0.08007339057824937}, {\"epoch\": 21, \"metric\": \"train_accuracy\", \"value\": 0.9724366068840027}, {\"epoch\": 22, \"metric\": \"valid_loss\", \"value\": 0.30974979805505176}, {\"epoch\": 22, \"metric\": \"valid_accuracy\", \"value\": 0.9230596423149109}, {\"epoch\": 22, \"metric\": \"train_loss\", \"value\": 0.07737454573236802}, {\"epoch\": 22, \"metric\": \"train_accuracy\", \"value\": 0.9735045433044434}, {\"epoch\": 23, \"metric\": \"valid_loss\", \"value\": 0.30777187228386643}, {\"epoch\": 23, \"metric\": \"valid_accuracy\", \"value\": 0.9223528504371643}, {\"epoch\": 23, \"metric\": \"train_loss\", \"value\": 0.07462464320655042}, {\"epoch\": 23, \"metric\": \"train_accuracy\", \"value\": 0.9744362235069275}, {\"epoch\": 24, \"metric\": \"valid_loss\", \"value\": 0.31643077482971305}, {\"epoch\": 24, \"metric\": \"valid_accuracy\", \"value\": 0.9203289151191711}, {\"epoch\": 24, \"metric\": \"train_loss\", \"value\": 0.0730876721895559}, {\"epoch\": 24, \"metric\": \"train_accuracy\", \"value\": 0.9750625491142273}, {\"epoch\": 25, \"metric\": \"valid_loss\", \"value\": 0.31260430805942324}, {\"epoch\": 25, \"metric\": \"valid_accuracy\", \"value\": 0.9248265027999878}, {\"epoch\": 25, \"metric\": \"train_loss\", \"value\": 0.06982745038332532}, {\"epoch\": 25, \"metric\": \"train_accuracy\", \"value\": 0.9762673377990723}, {\"epoch\": 26, \"metric\": \"valid_loss\", \"value\": 0.33747409992982724}, {\"epoch\": 26, \"metric\": \"valid_accuracy\", \"value\": 0.9225454926490784}, {\"epoch\": 26, \"metric\": \"train_loss\", \"value\": 0.06377584482604205}, {\"epoch\": 26, \"metric\": \"train_accuracy\", \"value\": 0.9783475399017334}, {\"epoch\": 27, \"metric\": \"valid_loss\", \"value\": 0.34111262877445175}, {\"epoch\": 27, \"metric\": \"valid_accuracy\", \"value\": 0.925083577632904}, {\"epoch\": 27, \"metric\": \"train_loss\", \"value\": 0.06307657419739086}, {\"epoch\": 27, \"metric\": \"train_accuracy\", \"value\": 0.9795201420783997}, {\"epoch\": 28, \"metric\": \"valid_loss\", \"value\": 0.3438990259501414}, {\"epoch\": 28, \"metric\": \"valid_accuracy\", \"value\": 0.9209072589874268}, {\"epoch\": 28, \"metric\": \"train_loss\", \"value\": 0.058963341053945795}, {\"epoch\": 28, \"metric\": \"train_accuracy\", \"value\": 0.9801867604255676}, {\"epoch\": 29, \"metric\": \"valid_loss\", \"value\": 0.35472029346452827}, {\"epoch\": 29, \"metric\": \"valid_accuracy\", \"value\": 0.9201682806015015}, {\"epoch\": 29, \"metric\": \"train_loss\", \"value\": 0.059278607540803406}, {\"epoch\": 29, \"metric\": \"train_accuracy\", \"value\": 0.9801467061042786}, {\"epoch\": 30, \"metric\": \"valid_loss\", \"value\": 0.3749708739168936}, {\"epoch\": 30, \"metric\": \"valid_accuracy\", \"value\": 0.9239270687103271}, {\"epoch\": 30, \"metric\": \"train_loss\", \"value\": 0.05583972802117134}, {\"epoch\": 30, \"metric\": \"train_accuracy\", \"value\": 0.9816164374351501}, {\"epoch\": 31, \"metric\": \"valid_loss\", \"value\": 0.37575584112357063}, {\"epoch\": 31, \"metric\": \"valid_accuracy\", \"value\": 0.9251157641410828}, {\"epoch\": 31, \"metric\": \"train_loss\", \"value\": 0.05266683773297756}, {\"epoch\": 31, \"metric\": \"train_accuracy\", \"value\": 0.9830378890037537}, {\"epoch\": 32, \"metric\": \"valid_loss\", \"value\": 0.37962589373290767}, {\"epoch\": 32, \"metric\": \"valid_accuracy\", \"value\": 0.9228346347808838}, {\"epoch\": 32, \"metric\": \"train_loss\", \"value\": 0.05293776598703705}, {\"epoch\": 32, \"metric\": \"train_accuracy\", \"value\": 0.9825878739356995}, {\"epoch\": 33, \"metric\": \"valid_loss\", \"value\": 0.38488637973642753}, {\"epoch\": 33, \"metric\": \"valid_accuracy\", \"value\": 0.9201040863990784}, {\"epoch\": 33, \"metric\": \"train_loss\", \"value\": 0.051128338456567474}, {\"epoch\": 33, \"metric\": \"train_accuracy\", \"value\": 0.9832306504249573}, {\"epoch\": 34, \"metric\": \"valid_loss\", \"value\": 0.40359464602554956}, {\"epoch\": 34, \"metric\": \"valid_accuracy\", \"value\": 0.922995388507843}, {\"epoch\": 34, \"metric\": \"train_loss\", \"value\": 0.053068341088460425}, {\"epoch\": 34, \"metric\": \"train_accuracy\", \"value\": 0.9828931093215942}, {\"epoch\": 35, \"metric\": \"valid_loss\", \"value\": 0.40479222689119776}, {\"epoch\": 35, \"metric\": \"valid_accuracy\", \"value\": 0.9232844114303589}, {\"epoch\": 35, \"metric\": \"train_loss\", \"value\": 0.047452175422480404}, {\"epoch\": 35, \"metric\": \"train_accuracy\", \"value\": 0.9848126173019409}, {\"epoch\": 36, \"metric\": \"valid_loss\", \"value\": 0.4014153922624375}, {\"epoch\": 36, \"metric\": \"valid_accuracy\", \"value\": 0.9221921563148499}, {\"epoch\": 36, \"metric\": \"train_loss\", \"value\": 0.04692902407230509}, {\"epoch\": 36, \"metric\": \"train_accuracy\", \"value\": 0.9849170446395874}, {\"epoch\": 37, \"metric\": \"valid_loss\", \"value\": 0.43430032832124366}, {\"epoch\": 37, \"metric\": \"valid_accuracy\", \"value\": 0.9255332350730896}, {\"epoch\": 37, \"metric\": \"train_loss\", \"value\": 0.046509364971700044}, {\"epoch\": 37, \"metric\": \"train_accuracy\", \"value\": 0.9851018786430359}, {\"epoch\": 38, \"metric\": \"valid_loss\", \"value\": 0.41120149203236506}, {\"epoch\": 38, \"metric\": \"valid_accuracy\", \"value\": 0.9217424988746643}, {\"epoch\": 38, \"metric\": \"train_loss\", \"value\": 0.04537465012615795}, {\"epoch\": 38, \"metric\": \"train_accuracy\", \"value\": 0.9854874014854431}, {\"epoch\": 39, \"metric\": \"valid_loss\", \"value\": 0.4040764438113343}, {\"epoch\": 39, \"metric\": \"valid_accuracy\", \"value\": 0.9219674468040466}, {\"epoch\": 39, \"metric\": \"train_loss\", \"value\": 0.045311592651406156}, {\"epoch\": 39, \"metric\": \"train_accuracy\", \"value\": 0.9857037663459778}, {\"epoch\": 40, \"metric\": \"valid_loss\", \"value\": 0.4470071027209047}, {\"epoch\": 40, \"metric\": \"valid_accuracy\", \"value\": 0.9257259964942932}, {\"epoch\": 40, \"metric\": \"train_loss\", \"value\": 0.04499955670642412}, {\"epoch\": 40, \"metric\": \"train_accuracy\", \"value\": 0.985816478729248}, {\"epoch\": 41, \"metric\": \"valid_loss\", \"value\": 0.4258316146380734}, {\"epoch\": 41, \"metric\": \"valid_accuracy\", \"value\": 0.9218709468841553}, {\"epoch\": 41, \"metric\": \"train_loss\", \"value\": 0.044449107872240344}, {\"epoch\": 41, \"metric\": \"train_accuracy\", \"value\": 0.9862903952598572}, {\"epoch\": 42, \"metric\": \"valid_loss\", \"value\": 0.43903618998130467}, {\"epoch\": 42, \"metric\": \"valid_accuracy\", \"value\": 0.9241518974304199}, {\"epoch\": 42, \"metric\": \"train_loss\", \"value\": 0.04136613409021265}, {\"epoch\": 42, \"metric\": \"train_accuracy\", \"value\": 0.9871898889541626}, {\"epoch\": 43, \"metric\": \"valid_loss\", \"value\": 0.4436604412317092}, {\"epoch\": 43, \"metric\": \"valid_accuracy\", \"value\": 0.9217425584793091}, {\"epoch\": 43, \"metric\": \"train_loss\", \"value\": 0.03819371532625824}, {\"epoch\": 43, \"metric\": \"train_accuracy\", \"value\": 0.9880654215812683}, {\"epoch\": 44, \"metric\": \"valid_loss\", \"value\": 0.4704727569541843}, {\"epoch\": 44, \"metric\": \"valid_accuracy\", \"value\": 0.9239591360092163}, {\"epoch\": 44, \"metric\": \"train_loss\", \"value\": 0.03893705162254888}, {\"epoch\": 44, \"metric\": \"train_accuracy\", \"value\": 0.9881699085235596}, {\"epoch\": 45, \"metric\": \"valid_loss\", \"value\": 0.4691431230550191}, {\"epoch\": 45, \"metric\": \"valid_accuracy\", \"value\": 0.9230917692184448}, {\"epoch\": 45, \"metric\": \"train_loss\", \"value\": 0.03873488560617659}, {\"epoch\": 45, \"metric\": \"train_accuracy\", \"value\": 0.988362729549408}, {\"epoch\": 46, \"metric\": \"valid_loss\", \"value\": 0.46501477268354285}, {\"epoch\": 46, \"metric\": \"valid_accuracy\", \"value\": 0.9233487844467163}, {\"epoch\": 46, \"metric\": \"train_loss\", \"value\": 0.04488162525176267}, {\"epoch\": 46, \"metric\": \"train_accuracy\", \"value\": 0.9863706827163696}, {\"epoch\": 47, \"metric\": \"valid_loss\", \"value\": 0.4633187723095452}, {\"epoch\": 47, \"metric\": \"valid_accuracy\", \"value\": 0.9223528504371643}, {\"epoch\": 47, \"metric\": \"train_loss\", \"value\": 0.037128876837267726}, {\"epoch\": 47, \"metric\": \"train_accuracy\", \"value\": 0.988402783870697}, {\"epoch\": 48, \"metric\": \"valid_loss\", \"value\": 0.46020596449707873}, {\"epoch\": 48, \"metric\": \"valid_accuracy\", \"value\": 0.9234129786491394}, {\"epoch\": 48, \"metric\": \"train_loss\", \"value\": 0.03764570729897495}, {\"epoch\": 48, \"metric\": \"train_accuracy\", \"value\": 0.9887881875038147}, {\"epoch\": 49, \"metric\": \"valid_loss\", \"value\": 0.48812206159579175}, {\"epoch\": 49, \"metric\": \"valid_accuracy\", \"value\": 0.9222565293312073}, {\"epoch\": 49, \"metric\": \"train_loss\", \"value\": 0.038092099744812195}, {\"epoch\": 49, \"metric\": \"train_accuracy\", \"value\": 0.9882341027259827}]}}, {\"mode\": \"vega-lite\"});\n",
       "</script>"
      ],
      "text/plain": [
       "alt.Chart(...)"
      ]
     },
     "execution_count": 31,
     "metadata": {
      "tags": []
     },
     "output_type": "execute_result"
    }
   ],
   "source": [
    "plot_metrics(history)"
   ]
  },
  {
   "cell_type": "code",
   "execution_count": 32,
   "metadata": {
    "colab": {
     "base_uri": "https://localhost:8080/",
     "height": 51
    },
    "colab_type": "code",
    "id": "33Ke7NSffVw0",
    "outputId": "2ea3a8c1-a7c7-46df-973a-5aae2f0066f4"
   },
   "outputs": [
    {
     "name": "stdout",
     "output_type": "stream",
     "text": [
      "2594/2594 [==============================] - 0s 59us/step\n"
     ]
    },
    {
     "data": {
      "text/plain": [
       "[0.48812206763897664, 0.9222564697265625]"
      ]
     },
     "execution_count": 32,
     "metadata": {
      "tags": []
     },
     "output_type": "execute_result"
    }
   ],
   "source": [
    "score = model.evaluate(X_valid, y_valid)\n",
    "score"
   ]
  },
  {
   "cell_type": "code",
   "execution_count": 33,
   "metadata": {
    "colab": {
     "base_uri": "https://localhost:8080/",
     "height": 238
    },
    "colab_type": "code",
    "id": "t7KAGcJ1gUWK",
    "outputId": "21ba0df5-f923-42f4-b5bc-07e1c4bb53c2"
   },
   "outputs": [
    {
     "name": "stdout",
     "output_type": "stream",
     "text": [
      "2594/2594 [==============================] - 0s 24us/step\n",
      "Micro-average quality numbers:\n"
     ]
    },
    {
     "data": {
      "text/html": [
       "<div>\n",
       "<style scoped>\n",
       "    .dataframe tbody tr th:only-of-type {\n",
       "        vertical-align: middle;\n",
       "    }\n",
       "\n",
       "    .dataframe tbody tr th {\n",
       "        vertical-align: top;\n",
       "    }\n",
       "\n",
       "    .dataframe thead th {\n",
       "        text-align: right;\n",
       "    }\n",
       "</style>\n",
       "<table border=\"1\" class=\"dataframe\">\n",
       "  <thead>\n",
       "    <tr style=\"text-align: right;\">\n",
       "      <th></th>\n",
       "      <th>Threshold</th>\n",
       "      <th>Accuracy all model</th>\n",
       "      <th>Accuracy average (keras)</th>\n",
       "      <th>Hamming loss</th>\n",
       "      <th>Precision</th>\n",
       "      <th>Recall</th>\n",
       "      <th>F1-measure</th>\n",
       "    </tr>\n",
       "  </thead>\n",
       "  <tbody>\n",
       "    <tr>\n",
       "      <th>0</th>\n",
       "      <td>0.5</td>\n",
       "      <td>0.462606</td>\n",
       "      <td>0.927213</td>\n",
       "      <td>0.077744</td>\n",
       "      <td>0.696008</td>\n",
       "      <td>0.587894</td>\n",
       "      <td>0.637399</td>\n",
       "    </tr>\n",
       "    <tr>\n",
       "      <th>1</th>\n",
       "      <td>0.6</td>\n",
       "      <td>0.467232</td>\n",
       "      <td>0.926593</td>\n",
       "      <td>0.076266</td>\n",
       "      <td>0.715225</td>\n",
       "      <td>0.571310</td>\n",
       "      <td>0.635218</td>\n",
       "    </tr>\n",
       "    <tr>\n",
       "      <th>2</th>\n",
       "      <td>0.7</td>\n",
       "      <td>0.469545</td>\n",
       "      <td>0.926112</td>\n",
       "      <td>0.075109</td>\n",
       "      <td>0.735467</td>\n",
       "      <td>0.552515</td>\n",
       "      <td>0.630997</td>\n",
       "    </tr>\n",
       "    <tr>\n",
       "      <th>3</th>\n",
       "      <td>0.8</td>\n",
       "      <td>0.468389</td>\n",
       "      <td>0.925726</td>\n",
       "      <td>0.074402</td>\n",
       "      <td>0.755094</td>\n",
       "      <td>0.532615</td>\n",
       "      <td>0.624635</td>\n",
       "    </tr>\n",
       "    <tr>\n",
       "      <th>4</th>\n",
       "      <td>0.9</td>\n",
       "      <td>0.460293</td>\n",
       "      <td>0.925411</td>\n",
       "      <td>0.074306</td>\n",
       "      <td>0.783572</td>\n",
       "      <td>0.498342</td>\n",
       "      <td>0.609225</td>\n",
       "    </tr>\n",
       "  </tbody>\n",
       "</table>\n",
       "</div>"
      ],
      "text/plain": [
       "   Threshold  Accuracy all model  ...    Recall  F1-measure\n",
       "0        0.5            0.462606  ...  0.587894    0.637399\n",
       "1        0.6            0.467232  ...  0.571310    0.635218\n",
       "2        0.7            0.469545  ...  0.552515    0.630997\n",
       "3        0.8            0.468389  ...  0.532615    0.624635\n",
       "4        0.9            0.460293  ...  0.498342    0.609225\n",
       "\n",
       "[5 rows x 7 columns]"
      ]
     },
     "execution_count": 33,
     "metadata": {
      "tags": []
     },
     "output_type": "execute_result"
    }
   ],
   "source": [
    "# PREDICTIONS\n",
    "# get the prediction\n",
    "y_pred = model.predict(X_valid, batch_size=batch_size, verbose=1)\n",
    "# rounding the predictions\n",
    "y_pred_binary = (y_pred > 0.5) * 1\n",
    "\n",
    "\n",
    "# PRECISION & RECALL\n",
    "predictions_results = []\n",
    "thresholds=np.arange(.5, 1, 0.1).tolist()\n",
    "\n",
    "for val in thresholds:\n",
    "    pred = y_pred.copy()\n",
    "    pred[pred>=val]=1\n",
    "    pred[pred<val]=0\n",
    "\n",
    "    accuracy = accuracy_score(y_valid, pred, normalize=True, sample_weight=None)\n",
    "    res = []\n",
    "    for i in range(0, y_valid.shape[1]):\n",
    "       res.append(accuracy_score(y_valid[:,i], y_pred_binary[:,i]))\n",
    "    accuracy_keras = np.mean(res)\n",
    "    hamming = hamming_loss(y_valid, pred)\n",
    "    precision = precision_score(y_valid, pred, average='micro')\n",
    "    recall = recall_score(y_valid, pred, average='micro')\n",
    "    f1 = f1_score(y_valid, pred, average='micro')\n",
    "   \n",
    "    case= {'Threshold': val,\n",
    "           'Accuracy all model': accuracy,\n",
    "           'Accuracy average (keras)': accuracy_keras,\n",
    "           'Hamming loss': hamming,\n",
    "           'Precision': precision,\n",
    "           'Recall': recall,\n",
    "           'F1-measure': f1}\n",
    "    predictions_results.append(case)\n",
    "\n",
    "print(\"Micro-average quality numbers:\")\n",
    "pd.DataFrame(predictions_results)\n"
   ]
  },
  {
   "cell_type": "code",
   "execution_count": 34,
   "metadata": {
    "colab": {
     "base_uri": "https://localhost:8080/",
     "height": 421
    },
    "colab_type": "code",
    "id": "_uV1Bmd2-Agk",
    "outputId": "53e65a17-13ea-46e9-e228-2c18c10e720b"
   },
   "outputs": [
    {
     "data": {
      "text/html": [
       "<div>\n",
       "<style scoped>\n",
       "    .dataframe tbody tr th:only-of-type {\n",
       "        vertical-align: middle;\n",
       "    }\n",
       "\n",
       "    .dataframe tbody tr th {\n",
       "        vertical-align: top;\n",
       "    }\n",
       "\n",
       "    .dataframe thead th {\n",
       "        text-align: right;\n",
       "    }\n",
       "</style>\n",
       "<table border=\"1\" class=\"dataframe\">\n",
       "  <thead>\n",
       "    <tr style=\"text-align: right;\">\n",
       "      <th></th>\n",
       "      <th>Label</th>\n",
       "      <th>Y_count</th>\n",
       "      <th>Pred_count</th>\n",
       "      <th>Error</th>\n",
       "      <th>Accuarcy</th>\n",
       "      <th>Precision</th>\n",
       "      <th>Recall</th>\n",
       "    </tr>\n",
       "  </thead>\n",
       "  <tbody>\n",
       "    <tr>\n",
       "      <th>0</th>\n",
       "      <td>CPD</td>\n",
       "      <td>344</td>\n",
       "      <td>315</td>\n",
       "      <td>0.075944</td>\n",
       "      <td>0.924056</td>\n",
       "      <td>0.733333</td>\n",
       "      <td>0.671512</td>\n",
       "    </tr>\n",
       "    <tr>\n",
       "      <th>1</th>\n",
       "      <td>CB</td>\n",
       "      <td>317</td>\n",
       "      <td>297</td>\n",
       "      <td>0.049345</td>\n",
       "      <td>0.950655</td>\n",
       "      <td>0.818182</td>\n",
       "      <td>0.766562</td>\n",
       "    </tr>\n",
       "    <tr>\n",
       "      <th>2</th>\n",
       "      <td>EWC</td>\n",
       "      <td>231</td>\n",
       "      <td>206</td>\n",
       "      <td>0.079800</td>\n",
       "      <td>0.920200</td>\n",
       "      <td>0.558252</td>\n",
       "      <td>0.497835</td>\n",
       "    </tr>\n",
       "    <tr>\n",
       "      <th>3</th>\n",
       "      <td>Exec</td>\n",
       "      <td>353</td>\n",
       "      <td>282</td>\n",
       "      <td>0.089052</td>\n",
       "      <td>0.910948</td>\n",
       "      <td>0.716312</td>\n",
       "      <td>0.572238</td>\n",
       "    </tr>\n",
       "    <tr>\n",
       "      <th>4</th>\n",
       "      <td>FWE</td>\n",
       "      <td>187</td>\n",
       "      <td>200</td>\n",
       "      <td>0.052043</td>\n",
       "      <td>0.947957</td>\n",
       "      <td>0.630000</td>\n",
       "      <td>0.673797</td>\n",
       "    </tr>\n",
       "    <tr>\n",
       "      <th>5</th>\n",
       "      <td>SP</td>\n",
       "      <td>252</td>\n",
       "      <td>160</td>\n",
       "      <td>0.064765</td>\n",
       "      <td>0.935235</td>\n",
       "      <td>0.762500</td>\n",
       "      <td>0.484127</td>\n",
       "    </tr>\n",
       "    <tr>\n",
       "      <th>6</th>\n",
       "      <td>RE</td>\n",
       "      <td>204</td>\n",
       "      <td>130</td>\n",
       "      <td>0.079414</td>\n",
       "      <td>0.920586</td>\n",
       "      <td>0.492308</td>\n",
       "      <td>0.313725</td>\n",
       "    </tr>\n",
       "    <tr>\n",
       "      <th>7</th>\n",
       "      <td>Sup</td>\n",
       "      <td>258</td>\n",
       "      <td>173</td>\n",
       "      <td>0.082884</td>\n",
       "      <td>0.917116</td>\n",
       "      <td>0.624277</td>\n",
       "      <td>0.418605</td>\n",
       "    </tr>\n",
       "    <tr>\n",
       "      <th>8</th>\n",
       "      <td>SW</td>\n",
       "      <td>396</td>\n",
       "      <td>255</td>\n",
       "      <td>0.107556</td>\n",
       "      <td>0.892444</td>\n",
       "      <td>0.729412</td>\n",
       "      <td>0.469697</td>\n",
       "    </tr>\n",
       "    <tr>\n",
       "      <th>9</th>\n",
       "      <td>TEPE</td>\n",
       "      <td>605</td>\n",
       "      <td>587</td>\n",
       "      <td>0.067078</td>\n",
       "      <td>0.932922</td>\n",
       "      <td>0.867121</td>\n",
       "      <td>0.841322</td>\n",
       "    </tr>\n",
       "    <tr>\n",
       "      <th>10</th>\n",
       "      <td>VMG</td>\n",
       "      <td>364</td>\n",
       "      <td>325</td>\n",
       "      <td>0.112953</td>\n",
       "      <td>0.887047</td>\n",
       "      <td>0.609231</td>\n",
       "      <td>0.543956</td>\n",
       "    </tr>\n",
       "    <tr>\n",
       "      <th>11</th>\n",
       "      <td>OTH</td>\n",
       "      <td>107</td>\n",
       "      <td>126</td>\n",
       "      <td>0.072089</td>\n",
       "      <td>0.927911</td>\n",
       "      <td>0.182540</td>\n",
       "      <td>0.214953</td>\n",
       "    </tr>\n",
       "  </tbody>\n",
       "</table>\n",
       "</div>"
      ],
      "text/plain": [
       "   Label  Y_count  Pred_count     Error  Accuarcy  Precision    Recall\n",
       "0    CPD      344         315  0.075944  0.924056   0.733333  0.671512\n",
       "1     CB      317         297  0.049345  0.950655   0.818182  0.766562\n",
       "2    EWC      231         206  0.079800  0.920200   0.558252  0.497835\n",
       "3   Exec      353         282  0.089052  0.910948   0.716312  0.572238\n",
       "4    FWE      187         200  0.052043  0.947957   0.630000  0.673797\n",
       "5     SP      252         160  0.064765  0.935235   0.762500  0.484127\n",
       "6     RE      204         130  0.079414  0.920586   0.492308  0.313725\n",
       "7    Sup      258         173  0.082884  0.917116   0.624277  0.418605\n",
       "8     SW      396         255  0.107556  0.892444   0.729412  0.469697\n",
       "9   TEPE      605         587  0.067078  0.932922   0.867121  0.841322\n",
       "10   VMG      364         325  0.112953  0.887047   0.609231  0.543956\n",
       "11   OTH      107         126  0.072089  0.927911   0.182540  0.214953"
      ]
     },
     "execution_count": 34,
     "metadata": {
      "tags": []
     },
     "output_type": "execute_result"
    }
   ],
   "source": [
    "# RESULTS PER LABEL\n",
    "theme_results(y_valid, y_pred_binary)\n"
   ]
  },
  {
   "cell_type": "markdown",
   "metadata": {
    "colab_type": "text",
    "id": "eGMg3YBJTIMq"
   },
   "source": [
    "## Based in Karan's model"
   ]
  },
  {
   "cell_type": "code",
   "execution_count": null,
   "metadata": {
    "colab": {
     "base_uri": "https://localhost:8080/",
     "height": 102
    },
    "colab_type": "code",
    "id": "AtUi_B9zSsO_",
    "outputId": "0195499c-2233-4a93-e0ea-5e21bd4c4939"
   },
   "outputs": [
    {
     "name": "stdout",
     "output_type": "stream",
     "text": [
      "X_train (10376, 512, 1) \n",
      "y_train (10376, 12) \n",
      "\n",
      "X_valid (2594, 512, 1) \n",
      "y_valid (2594, 12)\n"
     ]
    }
   ],
   "source": [
    "# RESHAPE\n",
    "X_train = X_train.reshape(X_train.shape[0], X_train.shape[1], 1)\n",
    "X_valid = X_valid.reshape(X_valid.shape[0], X_valid.shape[1], 1)\n",
    "\n",
    "# SHAPES AFTER RESHAPING\n",
    "print(\"X_train\", X_train.shape,\n",
    "      \"\\ny_train\", y_train.shape,\n",
    "      \"\\n\\nX_valid\", X_valid.shape,\n",
    "      \"\\ny_valid\", y_valid.shape)"
   ]
  },
  {
   "cell_type": "code",
   "execution_count": null,
   "metadata": {
    "colab": {},
    "colab_type": "code",
    "id": "dHPche_dS3qY"
   },
   "outputs": [],
   "source": [
    "# MODEL\n",
    "\n",
    "max_features = X_train.shape[0] # comments\n",
    "batch_size = 128\n",
    "filters = 250\n",
    "kernel_size = 3\n",
    "hidden_dims = 250\n",
    "epochs = 10\n",
    "embed_size = 512 # for USE\n",
    "n_class = 12 # 12 for themes and 62 for sub-themes"
   ]
  },
  {
   "cell_type": "code",
   "execution_count": null,
   "metadata": {
    "colab": {
     "base_uri": "https://localhost:8080/",
     "height": 459
    },
    "colab_type": "code",
    "id": "KF5VfJG7Tmku",
    "outputId": "20ce5057-f489-4063-edf0-4ac86c99587f"
   },
   "outputs": [
    {
     "name": "stdout",
     "output_type": "stream",
     "text": [
      "Model: \"sequential\"\n",
      "_________________________________________________________________\n",
      "Layer (type)                 Output Shape              Param #   \n",
      "=================================================================\n",
      "dropout (Dropout)            (None, 512, 1)            0         \n",
      "_________________________________________________________________\n",
      "conv1d (Conv1D)              (None, 510, 250)          1000      \n",
      "_________________________________________________________________\n",
      "max_pooling1d (MaxPooling1D) (None, 255, 250)          0         \n",
      "_________________________________________________________________\n",
      "conv1d_1 (Conv1D)            (None, 253, 250)          187750    \n",
      "_________________________________________________________________\n",
      "max_pooling1d_1 (MaxPooling1 (None, 126, 250)          0         \n",
      "_________________________________________________________________\n",
      "flatten (Flatten)            (None, 31500)             0         \n",
      "_________________________________________________________________\n",
      "dense (Dense)                (None, 250)               7875250   \n",
      "_________________________________________________________________\n",
      "dense_1 (Dense)              (None, 250)               62750     \n",
      "_________________________________________________________________\n",
      "dense_2 (Dense)              (None, 12)                3012      \n",
      "=================================================================\n",
      "Total params: 8,129,762\n",
      "Trainable params: 8,129,762\n",
      "Non-trainable params: 0\n",
      "_________________________________________________________________\n"
     ]
    }
   ],
   "source": [
    "model = Sequential()\n",
    "# model.add(Embedding(max_features, embed_size, weights=[glove_embeddings], trainable=False, input_length=maxlen))\n",
    "# model.add(Conv1D(filters, kernel_size, input_shape=(embed_size,1), padding='valid',\n",
    "#                  activation='relu', strides=1))\n",
    "model.add(InputLayer(input_shape=(embed_size, 1)))\n",
    "\n",
    "model.add(Dropout(0.2))\n",
    "model.add(Conv1D(filters, kernel_size, padding='valid', activation='relu',\n",
    "                 strides=1))\n",
    "model.add(MaxPooling1D())\n",
    "model.add(Conv1D(filters, kernel_size, padding='valid',activation='relu'))\n",
    "model.add(MaxPooling1D())\n",
    "model.add(Flatten())\n",
    "\n",
    "# L2 regularization\n",
    "model.add(Dense(hidden_dims, activation = 'relu', kernel_regularizer=tf.keras.regularizers.l2(0.001)))\n",
    "model.add(Dense(hidden_dims, activation = 'relu', kernel_regularizer=tf.keras.regularizers.l2(0.001)))\n",
    "model.add(Dense(n_class, activation = 'sigmoid'))\n",
    "model.summary()"
   ]
  },
  {
   "cell_type": "code",
   "execution_count": null,
   "metadata": {
    "colab": {
     "base_uri": "https://localhost:8080/",
     "height": 374
    },
    "colab_type": "code",
    "id": "mFFqEZLKUQip",
    "outputId": "f1dcee44-854e-4ce4-e72e-2781b373a9ab"
   },
   "outputs": [
    {
     "name": "stdout",
     "output_type": "stream",
     "text": [
      "Epoch 1/10\n",
      "82/82 [==============================] - 2s 23ms/step - loss: 0.5350 - accuracy: 0.1609 - val_loss: 0.4036 - val_accuracy: 0.1110\n",
      "Epoch 2/10\n",
      "82/82 [==============================] - 2s 19ms/step - loss: 0.3859 - accuracy: 0.1644 - val_loss: 0.3753 - val_accuracy: 0.1677\n",
      "Epoch 3/10\n",
      "82/82 [==============================] - 2s 19ms/step - loss: 0.3688 - accuracy: 0.1722 - val_loss: 0.3680 - val_accuracy: 0.1889\n",
      "Epoch 4/10\n",
      "82/82 [==============================] - 2s 19ms/step - loss: 0.3374 - accuracy: 0.3348 - val_loss: 0.3476 - val_accuracy: 0.3362\n",
      "Epoch 5/10\n",
      "82/82 [==============================] - 2s 19ms/step - loss: 0.3022 - accuracy: 0.4592 - val_loss: 0.3704 - val_accuracy: 0.2409\n",
      "Epoch 6/10\n",
      "82/82 [==============================] - 2s 19ms/step - loss: 0.2887 - accuracy: 0.4921 - val_loss: 0.2812 - val_accuracy: 0.5397\n",
      "Epoch 7/10\n",
      "82/82 [==============================] - 2s 19ms/step - loss: 0.2710 - accuracy: 0.5276 - val_loss: 0.2536 - val_accuracy: 0.5802\n",
      "Epoch 8/10\n",
      "82/82 [==============================] - 2s 19ms/step - loss: 0.2607 - accuracy: 0.5434 - val_loss: 0.2498 - val_accuracy: 0.5902\n",
      "Epoch 9/10\n",
      "82/82 [==============================] - 2s 19ms/step - loss: 0.2548 - accuracy: 0.5531 - val_loss: 0.2438 - val_accuracy: 0.5914\n",
      "Epoch 10/10\n",
      "82/82 [==============================] - 2s 19ms/step - loss: 0.2495 - accuracy: 0.5610 - val_loss: 0.2398 - val_accuracy: 0.5898\n"
     ]
    },
    {
     "data": {
      "text/plain": [
       "<tensorflow.python.keras.callbacks.History at 0x7fccb454d198>"
      ]
     },
     "execution_count": 27,
     "metadata": {
      "tags": []
     },
     "output_type": "execute_result"
    }
   ],
   "source": [
    "model.compile(loss='binary_crossentropy', optimizer='adam',\n",
    "              metrics=['accuracy'])\n",
    "\n",
    "# Train Model\n",
    "model.fit(X_train, y_train, batch_size=batch_size, epochs=epochs,\n",
    "         validation_data=(X_valid, y_valid))"
   ]
  },
  {
   "cell_type": "code",
   "execution_count": null,
   "metadata": {
    "colab": {
     "base_uri": "https://localhost:8080/",
     "height": 51
    },
    "colab_type": "code",
    "id": "suWMHkLnUzAk",
    "outputId": "5b0fc082-bbd1-49a2-ff7e-cd3e160e7d7d"
   },
   "outputs": [
    {
     "name": "stdout",
     "output_type": "stream",
     "text": [
      "82/82 [==============================] - 0s 3ms/step - loss: 0.2398 - accuracy: 0.5898\n"
     ]
    },
    {
     "data": {
      "text/plain": [
       "[0.23982980847358704, 0.5898226499557495]"
      ]
     },
     "execution_count": 29,
     "metadata": {
      "tags": []
     },
     "output_type": "execute_result"
    }
   ],
   "source": [
    "score = model.evaluate(X_valid, y_valid)\n",
    "score"
   ]
  },
  {
   "cell_type": "markdown",
   "metadata": {
    "colab_type": "text",
    "id": "IWrqGfrJU827"
   },
   "source": [
    "This result are the same to the results from the previous run for the validation dataset."
   ]
  },
  {
   "cell_type": "code",
   "execution_count": null,
   "metadata": {
    "colab": {
     "base_uri": "https://localhost:8080/",
     "height": 255
    },
    "colab_type": "code",
    "id": "RmDfvrjMVLfe",
    "outputId": "178bdf0c-e9ae-42cb-9e55-94f7393f5e3b"
   },
   "outputs": [
    {
     "name": "stdout",
     "output_type": "stream",
     "text": [
      "21/21 [==============================] - 0s 7ms/step\n"
     ]
    },
    {
     "data": {
      "text/plain": [
       "array([[0.0366813 , 0.00433928, 0.02611529, ..., 0.01506607, 0.5530528 ,\n",
       "        0.02992156],\n",
       "       [0.02273999, 0.00434622, 0.39789572, ..., 0.03834131, 0.22976474,\n",
       "        0.06598599],\n",
       "       [0.00565804, 0.0042494 , 0.02848427, ..., 0.7188056 , 0.07095838,\n",
       "        0.09541337],\n",
       "       ...,\n",
       "       [0.06886956, 0.09172915, 0.04480894, ..., 0.22587998, 0.05839407,\n",
       "        0.04719027],\n",
       "       [0.14577872, 0.8476381 , 0.05708137, ..., 0.08634239, 0.02931948,\n",
       "        0.01928886],\n",
       "       [0.02575373, 0.01254091, 0.0086386 , ..., 0.05569469, 0.4540201 ,\n",
       "        0.09189149]], dtype=float32)"
      ]
     },
     "execution_count": 30,
     "metadata": {
      "tags": []
     },
     "output_type": "execute_result"
    }
   ],
   "source": [
    "# PREDICTIONS\n",
    "predictions = model.predict(X_valid, batch_size=batch_size, verbose=1)\n",
    "predictions"
   ]
  },
  {
   "cell_type": "code",
   "execution_count": null,
   "metadata": {
    "colab": {
     "base_uri": "https://localhost:8080/",
     "height": 331
    },
    "colab_type": "code",
    "id": "qcbfPxFyVPu0",
    "outputId": "e12be8ff-8539-48db-d479-339f266c6429"
   },
   "outputs": [
    {
     "name": "stdout",
     "output_type": "stream",
     "text": [
      "\n",
      "Micro-average quality numbers:\n"
     ]
    },
    {
     "data": {
      "text/html": [
       "<div>\n",
       "<style scoped>\n",
       "    .dataframe tbody tr th:only-of-type {\n",
       "        vertical-align: middle;\n",
       "    }\n",
       "\n",
       "    .dataframe tbody tr th {\n",
       "        vertical-align: top;\n",
       "    }\n",
       "\n",
       "    .dataframe thead th {\n",
       "        text-align: right;\n",
       "    }\n",
       "</style>\n",
       "<table border=\"1\" class=\"dataframe\">\n",
       "  <thead>\n",
       "    <tr style=\"text-align: right;\">\n",
       "      <th></th>\n",
       "      <th>Threshold</th>\n",
       "      <th>Precision</th>\n",
       "      <th>Recall</th>\n",
       "      <th>F1-measure</th>\n",
       "    </tr>\n",
       "  </thead>\n",
       "  <tbody>\n",
       "    <tr>\n",
       "      <th>0</th>\n",
       "      <td>0.60</td>\n",
       "      <td>0.836374</td>\n",
       "      <td>0.405473</td>\n",
       "      <td>0.546165</td>\n",
       "    </tr>\n",
       "    <tr>\n",
       "      <th>1</th>\n",
       "      <td>0.65</td>\n",
       "      <td>0.860144</td>\n",
       "      <td>0.362078</td>\n",
       "      <td>0.509628</td>\n",
       "    </tr>\n",
       "    <tr>\n",
       "      <th>2</th>\n",
       "      <td>0.70</td>\n",
       "      <td>0.885649</td>\n",
       "      <td>0.318961</td>\n",
       "      <td>0.469010</td>\n",
       "    </tr>\n",
       "    <tr>\n",
       "      <th>3</th>\n",
       "      <td>0.75</td>\n",
       "      <td>0.907942</td>\n",
       "      <td>0.278054</td>\n",
       "      <td>0.425730</td>\n",
       "    </tr>\n",
       "    <tr>\n",
       "      <th>4</th>\n",
       "      <td>0.80</td>\n",
       "      <td>0.930921</td>\n",
       "      <td>0.234660</td>\n",
       "      <td>0.374834</td>\n",
       "    </tr>\n",
       "    <tr>\n",
       "      <th>5</th>\n",
       "      <td>0.85</td>\n",
       "      <td>0.953103</td>\n",
       "      <td>0.190989</td>\n",
       "      <td>0.318213</td>\n",
       "    </tr>\n",
       "    <tr>\n",
       "      <th>6</th>\n",
       "      <td>0.90</td>\n",
       "      <td>0.970530</td>\n",
       "      <td>0.136540</td>\n",
       "      <td>0.239399</td>\n",
       "    </tr>\n",
       "    <tr>\n",
       "      <th>7</th>\n",
       "      <td>0.95</td>\n",
       "      <td>0.992126</td>\n",
       "      <td>0.069652</td>\n",
       "      <td>0.130165</td>\n",
       "    </tr>\n",
       "  </tbody>\n",
       "</table>\n",
       "</div>"
      ],
      "text/plain": [
       "   Threshold  Precision    Recall  F1-measure\n",
       "0       0.60   0.836374  0.405473    0.546165\n",
       "1       0.65   0.860144  0.362078    0.509628\n",
       "2       0.70   0.885649  0.318961    0.469010\n",
       "3       0.75   0.907942  0.278054    0.425730\n",
       "4       0.80   0.930921  0.234660    0.374834\n",
       "5       0.85   0.953103  0.190989    0.318213\n",
       "6       0.90   0.970530  0.136540    0.239399\n",
       "7       0.95   0.992126  0.069652    0.130165"
      ]
     },
     "execution_count": 34,
     "metadata": {
      "tags": []
     },
     "output_type": "execute_result"
    }
   ],
   "source": [
    "# PRECISION & RECALL\n",
    "predictions_results = []\n",
    "thresholds=np.arange(.5, 1, 0.1).tolist()\n",
    "\n",
    "for val in thresholds:\n",
    "    pred=predictions.copy()\n",
    "    pred[pred>=val]=1\n",
    "    pred[pred<val]=0\n",
    "\n",
    "    accuracy = accuracy_score(y_valid, pred, normalize=True, sample_weight=None)#average='micro')\n",
    "    hamming = hamming_loss(y_valid, pred)\n",
    "    precision = precision_score(y_valid, pred, average='micro')\n",
    "    recall = recall_score(y_valid, pred, average='micro')\n",
    "    f1 = f1_score(y_valid, pred, average='micro')\n",
    "   \n",
    "    case= {'Threshold': val,\n",
    "           'Accuracy': accuracy,\n",
    "           'Hamming loss': hamming,\n",
    "           'Precision': precision,\n",
    "           'Recall': recall,\n",
    "           'F1-measure': f1}\n",
    "    predictions_results.append(case)\n",
    "\n",
    "print(\"Micro-average quality numbers:\")\n",
    "pd.DataFrame(predictions_results)"
   ]
  },
  {
   "cell_type": "markdown",
   "metadata": {
    "colab_type": "text",
    "id": "3qLDVUDaeFWB"
   },
   "source": [
    "## Model Toy Story 1"
   ]
  },
  {
   "cell_type": "code",
   "execution_count": 35,
   "metadata": {
    "colab": {
     "base_uri": "https://localhost:8080/",
     "height": 102
    },
    "colab_type": "code",
    "id": "zhKjHPzzeGSs",
    "outputId": "016041b1-6459-47b2-f066-b7bdc82eb3dc"
   },
   "outputs": [
    {
     "name": "stdout",
     "output_type": "stream",
     "text": [
      "X_train (10376, 512) \n",
      "y_train (10376, 12) \n",
      "\n",
      "X_valid (2594, 512) \n",
      "y_valid (2594, 12)\n"
     ]
    }
   ],
   "source": [
    "# RESHAPE\n",
    "X_train = X_train.reshape(X_train.shape[0], X_train.shape[1])#, 1)\n",
    "X_valid = X_valid.reshape(X_valid.shape[0], X_valid.shape[1])#, 1)\n",
    "\n",
    "# SHAPES AFTER RESHAPING\n",
    "print(\"X_train\", X_train.shape,\n",
    "      \"\\ny_train\", y_train.shape,\n",
    "      \"\\n\\nX_valid\", X_valid.shape,\n",
    "      \"\\ny_valid\", y_valid.shape)"
   ]
  },
  {
   "cell_type": "code",
   "execution_count": null,
   "metadata": {
    "colab": {},
    "colab_type": "code",
    "id": "7WNUIodBeO61"
   },
   "outputs": [],
   "source": [
    "# MODEL\n",
    "\n",
    "max_features = X_train.shape[0] # comments\n",
    "batch_size = 128\n",
    "filters = 250\n",
    "kernel_size = 3\n",
    "hidden_dims = 250\n",
    "epochs = 20\n",
    "embed_size = 512 # for USE\n",
    "n_class = 12 # 12 for themes and 62 for sub-themes"
   ]
  },
  {
   "cell_type": "code",
   "execution_count": 63,
   "metadata": {
    "colab": {
     "base_uri": "https://localhost:8080/",
     "height": 595
    },
    "colab_type": "code",
    "id": "VyYUzAj5ePDM",
    "outputId": "2aaf8107-e7d9-4766-b361-5d82f42c6c52"
   },
   "outputs": [
    {
     "name": "stdout",
     "output_type": "stream",
     "text": [
      "Model: \"sequential_13\"\n",
      "_________________________________________________________________\n",
      "Layer (type)                 Output Shape              Param #   \n",
      "=================================================================\n",
      "dense_48 (Dense)             (None, 50)                25650     \n",
      "_________________________________________________________________\n",
      "dense_49 (Dense)             (None, 20)                1020      \n",
      "_________________________________________________________________\n",
      "reshape_26 (Reshape)         (None, 10, 2)             0         \n",
      "_________________________________________________________________\n",
      "conv1d_51 (Conv1D)           (None, 10, 250)           1750      \n",
      "_________________________________________________________________\n",
      "conv1d_52 (Conv1D)           (None, 6, 250)            312750    \n",
      "_________________________________________________________________\n",
      "conv1d_53 (Conv1D)           (None, 4, 7)              5257      \n",
      "_________________________________________________________________\n",
      "conv1d_54 (Conv1D)           (None, 4, 4)              60        \n",
      "_________________________________________________________________\n",
      "reshape_27 (Reshape)         (None, 4, 2, 2)           0         \n",
      "_________________________________________________________________\n",
      "conv2d_12 (Conv2D)           (None, 4, 2, 5)           1215      \n",
      "_________________________________________________________________\n",
      "max_pooling2d_12 (MaxPooling (None, 2, 1, 5)           0         \n",
      "_________________________________________________________________\n",
      "flatten_11 (Flatten)         (None, 10)                0         \n",
      "_________________________________________________________________\n",
      "dense_50 (Dense)             (None, 250)               2750      \n",
      "_________________________________________________________________\n",
      "dense_51 (Dense)             (None, 12)                3012      \n",
      "=================================================================\n",
      "Total params: 353,464\n",
      "Trainable params: 353,464\n",
      "Non-trainable params: 0\n",
      "_________________________________________________________________\n"
     ]
    }
   ],
   "source": [
    "model = Sequential()\n",
    "model.add(Dense(50, input_dim=X_train.shape[1], activation='relu'))\n",
    "model.add(Dense(20, activation='relu'))\n",
    "model.add(Reshape((10, 2)))\n",
    "model.add(Conv1D(filters, kernel_size, padding='same',activation='relu'))\n",
    "model.add(Conv1D(filters, kernel_size=5, padding='valid',activation='relu'))\n",
    "model.add(Conv1D(7, kernel_size=3))\n",
    "model.add(Conv1D(4, kernel_size=2, padding='same', activation='relu'))\n",
    "model.add(Reshape((4, 2, 2)))\n",
    "model.add(Conv2D(5, kernel_size=(11,11), padding='same', activation='sigmoid'))\n",
    "\n",
    "model.add(MaxPooling2D(pool_size=(2,2)))\n",
    "model.add(Flatten())\n",
    "# model.add(Dense(hidden_dims, activation = 'relu', kernel_regularizer=tf.keras.regularizers.l2(0.001)))\n",
    "model.add(Dense(hidden_dims, activation = 'relu', kernel_regularizer=tf.keras.regularizers.l2(0.001)))\n",
    "\n",
    "model.add(Dense(y_train.shape[1], activation='softmax'))\n",
    "model.summary()"
   ]
  },
  {
   "cell_type": "code",
   "execution_count": 64,
   "metadata": {
    "colab": {
     "base_uri": "https://localhost:8080/",
     "height": 697
    },
    "colab_type": "code",
    "id": "4nvOK7BaePLc",
    "outputId": "265b3f98-48d1-4246-ae42-b78e4b1f5a90"
   },
   "outputs": [
    {
     "name": "stdout",
     "output_type": "stream",
     "text": [
      "Epoch 1/20\n",
      "82/82 [==============================] - 1s 10ms/step - loss: 0.3682 - accuracy: 0.1609 - val_loss: 0.3368 - val_accuracy: 0.2255\n",
      "Epoch 2/20\n",
      "82/82 [==============================] - 0s 6ms/step - loss: 0.3229 - accuracy: 0.2737 - val_loss: 0.3072 - val_accuracy: 0.3207\n",
      "Epoch 3/20\n",
      "82/82 [==============================] - 0s 6ms/step - loss: 0.3047 - accuracy: 0.3351 - val_loss: 0.2980 - val_accuracy: 0.3689\n",
      "Epoch 4/20\n",
      "82/82 [==============================] - 0s 6ms/step - loss: 0.2934 - accuracy: 0.3945 - val_loss: 0.2876 - val_accuracy: 0.4148\n",
      "Epoch 5/20\n",
      "82/82 [==============================] - 0s 6ms/step - loss: 0.2803 - accuracy: 0.4453 - val_loss: 0.2766 - val_accuracy: 0.4526\n",
      "Epoch 6/20\n",
      "82/82 [==============================] - 0s 5ms/step - loss: 0.2718 - accuracy: 0.4701 - val_loss: 0.2701 - val_accuracy: 0.4715\n",
      "Epoch 7/20\n",
      "82/82 [==============================] - 0s 6ms/step - loss: 0.2648 - accuracy: 0.4892 - val_loss: 0.2698 - val_accuracy: 0.4757\n",
      "Epoch 8/20\n",
      "82/82 [==============================] - 0s 6ms/step - loss: 0.2598 - accuracy: 0.5014 - val_loss: 0.2676 - val_accuracy: 0.4869\n",
      "Epoch 9/20\n",
      "82/82 [==============================] - 0s 6ms/step - loss: 0.2554 - accuracy: 0.5173 - val_loss: 0.2711 - val_accuracy: 0.4842\n",
      "Epoch 10/20\n",
      "82/82 [==============================] - 0s 6ms/step - loss: 0.2518 - accuracy: 0.5304 - val_loss: 0.2672 - val_accuracy: 0.4857\n",
      "Epoch 11/20\n",
      "82/82 [==============================] - 0s 5ms/step - loss: 0.2477 - accuracy: 0.5381 - val_loss: 0.2673 - val_accuracy: 0.4981\n",
      "Epoch 12/20\n",
      "82/82 [==============================] - 0s 6ms/step - loss: 0.2429 - accuracy: 0.5490 - val_loss: 0.2661 - val_accuracy: 0.5027\n",
      "Epoch 13/20\n",
      "82/82 [==============================] - 0s 6ms/step - loss: 0.2389 - accuracy: 0.5572 - val_loss: 0.2663 - val_accuracy: 0.5008\n",
      "Epoch 14/20\n",
      "82/82 [==============================] - 0s 6ms/step - loss: 0.2349 - accuracy: 0.5647 - val_loss: 0.2644 - val_accuracy: 0.4996\n",
      "Epoch 15/20\n",
      "82/82 [==============================] - 0s 6ms/step - loss: 0.2306 - accuracy: 0.5794 - val_loss: 0.2631 - val_accuracy: 0.5023\n",
      "Epoch 16/20\n",
      "82/82 [==============================] - 0s 6ms/step - loss: 0.2263 - accuracy: 0.5924 - val_loss: 0.2663 - val_accuracy: 0.5135\n",
      "Epoch 17/20\n",
      "82/82 [==============================] - 0s 5ms/step - loss: 0.2227 - accuracy: 0.6048 - val_loss: 0.2654 - val_accuracy: 0.5189\n",
      "Epoch 18/20\n",
      "82/82 [==============================] - 0s 6ms/step - loss: 0.2190 - accuracy: 0.6171 - val_loss: 0.2637 - val_accuracy: 0.5243\n",
      "Epoch 19/20\n",
      "82/82 [==============================] - 0s 6ms/step - loss: 0.2166 - accuracy: 0.6265 - val_loss: 0.2611 - val_accuracy: 0.5374\n",
      "Epoch 20/20\n",
      "82/82 [==============================] - 0s 6ms/step - loss: 0.2123 - accuracy: 0.6435 - val_loss: 0.2619 - val_accuracy: 0.5274\n"
     ]
    }
   ],
   "source": [
    "model.compile(loss='binary_crossentropy', optimizer='adam',\n",
    "              metrics=['accuracy'])\n",
    "\n",
    "# Train Model\n",
    "history = model.fit(X_train, y_train, batch_size=batch_size, epochs=epochs,\n",
    "                    validation_data=(X_valid, y_valid))"
   ]
  },
  {
   "cell_type": "code",
   "execution_count": 65,
   "metadata": {
    "colab": {
     "base_uri": "https://localhost:8080/",
     "height": 380
    },
    "colab_type": "code",
    "id": "-tZo48Wjit9E",
    "outputId": "50fc0e67-dbe6-4507-c784-476e6b003a2d"
   },
   "outputs": [
    {
     "data": {
      "text/html": [
       "\n",
       "<div id=\"altair-viz-ca73c57f27c849aaa7b970e8782eb8e2\"></div>\n",
       "<script type=\"text/javascript\">\n",
       "  (function(spec, embedOpt){\n",
       "    let outputDiv = document.currentScript.previousElementSibling;\n",
       "    if (outputDiv.id !== \"altair-viz-ca73c57f27c849aaa7b970e8782eb8e2\") {\n",
       "      outputDiv = document.getElementById(\"altair-viz-ca73c57f27c849aaa7b970e8782eb8e2\");\n",
       "    }\n",
       "    const paths = {\n",
       "      \"vega\": \"https://cdn.jsdelivr.net/npm//vega@5?noext\",\n",
       "      \"vega-lib\": \"https://cdn.jsdelivr.net/npm//vega-lib?noext\",\n",
       "      \"vega-lite\": \"https://cdn.jsdelivr.net/npm//vega-lite@4.8.1?noext\",\n",
       "      \"vega-embed\": \"https://cdn.jsdelivr.net/npm//vega-embed@6?noext\",\n",
       "    };\n",
       "\n",
       "    function loadScript(lib) {\n",
       "      return new Promise(function(resolve, reject) {\n",
       "        var s = document.createElement('script');\n",
       "        s.src = paths[lib];\n",
       "        s.async = true;\n",
       "        s.onload = () => resolve(paths[lib]);\n",
       "        s.onerror = () => reject(`Error loading script: ${paths[lib]}`);\n",
       "        document.getElementsByTagName(\"head\")[0].appendChild(s);\n",
       "      });\n",
       "    }\n",
       "\n",
       "    function showError(err) {\n",
       "      outputDiv.innerHTML = `<div class=\"error\" style=\"color:red;\">${err}</div>`;\n",
       "      throw err;\n",
       "    }\n",
       "\n",
       "    function displayChart(vegaEmbed) {\n",
       "      vegaEmbed(outputDiv, spec, embedOpt)\n",
       "        .catch(err => showError(`Javascript Error: ${err.message}<br>This usually means there's a typo in your chart specification. See the javascript console for the full traceback.`));\n",
       "    }\n",
       "\n",
       "    if(typeof define === \"function\" && define.amd) {\n",
       "      requirejs.config({paths});\n",
       "      require([\"vega-embed\"], displayChart, err => showError(`Error loading script: ${err.message}`));\n",
       "    } else if (typeof vegaEmbed === \"function\") {\n",
       "      displayChart(vegaEmbed);\n",
       "    } else {\n",
       "      loadScript(\"vega\")\n",
       "        .then(() => loadScript(\"vega-lite\"))\n",
       "        .then(() => loadScript(\"vega-embed\"))\n",
       "        .catch(showError)\n",
       "        .then(() => displayChart(vegaEmbed));\n",
       "    }\n",
       "  })({\"config\": {\"view\": {\"continuousWidth\": 400, \"continuousHeight\": 300}}, \"data\": {\"name\": \"data-4f7c690a4ab512c7ecdd0a7ec3140bf9\"}, \"mark\": \"line\", \"encoding\": {\"color\": {\"type\": \"nominal\", \"field\": \"metric\"}, \"x\": {\"type\": \"quantitative\", \"field\": \"epoch\"}, \"y\": {\"type\": \"quantitative\", \"field\": \"value\"}}, \"title\": \"Loss and Accuracy\", \"$schema\": \"https://vega.github.io/schema/vega-lite/v4.8.1.json\", \"datasets\": {\"data-4f7c690a4ab512c7ecdd0a7ec3140bf9\": [{\"epoch\": 0, \"metric\": \"train_loss\", \"value\": 0.3681739568710327}, {\"epoch\": 0, \"metric\": \"train_accuracy\", \"value\": 0.16094833612442017}, {\"epoch\": 0, \"metric\": \"valid_loss\", \"value\": 0.33683881163597107}, {\"epoch\": 0, \"metric\": \"valid_accuracy\", \"value\": 0.22552043199539185}, {\"epoch\": 1, \"metric\": \"train_loss\", \"value\": 0.32288822531700134}, {\"epoch\": 1, \"metric\": \"train_accuracy\", \"value\": 0.2737085521221161}, {\"epoch\": 1, \"metric\": \"valid_loss\", \"value\": 0.3071601986885071}, {\"epoch\": 1, \"metric\": \"valid_accuracy\", \"value\": 0.3207401633262634}, {\"epoch\": 2, \"metric\": \"train_loss\", \"value\": 0.3046727180480957}, {\"epoch\": 2, \"metric\": \"train_accuracy\", \"value\": 0.3351002335548401}, {\"epoch\": 2, \"metric\": \"valid_loss\", \"value\": 0.2979961633682251}, {\"epoch\": 2, \"metric\": \"valid_accuracy\", \"value\": 0.36892828345298767}, {\"epoch\": 3, \"metric\": \"train_loss\", \"value\": 0.29340386390686035}, {\"epoch\": 3, \"metric\": \"train_accuracy\", \"value\": 0.3944680094718933}, {\"epoch\": 3, \"metric\": \"valid_loss\", \"value\": 0.28762567043304443}, {\"epoch\": 3, \"metric\": \"valid_accuracy\", \"value\": 0.4148033857345581}, {\"epoch\": 4, \"metric\": \"train_loss\", \"value\": 0.2802673876285553}, {\"epoch\": 4, \"metric\": \"train_accuracy\", \"value\": 0.4452582895755768}, {\"epoch\": 4, \"metric\": \"valid_loss\", \"value\": 0.27664682269096375}, {\"epoch\": 4, \"metric\": \"valid_accuracy\", \"value\": 0.4525828957557678}, {\"epoch\": 5, \"metric\": \"train_loss\", \"value\": 0.27180108428001404}, {\"epoch\": 5, \"metric\": \"train_accuracy\", \"value\": 0.4701233506202698}, {\"epoch\": 5, \"metric\": \"valid_loss\", \"value\": 0.27009904384613037}, {\"epoch\": 5, \"metric\": \"valid_accuracy\", \"value\": 0.4714726209640503}, {\"epoch\": 6, \"metric\": \"train_loss\", \"value\": 0.26484179496765137}, {\"epoch\": 6, \"metric\": \"train_accuracy\", \"value\": 0.48920586705207825}, {\"epoch\": 6, \"metric\": \"valid_loss\", \"value\": 0.269773006439209}, {\"epoch\": 6, \"metric\": \"valid_accuracy\", \"value\": 0.47571319341659546}, {\"epoch\": 7, \"metric\": \"train_loss\", \"value\": 0.2597993314266205}, {\"epoch\": 7, \"metric\": \"train_accuracy\", \"value\": 0.5014456510543823}, {\"epoch\": 7, \"metric\": \"valid_loss\", \"value\": 0.26763826608657837}, {\"epoch\": 7, \"metric\": \"valid_accuracy\", \"value\": 0.48689281940460205}, {\"epoch\": 8, \"metric\": \"train_loss\", \"value\": 0.25537505745887756}, {\"epoch\": 8, \"metric\": \"train_accuracy\", \"value\": 0.5173477530479431}, {\"epoch\": 8, \"metric\": \"valid_loss\", \"value\": 0.27109014987945557}, {\"epoch\": 8, \"metric\": \"valid_accuracy\", \"value\": 0.4841943085193634}, {\"epoch\": 9, \"metric\": \"train_loss\", \"value\": 0.2518329322338104}, {\"epoch\": 9, \"metric\": \"train_accuracy\", \"value\": 0.5303584933280945}, {\"epoch\": 9, \"metric\": \"valid_loss\", \"value\": 0.26721563935279846}, {\"epoch\": 9, \"metric\": \"valid_accuracy\", \"value\": 0.48573631048202515}, {\"epoch\": 10, \"metric\": \"train_loss\", \"value\": 0.24768969416618347}, {\"epoch\": 10, \"metric\": \"train_accuracy\", \"value\": 0.5380685925483704}, {\"epoch\": 10, \"metric\": \"valid_loss\", \"value\": 0.26728957891464233}, {\"epoch\": 10, \"metric\": \"valid_accuracy\", \"value\": 0.49807247519493103}, {\"epoch\": 11, \"metric\": \"train_loss\", \"value\": 0.2428540587425232}, {\"epoch\": 11, \"metric\": \"train_accuracy\", \"value\": 0.5489591360092163}, {\"epoch\": 11, \"metric\": \"valid_loss\", \"value\": 0.2661466896533966}, {\"epoch\": 11, \"metric\": \"valid_accuracy\", \"value\": 0.502698540687561}, {\"epoch\": 12, \"metric\": \"train_loss\", \"value\": 0.23892320692539215}, {\"epoch\": 12, \"metric\": \"train_accuracy\", \"value\": 0.557247519493103}, {\"epoch\": 12, \"metric\": \"valid_loss\", \"value\": 0.26634496450424194}, {\"epoch\": 12, \"metric\": \"valid_accuracy\", \"value\": 0.5007709860801697}, {\"epoch\": 13, \"metric\": \"train_loss\", \"value\": 0.23485271632671356}, {\"epoch\": 13, \"metric\": \"train_accuracy\", \"value\": 0.5646684765815735}, {\"epoch\": 13, \"metric\": \"valid_loss\", \"value\": 0.2644432783126831}, {\"epoch\": 13, \"metric\": \"valid_accuracy\", \"value\": 0.49961450695991516}, {\"epoch\": 14, \"metric\": \"train_loss\", \"value\": 0.2305520921945572}, {\"epoch\": 14, \"metric\": \"train_accuracy\", \"value\": 0.5794140100479126}, {\"epoch\": 14, \"metric\": \"valid_loss\", \"value\": 0.26311177015304565}, {\"epoch\": 14, \"metric\": \"valid_accuracy\", \"value\": 0.5023130178451538}, {\"epoch\": 15, \"metric\": \"train_loss\", \"value\": 0.22628341615200043}, {\"epoch\": 15, \"metric\": \"train_accuracy\", \"value\": 0.5924248099327087}, {\"epoch\": 15, \"metric\": \"valid_loss\", \"value\": 0.26632651686668396}, {\"epoch\": 15, \"metric\": \"valid_accuracy\", \"value\": 0.5134927034378052}, {\"epoch\": 16, \"metric\": \"train_loss\", \"value\": 0.2227455973625183}, {\"epoch\": 16, \"metric\": \"train_accuracy\", \"value\": 0.604761004447937}, {\"epoch\": 16, \"metric\": \"valid_loss\", \"value\": 0.2653815448284149}, {\"epoch\": 16, \"metric\": \"valid_accuracy\", \"value\": 0.5188897252082825}, {\"epoch\": 17, \"metric\": \"train_loss\", \"value\": 0.21897606551647186}, {\"epoch\": 17, \"metric\": \"train_accuracy\", \"value\": 0.6170971393585205}, {\"epoch\": 17, \"metric\": \"valid_loss\", \"value\": 0.2636723220348358}, {\"epoch\": 17, \"metric\": \"valid_accuracy\", \"value\": 0.5242868065834045}, {\"epoch\": 18, \"metric\": \"train_loss\", \"value\": 0.21663664281368256}, {\"epoch\": 18, \"metric\": \"train_accuracy\", \"value\": 0.6265420317649841}, {\"epoch\": 18, \"metric\": \"valid_loss\", \"value\": 0.2611016035079956}, {\"epoch\": 18, \"metric\": \"valid_accuracy\", \"value\": 0.5373939871788025}, {\"epoch\": 19, \"metric\": \"train_loss\", \"value\": 0.21231193840503693}, {\"epoch\": 19, \"metric\": \"train_accuracy\", \"value\": 0.64350426197052}, {\"epoch\": 19, \"metric\": \"valid_loss\", \"value\": 0.2618860602378845}, {\"epoch\": 19, \"metric\": \"valid_accuracy\", \"value\": 0.5273708701133728}]}}, {\"mode\": \"vega-lite\"});\n",
       "</script>"
      ],
      "text/plain": [
       "alt.Chart(...)"
      ]
     },
     "execution_count": 65,
     "metadata": {
      "tags": []
     },
     "output_type": "execute_result"
    }
   ],
   "source": [
    "plot_metrics(history)"
   ]
  },
  {
   "cell_type": "code",
   "execution_count": 67,
   "metadata": {
    "colab": {
     "base_uri": "https://localhost:8080/",
     "height": 51
    },
    "colab_type": "code",
    "id": "Gn_oYIz6iuN5",
    "outputId": "efdfc6d2-5bfa-4605-d898-ba05c1d46e25"
   },
   "outputs": [
    {
     "name": "stdout",
     "output_type": "stream",
     "text": [
      "82/82 [==============================] - 0s 3ms/step - loss: 0.2619 - accuracy: 0.5274\n"
     ]
    },
    {
     "data": {
      "text/plain": [
       "0.5273708701133728"
      ]
     },
     "execution_count": 67,
     "metadata": {
      "tags": []
     },
     "output_type": "execute_result"
    }
   ],
   "source": [
    "score = model.evaluate(X_valid, y_valid)\n",
    "score[1]"
   ]
  },
  {
   "cell_type": "code",
   "execution_count": 68,
   "metadata": {
    "colab": {
     "base_uri": "https://localhost:8080/",
     "height": 238
    },
    "colab_type": "code",
    "id": "MC6RCVv7FdmV",
    "outputId": "3bc274b2-85b5-4630-a079-19ba9f275bcf"
   },
   "outputs": [
    {
     "name": "stdout",
     "output_type": "stream",
     "text": [
      "21/21 [==============================] - 0s 2ms/step\n",
      "Micro-average quality numbers:\n"
     ]
    },
    {
     "data": {
      "text/html": [
       "<div>\n",
       "<style scoped>\n",
       "    .dataframe tbody tr th:only-of-type {\n",
       "        vertical-align: middle;\n",
       "    }\n",
       "\n",
       "    .dataframe tbody tr th {\n",
       "        vertical-align: top;\n",
       "    }\n",
       "\n",
       "    .dataframe thead th {\n",
       "        text-align: right;\n",
       "    }\n",
       "</style>\n",
       "<table border=\"1\" class=\"dataframe\">\n",
       "  <thead>\n",
       "    <tr style=\"text-align: right;\">\n",
       "      <th></th>\n",
       "      <th>Threshold</th>\n",
       "      <th>Accuracy all model</th>\n",
       "      <th>Accuracy average (keras)</th>\n",
       "      <th>Hamming loss</th>\n",
       "      <th>Precision</th>\n",
       "      <th>Recall</th>\n",
       "      <th>F1-measure</th>\n",
       "    </tr>\n",
       "  </thead>\n",
       "  <tbody>\n",
       "    <tr>\n",
       "      <th>0</th>\n",
       "      <td>0.5</td>\n",
       "      <td>0.352352</td>\n",
       "      <td>0.924387</td>\n",
       "      <td>0.086867</td>\n",
       "      <td>0.805890</td>\n",
       "      <td>0.332781</td>\n",
       "      <td>0.471049</td>\n",
       "    </tr>\n",
       "    <tr>\n",
       "      <th>1</th>\n",
       "      <td>0.6</td>\n",
       "      <td>0.320355</td>\n",
       "      <td>0.923522</td>\n",
       "      <td>0.088923</td>\n",
       "      <td>0.843851</td>\n",
       "      <td>0.288281</td>\n",
       "      <td>0.429749</td>\n",
       "    </tr>\n",
       "    <tr>\n",
       "      <th>2</th>\n",
       "      <td>0.7</td>\n",
       "      <td>0.278720</td>\n",
       "      <td>0.922780</td>\n",
       "      <td>0.091879</td>\n",
       "      <td>0.884381</td>\n",
       "      <td>0.241017</td>\n",
       "      <td>0.378801</td>\n",
       "    </tr>\n",
       "    <tr>\n",
       "      <th>3</th>\n",
       "      <td>0.8</td>\n",
       "      <td>0.215883</td>\n",
       "      <td>0.922137</td>\n",
       "      <td>0.096890</td>\n",
       "      <td>0.925141</td>\n",
       "      <td>0.181039</td>\n",
       "      <td>0.302820</td>\n",
       "    </tr>\n",
       "    <tr>\n",
       "      <th>4</th>\n",
       "      <td>0.9</td>\n",
       "      <td>0.126831</td>\n",
       "      <td>0.921574</td>\n",
       "      <td>0.105532</td>\n",
       "      <td>0.946381</td>\n",
       "      <td>0.097568</td>\n",
       "      <td>0.176898</td>\n",
       "    </tr>\n",
       "  </tbody>\n",
       "</table>\n",
       "</div>"
      ],
      "text/plain": [
       "   Threshold  Accuracy all model  ...    Recall  F1-measure\n",
       "0        0.5            0.352352  ...  0.332781    0.471049\n",
       "1        0.6            0.320355  ...  0.288281    0.429749\n",
       "2        0.7            0.278720  ...  0.241017    0.378801\n",
       "3        0.8            0.215883  ...  0.181039    0.302820\n",
       "4        0.9            0.126831  ...  0.097568    0.176898\n",
       "\n",
       "[5 rows x 7 columns]"
      ]
     },
     "execution_count": 68,
     "metadata": {
      "tags": []
     },
     "output_type": "execute_result"
    }
   ],
   "source": [
    "# PREDICTIONS\n",
    "# get the prediction\n",
    "y_pred = model.predict(X_valid, batch_size=batch_size, verbose=1)\n",
    "# rounding the predictions\n",
    "y_pred_binary = (y_pred > 0.5) * 1\n",
    "\n",
    "\n",
    "# PRECISION & RECALL\n",
    "predictions_results = []\n",
    "thresholds=np.arange(.5, 1, 0.1).tolist()\n",
    "\n",
    "for val in thresholds:\n",
    "    pred = y_pred.copy()\n",
    "    pred[pred>=val]=1\n",
    "    pred[pred<val]=0\n",
    "\n",
    "    accuracy = accuracy_score(y_valid, pred, normalize=True, sample_weight=None)#average='micro')\n",
    "    res = []\n",
    "    for i in range(0, y_valid.shape[1]):\n",
    "       res.append(accuracy_score(y_valid[:,i], y_pred_binary[:,i]))\n",
    "    accuracy_keras = np.mean(res)\n",
    "    hamming = hamming_loss(y_valid, pred)\n",
    "    precision = precision_score(y_valid, pred, average='micro')\n",
    "    recall = recall_score(y_valid, pred, average='micro')\n",
    "    f1 = f1_score(y_valid, pred, average='micro')\n",
    "   \n",
    "    case= {'Threshold': val,\n",
    "           'Accuracy all model': accuracy,\n",
    "           'Accuracy average (keras)': accuracy_keras,\n",
    "           'Hamming loss': hamming,\n",
    "           'Precision': precision,\n",
    "           'Recall': recall,\n",
    "           'F1-measure': f1}\n",
    "    predictions_results.append(case)\n",
    "\n",
    "print(\"Micro-average quality numbers:\")\n",
    "pd.DataFrame(predictions_results)"
   ]
  },
  {
   "cell_type": "code",
   "execution_count": 69,
   "metadata": {
    "colab": {
     "base_uri": "https://localhost:8080/",
     "height": 475
    },
    "colab_type": "code",
    "id": "MmfNo2qx_12M",
    "outputId": "205a8509-e086-48cd-e8f4-cfbd154684b3"
   },
   "outputs": [
    {
     "name": "stderr",
     "output_type": "stream",
     "text": [
      "/usr/local/lib/python3.6/dist-packages/sklearn/metrics/_classification.py:1272: UndefinedMetricWarning: Precision is ill-defined and being set to 0.0 due to no predicted samples. Use `zero_division` parameter to control this behavior.\n",
      "  _warn_prf(average, modifier, msg_start, len(result))\n"
     ]
    },
    {
     "data": {
      "text/html": [
       "<div>\n",
       "<style scoped>\n",
       "    .dataframe tbody tr th:only-of-type {\n",
       "        vertical-align: middle;\n",
       "    }\n",
       "\n",
       "    .dataframe tbody tr th {\n",
       "        vertical-align: top;\n",
       "    }\n",
       "\n",
       "    .dataframe thead th {\n",
       "        text-align: right;\n",
       "    }\n",
       "</style>\n",
       "<table border=\"1\" class=\"dataframe\">\n",
       "  <thead>\n",
       "    <tr style=\"text-align: right;\">\n",
       "      <th></th>\n",
       "      <th>Label</th>\n",
       "      <th>Y_count</th>\n",
       "      <th>Pred_count</th>\n",
       "      <th>Error</th>\n",
       "      <th>Accuarcy</th>\n",
       "      <th>Precision</th>\n",
       "      <th>Recall</th>\n",
       "    </tr>\n",
       "  </thead>\n",
       "  <tbody>\n",
       "    <tr>\n",
       "      <th>0</th>\n",
       "      <td>CPD</td>\n",
       "      <td>344</td>\n",
       "      <td>181</td>\n",
       "      <td>0.089823</td>\n",
       "      <td>0.910177</td>\n",
       "      <td>0.806630</td>\n",
       "      <td>0.424419</td>\n",
       "    </tr>\n",
       "    <tr>\n",
       "      <th>1</th>\n",
       "      <td>CB</td>\n",
       "      <td>317</td>\n",
       "      <td>194</td>\n",
       "      <td>0.056669</td>\n",
       "      <td>0.943331</td>\n",
       "      <td>0.938144</td>\n",
       "      <td>0.574132</td>\n",
       "    </tr>\n",
       "    <tr>\n",
       "      <th>2</th>\n",
       "      <td>EWC</td>\n",
       "      <td>231</td>\n",
       "      <td>0</td>\n",
       "      <td>0.089052</td>\n",
       "      <td>0.910948</td>\n",
       "      <td>0.000000</td>\n",
       "      <td>0.000000</td>\n",
       "    </tr>\n",
       "    <tr>\n",
       "      <th>3</th>\n",
       "      <td>Exec</td>\n",
       "      <td>353</td>\n",
       "      <td>161</td>\n",
       "      <td>0.104086</td>\n",
       "      <td>0.895914</td>\n",
       "      <td>0.757764</td>\n",
       "      <td>0.345609</td>\n",
       "    </tr>\n",
       "    <tr>\n",
       "      <th>4</th>\n",
       "      <td>FWE</td>\n",
       "      <td>187</td>\n",
       "      <td>72</td>\n",
       "      <td>0.056669</td>\n",
       "      <td>0.943331</td>\n",
       "      <td>0.777778</td>\n",
       "      <td>0.299465</td>\n",
       "    </tr>\n",
       "    <tr>\n",
       "      <th>5</th>\n",
       "      <td>SP</td>\n",
       "      <td>252</td>\n",
       "      <td>80</td>\n",
       "      <td>0.081727</td>\n",
       "      <td>0.918273</td>\n",
       "      <td>0.750000</td>\n",
       "      <td>0.238095</td>\n",
       "    </tr>\n",
       "    <tr>\n",
       "      <th>6</th>\n",
       "      <td>RE</td>\n",
       "      <td>204</td>\n",
       "      <td>0</td>\n",
       "      <td>0.078643</td>\n",
       "      <td>0.921357</td>\n",
       "      <td>0.000000</td>\n",
       "      <td>0.000000</td>\n",
       "    </tr>\n",
       "    <tr>\n",
       "      <th>7</th>\n",
       "      <td>Sup</td>\n",
       "      <td>258</td>\n",
       "      <td>0</td>\n",
       "      <td>0.099460</td>\n",
       "      <td>0.900540</td>\n",
       "      <td>0.000000</td>\n",
       "      <td>0.000000</td>\n",
       "    </tr>\n",
       "    <tr>\n",
       "      <th>8</th>\n",
       "      <td>SW</td>\n",
       "      <td>396</td>\n",
       "      <td>162</td>\n",
       "      <td>0.129530</td>\n",
       "      <td>0.870470</td>\n",
       "      <td>0.685185</td>\n",
       "      <td>0.280303</td>\n",
       "    </tr>\n",
       "    <tr>\n",
       "      <th>9</th>\n",
       "      <td>TEPE</td>\n",
       "      <td>605</td>\n",
       "      <td>473</td>\n",
       "      <td>0.091750</td>\n",
       "      <td>0.908250</td>\n",
       "      <td>0.887949</td>\n",
       "      <td>0.694215</td>\n",
       "    </tr>\n",
       "    <tr>\n",
       "      <th>10</th>\n",
       "      <td>VMG</td>\n",
       "      <td>364</td>\n",
       "      <td>171</td>\n",
       "      <td>0.123747</td>\n",
       "      <td>0.876253</td>\n",
       "      <td>0.625731</td>\n",
       "      <td>0.293956</td>\n",
       "    </tr>\n",
       "    <tr>\n",
       "      <th>11</th>\n",
       "      <td>OTH</td>\n",
       "      <td>107</td>\n",
       "      <td>0</td>\n",
       "      <td>0.041249</td>\n",
       "      <td>0.958751</td>\n",
       "      <td>0.000000</td>\n",
       "      <td>0.000000</td>\n",
       "    </tr>\n",
       "  </tbody>\n",
       "</table>\n",
       "</div>"
      ],
      "text/plain": [
       "   Label  Y_count  Pred_count     Error  Accuarcy  Precision    Recall\n",
       "0    CPD      344         181  0.089823  0.910177   0.806630  0.424419\n",
       "1     CB      317         194  0.056669  0.943331   0.938144  0.574132\n",
       "2    EWC      231           0  0.089052  0.910948   0.000000  0.000000\n",
       "3   Exec      353         161  0.104086  0.895914   0.757764  0.345609\n",
       "4    FWE      187          72  0.056669  0.943331   0.777778  0.299465\n",
       "5     SP      252          80  0.081727  0.918273   0.750000  0.238095\n",
       "6     RE      204           0  0.078643  0.921357   0.000000  0.000000\n",
       "7    Sup      258           0  0.099460  0.900540   0.000000  0.000000\n",
       "8     SW      396         162  0.129530  0.870470   0.685185  0.280303\n",
       "9   TEPE      605         473  0.091750  0.908250   0.887949  0.694215\n",
       "10   VMG      364         171  0.123747  0.876253   0.625731  0.293956\n",
       "11   OTH      107           0  0.041249  0.958751   0.000000  0.000000"
      ]
     },
     "execution_count": 69,
     "metadata": {
      "tags": []
     },
     "output_type": "execute_result"
    }
   ],
   "source": [
    "# RESULTS PER LABEL\n",
    "theme_results(y_valid, y_pred_binary)"
   ]
  },
  {
   "cell_type": "markdown",
   "metadata": {
    "colab_type": "text",
    "id": "e7LGOy0qOQwW"
   },
   "source": [
    "## Model Toy Story 2\n",
    "[Keras meets Universal Sentence Encoder](https://www.dlology.com/blog/keras-meets-universal-sentence-encoder-transfer-learning-for-text-data/)"
   ]
  },
  {
   "cell_type": "code",
   "execution_count": null,
   "metadata": {
    "colab": {},
    "colab_type": "code",
    "id": "5-6nbvyVTG9d"
   },
   "outputs": [],
   "source": [
    "# MODEL\n",
    "\n",
    "max_features = X_train.shape[0] # comments\n",
    "batch_size = 128\n",
    "filters = 250\n",
    "kernel_size = 3\n",
    "hidden_dims = 250\n",
    "epochs = 20\n",
    "embed_size = 512 # for USE\n",
    "n_class = 12 # 12 for themes and 62 for sub-themes"
   ]
  },
  {
   "cell_type": "code",
   "execution_count": 71,
   "metadata": {
    "colab": {
     "base_uri": "https://localhost:8080/",
     "height": 595
    },
    "colab_type": "code",
    "id": "J_K4ZwHriuXN",
    "outputId": "7d3d0d1a-a684-4fda-bb15-a105b8ac876b"
   },
   "outputs": [
    {
     "name": "stdout",
     "output_type": "stream",
     "text": [
      "Model: \"sequential_14\"\n",
      "_________________________________________________________________\n",
      "Layer (type)                 Output Shape              Param #   \n",
      "=================================================================\n",
      "dense_52 (Dense)             (None, 16)                8208      \n",
      "_________________________________________________________________\n",
      "reshape_28 (Reshape)         (None, 8, 2)              0         \n",
      "_________________________________________________________________\n",
      "conv1d_55 (Conv1D)           (None, 8, 250)            1750      \n",
      "_________________________________________________________________\n",
      "reshape_29 (Reshape)         (None, 125, 4, 4)         0         \n",
      "_________________________________________________________________\n",
      "conv2d_13 (Conv2D)           (None, 125, 4, 5)         2425      \n",
      "_________________________________________________________________\n",
      "dense_53 (Dense)             (None, 125, 4, 250)       1500      \n",
      "_________________________________________________________________\n",
      "dropout (Dropout)            (None, 125, 4, 250)       0         \n",
      "_________________________________________________________________\n",
      "max_pooling2d_13 (MaxPooling (None, 31, 1, 250)        0         \n",
      "_________________________________________________________________\n",
      "reshape_30 (Reshape)         (None, 50, 155)           0         \n",
      "_________________________________________________________________\n",
      "conv1d_56 (Conv1D)           (None, 46, 20)            15520     \n",
      "_________________________________________________________________\n",
      "conv1d_57 (Conv1D)           (None, 44, 7)             427       \n",
      "_________________________________________________________________\n",
      "flatten_12 (Flatten)         (None, 308)               0         \n",
      "_________________________________________________________________\n",
      "dense_54 (Dense)             (None, 12)                3708      \n",
      "=================================================================\n",
      "Total params: 33,538\n",
      "Trainable params: 33,538\n",
      "Non-trainable params: 0\n",
      "_________________________________________________________________\n"
     ]
    }
   ],
   "source": [
    "model = Sequential()\n",
    "model.add(Dense(16, input_dim=X_train.shape[1], activation='relu'))\n",
    "model.add(Reshape((8, 2)))\n",
    "model.add(Conv1D(filters, kernel_size,  \n",
    "                 padding='same',activation='relu'))\n",
    "model.add(Reshape((125, 4, 4)))\n",
    "model.add(Conv2D(5, kernel_size=(11,11), padding='same', activation='sigmoid'))\n",
    "model.add(Dense(hidden_dims, activation = 'relu', \n",
    "                kernel_regularizer=tf.keras.regularizers.l2(0.001)))\n",
    "model.add(Dropout(0.2))\n",
    "model.add(MaxPooling2D(pool_size=(4,4)))\n",
    "model.add(Reshape((50, 155)))\n",
    "model.add(Conv1D(20, kernel_size=5, padding='valid', activation='relu'))\n",
    "model.add(Conv1D(7, kernel_size=3, activation='relu'))\n",
    "model.add(Flatten())\n",
    "model.add(Dense(y_train.shape[1], activation='softmax'))\n",
    "model.summary()\n"
   ]
  },
  {
   "cell_type": "code",
   "execution_count": 73,
   "metadata": {
    "colab": {
     "base_uri": "https://localhost:8080/",
     "height": 697
    },
    "colab_type": "code",
    "id": "5thgiLiJQ3fA",
    "outputId": "5491c93d-2f58-4b9b-99d6-6a0597b57818"
   },
   "outputs": [
    {
     "name": "stdout",
     "output_type": "stream",
     "text": [
      "Epoch 1/20\n",
      "82/82 [==============================] - 2s 27ms/step - loss: 0.2084 - accuracy: 0.6273 - val_loss: 0.2182 - val_accuracy: 0.6164\n",
      "Epoch 2/20\n",
      "82/82 [==============================] - 2s 25ms/step - loss: 0.2062 - accuracy: 0.6286 - val_loss: 0.2236 - val_accuracy: 0.6114\n",
      "Epoch 3/20\n",
      "82/82 [==============================] - 2s 25ms/step - loss: 0.2050 - accuracy: 0.6314 - val_loss: 0.2178 - val_accuracy: 0.6268\n",
      "Epoch 4/20\n",
      "82/82 [==============================] - 2s 25ms/step - loss: 0.2028 - accuracy: 0.6391 - val_loss: 0.2171 - val_accuracy: 0.6168\n",
      "Epoch 5/20\n",
      "82/82 [==============================] - 2s 25ms/step - loss: 0.2017 - accuracy: 0.6399 - val_loss: 0.2189 - val_accuracy: 0.6176\n",
      "Epoch 6/20\n",
      "82/82 [==============================] - 2s 25ms/step - loss: 0.2003 - accuracy: 0.6405 - val_loss: 0.2213 - val_accuracy: 0.6049\n",
      "Epoch 7/20\n",
      "82/82 [==============================] - 2s 25ms/step - loss: 0.1992 - accuracy: 0.6459 - val_loss: 0.2142 - val_accuracy: 0.6195\n",
      "Epoch 8/20\n",
      "82/82 [==============================] - 2s 25ms/step - loss: 0.1982 - accuracy: 0.6488 - val_loss: 0.2156 - val_accuracy: 0.6237\n",
      "Epoch 9/20\n",
      "82/82 [==============================] - 2s 25ms/step - loss: 0.1973 - accuracy: 0.6484 - val_loss: 0.2209 - val_accuracy: 0.6045\n",
      "Epoch 10/20\n",
      "82/82 [==============================] - 2s 25ms/step - loss: 0.1966 - accuracy: 0.6529 - val_loss: 0.2235 - val_accuracy: 0.6037\n",
      "Epoch 11/20\n",
      "82/82 [==============================] - 2s 26ms/step - loss: 0.1951 - accuracy: 0.6540 - val_loss: 0.2139 - val_accuracy: 0.6157\n",
      "Epoch 12/20\n",
      "82/82 [==============================] - 2s 26ms/step - loss: 0.1943 - accuracy: 0.6524 - val_loss: 0.2158 - val_accuracy: 0.6022\n",
      "Epoch 13/20\n",
      "82/82 [==============================] - 2s 25ms/step - loss: 0.1937 - accuracy: 0.6561 - val_loss: 0.2130 - val_accuracy: 0.6145\n",
      "Epoch 14/20\n",
      "82/82 [==============================] - 2s 26ms/step - loss: 0.1928 - accuracy: 0.6561 - val_loss: 0.2159 - val_accuracy: 0.6157\n",
      "Epoch 15/20\n",
      "82/82 [==============================] - 2s 25ms/step - loss: 0.1919 - accuracy: 0.6617 - val_loss: 0.2154 - val_accuracy: 0.6114\n",
      "Epoch 16/20\n",
      "82/82 [==============================] - 2s 25ms/step - loss: 0.1910 - accuracy: 0.6628 - val_loss: 0.2206 - val_accuracy: 0.5971\n",
      "Epoch 17/20\n",
      "82/82 [==============================] - 2s 26ms/step - loss: 0.1903 - accuracy: 0.6612 - val_loss: 0.2152 - val_accuracy: 0.6187\n",
      "Epoch 18/20\n",
      "82/82 [==============================] - 2s 25ms/step - loss: 0.1891 - accuracy: 0.6670 - val_loss: 0.2163 - val_accuracy: 0.6091\n",
      "Epoch 19/20\n",
      "82/82 [==============================] - 2s 25ms/step - loss: 0.1883 - accuracy: 0.6669 - val_loss: 0.2271 - val_accuracy: 0.5887\n",
      "Epoch 20/20\n",
      "82/82 [==============================] - 2s 25ms/step - loss: 0.1876 - accuracy: 0.6701 - val_loss: 0.2143 - val_accuracy: 0.6045\n"
     ]
    }
   ],
   "source": [
    "model.compile(loss='binary_crossentropy', optimizer='adam',\n",
    "              metrics=['accuracy'])\n",
    "\n",
    "# Train Model\n",
    "history = model.fit(X_train, y_train, batch_size=batch_size, epochs=epochs,\n",
    "         validation_data=(X_valid, y_valid))"
   ]
  },
  {
   "cell_type": "code",
   "execution_count": 74,
   "metadata": {
    "colab": {
     "base_uri": "https://localhost:8080/",
     "height": 385
    },
    "colab_type": "code",
    "id": "1NatGysLJKfV",
    "outputId": "7421c55a-f59d-4c7e-d7b6-32107e978406"
   },
   "outputs": [
    {
     "data": {
      "text/html": [
       "\n",
       "<div id=\"altair-viz-60a7410e5efc4c8bbdfa4344be014099\"></div>\n",
       "<script type=\"text/javascript\">\n",
       "  (function(spec, embedOpt){\n",
       "    let outputDiv = document.currentScript.previousElementSibling;\n",
       "    if (outputDiv.id !== \"altair-viz-60a7410e5efc4c8bbdfa4344be014099\") {\n",
       "      outputDiv = document.getElementById(\"altair-viz-60a7410e5efc4c8bbdfa4344be014099\");\n",
       "    }\n",
       "    const paths = {\n",
       "      \"vega\": \"https://cdn.jsdelivr.net/npm//vega@5?noext\",\n",
       "      \"vega-lib\": \"https://cdn.jsdelivr.net/npm//vega-lib?noext\",\n",
       "      \"vega-lite\": \"https://cdn.jsdelivr.net/npm//vega-lite@4.8.1?noext\",\n",
       "      \"vega-embed\": \"https://cdn.jsdelivr.net/npm//vega-embed@6?noext\",\n",
       "    };\n",
       "\n",
       "    function loadScript(lib) {\n",
       "      return new Promise(function(resolve, reject) {\n",
       "        var s = document.createElement('script');\n",
       "        s.src = paths[lib];\n",
       "        s.async = true;\n",
       "        s.onload = () => resolve(paths[lib]);\n",
       "        s.onerror = () => reject(`Error loading script: ${paths[lib]}`);\n",
       "        document.getElementsByTagName(\"head\")[0].appendChild(s);\n",
       "      });\n",
       "    }\n",
       "\n",
       "    function showError(err) {\n",
       "      outputDiv.innerHTML = `<div class=\"error\" style=\"color:red;\">${err}</div>`;\n",
       "      throw err;\n",
       "    }\n",
       "\n",
       "    function displayChart(vegaEmbed) {\n",
       "      vegaEmbed(outputDiv, spec, embedOpt)\n",
       "        .catch(err => showError(`Javascript Error: ${err.message}<br>This usually means there's a typo in your chart specification. See the javascript console for the full traceback.`));\n",
       "    }\n",
       "\n",
       "    if(typeof define === \"function\" && define.amd) {\n",
       "      requirejs.config({paths});\n",
       "      require([\"vega-embed\"], displayChart, err => showError(`Error loading script: ${err.message}`));\n",
       "    } else if (typeof vegaEmbed === \"function\") {\n",
       "      displayChart(vegaEmbed);\n",
       "    } else {\n",
       "      loadScript(\"vega\")\n",
       "        .then(() => loadScript(\"vega-lite\"))\n",
       "        .then(() => loadScript(\"vega-embed\"))\n",
       "        .catch(showError)\n",
       "        .then(() => displayChart(vegaEmbed));\n",
       "    }\n",
       "  })({\"config\": {\"view\": {\"continuousWidth\": 400, \"continuousHeight\": 300}}, \"data\": {\"name\": \"data-4b083d0e487a2ebe021f718c11715a0b\"}, \"mark\": \"line\", \"encoding\": {\"color\": {\"type\": \"nominal\", \"field\": \"metric\"}, \"x\": {\"type\": \"quantitative\", \"field\": \"epoch\"}, \"y\": {\"type\": \"quantitative\", \"field\": \"value\"}}, \"title\": \"Loss and Accuracy\", \"$schema\": \"https://vega.github.io/schema/vega-lite/v4.8.1.json\", \"datasets\": {\"data-4b083d0e487a2ebe021f718c11715a0b\": [{\"epoch\": 0, \"metric\": \"train_loss\", \"value\": 0.20839841663837433}, {\"epoch\": 0, \"metric\": \"train_accuracy\", \"value\": 0.6273130178451538}, {\"epoch\": 0, \"metric\": \"valid_loss\", \"value\": 0.21819256246089935}, {\"epoch\": 0, \"metric\": \"valid_accuracy\", \"value\": 0.6164225339889526}, {\"epoch\": 1, \"metric\": \"train_loss\", \"value\": 0.20623917877674103}, {\"epoch\": 1, \"metric\": \"train_accuracy\", \"value\": 0.6285659074783325}, {\"epoch\": 1, \"metric\": \"valid_loss\", \"value\": 0.22362928092479706}, {\"epoch\": 1, \"metric\": \"valid_accuracy\", \"value\": 0.6114109754562378}, {\"epoch\": 2, \"metric\": \"train_loss\", \"value\": 0.2050120085477829}, {\"epoch\": 2, \"metric\": \"train_accuracy\", \"value\": 0.6313608288764954}, {\"epoch\": 2, \"metric\": \"valid_loss\", \"value\": 0.21777978539466858}, {\"epoch\": 2, \"metric\": \"valid_accuracy\", \"value\": 0.6268311738967896}, {\"epoch\": 3, \"metric\": \"train_loss\", \"value\": 0.20284008979797363}, {\"epoch\": 3, \"metric\": \"train_accuracy\", \"value\": 0.6390709280967712}, {\"epoch\": 3, \"metric\": \"valid_loss\", \"value\": 0.217121884226799}, {\"epoch\": 3, \"metric\": \"valid_accuracy\", \"value\": 0.6168079972267151}, {\"epoch\": 4, \"metric\": \"train_loss\", \"value\": 0.20168940722942352}, {\"epoch\": 4, \"metric\": \"train_accuracy\", \"value\": 0.6399382948875427}, {\"epoch\": 4, \"metric\": \"valid_loss\", \"value\": 0.2189176231622696}, {\"epoch\": 4, \"metric\": \"valid_accuracy\", \"value\": 0.6175790429115295}, {\"epoch\": 5, \"metric\": \"train_loss\", \"value\": 0.20031018555164337}, {\"epoch\": 5, \"metric\": \"train_accuracy\", \"value\": 0.6405165791511536}, {\"epoch\": 5, \"metric\": \"valid_loss\", \"value\": 0.22132407128810883}, {\"epoch\": 5, \"metric\": \"valid_accuracy\", \"value\": 0.6048573851585388}, {\"epoch\": 6, \"metric\": \"train_loss\", \"value\": 0.19921709597110748}, {\"epoch\": 6, \"metric\": \"train_accuracy\", \"value\": 0.6459136605262756}, {\"epoch\": 6, \"metric\": \"valid_loss\", \"value\": 0.2142173796892166}, {\"epoch\": 6, \"metric\": \"valid_accuracy\", \"value\": 0.6195065379142761}, {\"epoch\": 7, \"metric\": \"train_loss\", \"value\": 0.19820062816143036}, {\"epoch\": 7, \"metric\": \"train_accuracy\", \"value\": 0.6488049626350403}, {\"epoch\": 7, \"metric\": \"valid_loss\", \"value\": 0.21556195616722107}, {\"epoch\": 7, \"metric\": \"valid_accuracy\", \"value\": 0.6237471103668213}, {\"epoch\": 8, \"metric\": \"train_loss\", \"value\": 0.1972634345293045}, {\"epoch\": 8, \"metric\": \"train_accuracy\", \"value\": 0.6484194397926331}, {\"epoch\": 8, \"metric\": \"valid_loss\", \"value\": 0.22089029848575592}, {\"epoch\": 8, \"metric\": \"valid_accuracy\", \"value\": 0.6044718623161316}, {\"epoch\": 9, \"metric\": \"train_loss\", \"value\": 0.19663210213184357}, {\"epoch\": 9, \"metric\": \"train_accuracy\", \"value\": 0.6528527140617371}, {\"epoch\": 9, \"metric\": \"valid_loss\", \"value\": 0.22348013520240784}, {\"epoch\": 9, \"metric\": \"valid_accuracy\", \"value\": 0.6037008762359619}, {\"epoch\": 10, \"metric\": \"train_loss\", \"value\": 0.1950719654560089}, {\"epoch\": 10, \"metric\": \"train_accuracy\", \"value\": 0.654009222984314}, {\"epoch\": 10, \"metric\": \"valid_loss\", \"value\": 0.21390075981616974}, {\"epoch\": 10, \"metric\": \"valid_accuracy\", \"value\": 0.6156514883041382}, {\"epoch\": 11, \"metric\": \"train_loss\", \"value\": 0.1942562460899353}, {\"epoch\": 11, \"metric\": \"train_accuracy\", \"value\": 0.6523708701133728}, {\"epoch\": 11, \"metric\": \"valid_loss\", \"value\": 0.2157888561487198}, {\"epoch\": 11, \"metric\": \"valid_accuracy\", \"value\": 0.6021588444709778}, {\"epoch\": 12, \"metric\": \"train_loss\", \"value\": 0.19372090697288513}, {\"epoch\": 12, \"metric\": \"train_accuracy\", \"value\": 0.6561295390129089}, {\"epoch\": 12, \"metric\": \"valid_loss\", \"value\": 0.21301935613155365}, {\"epoch\": 12, \"metric\": \"valid_accuracy\", \"value\": 0.6144949793815613}, {\"epoch\": 13, \"metric\": \"train_loss\", \"value\": 0.19277311861515045}, {\"epoch\": 13, \"metric\": \"train_accuracy\", \"value\": 0.6561295390129089}, {\"epoch\": 13, \"metric\": \"valid_loss\", \"value\": 0.21594448387622833}, {\"epoch\": 13, \"metric\": \"valid_accuracy\", \"value\": 0.6156514883041382}, {\"epoch\": 14, \"metric\": \"train_loss\", \"value\": 0.19185379147529602}, {\"epoch\": 14, \"metric\": \"train_accuracy\", \"value\": 0.6617193818092346}, {\"epoch\": 14, \"metric\": \"valid_loss\", \"value\": 0.21535901725292206}, {\"epoch\": 14, \"metric\": \"valid_accuracy\", \"value\": 0.6114109754562378}, {\"epoch\": 15, \"metric\": \"train_loss\", \"value\": 0.19104380905628204}, {\"epoch\": 15, \"metric\": \"train_accuracy\", \"value\": 0.6627795100212097}, {\"epoch\": 15, \"metric\": \"valid_loss\", \"value\": 0.22059105336666107}, {\"epoch\": 15, \"metric\": \"valid_accuracy\", \"value\": 0.5971472859382629}, {\"epoch\": 16, \"metric\": \"train_loss\", \"value\": 0.19031138718128204}, {\"epoch\": 16, \"metric\": \"train_accuracy\", \"value\": 0.6612374782562256}, {\"epoch\": 16, \"metric\": \"valid_loss\", \"value\": 0.21515575051307678}, {\"epoch\": 16, \"metric\": \"valid_accuracy\", \"value\": 0.6187355518341064}, {\"epoch\": 17, \"metric\": \"train_loss\", \"value\": 0.18905623257160187}, {\"epoch\": 17, \"metric\": \"train_accuracy\", \"value\": 0.6670200228691101}, {\"epoch\": 17, \"metric\": \"valid_loss\", \"value\": 0.21628034114837646}, {\"epoch\": 17, \"metric\": \"valid_accuracy\", \"value\": 0.6090978980064392}, {\"epoch\": 18, \"metric\": \"train_loss\", \"value\": 0.18827028572559357}, {\"epoch\": 18, \"metric\": \"train_accuracy\", \"value\": 0.6669236421585083}, {\"epoch\": 18, \"metric\": \"valid_loss\", \"value\": 0.22712193429470062}, {\"epoch\": 18, \"metric\": \"valid_accuracy\", \"value\": 0.5886661410331726}, {\"epoch\": 19, \"metric\": \"train_loss\", \"value\": 0.18764692544937134}, {\"epoch\": 19, \"metric\": \"train_accuracy\", \"value\": 0.6701040863990784}, {\"epoch\": 19, \"metric\": \"valid_loss\", \"value\": 0.21426469087600708}, {\"epoch\": 19, \"metric\": \"valid_accuracy\", \"value\": 0.6044718623161316}]}}, {\"mode\": \"vega-lite\"});\n",
       "</script>"
      ],
      "text/plain": [
       "alt.Chart(...)"
      ]
     },
     "execution_count": 74,
     "metadata": {
      "tags": []
     },
     "output_type": "execute_result"
    }
   ],
   "source": [
    "plot_metrics(history)"
   ]
  },
  {
   "cell_type": "code",
   "execution_count": 75,
   "metadata": {
    "colab": {
     "base_uri": "https://localhost:8080/",
     "height": 51
    },
    "colab_type": "code",
    "id": "9YsJsjGFJK78",
    "outputId": "5b69f1f5-1827-4704-f25a-293e24baea4f"
   },
   "outputs": [
    {
     "name": "stdout",
     "output_type": "stream",
     "text": [
      "82/82 [==============================] - 0s 4ms/step - loss: 0.2143 - accuracy: 0.6045\n"
     ]
    },
    {
     "data": {
      "text/plain": [
       "[0.21426476538181305, 0.6044718623161316]"
      ]
     },
     "execution_count": 75,
     "metadata": {
      "tags": []
     },
     "output_type": "execute_result"
    }
   ],
   "source": [
    "score = model.evaluate(X_valid, y_valid)\n",
    "score"
   ]
  },
  {
   "cell_type": "code",
   "execution_count": 76,
   "metadata": {
    "colab": {
     "base_uri": "https://localhost:8080/",
     "height": 238
    },
    "colab_type": "code",
    "id": "VplfuccsJLX1",
    "outputId": "8862126a-8a9d-4be8-ba5c-0195f039ef21"
   },
   "outputs": [
    {
     "name": "stdout",
     "output_type": "stream",
     "text": [
      "21/21 [==============================] - 0s 7ms/step\n",
      "Micro-average quality numbers:\n"
     ]
    },
    {
     "data": {
      "text/html": [
       "<div>\n",
       "<style scoped>\n",
       "    .dataframe tbody tr th:only-of-type {\n",
       "        vertical-align: middle;\n",
       "    }\n",
       "\n",
       "    .dataframe tbody tr th {\n",
       "        vertical-align: top;\n",
       "    }\n",
       "\n",
       "    .dataframe thead th {\n",
       "        text-align: right;\n",
       "    }\n",
       "</style>\n",
       "<table border=\"1\" class=\"dataframe\">\n",
       "  <thead>\n",
       "    <tr style=\"text-align: right;\">\n",
       "      <th></th>\n",
       "      <th>Threshold</th>\n",
       "      <th>Accuracy all model</th>\n",
       "      <th>Accuracy average (keras)</th>\n",
       "      <th>Hamming loss</th>\n",
       "      <th>Precision</th>\n",
       "      <th>Recall</th>\n",
       "      <th>F1-measure</th>\n",
       "    </tr>\n",
       "  </thead>\n",
       "  <tbody>\n",
       "    <tr>\n",
       "      <th>0</th>\n",
       "      <td>0.5</td>\n",
       "      <td>0.395143</td>\n",
       "      <td>0.921465</td>\n",
       "      <td>0.080281</td>\n",
       "      <td>0.857052</td>\n",
       "      <td>0.371200</td>\n",
       "      <td>0.518033</td>\n",
       "    </tr>\n",
       "    <tr>\n",
       "      <th>1</th>\n",
       "      <td>0.6</td>\n",
       "      <td>0.342328</td>\n",
       "      <td>0.921368</td>\n",
       "      <td>0.084940</td>\n",
       "      <td>0.897227</td>\n",
       "      <td>0.304035</td>\n",
       "      <td>0.454170</td>\n",
       "    </tr>\n",
       "    <tr>\n",
       "      <th>2</th>\n",
       "      <td>0.7</td>\n",
       "      <td>0.281419</td>\n",
       "      <td>0.921281</td>\n",
       "      <td>0.090112</td>\n",
       "      <td>0.931987</td>\n",
       "      <td>0.242399</td>\n",
       "      <td>0.384733</td>\n",
       "    </tr>\n",
       "    <tr>\n",
       "      <th>3</th>\n",
       "      <td>0.8</td>\n",
       "      <td>0.209715</td>\n",
       "      <td>0.921203</td>\n",
       "      <td>0.097276</td>\n",
       "      <td>0.966772</td>\n",
       "      <td>0.168878</td>\n",
       "      <td>0.287529</td>\n",
       "    </tr>\n",
       "    <tr>\n",
       "      <th>4</th>\n",
       "      <td>0.9</td>\n",
       "      <td>0.114495</td>\n",
       "      <td>0.921132</td>\n",
       "      <td>0.106464</td>\n",
       "      <td>0.990323</td>\n",
       "      <td>0.084854</td>\n",
       "      <td>0.156314</td>\n",
       "    </tr>\n",
       "  </tbody>\n",
       "</table>\n",
       "</div>"
      ],
      "text/plain": [
       "   Threshold  Accuracy all model  ...    Recall  F1-measure\n",
       "0        0.5            0.395143  ...  0.371200    0.518033\n",
       "1        0.6            0.342328  ...  0.304035    0.454170\n",
       "2        0.7            0.281419  ...  0.242399    0.384733\n",
       "3        0.8            0.209715  ...  0.168878    0.287529\n",
       "4        0.9            0.114495  ...  0.084854    0.156314\n",
       "\n",
       "[5 rows x 7 columns]"
      ]
     },
     "execution_count": 76,
     "metadata": {
      "tags": []
     },
     "output_type": "execute_result"
    }
   ],
   "source": [
    "# PREDICTIONS\n",
    "# get the prediction\n",
    "y_pred = model.predict(X_valid, batch_size=batch_size, verbose=1)\n",
    "# rounding the predictions\n",
    "y_pred_binary = (y_pred > 0.5) * 1\n",
    "\n",
    "\n",
    "# PRECISION & RECALL\n",
    "predictions_results = []\n",
    "thresholds=np.arange(.5, 1, 0.1).tolist()\n",
    "\n",
    "for val in thresholds:\n",
    "    pred = y_pred.copy()\n",
    "    pred[pred>=val]=1\n",
    "    pred[pred<val]=0\n",
    "\n",
    "    accuracy = accuracy_score(y_valid, pred, normalize=True, sample_weight=None)\n",
    "    res = []\n",
    "    for i in range(0, y_valid.shape[1]):\n",
    "       res.append(accuracy_score(y_valid[:,i], y_pred_binary[:,i]))\n",
    "    accuracy_keras = np.mean(res)\n",
    "    hamming = hamming_loss(y_valid, pred)\n",
    "    precision = precision_score(y_valid, pred, average='micro')\n",
    "    recall = recall_score(y_valid, pred, average='micro')\n",
    "    f1 = f1_score(y_valid, pred, average='micro')\n",
    "   \n",
    "    case= {'Threshold': val,\n",
    "           'Accuracy all model': accuracy,\n",
    "           'Accuracy average (keras)': accuracy_keras,\n",
    "           'Hamming loss': hamming,\n",
    "           'Precision': precision,\n",
    "           'Recall': recall,\n",
    "           'F1-measure': f1}\n",
    "    predictions_results.append(case)\n",
    "\n",
    "print(\"Micro-average quality numbers:\")\n",
    "pd.DataFrame(predictions_results)"
   ]
  },
  {
   "cell_type": "code",
   "execution_count": 88,
   "metadata": {
    "colab": {
     "base_uri": "https://localhost:8080/",
     "height": 438
    },
    "colab_type": "code",
    "id": "ypVmm_ZqA_wU",
    "outputId": "8ee40d87-8121-4e69-edaa-f23f1f32f6d4"
   },
   "outputs": [
    {
     "name": "stdout",
     "output_type": "stream",
     "text": [
      "0.9197185813415576\n"
     ]
    },
    {
     "data": {
      "text/html": [
       "<div>\n",
       "<style scoped>\n",
       "    .dataframe tbody tr th:only-of-type {\n",
       "        vertical-align: middle;\n",
       "    }\n",
       "\n",
       "    .dataframe tbody tr th {\n",
       "        vertical-align: top;\n",
       "    }\n",
       "\n",
       "    .dataframe thead th {\n",
       "        text-align: right;\n",
       "    }\n",
       "</style>\n",
       "<table border=\"1\" class=\"dataframe\">\n",
       "  <thead>\n",
       "    <tr style=\"text-align: right;\">\n",
       "      <th></th>\n",
       "      <th>Label</th>\n",
       "      <th>Y_count</th>\n",
       "      <th>Pred_count</th>\n",
       "      <th>Error</th>\n",
       "      <th>Accuarcy</th>\n",
       "      <th>Precision</th>\n",
       "      <th>Recall</th>\n",
       "    </tr>\n",
       "  </thead>\n",
       "  <tbody>\n",
       "    <tr>\n",
       "      <th>0</th>\n",
       "      <td>CPD</td>\n",
       "      <td>344</td>\n",
       "      <td>126</td>\n",
       "      <td>0.091750</td>\n",
       "      <td>0.908250</td>\n",
       "      <td>0.920635</td>\n",
       "      <td>0.337209</td>\n",
       "    </tr>\n",
       "    <tr>\n",
       "      <th>1</th>\n",
       "      <td>CB</td>\n",
       "      <td>317</td>\n",
       "      <td>217</td>\n",
       "      <td>0.054742</td>\n",
       "      <td>0.945258</td>\n",
       "      <td>0.903226</td>\n",
       "      <td>0.618297</td>\n",
       "    </tr>\n",
       "    <tr>\n",
       "      <th>2</th>\n",
       "      <td>EWC</td>\n",
       "      <td>231</td>\n",
       "      <td>75</td>\n",
       "      <td>0.071704</td>\n",
       "      <td>0.928296</td>\n",
       "      <td>0.800000</td>\n",
       "      <td>0.259740</td>\n",
       "    </tr>\n",
       "    <tr>\n",
       "      <th>3</th>\n",
       "      <td>Exec</td>\n",
       "      <td>353</td>\n",
       "      <td>110</td>\n",
       "      <td>0.103701</td>\n",
       "      <td>0.896299</td>\n",
       "      <td>0.881818</td>\n",
       "      <td>0.274788</td>\n",
       "    </tr>\n",
       "    <tr>\n",
       "      <th>4</th>\n",
       "      <td>FWE</td>\n",
       "      <td>187</td>\n",
       "      <td>70</td>\n",
       "      <td>0.048959</td>\n",
       "      <td>0.951041</td>\n",
       "      <td>0.928571</td>\n",
       "      <td>0.347594</td>\n",
       "    </tr>\n",
       "    <tr>\n",
       "      <th>5</th>\n",
       "      <td>SP</td>\n",
       "      <td>252</td>\n",
       "      <td>77</td>\n",
       "      <td>0.077487</td>\n",
       "      <td>0.922513</td>\n",
       "      <td>0.831169</td>\n",
       "      <td>0.253968</td>\n",
       "    </tr>\n",
       "    <tr>\n",
       "      <th>6</th>\n",
       "      <td>RE</td>\n",
       "      <td>204</td>\n",
       "      <td>28</td>\n",
       "      <td>0.075559</td>\n",
       "      <td>0.924441</td>\n",
       "      <td>0.642857</td>\n",
       "      <td>0.088235</td>\n",
       "    </tr>\n",
       "    <tr>\n",
       "      <th>7</th>\n",
       "      <td>Sup</td>\n",
       "      <td>258</td>\n",
       "      <td>68</td>\n",
       "      <td>0.091750</td>\n",
       "      <td>0.908250</td>\n",
       "      <td>0.647059</td>\n",
       "      <td>0.170543</td>\n",
       "    </tr>\n",
       "    <tr>\n",
       "      <th>8</th>\n",
       "      <td>SW</td>\n",
       "      <td>396</td>\n",
       "      <td>159</td>\n",
       "      <td>0.119892</td>\n",
       "      <td>0.880108</td>\n",
       "      <td>0.767296</td>\n",
       "      <td>0.308081</td>\n",
       "    </tr>\n",
       "    <tr>\n",
       "      <th>9</th>\n",
       "      <td>TEPE</td>\n",
       "      <td>605</td>\n",
       "      <td>492</td>\n",
       "      <td>0.077487</td>\n",
       "      <td>0.922513</td>\n",
       "      <td>0.910569</td>\n",
       "      <td>0.740496</td>\n",
       "    </tr>\n",
       "    <tr>\n",
       "      <th>10</th>\n",
       "      <td>VMG</td>\n",
       "      <td>364</td>\n",
       "      <td>136</td>\n",
       "      <td>0.110254</td>\n",
       "      <td>0.889746</td>\n",
       "      <td>0.786765</td>\n",
       "      <td>0.293956</td>\n",
       "    </tr>\n",
       "    <tr>\n",
       "      <th>11</th>\n",
       "      <td>OTH</td>\n",
       "      <td>107</td>\n",
       "      <td>9</td>\n",
       "      <td>0.040093</td>\n",
       "      <td>0.959907</td>\n",
       "      <td>0.666667</td>\n",
       "      <td>0.056075</td>\n",
       "    </tr>\n",
       "  </tbody>\n",
       "</table>\n",
       "</div>"
      ],
      "text/plain": [
       "   Label  Y_count  Pred_count     Error  Accuarcy  Precision    Recall\n",
       "0    CPD      344         126  0.091750  0.908250   0.920635  0.337209\n",
       "1     CB      317         217  0.054742  0.945258   0.903226  0.618297\n",
       "2    EWC      231          75  0.071704  0.928296   0.800000  0.259740\n",
       "3   Exec      353         110  0.103701  0.896299   0.881818  0.274788\n",
       "4    FWE      187          70  0.048959  0.951041   0.928571  0.347594\n",
       "5     SP      252          77  0.077487  0.922513   0.831169  0.253968\n",
       "6     RE      204          28  0.075559  0.924441   0.642857  0.088235\n",
       "7    Sup      258          68  0.091750  0.908250   0.647059  0.170543\n",
       "8     SW      396         159  0.119892  0.880108   0.767296  0.308081\n",
       "9   TEPE      605         492  0.077487  0.922513   0.910569  0.740496\n",
       "10   VMG      364         136  0.110254  0.889746   0.786765  0.293956\n",
       "11   OTH      107           9  0.040093  0.959907   0.666667  0.056075"
      ]
     },
     "execution_count": 88,
     "metadata": {
      "tags": []
     },
     "output_type": "execute_result"
    }
   ],
   "source": [
    "# RESULTS PER LABEL\n",
    "print(np.mean(theme_results(y_valid, y_pred_binary)['Accuarcy']))\n",
    "theme_results(y_valid, y_pred_binary)"
   ]
  },
  {
   "cell_type": "markdown",
   "metadata": {
    "colab_type": "text",
    "id": "zxHWNEG05zlj"
   },
   "source": [
    "## Based in Varada's Model\n",
    "[Varada's tutorial](https://www.dlology.com/blog/keras-meets-universal-sentence-encoder-transfer-learning-for-text-data/)"
   ]
  },
  {
   "cell_type": "code",
   "execution_count": null,
   "metadata": {
    "colab": {},
    "colab_type": "code",
    "id": "h5xmzNLcXTJ9"
   },
   "outputs": [],
   "source": [
    "from absl import logging\n",
    "\n",
    "import tensorflow as tf\n",
    "\n",
    "import tensorflow_hub as hub\n",
    "# import matplotlib.pyplot as plt\n",
    "import numpy as np\n",
    "# import os\n",
    "import pandas as pd\n",
    "# import re\n",
    "# import seaborn as sns\n",
    "# import tensorflow_datasets as tfds\n",
    "from tensorflow.keras import Input, layers\n",
    "from tensorflow.keras.models import Model"
   ]
  },
  {
   "cell_type": "code",
   "execution_count": 34,
   "metadata": {
    "colab": {
     "base_uri": "https://localhost:8080/",
     "height": 102
    },
    "colab_type": "code",
    "id": "9CcgUOvLUlaA",
    "outputId": "09cdaede-27ed-48a8-ea6c-7b5335c66c93"
   },
   "outputs": [
    {
     "name": "stdout",
     "output_type": "stream",
     "text": [
      "X_train (10376, 512) \n",
      "y_train (10376, 12) \n",
      "\n",
      "X_valid (2594, 512) \n",
      "y_valid (2594, 12)\n"
     ]
    }
   ],
   "source": [
    "# SHAPES\n",
    "print(\"X_train\", X_train.shape,\n",
    "      \"\\ny_train\", y_train.shape,\n",
    "      \"\\n\\nX_valid\", X_valid.shape,\n",
    "      \"\\ny_valid\", y_valid.shape)"
   ]
  },
  {
   "cell_type": "code",
   "execution_count": null,
   "metadata": {
    "colab": {},
    "colab_type": "code",
    "id": "6dNhfp8bVQ-T"
   },
   "outputs": [],
   "source": [
    "# WE WON'T USE THIS, WE WILL GIVE DIRECTLY THE EMBEDDINGS.\n",
    "\n",
    "# ### Use embeddings given by universal sentence encoder \n",
    "# model = hub.load(\"https://tfhub.dev/google/universal-sentence-encoder/4\")\n",
    "# hub_layer = hub.KerasLayer(model, output_shape=[512], input_shape=[], \n",
    "#                            dtype=tf.string, trainable=True)\n",
    "\n"
   ]
  },
  {
   "cell_type": "code",
   "execution_count": 58,
   "metadata": {
    "colab": {
     "base_uri": "https://localhost:8080/",
     "height": 595
    },
    "colab_type": "code",
    "id": "8n5YPCjHUlps",
    "outputId": "0936253a-1963-48ed-f14c-89778a1741e5"
   },
   "outputs": [
    {
     "name": "stdout",
     "output_type": "stream",
     "text": [
      "Model: \"model_10\"\n",
      "_________________________________________________________________\n",
      "Layer (type)                 Output Shape              Param #   \n",
      "=================================================================\n",
      "Input (InputLayer)           [(None, 512)]             0         \n",
      "_________________________________________________________________\n",
      "sequential_14 (Sequential)   (None, 512)               0         \n",
      "_________________________________________________________________\n",
      "reshape_13 (Reshape)         (None, 512, 1)            0         \n",
      "_________________________________________________________________\n",
      "conv1d_35 (Conv1D)           (None, 512, 128)          384       \n",
      "_________________________________________________________________\n",
      "max_pooling1d_33 (MaxPooling (None, 103, 128)          0         \n",
      "_________________________________________________________________\n",
      "conv1d_36 (Conv1D)           (None, 103, 128)          49280     \n",
      "_________________________________________________________________\n",
      "max_pooling1d_34 (MaxPooling (None, 21, 128)           0         \n",
      "_________________________________________________________________\n",
      "conv1d_37 (Conv1D)           (None, 21, 128)           65664     \n",
      "_________________________________________________________________\n",
      "max_pooling1d_35 (MaxPooling (None, 1, 128)            0         \n",
      "_________________________________________________________________\n",
      "flatten_11 (Flatten)         (None, 128)               0         \n",
      "_________________________________________________________________\n",
      "dropout_11 (Dropout)         (None, 128)               0         \n",
      "_________________________________________________________________\n",
      "dense_22 (Dense)             (None, 128)               16512     \n",
      "_________________________________________________________________\n",
      "dense_23 (Dense)             (None, 12)                1548      \n",
      "=================================================================\n",
      "Total params: 133,388\n",
      "Trainable params: 133,388\n",
      "Non-trainable params: 0\n",
      "_________________________________________________________________\n"
     ]
    }
   ],
   "source": [
    "# Let's build a CNN on the top of USE embeddings. The difference\n",
    "# with Varada model is that we already will give the embeddings.\n",
    "input = Input(shape=(512,), name=\"Input\")#, dtype=tf.string)\n",
    "# x = hub_layer(input)\n",
    "x = Sequential()(input)\n",
    "x = tf.keras.layers.Reshape(input_shape=(512,), target_shape=(512, 1))(x)\n",
    "x = tf.keras.layers.Conv1D(128, 2, activation='relu', padding='same')(x)\n",
    "x = tf.keras.layers.MaxPooling1D(5, padding='same')(x)\n",
    "x = tf.keras.layers.Conv1D(128, 3, activation='relu', padding='same')(x)\n",
    "x = tf.keras.layers.MaxPooling1D(5, padding='same')(x)\n",
    "x = tf.keras.layers.Conv1D(128, 4, activation='relu', padding='same')(x)\n",
    "x = tf.keras.layers.MaxPooling1D(40, padding='same')(x)\n",
    "x = tf.keras.layers.Flatten()(x)\n",
    "x = tf.keras.layers.Dropout(0.05)(x)\n",
    "x = tf.keras.layers.Dense(128, activation='relu')(x)\n",
    "output = tf.keras.layers.Dense(12, activation='sigmoid')(x)\n",
    "m = Model(input, output)\n",
    "m.summary()"
   ]
  },
  {
   "cell_type": "code",
   "execution_count": null,
   "metadata": {
    "colab": {},
    "colab_type": "code",
    "id": "12T2Fo2gUl58"
   },
   "outputs": [],
   "source": [
    "m.compile(optimizer='adam',\n",
    "              loss=tf.losses.BinaryCrossentropy(from_logits=True),\n",
    "              metrics=['accuracy'])"
   ]
  },
  {
   "cell_type": "code",
   "execution_count": 60,
   "metadata": {
    "colab": {
     "base_uri": "https://localhost:8080/",
     "height": 697
    },
    "colab_type": "code",
    "id": "3uXluOVFXebf",
    "outputId": "671cb2da-4cf9-4139-a0d8-d924e1fbbf3d"
   },
   "outputs": [
    {
     "name": "stdout",
     "output_type": "stream",
     "text": [
      "Epoch 1/20\n",
      "21/21 [==============================] - 2s 81ms/step - loss: 0.8398 - accuracy: 0.1141 - val_loss: 0.6987 - val_accuracy: 0.1110\n",
      "Epoch 2/20\n",
      "21/21 [==============================] - 1s 70ms/step - loss: 0.6936 - accuracy: 0.1462 - val_loss: 0.6931 - val_accuracy: 0.1677\n",
      "Epoch 3/20\n",
      "21/21 [==============================] - 1s 69ms/step - loss: 0.6931 - accuracy: 0.1389 - val_loss: 0.6931 - val_accuracy: 0.1677\n",
      "Epoch 4/20\n",
      "21/21 [==============================] - 1s 69ms/step - loss: 0.6931 - accuracy: 0.1305 - val_loss: 0.6931 - val_accuracy: 0.1677\n",
      "Epoch 5/20\n",
      "21/21 [==============================] - 1s 69ms/step - loss: 0.6931 - accuracy: 0.1304 - val_loss: 0.6931 - val_accuracy: 0.1677\n",
      "Epoch 6/20\n",
      "21/21 [==============================] - 1s 69ms/step - loss: 0.6931 - accuracy: 0.1370 - val_loss: 0.6931 - val_accuracy: 0.1677\n",
      "Epoch 7/20\n",
      "21/21 [==============================] - 1s 69ms/step - loss: 0.6931 - accuracy: 0.1292 - val_loss: 0.6931 - val_accuracy: 0.1677\n",
      "Epoch 8/20\n",
      "21/21 [==============================] - 1s 69ms/step - loss: 0.6931 - accuracy: 0.1293 - val_loss: 0.6931 - val_accuracy: 0.1677\n",
      "Epoch 9/20\n",
      "21/21 [==============================] - 1s 70ms/step - loss: 0.6931 - accuracy: 0.1305 - val_loss: 0.6931 - val_accuracy: 0.1677\n",
      "Epoch 10/20\n",
      "21/21 [==============================] - 1s 69ms/step - loss: 0.6931 - accuracy: 0.1296 - val_loss: 0.6931 - val_accuracy: 0.1677\n",
      "Epoch 11/20\n",
      "21/21 [==============================] - 1s 70ms/step - loss: 0.6931 - accuracy: 0.1295 - val_loss: 0.6931 - val_accuracy: 0.1677\n",
      "Epoch 12/20\n",
      "21/21 [==============================] - 1s 70ms/step - loss: 0.6931 - accuracy: 0.1305 - val_loss: 0.6931 - val_accuracy: 0.1677\n",
      "Epoch 13/20\n",
      "21/21 [==============================] - 1s 69ms/step - loss: 0.6931 - accuracy: 0.1276 - val_loss: 0.6931 - val_accuracy: 0.1677\n",
      "Epoch 14/20\n",
      "21/21 [==============================] - 1s 70ms/step - loss: 0.6931 - accuracy: 0.1328 - val_loss: 0.6931 - val_accuracy: 0.1677\n",
      "Epoch 15/20\n",
      "21/21 [==============================] - 1s 70ms/step - loss: 0.6931 - accuracy: 0.1311 - val_loss: 0.6931 - val_accuracy: 0.1677\n",
      "Epoch 16/20\n",
      "21/21 [==============================] - 1s 69ms/step - loss: 0.6931 - accuracy: 0.1278 - val_loss: 0.6931 - val_accuracy: 0.1677\n",
      "Epoch 17/20\n",
      "21/21 [==============================] - 1s 70ms/step - loss: 0.6931 - accuracy: 0.1267 - val_loss: 0.6931 - val_accuracy: 0.1677\n",
      "Epoch 18/20\n",
      "21/21 [==============================] - 1s 70ms/step - loss: 0.6931 - accuracy: 0.1369 - val_loss: 0.6931 - val_accuracy: 0.1677\n",
      "Epoch 19/20\n",
      "21/21 [==============================] - 1s 70ms/step - loss: 0.6931 - accuracy: 0.1355 - val_loss: 0.6931 - val_accuracy: 0.1677\n",
      "Epoch 20/20\n",
      "21/21 [==============================] - 1s 69ms/step - loss: 0.6931 - accuracy: 0.1295 - val_loss: 0.6931 - val_accuracy: 0.1677\n"
     ]
    }
   ],
   "source": [
    "history = m.fit(X_train,\n",
    "                y_train,\n",
    "                epochs=20,\n",
    "                batch_size=512,\n",
    "                validation_data=(X_valid, y_valid),\n",
    "                verbose=1)"
   ]
  },
  {
   "cell_type": "code",
   "execution_count": 39,
   "metadata": {
    "colab": {
     "base_uri": "https://localhost:8080/",
     "height": 385
    },
    "colab_type": "code",
    "id": "MZljlGeWYE01",
    "outputId": "830ef367-d8fe-4059-a47b-bed2ca17fbda"
   },
   "outputs": [
    {
     "data": {
      "text/html": [
       "\n",
       "<div id=\"altair-viz-dee0bfab001449b5aa0ade25187a1a5e\"></div>\n",
       "<script type=\"text/javascript\">\n",
       "  (function(spec, embedOpt){\n",
       "    let outputDiv = document.currentScript.previousElementSibling;\n",
       "    if (outputDiv.id !== \"altair-viz-dee0bfab001449b5aa0ade25187a1a5e\") {\n",
       "      outputDiv = document.getElementById(\"altair-viz-dee0bfab001449b5aa0ade25187a1a5e\");\n",
       "    }\n",
       "    const paths = {\n",
       "      \"vega\": \"https://cdn.jsdelivr.net/npm//vega@5?noext\",\n",
       "      \"vega-lib\": \"https://cdn.jsdelivr.net/npm//vega-lib?noext\",\n",
       "      \"vega-lite\": \"https://cdn.jsdelivr.net/npm//vega-lite@4.8.1?noext\",\n",
       "      \"vega-embed\": \"https://cdn.jsdelivr.net/npm//vega-embed@6?noext\",\n",
       "    };\n",
       "\n",
       "    function loadScript(lib) {\n",
       "      return new Promise(function(resolve, reject) {\n",
       "        var s = document.createElement('script');\n",
       "        s.src = paths[lib];\n",
       "        s.async = true;\n",
       "        s.onload = () => resolve(paths[lib]);\n",
       "        s.onerror = () => reject(`Error loading script: ${paths[lib]}`);\n",
       "        document.getElementsByTagName(\"head\")[0].appendChild(s);\n",
       "      });\n",
       "    }\n",
       "\n",
       "    function showError(err) {\n",
       "      outputDiv.innerHTML = `<div class=\"error\" style=\"color:red;\">${err}</div>`;\n",
       "      throw err;\n",
       "    }\n",
       "\n",
       "    function displayChart(vegaEmbed) {\n",
       "      vegaEmbed(outputDiv, spec, embedOpt)\n",
       "        .catch(err => showError(`Javascript Error: ${err.message}<br>This usually means there's a typo in your chart specification. See the javascript console for the full traceback.`));\n",
       "    }\n",
       "\n",
       "    if(typeof define === \"function\" && define.amd) {\n",
       "      requirejs.config({paths});\n",
       "      require([\"vega-embed\"], displayChart, err => showError(`Error loading script: ${err.message}`));\n",
       "    } else if (typeof vegaEmbed === \"function\") {\n",
       "      displayChart(vegaEmbed);\n",
       "    } else {\n",
       "      loadScript(\"vega\")\n",
       "        .then(() => loadScript(\"vega-lite\"))\n",
       "        .then(() => loadScript(\"vega-embed\"))\n",
       "        .catch(showError)\n",
       "        .then(() => displayChart(vegaEmbed));\n",
       "    }\n",
       "  })({\"config\": {\"view\": {\"continuousWidth\": 400, \"continuousHeight\": 300}}, \"data\": {\"name\": \"data-47c70040469b9f980bc9c2f66a1da4cc\"}, \"mark\": \"line\", \"encoding\": {\"color\": {\"type\": \"nominal\", \"field\": \"metric\"}, \"x\": {\"type\": \"quantitative\", \"field\": \"epoch\"}, \"y\": {\"type\": \"quantitative\", \"field\": \"value\"}}, \"title\": \"Loss and Accuracy\", \"$schema\": \"https://vega.github.io/schema/vega-lite/v4.8.1.json\", \"datasets\": {\"data-47c70040469b9f980bc9c2f66a1da4cc\": [{\"epoch\": 0, \"metric\": \"train_loss\", \"value\": 0.8326783180236816}, {\"epoch\": 0, \"metric\": \"train_accuracy\", \"value\": 0.07642637193202972}, {\"epoch\": 0, \"metric\": \"valid_loss\", \"value\": 0.6943650245666504}, {\"epoch\": 0, \"metric\": \"valid_accuracy\", \"value\": 0.08828064799308777}, {\"epoch\": 1, \"metric\": \"train_loss\", \"value\": 0.6933149695396423}, {\"epoch\": 1, \"metric\": \"train_accuracy\", \"value\": 0.0796067863702774}, {\"epoch\": 1, \"metric\": \"valid_loss\", \"value\": 0.6931471824645996}, {\"epoch\": 1, \"metric\": \"valid_accuracy\", \"value\": 0.0659213587641716}, {\"epoch\": 2, \"metric\": \"train_loss\", \"value\": 0.6931473612785339}, {\"epoch\": 2, \"metric\": \"train_accuracy\", \"value\": 0.07526985555887222}, {\"epoch\": 2, \"metric\": \"valid_loss\", \"value\": 0.6931471824645996}, {\"epoch\": 2, \"metric\": \"valid_accuracy\", \"value\": 0.0659213587641716}, {\"epoch\": 3, \"metric\": \"train_loss\", \"value\": 0.6931473612785339}, {\"epoch\": 3, \"metric\": \"train_accuracy\", \"value\": 0.07912490516901016}, {\"epoch\": 3, \"metric\": \"valid_loss\", \"value\": 0.6931471824645996}, {\"epoch\": 3, \"metric\": \"valid_accuracy\", \"value\": 0.0659213587641716}, {\"epoch\": 4, \"metric\": \"train_loss\", \"value\": 0.6931473612785339}, {\"epoch\": 4, \"metric\": \"train_accuracy\", \"value\": 0.07584811002016068}, {\"epoch\": 4, \"metric\": \"valid_loss\", \"value\": 0.6931471824645996}, {\"epoch\": 4, \"metric\": \"valid_accuracy\", \"value\": 0.0659213587641716}, {\"epoch\": 5, \"metric\": \"train_loss\", \"value\": 0.6931473612785339}, {\"epoch\": 5, \"metric\": \"train_accuracy\", \"value\": 0.08018504083156586}, {\"epoch\": 5, \"metric\": \"valid_loss\", \"value\": 0.6931471824645996}, {\"epoch\": 5, \"metric\": \"valid_accuracy\", \"value\": 0.0659213587641716}, {\"epoch\": 6, \"metric\": \"train_loss\", \"value\": 0.6931473612785339}, {\"epoch\": 6, \"metric\": \"train_accuracy\", \"value\": 0.0795104056596756}, {\"epoch\": 6, \"metric\": \"valid_loss\", \"value\": 0.6931471824645996}, {\"epoch\": 6, \"metric\": \"valid_accuracy\", \"value\": 0.0659213587641716}, {\"epoch\": 7, \"metric\": \"train_loss\", \"value\": 0.6931473612785339}, {\"epoch\": 7, \"metric\": \"train_accuracy\", \"value\": 0.08220894634723663}, {\"epoch\": 7, \"metric\": \"valid_loss\", \"value\": 0.6931471824645996}, {\"epoch\": 7, \"metric\": \"valid_accuracy\", \"value\": 0.0659213587641716}, {\"epoch\": 8, \"metric\": \"train_loss\", \"value\": 0.6931473612785339}, {\"epoch\": 8, \"metric\": \"train_accuracy\", \"value\": 0.07536622881889343}, {\"epoch\": 8, \"metric\": \"valid_loss\", \"value\": 0.6931471824645996}, {\"epoch\": 8, \"metric\": \"valid_accuracy\", \"value\": 0.0659213587641716}, {\"epoch\": 9, \"metric\": \"train_loss\", \"value\": 0.6931473612785339}, {\"epoch\": 9, \"metric\": \"train_accuracy\", \"value\": 0.08037779480218887}, {\"epoch\": 9, \"metric\": \"valid_loss\", \"value\": 0.6931471824645996}, {\"epoch\": 9, \"metric\": \"valid_accuracy\", \"value\": 0.0659213587641716}, {\"epoch\": 10, \"metric\": \"train_loss\", \"value\": 0.6931473612785339}, {\"epoch\": 10, \"metric\": \"train_accuracy\", \"value\": 0.08259444683790207}, {\"epoch\": 10, \"metric\": \"valid_loss\", \"value\": 0.6931471824645996}, {\"epoch\": 10, \"metric\": \"valid_accuracy\", \"value\": 0.0659213587641716}, {\"epoch\": 11, \"metric\": \"train_loss\", \"value\": 0.6931473612785339}, {\"epoch\": 11, \"metric\": \"train_accuracy\", \"value\": 0.07931765913963318}, {\"epoch\": 11, \"metric\": \"valid_loss\", \"value\": 0.6931471824645996}, {\"epoch\": 11, \"metric\": \"valid_accuracy\", \"value\": 0.0659213587641716}, {\"epoch\": 12, \"metric\": \"train_loss\", \"value\": 0.6931473612785339}, {\"epoch\": 12, \"metric\": \"train_accuracy\", \"value\": 0.07594449073076248}, {\"epoch\": 12, \"metric\": \"valid_loss\", \"value\": 0.6931471824645996}, {\"epoch\": 12, \"metric\": \"valid_accuracy\", \"value\": 0.0659213587641716}, {\"epoch\": 13, \"metric\": \"train_loss\", \"value\": 0.6931473612785339}, {\"epoch\": 13, \"metric\": \"train_accuracy\", \"value\": 0.07575173676013947}, {\"epoch\": 13, \"metric\": \"valid_loss\", \"value\": 0.6931471824645996}, {\"epoch\": 13, \"metric\": \"valid_accuracy\", \"value\": 0.0659213587641716}, {\"epoch\": 14, \"metric\": \"train_loss\", \"value\": 0.6931473612785339}, {\"epoch\": 14, \"metric\": \"train_accuracy\", \"value\": 0.08163068443536758}, {\"epoch\": 14, \"metric\": \"valid_loss\", \"value\": 0.6931471824645996}, {\"epoch\": 14, \"metric\": \"valid_accuracy\", \"value\": 0.0659213587641716}, {\"epoch\": 15, \"metric\": \"train_loss\", \"value\": 0.6931473612785339}, {\"epoch\": 15, \"metric\": \"train_accuracy\", \"value\": 0.07979954034090042}, {\"epoch\": 15, \"metric\": \"valid_loss\", \"value\": 0.6931471824645996}, {\"epoch\": 15, \"metric\": \"valid_accuracy\", \"value\": 0.0659213587641716}, {\"epoch\": 16, \"metric\": \"train_loss\", \"value\": 0.6931473612785339}, {\"epoch\": 16, \"metric\": \"train_accuracy\", \"value\": 0.0818234384059906}, {\"epoch\": 16, \"metric\": \"valid_loss\", \"value\": 0.6931471824645996}, {\"epoch\": 16, \"metric\": \"valid_accuracy\", \"value\": 0.0659213587641716}, {\"epoch\": 17, \"metric\": \"train_loss\", \"value\": 0.6931473612785339}, {\"epoch\": 17, \"metric\": \"train_accuracy\", \"value\": 0.07517347484827042}, {\"epoch\": 17, \"metric\": \"valid_loss\", \"value\": 0.6931471824645996}, {\"epoch\": 17, \"metric\": \"valid_accuracy\", \"value\": 0.0659213587641716}, {\"epoch\": 18, \"metric\": \"train_loss\", \"value\": 0.6931473612785339}, {\"epoch\": 18, \"metric\": \"train_accuracy\", \"value\": 0.07989591360092163}, {\"epoch\": 18, \"metric\": \"valid_loss\", \"value\": 0.6931471824645996}, {\"epoch\": 18, \"metric\": \"valid_accuracy\", \"value\": 0.0659213587641716}, {\"epoch\": 19, \"metric\": \"train_loss\", \"value\": 0.6931473612785339}, {\"epoch\": 19, \"metric\": \"train_accuracy\", \"value\": 0.0818234384059906}, {\"epoch\": 19, \"metric\": \"valid_loss\", \"value\": 0.6931471824645996}, {\"epoch\": 19, \"metric\": \"valid_accuracy\", \"value\": 0.0659213587641716}]}}, {\"mode\": \"vega-lite\"});\n",
       "</script>"
      ],
      "text/plain": [
       "alt.Chart(...)"
      ]
     },
     "execution_count": 39,
     "metadata": {
      "tags": []
     },
     "output_type": "execute_result"
    }
   ],
   "source": [
    "plot_metrics(history)"
   ]
  },
  {
   "cell_type": "code",
   "execution_count": null,
   "metadata": {
    "colab": {},
    "colab_type": "code",
    "id": "Rst1oOh5YhxB"
   },
   "outputs": [],
   "source": [
    "# MODEL\n",
    "\n",
    "max_features = X_train.shape[0] # comments\n",
    "batch_size = 128\n",
    "filters = 250\n",
    "kernel_size = 3\n",
    "hidden_dims = 250\n",
    "epochs = 20\n",
    "embed_size = 512 # for USE\n",
    "n_class = 12 # 12 for themes and 62 for sub-themes"
   ]
  },
  {
   "cell_type": "code",
   "execution_count": 30,
   "metadata": {
    "colab": {
     "base_uri": "https://localhost:8080/",
     "height": 292
    },
    "colab_type": "code",
    "id": "JDuq5B93YFlG",
    "outputId": "a2524c0e-49d9-4b56-9dda-858775bf70f2"
   },
   "outputs": [
    {
     "name": "stdout",
     "output_type": "stream",
     "text": [
      "21/21 [==============================] - 0s 9ms/step\n",
      "Micro-average quality numbers:\n"
     ]
    },
    {
     "name": "stderr",
     "output_type": "stream",
     "text": [
      "/usr/local/lib/python3.6/dist-packages/sklearn/metrics/_classification.py:1272: UndefinedMetricWarning: Precision is ill-defined and being set to 0.0 due to no predicted samples. Use `zero_division` parameter to control this behavior.\n",
      "  _warn_prf(average, modifier, msg_start, len(result))\n"
     ]
    },
    {
     "data": {
      "text/html": [
       "<div>\n",
       "<style scoped>\n",
       "    .dataframe tbody tr th:only-of-type {\n",
       "        vertical-align: middle;\n",
       "    }\n",
       "\n",
       "    .dataframe tbody tr th {\n",
       "        vertical-align: top;\n",
       "    }\n",
       "\n",
       "    .dataframe thead th {\n",
       "        text-align: right;\n",
       "    }\n",
       "</style>\n",
       "<table border=\"1\" class=\"dataframe\">\n",
       "  <thead>\n",
       "    <tr style=\"text-align: right;\">\n",
       "      <th></th>\n",
       "      <th>Threshold</th>\n",
       "      <th>Accuracy all model</th>\n",
       "      <th>Accuracy average (keras)</th>\n",
       "      <th>Hamming loss</th>\n",
       "      <th>Precision</th>\n",
       "      <th>Recall</th>\n",
       "      <th>F1-measure</th>\n",
       "    </tr>\n",
       "  </thead>\n",
       "  <tbody>\n",
       "    <tr>\n",
       "      <th>0</th>\n",
       "      <td>0.5</td>\n",
       "      <td>0.002699</td>\n",
       "      <td>0.88377</td>\n",
       "      <td>0.11623</td>\n",
       "      <td>0.0</td>\n",
       "      <td>0.0</td>\n",
       "      <td>0.0</td>\n",
       "    </tr>\n",
       "    <tr>\n",
       "      <th>1</th>\n",
       "      <td>0.6</td>\n",
       "      <td>0.002699</td>\n",
       "      <td>0.88377</td>\n",
       "      <td>0.11623</td>\n",
       "      <td>0.0</td>\n",
       "      <td>0.0</td>\n",
       "      <td>0.0</td>\n",
       "    </tr>\n",
       "    <tr>\n",
       "      <th>2</th>\n",
       "      <td>0.7</td>\n",
       "      <td>0.002699</td>\n",
       "      <td>0.88377</td>\n",
       "      <td>0.11623</td>\n",
       "      <td>0.0</td>\n",
       "      <td>0.0</td>\n",
       "      <td>0.0</td>\n",
       "    </tr>\n",
       "    <tr>\n",
       "      <th>3</th>\n",
       "      <td>0.8</td>\n",
       "      <td>0.002699</td>\n",
       "      <td>0.88377</td>\n",
       "      <td>0.11623</td>\n",
       "      <td>0.0</td>\n",
       "      <td>0.0</td>\n",
       "      <td>0.0</td>\n",
       "    </tr>\n",
       "    <tr>\n",
       "      <th>4</th>\n",
       "      <td>0.9</td>\n",
       "      <td>0.002699</td>\n",
       "      <td>0.88377</td>\n",
       "      <td>0.11623</td>\n",
       "      <td>0.0</td>\n",
       "      <td>0.0</td>\n",
       "      <td>0.0</td>\n",
       "    </tr>\n",
       "  </tbody>\n",
       "</table>\n",
       "</div>"
      ],
      "text/plain": [
       "   Threshold  Accuracy all model  ...  Recall  F1-measure\n",
       "0        0.5            0.002699  ...     0.0         0.0\n",
       "1        0.6            0.002699  ...     0.0         0.0\n",
       "2        0.7            0.002699  ...     0.0         0.0\n",
       "3        0.8            0.002699  ...     0.0         0.0\n",
       "4        0.9            0.002699  ...     0.0         0.0\n",
       "\n",
       "[5 rows x 7 columns]"
      ]
     },
     "execution_count": 30,
     "metadata": {
      "tags": []
     },
     "output_type": "execute_result"
    }
   ],
   "source": [
    "# PREDICTIONS\n",
    "# get the prediction\n",
    "y_pred = m.predict(X_valid, batch_size=batch_size, verbose=1)\n",
    "# rounding the predictions\n",
    "y_pred_binary = (y_pred > 0.5) * 1\n",
    "\n",
    "\n",
    "# PRECISION & RECALL\n",
    "predictions_results = []\n",
    "thresholds=np.arange(.5, 1, 0.1).tolist()\n",
    "\n",
    "for val in thresholds:\n",
    "    pred = y_pred.copy()\n",
    "    pred[pred>=val]=1\n",
    "    pred[pred<val]=0\n",
    "\n",
    "    accuracy = accuracy_score(y_valid, pred, normalize=True, sample_weight=None)\n",
    "    res = []\n",
    "    for i in range(0, y_valid.shape[1]):\n",
    "       res.append(accuracy_score(y_valid[:,i], y_pred_binary[:,i]))\n",
    "    accuracy_keras = np.mean(res)\n",
    "    hamming = hamming_loss(y_valid, pred)\n",
    "    precision = precision_score(y_valid, pred, average='micro')\n",
    "    recall = recall_score(y_valid, pred, average='micro')\n",
    "    f1 = f1_score(y_valid, pred, average='micro')\n",
    "   \n",
    "    case= {'Threshold': val,\n",
    "           'Accuracy all model': accuracy,\n",
    "           'Accuracy average (keras)': accuracy_keras,\n",
    "           'Hamming loss': hamming,\n",
    "           'Precision': precision,\n",
    "           'Recall': recall,\n",
    "           'F1-measure': f1}\n",
    "    predictions_results.append(case)\n",
    "\n",
    "print(\"Micro-average quality numbers:\")\n",
    "pd.DataFrame(predictions_results)"
   ]
  },
  {
   "cell_type": "code",
   "execution_count": 31,
   "metadata": {
    "colab": {
     "base_uri": "https://localhost:8080/",
     "height": 492
    },
    "colab_type": "code",
    "id": "giUy0hurYNbM",
    "outputId": "0e304d97-1380-4a2c-925d-ae5839a61b9f"
   },
   "outputs": [
    {
     "name": "stdout",
     "output_type": "stream",
     "text": [
      "0.8837702390131073\n"
     ]
    },
    {
     "name": "stderr",
     "output_type": "stream",
     "text": [
      "/usr/local/lib/python3.6/dist-packages/sklearn/metrics/_classification.py:1272: UndefinedMetricWarning: Precision is ill-defined and being set to 0.0 due to no predicted samples. Use `zero_division` parameter to control this behavior.\n",
      "  _warn_prf(average, modifier, msg_start, len(result))\n"
     ]
    },
    {
     "data": {
      "text/html": [
       "<div>\n",
       "<style scoped>\n",
       "    .dataframe tbody tr th:only-of-type {\n",
       "        vertical-align: middle;\n",
       "    }\n",
       "\n",
       "    .dataframe tbody tr th {\n",
       "        vertical-align: top;\n",
       "    }\n",
       "\n",
       "    .dataframe thead th {\n",
       "        text-align: right;\n",
       "    }\n",
       "</style>\n",
       "<table border=\"1\" class=\"dataframe\">\n",
       "  <thead>\n",
       "    <tr style=\"text-align: right;\">\n",
       "      <th></th>\n",
       "      <th>Label</th>\n",
       "      <th>Y_count</th>\n",
       "      <th>Pred_count</th>\n",
       "      <th>Error</th>\n",
       "      <th>Accuarcy</th>\n",
       "      <th>Precision</th>\n",
       "      <th>Recall</th>\n",
       "    </tr>\n",
       "  </thead>\n",
       "  <tbody>\n",
       "    <tr>\n",
       "      <th>0</th>\n",
       "      <td>CPD</td>\n",
       "      <td>344</td>\n",
       "      <td>0</td>\n",
       "      <td>0.132614</td>\n",
       "      <td>0.867386</td>\n",
       "      <td>0.0</td>\n",
       "      <td>0.0</td>\n",
       "    </tr>\n",
       "    <tr>\n",
       "      <th>1</th>\n",
       "      <td>CB</td>\n",
       "      <td>317</td>\n",
       "      <td>0</td>\n",
       "      <td>0.122205</td>\n",
       "      <td>0.877795</td>\n",
       "      <td>0.0</td>\n",
       "      <td>0.0</td>\n",
       "    </tr>\n",
       "    <tr>\n",
       "      <th>2</th>\n",
       "      <td>EWC</td>\n",
       "      <td>231</td>\n",
       "      <td>0</td>\n",
       "      <td>0.089052</td>\n",
       "      <td>0.910948</td>\n",
       "      <td>0.0</td>\n",
       "      <td>0.0</td>\n",
       "    </tr>\n",
       "    <tr>\n",
       "      <th>3</th>\n",
       "      <td>Exec</td>\n",
       "      <td>353</td>\n",
       "      <td>0</td>\n",
       "      <td>0.136083</td>\n",
       "      <td>0.863917</td>\n",
       "      <td>0.0</td>\n",
       "      <td>0.0</td>\n",
       "    </tr>\n",
       "    <tr>\n",
       "      <th>4</th>\n",
       "      <td>FWE</td>\n",
       "      <td>187</td>\n",
       "      <td>0</td>\n",
       "      <td>0.072089</td>\n",
       "      <td>0.927911</td>\n",
       "      <td>0.0</td>\n",
       "      <td>0.0</td>\n",
       "    </tr>\n",
       "    <tr>\n",
       "      <th>5</th>\n",
       "      <td>SP</td>\n",
       "      <td>252</td>\n",
       "      <td>0</td>\n",
       "      <td>0.097147</td>\n",
       "      <td>0.902853</td>\n",
       "      <td>0.0</td>\n",
       "      <td>0.0</td>\n",
       "    </tr>\n",
       "    <tr>\n",
       "      <th>6</th>\n",
       "      <td>RE</td>\n",
       "      <td>204</td>\n",
       "      <td>0</td>\n",
       "      <td>0.078643</td>\n",
       "      <td>0.921357</td>\n",
       "      <td>0.0</td>\n",
       "      <td>0.0</td>\n",
       "    </tr>\n",
       "    <tr>\n",
       "      <th>7</th>\n",
       "      <td>Sup</td>\n",
       "      <td>258</td>\n",
       "      <td>0</td>\n",
       "      <td>0.099460</td>\n",
       "      <td>0.900540</td>\n",
       "      <td>0.0</td>\n",
       "      <td>0.0</td>\n",
       "    </tr>\n",
       "    <tr>\n",
       "      <th>8</th>\n",
       "      <td>SW</td>\n",
       "      <td>396</td>\n",
       "      <td>0</td>\n",
       "      <td>0.152660</td>\n",
       "      <td>0.847340</td>\n",
       "      <td>0.0</td>\n",
       "      <td>0.0</td>\n",
       "    </tr>\n",
       "    <tr>\n",
       "      <th>9</th>\n",
       "      <td>TEPE</td>\n",
       "      <td>605</td>\n",
       "      <td>0</td>\n",
       "      <td>0.233231</td>\n",
       "      <td>0.766769</td>\n",
       "      <td>0.0</td>\n",
       "      <td>0.0</td>\n",
       "    </tr>\n",
       "    <tr>\n",
       "      <th>10</th>\n",
       "      <td>VMG</td>\n",
       "      <td>364</td>\n",
       "      <td>0</td>\n",
       "      <td>0.140324</td>\n",
       "      <td>0.859676</td>\n",
       "      <td>0.0</td>\n",
       "      <td>0.0</td>\n",
       "    </tr>\n",
       "    <tr>\n",
       "      <th>11</th>\n",
       "      <td>OTH</td>\n",
       "      <td>107</td>\n",
       "      <td>0</td>\n",
       "      <td>0.041249</td>\n",
       "      <td>0.958751</td>\n",
       "      <td>0.0</td>\n",
       "      <td>0.0</td>\n",
       "    </tr>\n",
       "  </tbody>\n",
       "</table>\n",
       "</div>"
      ],
      "text/plain": [
       "   Label  Y_count  Pred_count     Error  Accuarcy  Precision  Recall\n",
       "0    CPD      344           0  0.132614  0.867386        0.0     0.0\n",
       "1     CB      317           0  0.122205  0.877795        0.0     0.0\n",
       "2    EWC      231           0  0.089052  0.910948        0.0     0.0\n",
       "3   Exec      353           0  0.136083  0.863917        0.0     0.0\n",
       "4    FWE      187           0  0.072089  0.927911        0.0     0.0\n",
       "5     SP      252           0  0.097147  0.902853        0.0     0.0\n",
       "6     RE      204           0  0.078643  0.921357        0.0     0.0\n",
       "7    Sup      258           0  0.099460  0.900540        0.0     0.0\n",
       "8     SW      396           0  0.152660  0.847340        0.0     0.0\n",
       "9   TEPE      605           0  0.233231  0.766769        0.0     0.0\n",
       "10   VMG      364           0  0.140324  0.859676        0.0     0.0\n",
       "11   OTH      107           0  0.041249  0.958751        0.0     0.0"
      ]
     },
     "execution_count": 31,
     "metadata": {
      "tags": []
     },
     "output_type": "execute_result"
    }
   ],
   "source": [
    "# RESULTS PER LABEL\n",
    "print(np.mean(theme_results(y_valid, y_pred_binary)['Accuarcy']))\n",
    "theme_results(y_valid, y_pred_binary)"
   ]
  },
  {
   "cell_type": "markdown",
   "metadata": {
    "colab_type": "text",
    "id": "6AeJT1X7WCu7"
   },
   "source": [
    "# BERT - CNN"
   ]
  },
  {
   "cell_type": "markdown",
   "metadata": {
    "colab_type": "text",
    "id": "Ou7g6flcXmqi"
   },
   "source": [
    "## Load Datasets (BERT)"
   ]
  },
  {
   "cell_type": "code",
   "execution_count": null,
   "metadata": {
    "colab": {},
    "colab_type": "code",
    "id": "QCUIduF6VZiZ"
   },
   "outputs": [],
   "source": [
    "# LOAD DEPENDENCIES\n",
    "# General\n",
    "import pandas as pd\n",
    "import numpy as np\n",
    "import time\n",
    "\n",
    "# Embeddings\n",
    "from sklearn.feature_extraction.text import TfidfVectorizer, CountVectorizer  #TD-IDF & Bag of Words\n",
    "from tensorflow.keras.preprocessing.text import Tokenizer  #GloVe\n",
    "import tensorflow as tf  #Universal Sentence Encoder\n",
    "import tensorflow_hub as hub  #Universal Sentence Encoder\n",
    "# from sentence_transformers import SentenceTransformer  #BERT\n",
    "\n",
    "# Models\n",
    "from keras.preprocessing.sequence import pad_sequences #Glove of CNN\n",
    "# from keras.models import Sequential #Glove of CNN\n",
    "from tensorflow.keras.models import Sequential\n",
    "from tensorflow.keras.layers import Dense, Dropout, Flatten, Activation\n",
    "from tensorflow.keras.layers import Conv1D, Conv2D, MaxPooling2D, GlobalMaxPooling1D, MaxPool1D, MaxPooling1D\n",
    "from tensorflow.keras.layers import Embedding, LSTM, Input, Lambda\n",
    "from sklearn.metrics import precision_score, recall_score, f1_score #Precision & Recall\n",
    "from tensorflow import keras\n",
    "\n",
    "\n",
    "# To use GPU-Accelerated Machine Learning on MacOS\n",
    "import os\n",
    "os.environ[\"KERAS_BACKEND\"] = \"plaidml.keras.backend\""
   ]
  },
  {
   "cell_type": "code",
   "execution_count": null,
   "metadata": {
    "colab": {
     "base_uri": "https://localhost:8080/",
     "height": 54
    },
    "colab_type": "code",
    "id": "YA2kU1LkWDiz",
    "outputId": "b4e51fe3-1e12-4a27-f14b-ea388dba9acf"
   },
   "outputs": [
    {
     "name": "stdout",
     "output_type": "stream",
     "text": [
      "Drive already mounted at /content/drive; to attempt to forcibly remount, call drive.mount(\"/content/drive\", force_remount=True).\n"
     ]
    }
   ],
   "source": [
    "# LOAD DATASETS\n",
    "from google.colab import drive\n",
    "drive.mount('/content/drive')\n",
    "\n",
    "root = \"/content/drive/My Drive/Colab Notebooks/models_mds/data/\"\n",
    "X_train = np.load(root + \"embedding_matrix_BERT_train.npy\")\n",
    "X_valid = np.load(root + \"embedding_matrix_BERT_valid.npy\")\n",
    "\n",
    "# retrieve targets\n",
    "y_train = np.load(root + \"y_train_thm.npy\") #\"y_train_sub.npy\")\n",
    "y_valid = np.load(root + \"y_valid_thm.npy\") #\"y_valid_sub.npy\")"
   ]
  },
  {
   "cell_type": "code",
   "execution_count": null,
   "metadata": {
    "colab": {
     "base_uri": "https://localhost:8080/",
     "height": 102
    },
    "colab_type": "code",
    "id": "EXClNKAUX2Bg",
    "outputId": "7225ff22-4dbf-4076-c971-fe85a0366483"
   },
   "outputs": [
    {
     "name": "stdout",
     "output_type": "stream",
     "text": [
      "X_train (10376, 1024) \n",
      "y_train (10376, 12) \n",
      "\n",
      "X_valid (2594, 1024) \n",
      "y_valid (2594, 12)\n"
     ]
    }
   ],
   "source": [
    "# SHAPES\n",
    "print(\"X_train\", X_train.shape,\n",
    "      \"\\ny_train\", y_train.shape,\n",
    "      \"\\n\\nX_valid\", X_valid.shape,\n",
    "      \"\\ny_valid\", y_valid.shape)"
   ]
  },
  {
   "cell_type": "code",
   "execution_count": null,
   "metadata": {
    "colab": {
     "base_uri": "https://localhost:8080/",
     "height": 102
    },
    "colab_type": "code",
    "id": "hMnnZqKeX9nI",
    "outputId": "2e1e0996-ed3b-485d-c7e9-548af886b287"
   },
   "outputs": [
    {
     "name": "stdout",
     "output_type": "stream",
     "text": [
      "X_train (10376, 1024, 1) \n",
      "y_train (10376, 12) \n",
      "\n",
      "X_valid (2594, 1024, 1) \n",
      "y_valid (2594, 12)\n"
     ]
    }
   ],
   "source": [
    "# RESHAPE\n",
    "X_train = X_train.reshape(X_train.shape[0], X_train.shape[1], 1)\n",
    "X_valid = X_valid.reshape(X_valid.shape[0], X_valid.shape[1], 1)\n",
    "\n",
    "# SHAPES AFTER RESHAPING\n",
    "print(\"X_train\", X_train.shape,\n",
    "      \"\\ny_train\", y_train.shape,\n",
    "      \"\\n\\nX_valid\", X_valid.shape,\n",
    "      \"\\ny_valid\", y_valid.shape)"
   ]
  },
  {
   "cell_type": "markdown",
   "metadata": {
    "colab_type": "text",
    "id": "_H4PxT-Hh8Df"
   },
   "source": [
    "## Dense model"
   ]
  },
  {
   "cell_type": "code",
   "execution_count": null,
   "metadata": {
    "colab": {},
    "colab_type": "code",
    "id": "YLjy3aHZiApK"
   },
   "outputs": [],
   "source": [
    "# MODEL\n",
    "\n",
    "max_features = X_train.shape[0] # comments\n",
    "batch_size = 128\n",
    "filters = 250\n",
    "kernel_size = 3\n",
    "hidden_dims = 250\n",
    "epochs = 50\n",
    "embed_size = 1024 # for BERT Large\n",
    "n_class = 12 # 12 for themes and 62 for sub-themes"
   ]
  },
  {
   "cell_type": "code",
   "execution_count": null,
   "metadata": {
    "colab": {
     "base_uri": "https://localhost:8080/",
     "height": 595
    },
    "colab_type": "code",
    "id": "qbqsnGYfia7X",
    "outputId": "99321a0c-0b72-4abf-9943-a8a579bb0b1e"
   },
   "outputs": [
    {
     "name": "stdout",
     "output_type": "stream",
     "text": [
      "Model: \"sequential_18\"\n",
      "_________________________________________________________________\n",
      "Layer (type)                 Output Shape              Param #   \n",
      "=================================================================\n",
      "dense_96 (Dense)             (None, 10376)             10635400  \n",
      "_________________________________________________________________\n",
      "dropout_26 (Dropout)         (None, 10376)             0         \n",
      "_________________________________________________________________\n",
      "dense_97 (Dense)             (None, 128)               1328256   \n",
      "_________________________________________________________________\n",
      "dropout_27 (Dropout)         (None, 128)               0         \n",
      "_________________________________________________________________\n",
      "dense_98 (Dense)             (None, 64)                8256      \n",
      "_________________________________________________________________\n",
      "dense_99 (Dense)             (None, 250)               16250     \n",
      "_________________________________________________________________\n",
      "dense_100 (Dense)            (None, 128)               32128     \n",
      "_________________________________________________________________\n",
      "dropout_28 (Dropout)         (None, 128)               0         \n",
      "_________________________________________________________________\n",
      "dense_101 (Dense)            (None, 64)                8256      \n",
      "_________________________________________________________________\n",
      "dense_102 (Dense)            (None, 250)               16250     \n",
      "_________________________________________________________________\n",
      "dropout_29 (Dropout)         (None, 250)               0         \n",
      "_________________________________________________________________\n",
      "dense_103 (Dense)            (None, 64)                16064     \n",
      "_________________________________________________________________\n",
      "dense_104 (Dense)            (None, 12)                780       \n",
      "=================================================================\n",
      "Total params: 12,061,640\n",
      "Trainable params: 12,061,640\n",
      "Non-trainable params: 0\n",
      "_________________________________________________________________\n"
     ]
    }
   ],
   "source": [
    "# model = Sequential()\n",
    "# model.add(Dense(max_features, input_shape=(embed_size,), activation = 'relu'))\n",
    "# model.add(Dropout(0.2))\n",
    "# model.add(Dense(128, activation='relu'))\n",
    "# model.add(Dense(64, activation='relu'))\n",
    "# model.add(Dense(128, activation='relu'))\n",
    "# model.add(Dense(n_class, activation='sigmoid'))\n",
    "\n",
    "# model.summary()\n",
    "\n",
    "model = Sequential()\n",
    "model.add(Dense(max_features, input_shape=(embed_size,), activation = 'relu'))\n",
    "model.add(Dropout(0.2))\n",
    "model.add(Dense(128, activation='relu'))\n",
    "# model.add(Dense(hidden_dims, activation = 'relu', \n",
    "#                 kernel_regularizer=tf.keras.regularizers.l1(0.01)))\n",
    "model.add(Dropout(0.3))\n",
    "model.add(Dense(64, activation='relu'))\n",
    "model.add(Dense(hidden_dims, activation = 'relu', \n",
    "                kernel_regularizer=tf.keras.regularizers.l2(0.001)))\n",
    "model.add(Dense(128, activation='relu'))\n",
    "model.add(Dropout(0.1))\n",
    "model.add(Dense(64, activation='relu'))\n",
    "model.add(Dense(hidden_dims, activation = 'relu', \n",
    "                kernel_regularizer=tf.keras.regularizers.l2(0.001)))\n",
    "model.add(Dropout(0.1))\n",
    "model.add(Dense(64, activation='relu'))\n",
    "model.add(Dense(n_class, activation='sigmoid'))\n",
    "\n",
    "model.summary()"
   ]
  },
  {
   "cell_type": "code",
   "execution_count": null,
   "metadata": {
    "colab": {
     "base_uri": "https://localhost:8080/",
     "height": 1000
    },
    "colab_type": "code",
    "id": "jdl78ms4iA4_",
    "outputId": "4aae0df8-9eb8-4681-ffbb-0274895ced7f"
   },
   "outputs": [
    {
     "name": "stdout",
     "output_type": "stream",
     "text": [
      "Epoch 1/50\n",
      "82/82 [==============================] - 1s 10ms/step - loss: 0.4728 - accuracy: 0.2410 - val_loss: 0.3564 - val_accuracy: 0.4002\n",
      "Epoch 2/50\n",
      "82/82 [==============================] - 1s 8ms/step - loss: 0.3349 - accuracy: 0.4176 - val_loss: 0.3007 - val_accuracy: 0.4776\n",
      "Epoch 3/50\n",
      "82/82 [==============================] - 1s 7ms/step - loss: 0.2915 - accuracy: 0.4843 - val_loss: 0.2681 - val_accuracy: 0.5189\n",
      "Epoch 4/50\n",
      "82/82 [==============================] - 1s 8ms/step - loss: 0.2684 - accuracy: 0.5151 - val_loss: 0.2532 - val_accuracy: 0.5571\n",
      "Epoch 5/50\n",
      "82/82 [==============================] - 1s 7ms/step - loss: 0.2548 - accuracy: 0.5350 - val_loss: 0.2409 - val_accuracy: 0.5686\n",
      "Epoch 6/50\n",
      "82/82 [==============================] - 1s 7ms/step - loss: 0.2432 - accuracy: 0.5561 - val_loss: 0.2310 - val_accuracy: 0.6006\n",
      "Epoch 7/50\n",
      "82/82 [==============================] - 1s 7ms/step - loss: 0.2318 - accuracy: 0.5740 - val_loss: 0.2255 - val_accuracy: 0.5821\n",
      "Epoch 8/50\n",
      "82/82 [==============================] - 1s 7ms/step - loss: 0.2238 - accuracy: 0.5876 - val_loss: 0.2235 - val_accuracy: 0.5975\n",
      "Epoch 9/50\n",
      "82/82 [==============================] - 1s 7ms/step - loss: 0.2188 - accuracy: 0.6001 - val_loss: 0.2219 - val_accuracy: 0.6018\n",
      "Epoch 10/50\n",
      "82/82 [==============================] - 1s 7ms/step - loss: 0.2135 - accuracy: 0.6074 - val_loss: 0.2180 - val_accuracy: 0.5817\n",
      "Epoch 11/50\n",
      "82/82 [==============================] - 1s 7ms/step - loss: 0.2094 - accuracy: 0.6127 - val_loss: 0.2189 - val_accuracy: 0.5875\n",
      "Epoch 12/50\n",
      "82/82 [==============================] - 1s 7ms/step - loss: 0.2063 - accuracy: 0.6166 - val_loss: 0.2139 - val_accuracy: 0.5998\n",
      "Epoch 13/50\n",
      "82/82 [==============================] - 1s 7ms/step - loss: 0.1985 - accuracy: 0.6347 - val_loss: 0.2140 - val_accuracy: 0.6087\n",
      "Epoch 14/50\n",
      "82/82 [==============================] - 1s 7ms/step - loss: 0.1974 - accuracy: 0.6325 - val_loss: 0.2126 - val_accuracy: 0.6103\n",
      "Epoch 15/50\n",
      "82/82 [==============================] - 1s 7ms/step - loss: 0.1941 - accuracy: 0.6394 - val_loss: 0.2165 - val_accuracy: 0.5906\n",
      "Epoch 16/50\n",
      "82/82 [==============================] - 1s 7ms/step - loss: 0.1905 - accuracy: 0.6473 - val_loss: 0.2122 - val_accuracy: 0.6133\n",
      "Epoch 17/50\n",
      "82/82 [==============================] - 1s 7ms/step - loss: 0.1864 - accuracy: 0.6566 - val_loss: 0.2101 - val_accuracy: 0.6218\n",
      "Epoch 18/50\n",
      "82/82 [==============================] - 1s 7ms/step - loss: 0.1824 - accuracy: 0.6634 - val_loss: 0.2166 - val_accuracy: 0.5968\n",
      "Epoch 19/50\n",
      "82/82 [==============================] - 1s 7ms/step - loss: 0.1780 - accuracy: 0.6694 - val_loss: 0.2147 - val_accuracy: 0.6072\n",
      "Epoch 20/50\n",
      "82/82 [==============================] - 1s 7ms/step - loss: 0.1750 - accuracy: 0.6753 - val_loss: 0.2139 - val_accuracy: 0.6199\n",
      "Epoch 21/50\n",
      "82/82 [==============================] - 1s 7ms/step - loss: 0.1733 - accuracy: 0.6837 - val_loss: 0.2234 - val_accuracy: 0.5879\n",
      "Epoch 22/50\n",
      "82/82 [==============================] - 1s 7ms/step - loss: 0.1734 - accuracy: 0.6859 - val_loss: 0.2261 - val_accuracy: 0.5906\n",
      "Epoch 23/50\n",
      "82/82 [==============================] - 1s 7ms/step - loss: 0.1781 - accuracy: 0.6750 - val_loss: 0.2180 - val_accuracy: 0.5871\n",
      "Epoch 24/50\n",
      "82/82 [==============================] - 1s 7ms/step - loss: 0.1652 - accuracy: 0.6974 - val_loss: 0.2241 - val_accuracy: 0.6002\n",
      "Epoch 25/50\n",
      "82/82 [==============================] - 1s 7ms/step - loss: 0.1631 - accuracy: 0.6957 - val_loss: 0.2307 - val_accuracy: 0.5941\n",
      "Epoch 26/50\n",
      "82/82 [==============================] - 1s 7ms/step - loss: 0.1622 - accuracy: 0.7046 - val_loss: 0.2254 - val_accuracy: 0.6010\n",
      "Epoch 27/50\n",
      "82/82 [==============================] - 1s 7ms/step - loss: 0.1550 - accuracy: 0.7157 - val_loss: 0.2264 - val_accuracy: 0.6176\n",
      "Epoch 28/50\n",
      "82/82 [==============================] - 1s 7ms/step - loss: 0.1543 - accuracy: 0.7153 - val_loss: 0.2239 - val_accuracy: 0.6210\n",
      "Epoch 29/50\n",
      "82/82 [==============================] - 1s 7ms/step - loss: 0.1489 - accuracy: 0.7262 - val_loss: 0.2368 - val_accuracy: 0.6049\n",
      "Epoch 30/50\n",
      "82/82 [==============================] - 1s 7ms/step - loss: 0.1475 - accuracy: 0.7279 - val_loss: 0.2257 - val_accuracy: 0.6257\n",
      "Epoch 31/50\n",
      "82/82 [==============================] - 1s 7ms/step - loss: 0.1449 - accuracy: 0.7354 - val_loss: 0.2353 - val_accuracy: 0.6191\n",
      "Epoch 32/50\n",
      "82/82 [==============================] - 1s 7ms/step - loss: 0.1495 - accuracy: 0.7312 - val_loss: 0.2349 - val_accuracy: 0.6025\n",
      "Epoch 33/50\n",
      "82/82 [==============================] - 1s 7ms/step - loss: 0.1403 - accuracy: 0.7463 - val_loss: 0.2397 - val_accuracy: 0.6180\n",
      "Epoch 34/50\n",
      "82/82 [==============================] - 1s 7ms/step - loss: 0.1395 - accuracy: 0.7424 - val_loss: 0.2406 - val_accuracy: 0.6145\n",
      "Epoch 35/50\n",
      "82/82 [==============================] - 1s 7ms/step - loss: 0.1353 - accuracy: 0.7491 - val_loss: 0.2426 - val_accuracy: 0.6168\n",
      "Epoch 36/50\n",
      "82/82 [==============================] - 1s 7ms/step - loss: 0.1391 - accuracy: 0.7431 - val_loss: 0.2453 - val_accuracy: 0.6072\n",
      "Epoch 37/50\n",
      "82/82 [==============================] - 1s 7ms/step - loss: 0.1307 - accuracy: 0.7582 - val_loss: 0.2425 - val_accuracy: 0.6226\n",
      "Epoch 38/50\n",
      "82/82 [==============================] - 1s 7ms/step - loss: 0.1304 - accuracy: 0.7594 - val_loss: 0.2428 - val_accuracy: 0.6091\n",
      "Epoch 39/50\n",
      "82/82 [==============================] - 1s 7ms/step - loss: 0.1300 - accuracy: 0.7608 - val_loss: 0.2457 - val_accuracy: 0.6180\n",
      "Epoch 40/50\n",
      "82/82 [==============================] - 1s 7ms/step - loss: 0.1233 - accuracy: 0.7690 - val_loss: 0.2510 - val_accuracy: 0.6191\n",
      "Epoch 41/50\n",
      "82/82 [==============================] - 1s 7ms/step - loss: 0.1219 - accuracy: 0.7720 - val_loss: 0.2571 - val_accuracy: 0.6056\n",
      "Epoch 42/50\n",
      "82/82 [==============================] - 1s 7ms/step - loss: 0.1253 - accuracy: 0.7647 - val_loss: 0.2597 - val_accuracy: 0.6041\n",
      "Epoch 43/50\n",
      "82/82 [==============================] - 1s 7ms/step - loss: 0.1232 - accuracy: 0.7728 - val_loss: 0.2665 - val_accuracy: 0.6072\n",
      "Epoch 44/50\n",
      "82/82 [==============================] - 1s 7ms/step - loss: 0.1210 - accuracy: 0.7770 - val_loss: 0.2539 - val_accuracy: 0.6049\n",
      "Epoch 45/50\n",
      "82/82 [==============================] - 1s 7ms/step - loss: 0.1163 - accuracy: 0.7782 - val_loss: 0.2643 - val_accuracy: 0.6218\n",
      "Epoch 46/50\n",
      "82/82 [==============================] - 1s 7ms/step - loss: 0.1206 - accuracy: 0.7729 - val_loss: 0.2575 - val_accuracy: 0.6068\n",
      "Epoch 47/50\n",
      "82/82 [==============================] - 1s 7ms/step - loss: 0.1115 - accuracy: 0.7820 - val_loss: 0.2664 - val_accuracy: 0.6045\n",
      "Epoch 48/50\n",
      "82/82 [==============================] - 1s 7ms/step - loss: 0.1111 - accuracy: 0.7848 - val_loss: 0.2630 - val_accuracy: 0.6006\n",
      "Epoch 49/50\n",
      "82/82 [==============================] - 1s 7ms/step - loss: 0.1109 - accuracy: 0.7872 - val_loss: 0.2770 - val_accuracy: 0.6037\n",
      "Epoch 50/50\n",
      "82/82 [==============================] - 1s 7ms/step - loss: 0.1132 - accuracy: 0.7851 - val_loss: 0.2755 - val_accuracy: 0.6083\n"
     ]
    }
   ],
   "source": [
    "model.compile(loss='binary_crossentropy', optimizer='adam',\n",
    "              metrics=['accuracy'])\n",
    "\n",
    "# Train Model\n",
    "history = model.fit(X_train, y_train, batch_size=batch_size, epochs=epochs,\n",
    "                    validation_data=(X_valid, y_valid))"
   ]
  },
  {
   "cell_type": "code",
   "execution_count": null,
   "metadata": {
    "colab": {
     "base_uri": "https://localhost:8080/",
     "height": 385
    },
    "colab_type": "code",
    "id": "Ln1eV42QiBHB",
    "outputId": "d869792f-5ea9-4f85-be94-f776659cf788"
   },
   "outputs": [
    {
     "data": {
      "text/html": [
       "\n",
       "<div id=\"altair-viz-57a6eed59a4a45299f06d5c40bf9f7ac\"></div>\n",
       "<script type=\"text/javascript\">\n",
       "  (function(spec, embedOpt){\n",
       "    let outputDiv = document.currentScript.previousElementSibling;\n",
       "    if (outputDiv.id !== \"altair-viz-57a6eed59a4a45299f06d5c40bf9f7ac\") {\n",
       "      outputDiv = document.getElementById(\"altair-viz-57a6eed59a4a45299f06d5c40bf9f7ac\");\n",
       "    }\n",
       "    const paths = {\n",
       "      \"vega\": \"https://cdn.jsdelivr.net/npm//vega@5?noext\",\n",
       "      \"vega-lib\": \"https://cdn.jsdelivr.net/npm//vega-lib?noext\",\n",
       "      \"vega-lite\": \"https://cdn.jsdelivr.net/npm//vega-lite@4.8.1?noext\",\n",
       "      \"vega-embed\": \"https://cdn.jsdelivr.net/npm//vega-embed@6?noext\",\n",
       "    };\n",
       "\n",
       "    function loadScript(lib) {\n",
       "      return new Promise(function(resolve, reject) {\n",
       "        var s = document.createElement('script');\n",
       "        s.src = paths[lib];\n",
       "        s.async = true;\n",
       "        s.onload = () => resolve(paths[lib]);\n",
       "        s.onerror = () => reject(`Error loading script: ${paths[lib]}`);\n",
       "        document.getElementsByTagName(\"head\")[0].appendChild(s);\n",
       "      });\n",
       "    }\n",
       "\n",
       "    function showError(err) {\n",
       "      outputDiv.innerHTML = `<div class=\"error\" style=\"color:red;\">${err}</div>`;\n",
       "      throw err;\n",
       "    }\n",
       "\n",
       "    function displayChart(vegaEmbed) {\n",
       "      vegaEmbed(outputDiv, spec, embedOpt)\n",
       "        .catch(err => showError(`Javascript Error: ${err.message}<br>This usually means there's a typo in your chart specification. See the javascript console for the full traceback.`));\n",
       "    }\n",
       "\n",
       "    if(typeof define === \"function\" && define.amd) {\n",
       "      requirejs.config({paths});\n",
       "      require([\"vega-embed\"], displayChart, err => showError(`Error loading script: ${err.message}`));\n",
       "    } else if (typeof vegaEmbed === \"function\") {\n",
       "      displayChart(vegaEmbed);\n",
       "    } else {\n",
       "      loadScript(\"vega\")\n",
       "        .then(() => loadScript(\"vega-lite\"))\n",
       "        .then(() => loadScript(\"vega-embed\"))\n",
       "        .catch(showError)\n",
       "        .then(() => displayChart(vegaEmbed));\n",
       "    }\n",
       "  })({\"config\": {\"view\": {\"continuousWidth\": 400, \"continuousHeight\": 300}}, \"data\": {\"name\": \"data-4322d288351ba913a3c28a19254f8690\"}, \"mark\": \"line\", \"encoding\": {\"color\": {\"type\": \"nominal\", \"field\": \"metric\"}, \"x\": {\"type\": \"quantitative\", \"field\": \"epoch\"}, \"y\": {\"type\": \"quantitative\", \"field\": \"value\"}}, \"title\": \"Loss and Accuracy\", \"$schema\": \"https://vega.github.io/schema/vega-lite/v4.8.1.json\", \"datasets\": {\"data-4322d288351ba913a3c28a19254f8690\": [{\"epoch\": 0, \"metric\": \"train_loss\", \"value\": 0.47278091311454773}, {\"epoch\": 0, \"metric\": \"train_accuracy\", \"value\": 0.2410370111465454}, {\"epoch\": 0, \"metric\": \"valid_loss\", \"value\": 0.3563711643218994}, {\"epoch\": 0, \"metric\": \"valid_accuracy\", \"value\": 0.4001542031764984}, {\"epoch\": 1, \"metric\": \"train_loss\", \"value\": 0.33487167954444885}, {\"epoch\": 1, \"metric\": \"train_accuracy\", \"value\": 0.41759830713272095}, {\"epoch\": 1, \"metric\": \"valid_loss\", \"value\": 0.3006705939769745}, {\"epoch\": 1, \"metric\": \"valid_accuracy\", \"value\": 0.47764071822166443}, {\"epoch\": 2, \"metric\": \"train_loss\", \"value\": 0.29150232672691345}, {\"epoch\": 2, \"metric\": \"train_accuracy\", \"value\": 0.4842906594276428}, {\"epoch\": 2, \"metric\": \"valid_loss\", \"value\": 0.26805737614631653}, {\"epoch\": 2, \"metric\": \"valid_accuracy\", \"value\": 0.5188897252082825}, {\"epoch\": 3, \"metric\": \"train_loss\", \"value\": 0.2683819532394409}, {\"epoch\": 3, \"metric\": \"train_accuracy\", \"value\": 0.5151310563087463}, {\"epoch\": 3, \"metric\": \"valid_loss\", \"value\": 0.2531646192073822}, {\"epoch\": 3, \"metric\": \"valid_accuracy\", \"value\": 0.5570547580718994}, {\"epoch\": 4, \"metric\": \"train_loss\", \"value\": 0.25484371185302734}, {\"epoch\": 4, \"metric\": \"train_accuracy\", \"value\": 0.5349845886230469}, {\"epoch\": 4, \"metric\": \"valid_loss\", \"value\": 0.24087467789649963}, {\"epoch\": 4, \"metric\": \"valid_accuracy\", \"value\": 0.5686199069023132}, {\"epoch\": 5, \"metric\": \"train_loss\", \"value\": 0.24321481585502625}, {\"epoch\": 5, \"metric\": \"train_accuracy\", \"value\": 0.5560909509658813}, {\"epoch\": 5, \"metric\": \"valid_loss\", \"value\": 0.23104387521743774}, {\"epoch\": 5, \"metric\": \"valid_accuracy\", \"value\": 0.6006168127059937}, {\"epoch\": 6, \"metric\": \"train_loss\", \"value\": 0.2317705750465393}, {\"epoch\": 6, \"metric\": \"train_accuracy\", \"value\": 0.5740169882774353}, {\"epoch\": 6, \"metric\": \"valid_loss\", \"value\": 0.22546695172786713}, {\"epoch\": 6, \"metric\": \"valid_accuracy\", \"value\": 0.5821125507354736}, {\"epoch\": 7, \"metric\": \"train_loss\", \"value\": 0.22378744184970856}, {\"epoch\": 7, \"metric\": \"train_accuracy\", \"value\": 0.5876060128211975}, {\"epoch\": 7, \"metric\": \"valid_loss\", \"value\": 0.22350554168224335}, {\"epoch\": 7, \"metric\": \"valid_accuracy\", \"value\": 0.5975327491760254}, {\"epoch\": 8, \"metric\": \"train_loss\", \"value\": 0.21877126395702362}, {\"epoch\": 8, \"metric\": \"train_accuracy\", \"value\": 0.6001349091529846}, {\"epoch\": 8, \"metric\": \"valid_loss\", \"value\": 0.22193850576877594}, {\"epoch\": 8, \"metric\": \"valid_accuracy\", \"value\": 0.6017733216285706}, {\"epoch\": 9, \"metric\": \"train_loss\", \"value\": 0.21345657110214233}, {\"epoch\": 9, \"metric\": \"train_accuracy\", \"value\": 0.6073631644248962}, {\"epoch\": 9, \"metric\": \"valid_loss\", \"value\": 0.21802903711795807}, {\"epoch\": 9, \"metric\": \"valid_accuracy\", \"value\": 0.5817270874977112}, {\"epoch\": 10, \"metric\": \"train_loss\", \"value\": 0.20940203964710236}, {\"epoch\": 10, \"metric\": \"train_accuracy\", \"value\": 0.6126638650894165}, {\"epoch\": 10, \"metric\": \"valid_loss\", \"value\": 0.21888791024684906}, {\"epoch\": 10, \"metric\": \"valid_accuracy\", \"value\": 0.5875096321105957}, {\"epoch\": 11, \"metric\": \"train_loss\", \"value\": 0.206349715590477}, {\"epoch\": 11, \"metric\": \"train_accuracy\", \"value\": 0.6166152954101562}, {\"epoch\": 11, \"metric\": \"valid_loss\", \"value\": 0.21391765773296356}, {\"epoch\": 11, \"metric\": \"valid_accuracy\", \"value\": 0.599845826625824}, {\"epoch\": 12, \"metric\": \"train_loss\", \"value\": 0.19851131737232208}, {\"epoch\": 12, \"metric\": \"train_accuracy\", \"value\": 0.6347339749336243}, {\"epoch\": 12, \"metric\": \"valid_loss\", \"value\": 0.21396704018115997}, {\"epoch\": 12, \"metric\": \"valid_accuracy\", \"value\": 0.6087124347686768}, {\"epoch\": 13, \"metric\": \"train_loss\", \"value\": 0.19735950231552124}, {\"epoch\": 13, \"metric\": \"train_accuracy\", \"value\": 0.6325173377990723}, {\"epoch\": 13, \"metric\": \"valid_loss\", \"value\": 0.21261093020439148}, {\"epoch\": 13, \"metric\": \"valid_accuracy\", \"value\": 0.6102544069290161}, {\"epoch\": 14, \"metric\": \"train_loss\", \"value\": 0.1941099315881729}, {\"epoch\": 14, \"metric\": \"train_accuracy\", \"value\": 0.6393600702285767}, {\"epoch\": 14, \"metric\": \"valid_loss\", \"value\": 0.21649909019470215}, {\"epoch\": 14, \"metric\": \"valid_accuracy\", \"value\": 0.590593695640564}, {\"epoch\": 15, \"metric\": \"train_loss\", \"value\": 0.19053535163402557}, {\"epoch\": 15, \"metric\": \"train_accuracy\", \"value\": 0.6472629308700562}, {\"epoch\": 15, \"metric\": \"valid_loss\", \"value\": 0.21222813427448273}, {\"epoch\": 15, \"metric\": \"valid_accuracy\", \"value\": 0.6133384704589844}, {\"epoch\": 16, \"metric\": \"train_loss\", \"value\": 0.18638727068901062}, {\"epoch\": 16, \"metric\": \"train_accuracy\", \"value\": 0.6566113829612732}, {\"epoch\": 16, \"metric\": \"valid_loss\", \"value\": 0.21012794971466064}, {\"epoch\": 16, \"metric\": \"valid_accuracy\", \"value\": 0.6218195557594299}, {\"epoch\": 17, \"metric\": \"train_loss\", \"value\": 0.18238455057144165}, {\"epoch\": 17, \"metric\": \"train_accuracy\", \"value\": 0.6633577346801758}, {\"epoch\": 17, \"metric\": \"valid_loss\", \"value\": 0.21655353903770447}, {\"epoch\": 17, \"metric\": \"valid_accuracy\", \"value\": 0.5967617630958557}, {\"epoch\": 18, \"metric\": \"train_loss\", \"value\": 0.17802344262599945}, {\"epoch\": 18, \"metric\": \"train_accuracy\", \"value\": 0.6694294810295105}, {\"epoch\": 18, \"metric\": \"valid_loss\", \"value\": 0.21466553211212158}, {\"epoch\": 18, \"metric\": \"valid_accuracy\", \"value\": 0.6071704030036926}, {\"epoch\": 19, \"metric\": \"train_loss\", \"value\": 0.1750015765428543}, {\"epoch\": 19, \"metric\": \"train_accuracy\", \"value\": 0.6753084063529968}, {\"epoch\": 19, \"metric\": \"valid_loss\", \"value\": 0.21394577622413635}, {\"epoch\": 19, \"metric\": \"valid_accuracy\", \"value\": 0.6198920607566833}, {\"epoch\": 20, \"metric\": \"train_loss\", \"value\": 0.17328400909900665}, {\"epoch\": 20, \"metric\": \"train_accuracy\", \"value\": 0.6836931109428406}, {\"epoch\": 20, \"metric\": \"valid_loss\", \"value\": 0.22335970401763916}, {\"epoch\": 20, \"metric\": \"valid_accuracy\", \"value\": 0.5878951549530029}, {\"epoch\": 21, \"metric\": \"train_loss\", \"value\": 0.17339971661567688}, {\"epoch\": 21, \"metric\": \"train_accuracy\", \"value\": 0.6859098076820374}, {\"epoch\": 21, \"metric\": \"valid_loss\", \"value\": 0.22612600028514862}, {\"epoch\": 21, \"metric\": \"valid_accuracy\", \"value\": 0.590593695640564}, {\"epoch\": 22, \"metric\": \"train_loss\", \"value\": 0.178078293800354}, {\"epoch\": 22, \"metric\": \"train_accuracy\", \"value\": 0.6750192642211914}, {\"epoch\": 22, \"metric\": \"valid_loss\", \"value\": 0.2180434614419937}, {\"epoch\": 22, \"metric\": \"valid_accuracy\", \"value\": 0.5871241092681885}, {\"epoch\": 23, \"metric\": \"train_loss\", \"value\": 0.16523970663547516}, {\"epoch\": 23, \"metric\": \"train_accuracy\", \"value\": 0.6973785758018494}, {\"epoch\": 23, \"metric\": \"valid_loss\", \"value\": 0.22410739958286285}, {\"epoch\": 23, \"metric\": \"valid_accuracy\", \"value\": 0.6002312898635864}, {\"epoch\": 24, \"metric\": \"train_loss\", \"value\": 0.16308750212192535}, {\"epoch\": 24, \"metric\": \"train_accuracy\", \"value\": 0.6957401633262634}, {\"epoch\": 24, \"metric\": \"valid_loss\", \"value\": 0.23074409365653992}, {\"epoch\": 24, \"metric\": \"valid_accuracy\", \"value\": 0.5940632224082947}, {\"epoch\": 25, \"metric\": \"train_loss\", \"value\": 0.1621721237897873}, {\"epoch\": 25, \"metric\": \"train_accuracy\", \"value\": 0.7046067714691162}, {\"epoch\": 25, \"metric\": \"valid_loss\", \"value\": 0.22535686194896698}, {\"epoch\": 25, \"metric\": \"valid_accuracy\", \"value\": 0.6010023355484009}, {\"epoch\": 26, \"metric\": \"train_loss\", \"value\": 0.15503568947315216}, {\"epoch\": 26, \"metric\": \"train_accuracy\", \"value\": 0.7156900763511658}, {\"epoch\": 26, \"metric\": \"valid_loss\", \"value\": 0.22638289630413055}, {\"epoch\": 26, \"metric\": \"valid_accuracy\", \"value\": 0.6175790429115295}, {\"epoch\": 27, \"metric\": \"train_loss\", \"value\": 0.15429548919200897}, {\"epoch\": 27, \"metric\": \"train_accuracy\", \"value\": 0.7153045535087585}, {\"epoch\": 27, \"metric\": \"valid_loss\", \"value\": 0.2238769233226776}, {\"epoch\": 27, \"metric\": \"valid_accuracy\", \"value\": 0.6210485696792603}, {\"epoch\": 28, \"metric\": \"train_loss\", \"value\": 0.1489490568637848}, {\"epoch\": 28, \"metric\": \"train_accuracy\", \"value\": 0.7261950373649597}, {\"epoch\": 28, \"metric\": \"valid_loss\", \"value\": 0.2368386834859848}, {\"epoch\": 28, \"metric\": \"valid_accuracy\", \"value\": 0.6048573851585388}, {\"epoch\": 29, \"metric\": \"train_loss\", \"value\": 0.14746476709842682}, {\"epoch\": 29, \"metric\": \"train_accuracy\", \"value\": 0.7279298305511475}, {\"epoch\": 29, \"metric\": \"valid_loss\", \"value\": 0.2256930023431778}, {\"epoch\": 29, \"metric\": \"valid_accuracy\", \"value\": 0.6256746053695679}, {\"epoch\": 30, \"metric\": \"train_loss\", \"value\": 0.14494895935058594}, {\"epoch\": 30, \"metric\": \"train_accuracy\", \"value\": 0.7354471683502197}, {\"epoch\": 30, \"metric\": \"valid_loss\", \"value\": 0.2352999448776245}, {\"epoch\": 30, \"metric\": \"valid_accuracy\", \"value\": 0.6191210746765137}, {\"epoch\": 31, \"metric\": \"train_loss\", \"value\": 0.14948967099189758}, {\"epoch\": 31, \"metric\": \"train_accuracy\", \"value\": 0.7312066555023193}, {\"epoch\": 31, \"metric\": \"valid_loss\", \"value\": 0.23491619527339935}, {\"epoch\": 31, \"metric\": \"valid_accuracy\", \"value\": 0.6025443077087402}, {\"epoch\": 32, \"metric\": \"train_loss\", \"value\": 0.1402619481086731}, {\"epoch\": 32, \"metric\": \"train_accuracy\", \"value\": 0.7463377118110657}, {\"epoch\": 32, \"metric\": \"valid_loss\", \"value\": 0.239706888794899}, {\"epoch\": 32, \"metric\": \"valid_accuracy\", \"value\": 0.617964506149292}, {\"epoch\": 33, \"metric\": \"train_loss\", \"value\": 0.13946978747844696}, {\"epoch\": 33, \"metric\": \"train_accuracy\", \"value\": 0.7423862814903259}, {\"epoch\": 33, \"metric\": \"valid_loss\", \"value\": 0.24057649075984955}, {\"epoch\": 33, \"metric\": \"valid_accuracy\", \"value\": 0.6144949793815613}, {\"epoch\": 34, \"metric\": \"train_loss\", \"value\": 0.13531847298145294}, {\"epoch\": 34, \"metric\": \"train_accuracy\", \"value\": 0.7491326332092285}, {\"epoch\": 34, \"metric\": \"valid_loss\", \"value\": 0.24263392388820648}, {\"epoch\": 34, \"metric\": \"valid_accuracy\", \"value\": 0.6168079972267151}, {\"epoch\": 35, \"metric\": \"train_loss\", \"value\": 0.13909898698329926}, {\"epoch\": 35, \"metric\": \"train_accuracy\", \"value\": 0.7430608868598938}, {\"epoch\": 35, \"metric\": \"valid_loss\", \"value\": 0.2452772855758667}, {\"epoch\": 35, \"metric\": \"valid_accuracy\", \"value\": 0.6071704030036926}, {\"epoch\": 36, \"metric\": \"train_loss\", \"value\": 0.13071933388710022}, {\"epoch\": 36, \"metric\": \"train_accuracy\", \"value\": 0.7581920027732849}, {\"epoch\": 36, \"metric\": \"valid_loss\", \"value\": 0.24253720045089722}, {\"epoch\": 36, \"metric\": \"valid_accuracy\", \"value\": 0.6225906014442444}, {\"epoch\": 37, \"metric\": \"train_loss\", \"value\": 0.130422443151474}, {\"epoch\": 37, \"metric\": \"train_accuracy\", \"value\": 0.7594448924064636}, {\"epoch\": 37, \"metric\": \"valid_loss\", \"value\": 0.2427576184272766}, {\"epoch\": 37, \"metric\": \"valid_accuracy\", \"value\": 0.6090978980064392}, {\"epoch\": 38, \"metric\": \"train_loss\", \"value\": 0.13001982867717743}, {\"epoch\": 38, \"metric\": \"train_accuracy\", \"value\": 0.7607941627502441}, {\"epoch\": 38, \"metric\": \"valid_loss\", \"value\": 0.24572664499282837}, {\"epoch\": 38, \"metric\": \"valid_accuracy\", \"value\": 0.617964506149292}, {\"epoch\": 39, \"metric\": \"train_loss\", \"value\": 0.12334837764501572}, {\"epoch\": 39, \"metric\": \"train_accuracy\", \"value\": 0.7689861059188843}, {\"epoch\": 39, \"metric\": \"valid_loss\", \"value\": 0.2509711682796478}, {\"epoch\": 39, \"metric\": \"valid_accuracy\", \"value\": 0.6191210746765137}, {\"epoch\": 40, \"metric\": \"train_loss\", \"value\": 0.12192479521036148}, {\"epoch\": 40, \"metric\": \"train_accuracy\", \"value\": 0.7719737887382507}, {\"epoch\": 40, \"metric\": \"valid_loss\", \"value\": 0.2571171522140503}, {\"epoch\": 40, \"metric\": \"valid_accuracy\", \"value\": 0.6056283712387085}, {\"epoch\": 41, \"metric\": \"train_loss\", \"value\": 0.12534117698669434}, {\"epoch\": 41, \"metric\": \"train_accuracy\", \"value\": 0.7647455930709839}, {\"epoch\": 41, \"metric\": \"valid_loss\", \"value\": 0.2596919536590576}, {\"epoch\": 41, \"metric\": \"valid_accuracy\", \"value\": 0.6040863394737244}, {\"epoch\": 42, \"metric\": \"train_loss\", \"value\": 0.12316032499074936}, {\"epoch\": 42, \"metric\": \"train_accuracy\", \"value\": 0.7728411555290222}, {\"epoch\": 42, \"metric\": \"valid_loss\", \"value\": 0.26646268367767334}, {\"epoch\": 42, \"metric\": \"valid_accuracy\", \"value\": 0.6071704030036926}, {\"epoch\": 43, \"metric\": \"train_loss\", \"value\": 0.12097496539354324}, {\"epoch\": 43, \"metric\": \"train_accuracy\", \"value\": 0.7769853472709656}, {\"epoch\": 43, \"metric\": \"valid_loss\", \"value\": 0.25390028953552246}, {\"epoch\": 43, \"metric\": \"valid_accuracy\", \"value\": 0.6048573851585388}, {\"epoch\": 44, \"metric\": \"train_loss\", \"value\": 0.11631809920072556}, {\"epoch\": 44, \"metric\": \"train_accuracy\", \"value\": 0.7782382369041443}, {\"epoch\": 44, \"metric\": \"valid_loss\", \"value\": 0.26432308554649353}, {\"epoch\": 44, \"metric\": \"valid_accuracy\", \"value\": 0.6218195557594299}, {\"epoch\": 45, \"metric\": \"train_loss\", \"value\": 0.1205582544207573}, {\"epoch\": 45, \"metric\": \"train_accuracy\", \"value\": 0.772937536239624}, {\"epoch\": 45, \"metric\": \"valid_loss\", \"value\": 0.2575167417526245}, {\"epoch\": 45, \"metric\": \"valid_accuracy\", \"value\": 0.6067848801612854}, {\"epoch\": 46, \"metric\": \"train_loss\", \"value\": 0.11152102798223495}, {\"epoch\": 46, \"metric\": \"train_accuracy\", \"value\": 0.7819969058036804}, {\"epoch\": 46, \"metric\": \"valid_loss\", \"value\": 0.2663733959197998}, {\"epoch\": 46, \"metric\": \"valid_accuracy\", \"value\": 0.6044718623161316}, {\"epoch\": 47, \"metric\": \"train_loss\", \"value\": 0.1110883504152298}, {\"epoch\": 47, \"metric\": \"train_accuracy\", \"value\": 0.7847918272018433}, {\"epoch\": 47, \"metric\": \"valid_loss\", \"value\": 0.2629620134830475}, {\"epoch\": 47, \"metric\": \"valid_accuracy\", \"value\": 0.6006168127059937}, {\"epoch\": 48, \"metric\": \"train_loss\", \"value\": 0.11092814058065414}, {\"epoch\": 48, \"metric\": \"train_accuracy\", \"value\": 0.7872012257575989}, {\"epoch\": 48, \"metric\": \"valid_loss\", \"value\": 0.2769554555416107}, {\"epoch\": 48, \"metric\": \"valid_accuracy\", \"value\": 0.6037008762359619}, {\"epoch\": 49, \"metric\": \"train_loss\", \"value\": 0.11324130743741989}, {\"epoch\": 49, \"metric\": \"train_accuracy\", \"value\": 0.7850809693336487}, {\"epoch\": 49, \"metric\": \"valid_loss\", \"value\": 0.2755376696586609}, {\"epoch\": 49, \"metric\": \"valid_accuracy\", \"value\": 0.6083269119262695}]}}, {\"mode\": \"vega-lite\"});\n",
       "</script>"
      ],
      "text/plain": [
       "alt.Chart(...)"
      ]
     },
     "execution_count": 49,
     "metadata": {
      "tags": []
     },
     "output_type": "execute_result"
    }
   ],
   "source": [
    "plot_metrics(history)"
   ]
  },
  {
   "cell_type": "code",
   "execution_count": null,
   "metadata": {
    "colab": {
     "base_uri": "https://localhost:8080/",
     "height": 71
    },
    "colab_type": "code",
    "id": "vL1bWVyhiBUb",
    "outputId": "7abfd467-4500-4349-a8c9-2a0cac2867ac"
   },
   "outputs": [
    {
     "name": "stdout",
     "output_type": "stream",
     "text": [
      "82/82 [==============================] - 0s 3ms/step - loss: 0.2755 - accuracy: 0.6083\n"
     ]
    },
    {
     "data": {
      "text/plain": [
       "[0.2755376696586609, 0.6083269119262695]"
      ]
     },
     "execution_count": 50,
     "metadata": {
      "tags": []
     },
     "output_type": "execute_result"
    }
   ],
   "source": [
    "score = model.evaluate(X_valid, y_valid)\n",
    "score"
   ]
  },
  {
   "cell_type": "code",
   "execution_count": null,
   "metadata": {
    "colab": {
     "base_uri": "https://localhost:8080/",
     "height": 255
    },
    "colab_type": "code",
    "id": "LT5p0x1-ivsb",
    "outputId": "2fe2b7b7-1f79-4999-c222-cdef1f0d7f82"
   },
   "outputs": [
    {
     "name": "stdout",
     "output_type": "stream",
     "text": [
      "21/21 [==============================] - 0s 2ms/step\n"
     ]
    },
    {
     "data": {
      "text/plain": [
       "array([[1.63318347e-07, 5.96215244e-10, 1.00545625e-08, ...,\n",
       "        6.97441055e-06, 9.99782622e-01, 1.57422910e-05],\n",
       "       [1.53109049e-02, 1.37575649e-08, 1.22498311e-01, ...,\n",
       "        1.96328383e-05, 5.21600668e-05, 9.04885121e-04],\n",
       "       [3.64776952e-07, 9.23696016e-12, 1.88340800e-05, ...,\n",
       "        9.99766886e-01, 1.58461611e-04, 4.04832140e-02],\n",
       "       ...,\n",
       "       [6.39006495e-03, 8.31575040e-03, 1.29553606e-03, ...,\n",
       "        9.42052994e-03, 2.92370562e-03, 7.66272703e-03],\n",
       "       [3.28869522e-02, 9.99804556e-01, 3.80805624e-03, ...,\n",
       "        4.30172251e-04, 2.74885306e-03, 2.77867205e-02],\n",
       "       [6.55099211e-05, 8.22515034e-08, 1.26015383e-03, ...,\n",
       "        1.13762647e-01, 2.90754903e-03, 2.34790128e-02]], dtype=float32)"
      ]
     },
     "execution_count": 51,
     "metadata": {
      "tags": []
     },
     "output_type": "execute_result"
    }
   ],
   "source": [
    "# PREDICTIONS\n",
    "predictions = model.predict(X_valid, batch_size=batch_size, verbose=1)\n",
    "predictions"
   ]
  },
  {
   "cell_type": "code",
   "execution_count": null,
   "metadata": {
    "colab": {
     "base_uri": "https://localhost:8080/",
     "height": 207
    },
    "colab_type": "code",
    "id": "ydGwEWc8iv8l",
    "outputId": "d3f93674-3ab4-40a8-df57-3ed84bbbdbae"
   },
   "outputs": [
    {
     "name": "stdout",
     "output_type": "stream",
     "text": [
      "\n",
      "Micro-average quality numbers:\n"
     ]
    },
    {
     "data": {
      "text/html": [
       "<div>\n",
       "<style scoped>\n",
       "    .dataframe tbody tr th:only-of-type {\n",
       "        vertical-align: middle;\n",
       "    }\n",
       "\n",
       "    .dataframe tbody tr th {\n",
       "        vertical-align: top;\n",
       "    }\n",
       "\n",
       "    .dataframe thead th {\n",
       "        text-align: right;\n",
       "    }\n",
       "</style>\n",
       "<table border=\"1\" class=\"dataframe\">\n",
       "  <thead>\n",
       "    <tr style=\"text-align: right;\">\n",
       "      <th></th>\n",
       "      <th>Threshold</th>\n",
       "      <th>Precision</th>\n",
       "      <th>Recall</th>\n",
       "      <th>F1-measure</th>\n",
       "    </tr>\n",
       "  </thead>\n",
       "  <tbody>\n",
       "    <tr>\n",
       "      <th>0</th>\n",
       "      <td>0.6</td>\n",
       "      <td>0.737074</td>\n",
       "      <td>0.555556</td>\n",
       "      <td>0.633570</td>\n",
       "    </tr>\n",
       "    <tr>\n",
       "      <th>1</th>\n",
       "      <td>0.7</td>\n",
       "      <td>0.762540</td>\n",
       "      <td>0.521006</td>\n",
       "      <td>0.619048</td>\n",
       "    </tr>\n",
       "    <tr>\n",
       "      <th>2</th>\n",
       "      <td>0.8</td>\n",
       "      <td>0.791629</td>\n",
       "      <td>0.480929</td>\n",
       "      <td>0.598349</td>\n",
       "    </tr>\n",
       "    <tr>\n",
       "      <th>3</th>\n",
       "      <td>0.9</td>\n",
       "      <td>0.827605</td>\n",
       "      <td>0.425926</td>\n",
       "      <td>0.562409</td>\n",
       "    </tr>\n",
       "  </tbody>\n",
       "</table>\n",
       "</div>"
      ],
      "text/plain": [
       "   Threshold  Precision    Recall  F1-measure\n",
       "0        0.6   0.737074  0.555556    0.633570\n",
       "1        0.7   0.762540  0.521006    0.619048\n",
       "2        0.8   0.791629  0.480929    0.598349\n",
       "3        0.9   0.827605  0.425926    0.562409"
      ]
     },
     "execution_count": 52,
     "metadata": {
      "tags": []
     },
     "output_type": "execute_result"
    }
   ],
   "source": [
    "# PRECISION & RECALL\n",
    "predictions_results = []\n",
    "thresholds=np.arange(.5, 1, 0.1).tolist()\n",
    "\n",
    "for val in thresholds:\n",
    "    pred=predictions.copy()\n",
    "    pred[pred>=val]=1\n",
    "    pred[pred<val]=0\n",
    "\n",
    "    accuracy = accuracy_score(y_valid, pred, normalize=True, sample_weight=None)#average='micro')\n",
    "    hamming = hamming_loss(y_valid, pred)\n",
    "    precision = precision_score(y_valid, pred, average='micro')\n",
    "    recall = recall_score(y_valid, pred, average='micro')\n",
    "    f1 = f1_score(y_valid, pred, average='micro')\n",
    "   \n",
    "    case= {'Threshold': val,\n",
    "           'Accuracy': accuracy,\n",
    "           'Hamming loss': hamming,\n",
    "           'Precision': precision,\n",
    "           'Recall': recall,\n",
    "           'F1-measure': f1}\n",
    "    predictions_results.append(case)\n",
    "\n",
    "print(\"Micro-average quality numbers:\")\n",
    "pd.DataFrame(predictions_results)"
   ]
  },
  {
   "cell_type": "markdown",
   "metadata": {
    "colab_type": "text",
    "id": "yDnIYSaSYGzd"
   },
   "source": [
    "## Based in Karan's model"
   ]
  },
  {
   "cell_type": "code",
   "execution_count": null,
   "metadata": {
    "colab": {},
    "colab_type": "code",
    "id": "emstXjVsYB4R"
   },
   "outputs": [],
   "source": [
    "# MODEL\n",
    "\n",
    "max_features = X_train.shape[0] # comments\n",
    "batch_size = 128\n",
    "filters = 250\n",
    "kernel_size = 3\n",
    "hidden_dims = 250\n",
    "epochs = 10\n",
    "embed_size = 1024 # for BERT Large\n",
    "n_class = 12 # 12 for themes and 62 for sub-themes"
   ]
  },
  {
   "cell_type": "code",
   "execution_count": null,
   "metadata": {
    "colab": {
     "base_uri": "https://localhost:8080/",
     "height": 459
    },
    "colab_type": "code",
    "id": "VyRUkCV3YWQM",
    "outputId": "b50fe219-ef37-4140-f2e1-071579fe159d"
   },
   "outputs": [
    {
     "name": "stdout",
     "output_type": "stream",
     "text": [
      "Model: \"sequential_3\"\n",
      "_________________________________________________________________\n",
      "Layer (type)                 Output Shape              Param #   \n",
      "=================================================================\n",
      "dropout_1 (Dropout)          (None, 1024, 1)           0         \n",
      "_________________________________________________________________\n",
      "conv1d_2 (Conv1D)            (None, 1022, 250)         1000      \n",
      "_________________________________________________________________\n",
      "max_pooling1d_2 (MaxPooling1 (None, 511, 250)          0         \n",
      "_________________________________________________________________\n",
      "conv1d_3 (Conv1D)            (None, 509, 250)          187750    \n",
      "_________________________________________________________________\n",
      "max_pooling1d_3 (MaxPooling1 (None, 254, 250)          0         \n",
      "_________________________________________________________________\n",
      "flatten_1 (Flatten)          (None, 63500)             0         \n",
      "_________________________________________________________________\n",
      "dense_3 (Dense)              (None, 250)               15875250  \n",
      "_________________________________________________________________\n",
      "dense_4 (Dense)              (None, 250)               62750     \n",
      "_________________________________________________________________\n",
      "dense_5 (Dense)              (None, 12)                3012      \n",
      "=================================================================\n",
      "Total params: 16,129,762\n",
      "Trainable params: 16,129,762\n",
      "Non-trainable params: 0\n",
      "_________________________________________________________________\n"
     ]
    }
   ],
   "source": [
    "model = Sequential()\n",
    "# model.add(Embedding(max_features, embed_size, weights=[glove_embeddings], trainable=False, input_length=maxlen))\n",
    "# model.add(Conv1D(filters, kernel_size, input_shape=(embed_size,1), padding='valid',\n",
    "#                  activation='relu', strides=1))\n",
    "model.add(InputLayer(input_shape=(embed_size, 1)))\n",
    "\n",
    "model.add(Dropout(0.2))\n",
    "model.add(Conv1D(filters, kernel_size, padding='valid', activation='relu',\n",
    "                 strides=1))\n",
    "model.add(MaxPooling1D())\n",
    "model.add(Conv1D(filters, kernel_size, padding='valid',activation='relu'))\n",
    "model.add(MaxPooling1D())\n",
    "model.add(Flatten())\n",
    "\n",
    "# L2 regularization\n",
    "model.add(Dense(hidden_dims, activation = 'relu', kernel_regularizer=tf.keras.regularizers.l2(0.001)))\n",
    "model.add(Dense(hidden_dims, activation = 'relu', kernel_regularizer=tf.keras.regularizers.l2(0.001)))\n",
    "model.add(Dense(n_class, activation = 'sigmoid'))\n",
    "model.summary()"
   ]
  },
  {
   "cell_type": "code",
   "execution_count": null,
   "metadata": {
    "colab": {
     "base_uri": "https://localhost:8080/",
     "height": 374
    },
    "colab_type": "code",
    "id": "LAyxDB5eYaPL",
    "outputId": "15a15271-5089-42bc-b5d9-abeb2de41054"
   },
   "outputs": [
    {
     "name": "stdout",
     "output_type": "stream",
     "text": [
      "Epoch 1/10\n",
      "82/82 [==============================] - 3s 36ms/step - loss: 0.5268 - accuracy: 0.3665 - val_loss: 0.3575 - val_accuracy: 0.4568\n",
      "Epoch 2/10\n",
      "82/82 [==============================] - 3s 34ms/step - loss: 0.3265 - accuracy: 0.5070 - val_loss: 0.2932 - val_accuracy: 0.5655\n",
      "Epoch 3/10\n",
      "82/82 [==============================] - 3s 34ms/step - loss: 0.2972 - accuracy: 0.5307 - val_loss: 0.2871 - val_accuracy: 0.5239\n",
      "Epoch 4/10\n",
      "82/82 [==============================] - 3s 34ms/step - loss: 0.2796 - accuracy: 0.5437 - val_loss: 0.2577 - val_accuracy: 0.5902\n",
      "Epoch 5/10\n",
      "82/82 [==============================] - 3s 34ms/step - loss: 0.2657 - accuracy: 0.5644 - val_loss: 0.2528 - val_accuracy: 0.5821\n",
      "Epoch 6/10\n",
      "82/82 [==============================] - 3s 34ms/step - loss: 0.2584 - accuracy: 0.5693 - val_loss: 0.2631 - val_accuracy: 0.5914\n",
      "Epoch 7/10\n",
      "82/82 [==============================] - 3s 34ms/step - loss: 0.2520 - accuracy: 0.5719 - val_loss: 0.2589 - val_accuracy: 0.5891\n",
      "Epoch 8/10\n",
      "82/82 [==============================] - 3s 34ms/step - loss: 0.2514 - accuracy: 0.5744 - val_loss: 0.2440 - val_accuracy: 0.5902\n",
      "Epoch 9/10\n",
      "82/82 [==============================] - 3s 34ms/step - loss: 0.2432 - accuracy: 0.5864 - val_loss: 0.2547 - val_accuracy: 0.5601\n",
      "Epoch 10/10\n",
      "82/82 [==============================] - 3s 34ms/step - loss: 0.2402 - accuracy: 0.5843 - val_loss: 0.2432 - val_accuracy: 0.5964\n"
     ]
    },
    {
     "data": {
      "text/plain": [
       "<tensorflow.python.keras.callbacks.History at 0x7fccb423d0f0>"
      ]
     },
     "execution_count": 42,
     "metadata": {
      "tags": []
     },
     "output_type": "execute_result"
    }
   ],
   "source": [
    "model.compile(loss='binary_crossentropy', optimizer='adam',\n",
    "              metrics=['accuracy'])\n",
    "\n",
    "# Train Model\n",
    "model.fit(X_train, y_train, batch_size=batch_size, epochs=epochs,\n",
    "         validation_data=(X_valid, y_valid))"
   ]
  },
  {
   "cell_type": "code",
   "execution_count": null,
   "metadata": {
    "colab": {
     "base_uri": "https://localhost:8080/",
     "height": 51
    },
    "colab_type": "code",
    "id": "r6Skho49Yf_T",
    "outputId": "99a96e18-2a0b-4cf0-883c-e85bb75761cb"
   },
   "outputs": [
    {
     "name": "stdout",
     "output_type": "stream",
     "text": [
      "82/82 [==============================] - 0s 5ms/step - loss: 0.2432 - accuracy: 0.5964\n"
     ]
    },
    {
     "data": {
      "text/plain": [
       "[0.24324536323547363, 0.5963762402534485]"
      ]
     },
     "execution_count": 43,
     "metadata": {
      "tags": []
     },
     "output_type": "execute_result"
    }
   ],
   "source": [
    "score = model.evaluate(X_valid, y_valid)\n",
    "score"
   ]
  },
  {
   "cell_type": "markdown",
   "metadata": {
    "colab_type": "text",
    "id": "D24v0P5JYqfE"
   },
   "source": [
    "This result are the same to the results from the previous run for the validation dataset."
   ]
  },
  {
   "cell_type": "code",
   "execution_count": null,
   "metadata": {
    "colab": {
     "base_uri": "https://localhost:8080/",
     "height": 331
    },
    "colab_type": "code",
    "id": "edqYb8TwYlxT",
    "outputId": "e3ee0053-32c0-401c-b120-5160e8d67b94"
   },
   "outputs": [
    {
     "name": "stdout",
     "output_type": "stream",
     "text": [
      "\n",
      "Micro-average quality numbers:\n"
     ]
    },
    {
     "data": {
      "text/html": [
       "<div>\n",
       "<style scoped>\n",
       "    .dataframe tbody tr th:only-of-type {\n",
       "        vertical-align: middle;\n",
       "    }\n",
       "\n",
       "    .dataframe tbody tr th {\n",
       "        vertical-align: top;\n",
       "    }\n",
       "\n",
       "    .dataframe thead th {\n",
       "        text-align: right;\n",
       "    }\n",
       "</style>\n",
       "<table border=\"1\" class=\"dataframe\">\n",
       "  <thead>\n",
       "    <tr style=\"text-align: right;\">\n",
       "      <th></th>\n",
       "      <th>Threshold</th>\n",
       "      <th>Precision</th>\n",
       "      <th>Recall</th>\n",
       "      <th>F1-measure</th>\n",
       "    </tr>\n",
       "  </thead>\n",
       "  <tbody>\n",
       "    <tr>\n",
       "      <th>0</th>\n",
       "      <td>0.60</td>\n",
       "      <td>0.836374</td>\n",
       "      <td>0.405473</td>\n",
       "      <td>0.546165</td>\n",
       "    </tr>\n",
       "    <tr>\n",
       "      <th>1</th>\n",
       "      <td>0.65</td>\n",
       "      <td>0.860144</td>\n",
       "      <td>0.362078</td>\n",
       "      <td>0.509628</td>\n",
       "    </tr>\n",
       "    <tr>\n",
       "      <th>2</th>\n",
       "      <td>0.70</td>\n",
       "      <td>0.885649</td>\n",
       "      <td>0.318961</td>\n",
       "      <td>0.469010</td>\n",
       "    </tr>\n",
       "    <tr>\n",
       "      <th>3</th>\n",
       "      <td>0.75</td>\n",
       "      <td>0.907942</td>\n",
       "      <td>0.278054</td>\n",
       "      <td>0.425730</td>\n",
       "    </tr>\n",
       "    <tr>\n",
       "      <th>4</th>\n",
       "      <td>0.80</td>\n",
       "      <td>0.930921</td>\n",
       "      <td>0.234660</td>\n",
       "      <td>0.374834</td>\n",
       "    </tr>\n",
       "    <tr>\n",
       "      <th>5</th>\n",
       "      <td>0.85</td>\n",
       "      <td>0.953103</td>\n",
       "      <td>0.190989</td>\n",
       "      <td>0.318213</td>\n",
       "    </tr>\n",
       "    <tr>\n",
       "      <th>6</th>\n",
       "      <td>0.90</td>\n",
       "      <td>0.970530</td>\n",
       "      <td>0.136540</td>\n",
       "      <td>0.239399</td>\n",
       "    </tr>\n",
       "    <tr>\n",
       "      <th>7</th>\n",
       "      <td>0.95</td>\n",
       "      <td>0.992126</td>\n",
       "      <td>0.069652</td>\n",
       "      <td>0.130165</td>\n",
       "    </tr>\n",
       "  </tbody>\n",
       "</table>\n",
       "</div>"
      ],
      "text/plain": [
       "   Threshold  Precision    Recall  F1-measure\n",
       "0       0.60   0.836374  0.405473    0.546165\n",
       "1       0.65   0.860144  0.362078    0.509628\n",
       "2       0.70   0.885649  0.318961    0.469010\n",
       "3       0.75   0.907942  0.278054    0.425730\n",
       "4       0.80   0.930921  0.234660    0.374834\n",
       "5       0.85   0.953103  0.190989    0.318213\n",
       "6       0.90   0.970530  0.136540    0.239399\n",
       "7       0.95   0.992126  0.069652    0.130165"
      ]
     },
     "execution_count": 44,
     "metadata": {
      "tags": []
     },
     "output_type": "execute_result"
    }
   ],
   "source": [
    "# PRECISION & RECALL\n",
    "predictions_results = []\n",
    "thresholds=np.arange(.6, 1, 0.05).tolist()\n",
    "\n",
    "model.build((None, max_features, embed_size))\n",
    "for val in thresholds:\n",
    "    pred=predictions.copy()\n",
    "    pred[pred>=val]=1\n",
    "    pred[pred<val]=0\n",
    "\n",
    "    precision = precision_score(y_valid, pred, average='micro')\n",
    "    recall = recall_score(y_valid, pred, average='micro')\n",
    "    f1 = f1_score(y_valid, pred, average='micro')\n",
    "   \n",
    "    case= {'Threshold': val,\n",
    "           'Precision': precision,\n",
    "           'Recall': recall,\n",
    "           'F1-measure': f1}\n",
    "    predictions_results.append(case)\n",
    "\n",
    "print(\"\\nMicro-average quality numbers:\")\n",
    "pd.DataFrame(predictions_results)"
   ]
  },
  {
   "cell_type": "markdown",
   "metadata": {
    "colab_type": "text",
    "id": "bDHUsDUxFDoL"
   },
   "source": [
    "## Model Toy Story 1"
   ]
  },
  {
   "cell_type": "code",
   "execution_count": null,
   "metadata": {
    "colab": {},
    "colab_type": "code",
    "id": "DHfqRqG6GDJV"
   },
   "outputs": [],
   "source": [
    "# RESHAPE\n",
    "X_train = X_train.reshape(X_train.shape[0], X_train.shape[1])#, 1)\n",
    "X_valid = X_valid.reshape(X_valid.shape[0], X_valid.shape[1])#, 1)"
   ]
  },
  {
   "cell_type": "code",
   "execution_count": null,
   "metadata": {
    "colab": {},
    "colab_type": "code",
    "id": "pW46fpEgY7Je"
   },
   "outputs": [],
   "source": [
    "# MODEL\n",
    "\n",
    "max_features = X_train.shape[0] # comments\n",
    "batch_size = 128\n",
    "filters = 250\n",
    "kernel_size = 3\n",
    "hidden_dims = 250\n",
    "epochs = 20\n",
    "embed_size = 1024 # for BERT Large\n",
    "n_class = 12 # 12 for themes and 62 for sub-themes"
   ]
  },
  {
   "cell_type": "code",
   "execution_count": null,
   "metadata": {
    "colab": {
     "base_uri": "https://localhost:8080/",
     "height": 595
    },
    "colab_type": "code",
    "id": "wI94zd2lFPnt",
    "outputId": "bf428f81-f99c-4da8-dfd8-2223079c3ed7"
   },
   "outputs": [
    {
     "name": "stdout",
     "output_type": "stream",
     "text": [
      "Model: \"sequential_15\"\n",
      "_________________________________________________________________\n",
      "Layer (type)                 Output Shape              Param #   \n",
      "=================================================================\n",
      "dense_54 (Dense)             (None, 500)               512500    \n",
      "_________________________________________________________________\n",
      "dense_55 (Dense)             (None, 200)               100200    \n",
      "_________________________________________________________________\n",
      "reshape_32 (Reshape)         (None, 100, 2)            0         \n",
      "_________________________________________________________________\n",
      "conv1d_54 (Conv1D)           (None, 100, 250)          1750      \n",
      "_________________________________________________________________\n",
      "conv1d_55 (Conv1D)           (None, 96, 250)           312750    \n",
      "_________________________________________________________________\n",
      "conv1d_56 (Conv1D)           (None, 94, 7)             5257      \n",
      "_________________________________________________________________\n",
      "conv1d_57 (Conv1D)           (None, 94, 4)             60        \n",
      "_________________________________________________________________\n",
      "reshape_33 (Reshape)         (None, 47, 4, 2)          0         \n",
      "_________________________________________________________________\n",
      "conv2d_14 (Conv2D)           (None, 47, 4, 5)          1215      \n",
      "_________________________________________________________________\n",
      "max_pooling2d_14 (MaxPooling (None, 23, 2, 5)          0         \n",
      "_________________________________________________________________\n",
      "flatten_15 (Flatten)         (None, 230)               0         \n",
      "_________________________________________________________________\n",
      "dense_56 (Dense)             (None, 250)               57750     \n",
      "_________________________________________________________________\n",
      "dense_57 (Dense)             (None, 12)                3012      \n",
      "=================================================================\n",
      "Total params: 994,494\n",
      "Trainable params: 994,494\n",
      "Non-trainable params: 0\n",
      "_________________________________________________________________\n"
     ]
    }
   ],
   "source": [
    "model = Sequential()\n",
    "model.add(Dense(50, input_dim=X_train.shape[1], activation='relu'))\n",
    "model.add(Dense(20, activation='relu'))\n",
    "model.add(Reshape((100, 2)))\n",
    "model.add(Conv1D(filters, kernel_size, padding='same',activation='relu'))\n",
    "model.add(Conv1D(filters, kernel_size=5, padding='valid',activation='relu'))\n",
    "model.add(Conv1D(7, kernel_size=3))\n",
    "model.add(Conv1D(4, kernel_size=2, padding='same', activation='relu'))\n",
    "model.add(Reshape((47, 4, 2)))\n",
    "model.add(Conv2D(5, kernel_size=(11,11), padding='same', activation='sigmoid'))\n",
    "\n",
    "model.add(MaxPooling2D(pool_size=(2,2)))\n",
    "model.add(Flatten())\n",
    "# model.add(Dense(hidden_dims, activation = 'relu', kernel_regularizer=tf.keras.regularizers.l2(0.001)))\n",
    "model.add(Dense(hidden_dims, activation = 'relu', kernel_regularizer=tf.keras.regularizers.l2(0.001)))\n",
    "\n",
    "model.add(Dense(y_train.shape[1], activation='softmax'))\n",
    "model.summary()"
   ]
  },
  {
   "cell_type": "code",
   "execution_count": null,
   "metadata": {
    "colab": {
     "base_uri": "https://localhost:8080/",
     "height": 717
    },
    "colab_type": "code",
    "id": "bfsun7QxFSBN",
    "outputId": "903e55ec-ab64-4d74-b5ca-98ec05039b3d"
   },
   "outputs": [
    {
     "name": "stdout",
     "output_type": "stream",
     "text": [
      "Epoch 1/20\n",
      "82/82 [==============================] - 1s 14ms/step - loss: 0.4667 - accuracy: 0.2615 - val_loss: 0.3397 - val_accuracy: 0.4433\n",
      "Epoch 2/20\n",
      "82/82 [==============================] - 1s 11ms/step - loss: 0.3098 - accuracy: 0.5049 - val_loss: 0.2760 - val_accuracy: 0.5659\n",
      "Epoch 3/20\n",
      "82/82 [==============================] - 1s 11ms/step - loss: 0.2668 - accuracy: 0.5592 - val_loss: 0.2522 - val_accuracy: 0.5910\n",
      "Epoch 4/20\n",
      "82/82 [==============================] - 1s 11ms/step - loss: 0.2466 - accuracy: 0.5893 - val_loss: 0.2429 - val_accuracy: 0.5767\n",
      "Epoch 5/20\n",
      "82/82 [==============================] - 1s 11ms/step - loss: 0.2306 - accuracy: 0.6057 - val_loss: 0.2331 - val_accuracy: 0.5929\n",
      "Epoch 6/20\n",
      "82/82 [==============================] - 1s 11ms/step - loss: 0.2226 - accuracy: 0.6174 - val_loss: 0.2311 - val_accuracy: 0.5883\n",
      "Epoch 7/20\n",
      "82/82 [==============================] - 1s 11ms/step - loss: 0.2151 - accuracy: 0.6305 - val_loss: 0.2311 - val_accuracy: 0.5840\n",
      "Epoch 8/20\n",
      "82/82 [==============================] - 1s 11ms/step - loss: 0.2105 - accuracy: 0.6397 - val_loss: 0.2206 - val_accuracy: 0.6222\n",
      "Epoch 9/20\n",
      "82/82 [==============================] - 1s 11ms/step - loss: 0.2022 - accuracy: 0.6550 - val_loss: 0.2205 - val_accuracy: 0.6218\n",
      "Epoch 10/20\n",
      "82/82 [==============================] - 1s 11ms/step - loss: 0.1961 - accuracy: 0.6653 - val_loss: 0.2203 - val_accuracy: 0.6195\n",
      "Epoch 11/20\n",
      "82/82 [==============================] - 1s 11ms/step - loss: 0.1903 - accuracy: 0.6791 - val_loss: 0.2205 - val_accuracy: 0.6091\n",
      "Epoch 12/20\n",
      "82/82 [==============================] - 1s 11ms/step - loss: 0.1854 - accuracy: 0.6865 - val_loss: 0.2227 - val_accuracy: 0.6157\n",
      "Epoch 13/20\n",
      "82/82 [==============================] - 1s 11ms/step - loss: 0.1817 - accuracy: 0.6944 - val_loss: 0.2297 - val_accuracy: 0.5975\n",
      "Epoch 14/20\n",
      "82/82 [==============================] - 1s 11ms/step - loss: 0.1788 - accuracy: 0.7018 - val_loss: 0.2246 - val_accuracy: 0.6002\n",
      "Epoch 15/20\n",
      "82/82 [==============================] - 1s 11ms/step - loss: 0.1730 - accuracy: 0.7124 - val_loss: 0.2242 - val_accuracy: 0.6083\n",
      "Epoch 16/20\n",
      "82/82 [==============================] - 1s 11ms/step - loss: 0.1704 - accuracy: 0.7175 - val_loss: 0.2276 - val_accuracy: 0.6149\n",
      "Epoch 17/20\n",
      "82/82 [==============================] - 1s 11ms/step - loss: 0.1646 - accuracy: 0.7279 - val_loss: 0.2274 - val_accuracy: 0.6072\n",
      "Epoch 18/20\n",
      "82/82 [==============================] - 1s 11ms/step - loss: 0.1620 - accuracy: 0.7359 - val_loss: 0.2271 - val_accuracy: 0.6118\n",
      "Epoch 19/20\n",
      "82/82 [==============================] - 1s 11ms/step - loss: 0.1566 - accuracy: 0.7425 - val_loss: 0.2352 - val_accuracy: 0.6122\n",
      "Epoch 20/20\n",
      "82/82 [==============================] - 1s 11ms/step - loss: 0.1530 - accuracy: 0.7520 - val_loss: 0.2375 - val_accuracy: 0.6006\n"
     ]
    }
   ],
   "source": [
    "model.compile(loss='binary_crossentropy', optimizer='adam',\n",
    "              metrics=['accuracy'])\n",
    "\n",
    "# Train Model\n",
    "history = model.fit(X_train, y_train, batch_size=batch_size, epochs=epochs,\n",
    "                    validation_data=(X_valid, y_valid))"
   ]
  },
  {
   "cell_type": "code",
   "execution_count": null,
   "metadata": {
    "colab": {
     "base_uri": "https://localhost:8080/",
     "height": 385
    },
    "colab_type": "code",
    "id": "PNvejNDLFU0O",
    "outputId": "26d2a386-1f2f-421e-befe-2410dc4c074b"
   },
   "outputs": [
    {
     "data": {
      "text/html": [
       "\n",
       "<div id=\"altair-viz-4604120f05a84745a52d553a934cecf8\"></div>\n",
       "<script type=\"text/javascript\">\n",
       "  (function(spec, embedOpt){\n",
       "    let outputDiv = document.currentScript.previousElementSibling;\n",
       "    if (outputDiv.id !== \"altair-viz-4604120f05a84745a52d553a934cecf8\") {\n",
       "      outputDiv = document.getElementById(\"altair-viz-4604120f05a84745a52d553a934cecf8\");\n",
       "    }\n",
       "    const paths = {\n",
       "      \"vega\": \"https://cdn.jsdelivr.net/npm//vega@5?noext\",\n",
       "      \"vega-lib\": \"https://cdn.jsdelivr.net/npm//vega-lib?noext\",\n",
       "      \"vega-lite\": \"https://cdn.jsdelivr.net/npm//vega-lite@4.8.1?noext\",\n",
       "      \"vega-embed\": \"https://cdn.jsdelivr.net/npm//vega-embed@6?noext\",\n",
       "    };\n",
       "\n",
       "    function loadScript(lib) {\n",
       "      return new Promise(function(resolve, reject) {\n",
       "        var s = document.createElement('script');\n",
       "        s.src = paths[lib];\n",
       "        s.async = true;\n",
       "        s.onload = () => resolve(paths[lib]);\n",
       "        s.onerror = () => reject(`Error loading script: ${paths[lib]}`);\n",
       "        document.getElementsByTagName(\"head\")[0].appendChild(s);\n",
       "      });\n",
       "    }\n",
       "\n",
       "    function showError(err) {\n",
       "      outputDiv.innerHTML = `<div class=\"error\" style=\"color:red;\">${err}</div>`;\n",
       "      throw err;\n",
       "    }\n",
       "\n",
       "    function displayChart(vegaEmbed) {\n",
       "      vegaEmbed(outputDiv, spec, embedOpt)\n",
       "        .catch(err => showError(`Javascript Error: ${err.message}<br>This usually means there's a typo in your chart specification. See the javascript console for the full traceback.`));\n",
       "    }\n",
       "\n",
       "    if(typeof define === \"function\" && define.amd) {\n",
       "      requirejs.config({paths});\n",
       "      require([\"vega-embed\"], displayChart, err => showError(`Error loading script: ${err.message}`));\n",
       "    } else if (typeof vegaEmbed === \"function\") {\n",
       "      displayChart(vegaEmbed);\n",
       "    } else {\n",
       "      loadScript(\"vega\")\n",
       "        .then(() => loadScript(\"vega-lite\"))\n",
       "        .then(() => loadScript(\"vega-embed\"))\n",
       "        .catch(showError)\n",
       "        .then(() => displayChart(vegaEmbed));\n",
       "    }\n",
       "  })({\"config\": {\"view\": {\"continuousWidth\": 400, \"continuousHeight\": 300}}, \"data\": {\"name\": \"data-5a5cc0d1b78651af0155015586102710\"}, \"mark\": \"line\", \"encoding\": {\"color\": {\"type\": \"nominal\", \"field\": \"metric\"}, \"x\": {\"type\": \"quantitative\", \"field\": \"epoch\"}, \"y\": {\"type\": \"quantitative\", \"field\": \"value\"}}, \"title\": \"Loss and Accuracy\", \"$schema\": \"https://vega.github.io/schema/vega-lite/v4.8.1.json\", \"datasets\": {\"data-5a5cc0d1b78651af0155015586102710\": [{\"epoch\": 0, \"metric\": \"train_loss\", \"value\": 0.46665987372398376}, {\"epoch\": 0, \"metric\": \"train_accuracy\", \"value\": 0.261468768119812}, {\"epoch\": 0, \"metric\": \"valid_loss\", \"value\": 0.3396593928337097}, {\"epoch\": 0, \"metric\": \"valid_accuracy\", \"value\": 0.4433307647705078}, {\"epoch\": 1, \"metric\": \"train_loss\", \"value\": 0.3098449409008026}, {\"epoch\": 1, \"metric\": \"train_accuracy\", \"value\": 0.504915177822113}, {\"epoch\": 1, \"metric\": \"valid_loss\", \"value\": 0.2759658098220825}, {\"epoch\": 1, \"metric\": \"valid_accuracy\", \"value\": 0.5659213662147522}, {\"epoch\": 2, \"metric\": \"train_loss\", \"value\": 0.2668273150920868}, {\"epoch\": 2, \"metric\": \"train_accuracy\", \"value\": 0.5591750144958496}, {\"epoch\": 2, \"metric\": \"valid_loss\", \"value\": 0.25217974185943604}, {\"epoch\": 2, \"metric\": \"valid_accuracy\", \"value\": 0.5909791588783264}, {\"epoch\": 3, \"metric\": \"train_loss\", \"value\": 0.24659202992916107}, {\"epoch\": 3, \"metric\": \"train_accuracy\", \"value\": 0.5893408060073853}, {\"epoch\": 3, \"metric\": \"valid_loss\", \"value\": 0.24288982152938843}, {\"epoch\": 3, \"metric\": \"valid_accuracy\", \"value\": 0.5767154693603516}, {\"epoch\": 4, \"metric\": \"train_loss\", \"value\": 0.23055993020534515}, {\"epoch\": 4, \"metric\": \"train_accuracy\", \"value\": 0.6057247519493103}, {\"epoch\": 4, \"metric\": \"valid_loss\", \"value\": 0.2330787181854248}, {\"epoch\": 4, \"metric\": \"valid_accuracy\", \"value\": 0.5929067134857178}, {\"epoch\": 5, \"metric\": \"train_loss\", \"value\": 0.2226208597421646}, {\"epoch\": 5, \"metric\": \"train_accuracy\", \"value\": 0.6173862814903259}, {\"epoch\": 5, \"metric\": \"valid_loss\", \"value\": 0.2311072200536728}, {\"epoch\": 5, \"metric\": \"valid_accuracy\", \"value\": 0.5882806181907654}, {\"epoch\": 6, \"metric\": \"train_loss\", \"value\": 0.21512486040592194}, {\"epoch\": 6, \"metric\": \"train_accuracy\", \"value\": 0.6304934620857239}, {\"epoch\": 6, \"metric\": \"valid_loss\", \"value\": 0.23109835386276245}, {\"epoch\": 6, \"metric\": \"valid_accuracy\", \"value\": 0.584040105342865}, {\"epoch\": 7, \"metric\": \"train_loss\", \"value\": 0.21046388149261475}, {\"epoch\": 7, \"metric\": \"train_accuracy\", \"value\": 0.6397455930709839}, {\"epoch\": 7, \"metric\": \"valid_loss\", \"value\": 0.22056593000888824}, {\"epoch\": 7, \"metric\": \"valid_accuracy\", \"value\": 0.6222050786018372}, {\"epoch\": 8, \"metric\": \"train_loss\", \"value\": 0.20217065513134003}, {\"epoch\": 8, \"metric\": \"train_accuracy\", \"value\": 0.654973030090332}, {\"epoch\": 8, \"metric\": \"valid_loss\", \"value\": 0.22054317593574524}, {\"epoch\": 8, \"metric\": \"valid_accuracy\", \"value\": 0.6218195557594299}, {\"epoch\": 9, \"metric\": \"train_loss\", \"value\": 0.19606314599514008}, {\"epoch\": 9, \"metric\": \"train_accuracy\", \"value\": 0.6652852892875671}, {\"epoch\": 9, \"metric\": \"valid_loss\", \"value\": 0.22031134366989136}, {\"epoch\": 9, \"metric\": \"valid_accuracy\", \"value\": 0.6195065379142761}, {\"epoch\": 10, \"metric\": \"train_loss\", \"value\": 0.19026993215084076}, {\"epoch\": 10, \"metric\": \"train_accuracy\", \"value\": 0.679067075252533}, {\"epoch\": 10, \"metric\": \"valid_loss\", \"value\": 0.22046281397342682}, {\"epoch\": 10, \"metric\": \"valid_accuracy\", \"value\": 0.6090978980064392}, {\"epoch\": 11, \"metric\": \"train_loss\", \"value\": 0.1854289174079895}, {\"epoch\": 11, \"metric\": \"train_accuracy\", \"value\": 0.6864880323410034}, {\"epoch\": 11, \"metric\": \"valid_loss\", \"value\": 0.22272777557373047}, {\"epoch\": 11, \"metric\": \"valid_accuracy\", \"value\": 0.6156514883041382}, {\"epoch\": 12, \"metric\": \"train_loss\", \"value\": 0.18172147870063782}, {\"epoch\": 12, \"metric\": \"train_accuracy\", \"value\": 0.6943908929824829}, {\"epoch\": 12, \"metric\": \"valid_loss\", \"value\": 0.229664146900177}, {\"epoch\": 12, \"metric\": \"valid_accuracy\", \"value\": 0.5975327491760254}, {\"epoch\": 13, \"metric\": \"train_loss\", \"value\": 0.17882324755191803}, {\"epoch\": 13, \"metric\": \"train_accuracy\", \"value\": 0.7018118500709534}, {\"epoch\": 13, \"metric\": \"valid_loss\", \"value\": 0.224581778049469}, {\"epoch\": 13, \"metric\": \"valid_accuracy\", \"value\": 0.6002312898635864}, {\"epoch\": 14, \"metric\": \"train_loss\", \"value\": 0.1729760766029358}, {\"epoch\": 14, \"metric\": \"train_accuracy\", \"value\": 0.7124132513999939}, {\"epoch\": 14, \"metric\": \"valid_loss\", \"value\": 0.22419819235801697}, {\"epoch\": 14, \"metric\": \"valid_accuracy\", \"value\": 0.6083269119262695}, {\"epoch\": 15, \"metric\": \"train_loss\", \"value\": 0.17039364576339722}, {\"epoch\": 15, \"metric\": \"train_accuracy\", \"value\": 0.7175211906433105}, {\"epoch\": 15, \"metric\": \"valid_loss\", \"value\": 0.2275533378124237}, {\"epoch\": 15, \"metric\": \"valid_accuracy\", \"value\": 0.6148805022239685}, {\"epoch\": 16, \"metric\": \"train_loss\", \"value\": 0.16455404460430145}, {\"epoch\": 16, \"metric\": \"train_accuracy\", \"value\": 0.7279298305511475}, {\"epoch\": 16, \"metric\": \"valid_loss\", \"value\": 0.22742433845996857}, {\"epoch\": 16, \"metric\": \"valid_accuracy\", \"value\": 0.6071704030036926}, {\"epoch\": 17, \"metric\": \"train_loss\", \"value\": 0.16204048693180084}, {\"epoch\": 17, \"metric\": \"train_accuracy\", \"value\": 0.7359290719032288}, {\"epoch\": 17, \"metric\": \"valid_loss\", \"value\": 0.2271341234445572}, {\"epoch\": 17, \"metric\": \"valid_accuracy\", \"value\": 0.6117964386940002}, {\"epoch\": 18, \"metric\": \"train_loss\", \"value\": 0.1566305011510849}, {\"epoch\": 18, \"metric\": \"train_accuracy\", \"value\": 0.7424826622009277}, {\"epoch\": 18, \"metric\": \"valid_loss\", \"value\": 0.23522867262363434}, {\"epoch\": 18, \"metric\": \"valid_accuracy\", \"value\": 0.6121819615364075}, {\"epoch\": 19, \"metric\": \"train_loss\", \"value\": 0.1529790163040161}, {\"epoch\": 19, \"metric\": \"train_accuracy\", \"value\": 0.7520238757133484}, {\"epoch\": 19, \"metric\": \"valid_loss\", \"value\": 0.2374565452337265}, {\"epoch\": 19, \"metric\": \"valid_accuracy\", \"value\": 0.6006168127059937}]}}, {\"mode\": \"vega-lite\"});\n",
       "</script>"
      ],
      "text/plain": [
       "alt.Chart(...)"
      ]
     },
     "execution_count": 115,
     "metadata": {
      "tags": []
     },
     "output_type": "execute_result"
    }
   ],
   "source": [
    "plot_metrics(history)"
   ]
  },
  {
   "cell_type": "code",
   "execution_count": null,
   "metadata": {
    "colab": {
     "base_uri": "https://localhost:8080/",
     "height": 71
    },
    "colab_type": "code",
    "id": "jys74G-UFo2w",
    "outputId": "9c3cb88e-32ba-4c37-b92f-623aba54e3d6"
   },
   "outputs": [
    {
     "name": "stdout",
     "output_type": "stream",
     "text": [
      "82/82 [==============================] - 0s 3ms/step - loss: 0.2375 - accuracy: 0.6006\n"
     ]
    },
    {
     "data": {
      "text/plain": [
       "[0.2374565750360489, 0.6006168127059937]"
      ]
     },
     "execution_count": 116,
     "metadata": {
      "tags": []
     },
     "output_type": "execute_result"
    }
   ],
   "source": [
    "score = model.evaluate(X_valid, y_valid)\n",
    "score"
   ]
  },
  {
   "cell_type": "code",
   "execution_count": null,
   "metadata": {
    "colab": {
     "base_uri": "https://localhost:8080/",
     "height": 255
    },
    "colab_type": "code",
    "id": "baUDW1MAFY9C",
    "outputId": "36de7a4b-ea72-4e42-f316-7a4e061a461c"
   },
   "outputs": [
    {
     "name": "stdout",
     "output_type": "stream",
     "text": [
      "21/21 [==============================] - 0s 3ms/step\n"
     ]
    },
    {
     "data": {
      "text/plain": [
       "array([[3.4064411e-03, 3.0930381e-04, 1.7257120e-03, ..., 9.7238581e-04,\n",
       "        7.8552586e-01, 2.8116783e-02],\n",
       "       [1.0330575e-02, 1.8721510e-03, 5.0459463e-02, ..., 3.6506937e-03,\n",
       "        9.3132332e-02, 6.1431386e-02],\n",
       "       [1.9235390e-03, 6.8461767e-04, 1.9523524e-03, ..., 4.5186769e-02,\n",
       "        5.2513488e-02, 8.8590878e-01],\n",
       "       ...,\n",
       "       [4.0681539e-03, 1.8738000e-02, 1.7338801e-02, ..., 3.2560520e-02,\n",
       "        6.4045372e-03, 8.3810594e-03],\n",
       "       [4.5915279e-03, 7.1370983e-01, 4.8158597e-03, ..., 2.7405489e-02,\n",
       "        1.1430513e-03, 3.5889978e-03],\n",
       "       [1.7970559e-03, 1.2436571e-03, 1.0067811e-03, ..., 9.0027995e-02,\n",
       "        7.4820630e-02, 2.5949683e-02]], dtype=float32)"
      ]
     },
     "execution_count": 117,
     "metadata": {
      "tags": []
     },
     "output_type": "execute_result"
    }
   ],
   "source": [
    "# PREDICTIONS\n",
    "predictions = model.predict(X_valid, batch_size=batch_size, verbose=1)\n",
    "predictions"
   ]
  },
  {
   "cell_type": "code",
   "execution_count": null,
   "metadata": {
    "colab": {
     "base_uri": "https://localhost:8080/",
     "height": 207
    },
    "colab_type": "code",
    "id": "Xf_W6MhTFq-H",
    "outputId": "c7126841-919f-4c7f-e9f7-959e42c9a058"
   },
   "outputs": [
    {
     "name": "stdout",
     "output_type": "stream",
     "text": [
      "\n",
      "Micro-average quality numbers:\n"
     ]
    },
    {
     "data": {
      "text/html": [
       "<div>\n",
       "<style scoped>\n",
       "    .dataframe tbody tr th:only-of-type {\n",
       "        vertical-align: middle;\n",
       "    }\n",
       "\n",
       "    .dataframe tbody tr th {\n",
       "        vertical-align: top;\n",
       "    }\n",
       "\n",
       "    .dataframe thead th {\n",
       "        text-align: right;\n",
       "    }\n",
       "</style>\n",
       "<table border=\"1\" class=\"dataframe\">\n",
       "  <thead>\n",
       "    <tr style=\"text-align: right;\">\n",
       "      <th></th>\n",
       "      <th>Threshold</th>\n",
       "      <th>Precision</th>\n",
       "      <th>Recall</th>\n",
       "      <th>F1-measure</th>\n",
       "    </tr>\n",
       "  </thead>\n",
       "  <tbody>\n",
       "    <tr>\n",
       "      <th>0</th>\n",
       "      <td>0.6</td>\n",
       "      <td>0.822341</td>\n",
       "      <td>0.382532</td>\n",
       "      <td>0.522166</td>\n",
       "    </tr>\n",
       "    <tr>\n",
       "      <th>1</th>\n",
       "      <td>0.7</td>\n",
       "      <td>0.854453</td>\n",
       "      <td>0.326147</td>\n",
       "      <td>0.472094</td>\n",
       "    </tr>\n",
       "    <tr>\n",
       "      <th>2</th>\n",
       "      <td>0.8</td>\n",
       "      <td>0.885766</td>\n",
       "      <td>0.270039</td>\n",
       "      <td>0.413895</td>\n",
       "    </tr>\n",
       "    <tr>\n",
       "      <th>3</th>\n",
       "      <td>0.9</td>\n",
       "      <td>0.920635</td>\n",
       "      <td>0.192371</td>\n",
       "      <td>0.318244</td>\n",
       "    </tr>\n",
       "  </tbody>\n",
       "</table>\n",
       "</div>"
      ],
      "text/plain": [
       "   Threshold  Precision    Recall  F1-measure\n",
       "0        0.6   0.822341  0.382532    0.522166\n",
       "1        0.7   0.854453  0.326147    0.472094\n",
       "2        0.8   0.885766  0.270039    0.413895\n",
       "3        0.9   0.920635  0.192371    0.318244"
      ]
     },
     "execution_count": 119,
     "metadata": {
      "tags": []
     },
     "output_type": "execute_result"
    }
   ],
   "source": [
    "# PRECISION & RECALL\n",
    "predictions_results = []\n",
    "thresholds=np.arange(.6, 1, 0.1).tolist()\n",
    "\n",
    "model.build((None, max_features, embed_size))\n",
    "for val in thresholds:\n",
    "    pred=predictions.copy()\n",
    "    pred[pred>=val]=1\n",
    "    pred[pred<val]=0\n",
    "\n",
    "    precision = precision_score(y_valid, pred, average='micro')\n",
    "    recall = recall_score(y_valid, pred, average='micro')\n",
    "    f1 = f1_score(y_valid, pred, average='micro')\n",
    "   \n",
    "    case= {'Threshold': val,\n",
    "           'Precision': precision,\n",
    "           'Recall': recall,\n",
    "           'F1-measure': f1}\n",
    "    predictions_results.append(case)\n",
    "\n",
    "print(\"\\nMicro-average quality numbers:\")\n",
    "pd.DataFrame(predictions_results)"
   ]
  },
  {
   "cell_type": "markdown",
   "metadata": {
    "colab_type": "text",
    "id": "-lX6W5Q8G1jr"
   },
   "source": [
    "## Model Toy Story 2"
   ]
  },
  {
   "cell_type": "code",
   "execution_count": null,
   "metadata": {
    "colab": {
     "base_uri": "https://localhost:8080/",
     "height": 102
    },
    "colab_type": "code",
    "id": "ibiB-aWpFvn_",
    "outputId": "12160778-ef26-45e4-ff81-1f0af8504437"
   },
   "outputs": [
    {
     "name": "stdout",
     "output_type": "stream",
     "text": [
      "X_train (10376, 1024) \n",
      "y_train (10376, 12) \n",
      "\n",
      "X_valid (2594, 1024) \n",
      "y_valid (2594, 12)\n"
     ]
    }
   ],
   "source": [
    "# # RESHAPE\n",
    "# X_train = X_train.reshape(X_train.shape[0], X_train.shape[1], 1)\n",
    "# X_valid = X_valid.reshape(X_valid.shape[0], X_train.shape[1], 1)\n",
    "\n",
    "# SHAPES AFTER RESHAPING\n",
    "print(\"X_train\", X_train.shape,\n",
    "      \"\\ny_train\", y_train.shape,\n",
    "      \"\\n\\nX_valid\", X_valid.shape,\n",
    "      \"\\ny_valid\", y_valid.shape)"
   ]
  },
  {
   "cell_type": "code",
   "execution_count": null,
   "metadata": {
    "colab": {},
    "colab_type": "code",
    "id": "RdhlLBNDG-kB"
   },
   "outputs": [],
   "source": [
    "# MODEL\n",
    "\n",
    "max_features = X_train.shape[0] # comments\n",
    "batch_size = 128\n",
    "filters = 250\n",
    "kernel_size = 3\n",
    "hidden_dims = 250\n",
    "epochs = 20\n",
    "embed_size = 1024 # for BERT Large\n",
    "n_class = 12 # 12 for themes and 62 for sub-themes"
   ]
  },
  {
   "cell_type": "code",
   "execution_count": null,
   "metadata": {
    "colab": {
     "base_uri": "https://localhost:8080/",
     "height": 323
    },
    "colab_type": "code",
    "id": "uEAw-F4SHA0W",
    "outputId": "89a30a71-2180-45fe-ae2e-cc82b9254667"
   },
   "outputs": [
    {
     "name": "stdout",
     "output_type": "stream",
     "text": [
      "Model: \"sequential_23\"\n",
      "_________________________________________________________________\n",
      "Layer (type)                 Output Shape              Param #   \n",
      "=================================================================\n",
      "reshape_7 (Reshape)          (None, 16, 8, 8)          0         \n",
      "_________________________________________________________________\n",
      "conv2d_20 (Conv2D)           (None, 16, 8, 50)         48450     \n",
      "_________________________________________________________________\n",
      "dropout_12 (Dropout)         (None, 16, 8, 50)         0         \n",
      "_________________________________________________________________\n",
      "flatten_14 (Flatten)         (None, 6400)              0         \n",
      "_________________________________________________________________\n",
      "dense_16 (Dense)             (None, 12)                76812     \n",
      "=================================================================\n",
      "Total params: 125,262\n",
      "Trainable params: 125,262\n",
      "Non-trainable params: 0\n",
      "_________________________________________________________________\n"
     ]
    }
   ],
   "source": [
    "model = Sequential()\n",
    "model.add(InputLayer(input_shape=(embed_size, 1)))\n",
    "model.add(Reshape((16, 8, 8)))\n",
    "model.add(Conv2D(50, kernel_size=(11,11), padding='same', activation='relu'))\n",
    "model.add(Dropout(0.4))\n",
    "# model.add(Conv2D(5, kernel_size=(11,11), input_shape=(milad.shape[0],milad.shape[1],3), padding='same', activation='sigmoid'))\n",
    "# model.add(Dense(200, activation='relu'))\n",
    "# model.add(Reshape((100, 2)))\n",
    "# model.add(Conv1D(filters, kernel_size, padding='same',activation='relu'))\n",
    "# model.add(Conv1D(filters, kernel_size=5, padding='valid',activation='relu'))\n",
    "# model.add(Conv1D(7, kernel_size=3))\n",
    "# model.add(Conv1D(4, kernel_size=2, padding='same', activation='relu'))\n",
    "# model.add(Reshape((47, 4, 2)))\n",
    "# model.add(Conv2D(5, kernel_size=(11,11), padding='same', activation='sigmoid'))\n",
    "\n",
    "# model.add(MaxPooling2D(pool_size=(2,2)))\n",
    "model.add(Flatten())\n",
    "# model.add(Dense(hidden_dims, activation = 'relu', kernel_regularizer=tf.keras.regularizers.l2(0.001)))\n",
    "# model.add(Dense(hidden_dims, activation = 'relu', kernel_regularizer=tf.keras.regularizers.l2(0.001)))\n",
    "\n",
    "model.add(Dense(y_train.shape[1], activation='softmax'))\n",
    "model.summary()"
   ]
  },
  {
   "cell_type": "code",
   "execution_count": null,
   "metadata": {
    "colab": {
     "base_uri": "https://localhost:8080/",
     "height": 717
    },
    "colab_type": "code",
    "id": "ZDz6kKirIBCw",
    "outputId": "f29c099e-16d5-4410-b1d3-d739ed606ccf"
   },
   "outputs": [
    {
     "name": "stdout",
     "output_type": "stream",
     "text": [
      "Epoch 1/20\n",
      "82/82 [==============================] - 1s 8ms/step - loss: 0.2569 - accuracy: 0.4945 - val_loss: 0.2193 - val_accuracy: 0.5786\n",
      "Epoch 2/20\n",
      "82/82 [==============================] - 0s 5ms/step - loss: 0.2202 - accuracy: 0.5835 - val_loss: 0.2085 - val_accuracy: 0.6056\n",
      "Epoch 3/20\n",
      "82/82 [==============================] - 0s 5ms/step - loss: 0.2112 - accuracy: 0.6041 - val_loss: 0.2157 - val_accuracy: 0.5786\n",
      "Epoch 4/20\n",
      "82/82 [==============================] - 0s 5ms/step - loss: 0.2057 - accuracy: 0.6184 - val_loss: 0.2063 - val_accuracy: 0.6095\n",
      "Epoch 5/20\n",
      "82/82 [==============================] - 0s 5ms/step - loss: 0.1991 - accuracy: 0.6280 - val_loss: 0.2043 - val_accuracy: 0.6180\n",
      "Epoch 6/20\n",
      "82/82 [==============================] - 0s 5ms/step - loss: 0.1938 - accuracy: 0.6372 - val_loss: 0.2043 - val_accuracy: 0.6172\n",
      "Epoch 7/20\n",
      "82/82 [==============================] - 0s 5ms/step - loss: 0.1909 - accuracy: 0.6457 - val_loss: 0.2052 - val_accuracy: 0.6264\n",
      "Epoch 8/20\n",
      "82/82 [==============================] - 0s 5ms/step - loss: 0.1855 - accuracy: 0.6591 - val_loss: 0.2045 - val_accuracy: 0.6010\n",
      "Epoch 9/20\n",
      "82/82 [==============================] - 0s 5ms/step - loss: 0.1810 - accuracy: 0.6693 - val_loss: 0.2048 - val_accuracy: 0.6342\n",
      "Epoch 10/20\n",
      "82/82 [==============================] - 0s 5ms/step - loss: 0.1783 - accuracy: 0.6729 - val_loss: 0.2073 - val_accuracy: 0.6141\n",
      "Epoch 11/20\n",
      "82/82 [==============================] - 0s 5ms/step - loss: 0.1736 - accuracy: 0.6848 - val_loss: 0.2023 - val_accuracy: 0.6268\n",
      "Epoch 12/20\n",
      "82/82 [==============================] - 0s 5ms/step - loss: 0.1697 - accuracy: 0.6894 - val_loss: 0.2045 - val_accuracy: 0.6280\n",
      "Epoch 13/20\n",
      "82/82 [==============================] - 0s 5ms/step - loss: 0.1674 - accuracy: 0.6924 - val_loss: 0.2060 - val_accuracy: 0.6249\n",
      "Epoch 14/20\n",
      "82/82 [==============================] - 0s 5ms/step - loss: 0.1652 - accuracy: 0.6966 - val_loss: 0.2052 - val_accuracy: 0.6218\n",
      "Epoch 15/20\n",
      "82/82 [==============================] - 0s 5ms/step - loss: 0.1620 - accuracy: 0.7089 - val_loss: 0.2070 - val_accuracy: 0.6369\n",
      "Epoch 16/20\n",
      "82/82 [==============================] - 0s 5ms/step - loss: 0.1594 - accuracy: 0.7056 - val_loss: 0.2041 - val_accuracy: 0.6334\n",
      "Epoch 17/20\n",
      "82/82 [==============================] - 0s 5ms/step - loss: 0.1559 - accuracy: 0.7172 - val_loss: 0.2059 - val_accuracy: 0.6237\n",
      "Epoch 18/20\n",
      "82/82 [==============================] - 0s 5ms/step - loss: 0.1548 - accuracy: 0.7168 - val_loss: 0.2110 - val_accuracy: 0.6218\n",
      "Epoch 19/20\n",
      "82/82 [==============================] - 0s 5ms/step - loss: 0.1505 - accuracy: 0.7234 - val_loss: 0.2125 - val_accuracy: 0.6280\n",
      "Epoch 20/20\n",
      "82/82 [==============================] - 0s 5ms/step - loss: 0.1475 - accuracy: 0.7339 - val_loss: 0.2116 - val_accuracy: 0.6234\n"
     ]
    }
   ],
   "source": [
    "model.compile(loss='binary_crossentropy', optimizer='adam',\n",
    "              metrics=['accuracy'])\n",
    "\n",
    "# Train Model\n",
    "history = model.fit(X_train, y_train, batch_size=batch_size, epochs=epochs,\n",
    "                    validation_data=(X_valid, y_valid))"
   ]
  },
  {
   "cell_type": "code",
   "execution_count": null,
   "metadata": {
    "colab": {
     "base_uri": "https://localhost:8080/",
     "height": 385
    },
    "colab_type": "code",
    "id": "PoGdSfEyI5j_",
    "outputId": "58fded22-ba2e-4b5f-ce52-68a457c4afcd"
   },
   "outputs": [
    {
     "data": {
      "text/html": [
       "\n",
       "<div id=\"altair-viz-0f0680a428ff4b2f80d67e83e55b34d0\"></div>\n",
       "<script type=\"text/javascript\">\n",
       "  (function(spec, embedOpt){\n",
       "    let outputDiv = document.currentScript.previousElementSibling;\n",
       "    if (outputDiv.id !== \"altair-viz-0f0680a428ff4b2f80d67e83e55b34d0\") {\n",
       "      outputDiv = document.getElementById(\"altair-viz-0f0680a428ff4b2f80d67e83e55b34d0\");\n",
       "    }\n",
       "    const paths = {\n",
       "      \"vega\": \"https://cdn.jsdelivr.net/npm//vega@5?noext\",\n",
       "      \"vega-lib\": \"https://cdn.jsdelivr.net/npm//vega-lib?noext\",\n",
       "      \"vega-lite\": \"https://cdn.jsdelivr.net/npm//vega-lite@4.8.1?noext\",\n",
       "      \"vega-embed\": \"https://cdn.jsdelivr.net/npm//vega-embed@6?noext\",\n",
       "    };\n",
       "\n",
       "    function loadScript(lib) {\n",
       "      return new Promise(function(resolve, reject) {\n",
       "        var s = document.createElement('script');\n",
       "        s.src = paths[lib];\n",
       "        s.async = true;\n",
       "        s.onload = () => resolve(paths[lib]);\n",
       "        s.onerror = () => reject(`Error loading script: ${paths[lib]}`);\n",
       "        document.getElementsByTagName(\"head\")[0].appendChild(s);\n",
       "      });\n",
       "    }\n",
       "\n",
       "    function showError(err) {\n",
       "      outputDiv.innerHTML = `<div class=\"error\" style=\"color:red;\">${err}</div>`;\n",
       "      throw err;\n",
       "    }\n",
       "\n",
       "    function displayChart(vegaEmbed) {\n",
       "      vegaEmbed(outputDiv, spec, embedOpt)\n",
       "        .catch(err => showError(`Javascript Error: ${err.message}<br>This usually means there's a typo in your chart specification. See the javascript console for the full traceback.`));\n",
       "    }\n",
       "\n",
       "    if(typeof define === \"function\" && define.amd) {\n",
       "      requirejs.config({paths});\n",
       "      require([\"vega-embed\"], displayChart, err => showError(`Error loading script: ${err.message}`));\n",
       "    } else if (typeof vegaEmbed === \"function\") {\n",
       "      displayChart(vegaEmbed);\n",
       "    } else {\n",
       "      loadScript(\"vega\")\n",
       "        .then(() => loadScript(\"vega-lite\"))\n",
       "        .then(() => loadScript(\"vega-embed\"))\n",
       "        .catch(showError)\n",
       "        .then(() => displayChart(vegaEmbed));\n",
       "    }\n",
       "  })({\"config\": {\"view\": {\"continuousWidth\": 400, \"continuousHeight\": 300}}, \"data\": {\"name\": \"data-1e947226f392657f47b18e0cd4ba13ec\"}, \"mark\": \"line\", \"encoding\": {\"color\": {\"type\": \"nominal\", \"field\": \"metric\"}, \"x\": {\"type\": \"quantitative\", \"field\": \"epoch\"}, \"y\": {\"type\": \"quantitative\", \"field\": \"value\"}}, \"title\": \"Loss and Accuracy\", \"$schema\": \"https://vega.github.io/schema/vega-lite/v4.8.1.json\", \"datasets\": {\"data-1e947226f392657f47b18e0cd4ba13ec\": [{\"epoch\": 0, \"metric\": \"train_loss\", \"value\": 0.2568722069263458}, {\"epoch\": 0, \"metric\": \"train_accuracy\", \"value\": 0.4945065677165985}, {\"epoch\": 0, \"metric\": \"valid_loss\", \"value\": 0.2192755490541458}, {\"epoch\": 0, \"metric\": \"valid_accuracy\", \"value\": 0.5786430239677429}, {\"epoch\": 1, \"metric\": \"train_loss\", \"value\": 0.22018542885780334}, {\"epoch\": 1, \"metric\": \"train_accuracy\", \"value\": 0.5834618210792542}, {\"epoch\": 1, \"metric\": \"valid_loss\", \"value\": 0.20851430296897888}, {\"epoch\": 1, \"metric\": \"valid_accuracy\", \"value\": 0.6056283712387085}, {\"epoch\": 2, \"metric\": \"train_loss\", \"value\": 0.2112148404121399}, {\"epoch\": 2, \"metric\": \"train_accuracy\", \"value\": 0.6040863394737244}, {\"epoch\": 2, \"metric\": \"valid_loss\", \"value\": 0.21570588648319244}, {\"epoch\": 2, \"metric\": \"valid_accuracy\", \"value\": 0.5786430239677429}, {\"epoch\": 3, \"metric\": \"train_loss\", \"value\": 0.20570968091487885}, {\"epoch\": 3, \"metric\": \"train_accuracy\", \"value\": 0.618446409702301}, {\"epoch\": 3, \"metric\": \"valid_loss\", \"value\": 0.2062971293926239}, {\"epoch\": 3, \"metric\": \"valid_accuracy\", \"value\": 0.6094834208488464}, {\"epoch\": 4, \"metric\": \"train_loss\", \"value\": 0.19908566772937775}, {\"epoch\": 4, \"metric\": \"train_accuracy\", \"value\": 0.6279876828193665}, {\"epoch\": 4, \"metric\": \"valid_loss\", \"value\": 0.20433732867240906}, {\"epoch\": 4, \"metric\": \"valid_accuracy\", \"value\": 0.617964506149292}, {\"epoch\": 5, \"metric\": \"train_loss\", \"value\": 0.19379864633083344}, {\"epoch\": 5, \"metric\": \"train_accuracy\", \"value\": 0.6372398138046265}, {\"epoch\": 5, \"metric\": \"valid_loss\", \"value\": 0.20431476831436157}, {\"epoch\": 5, \"metric\": \"valid_accuracy\", \"value\": 0.6171935200691223}, {\"epoch\": 6, \"metric\": \"train_loss\", \"value\": 0.1909097284078598}, {\"epoch\": 6, \"metric\": \"train_accuracy\", \"value\": 0.645720899105072}, {\"epoch\": 6, \"metric\": \"valid_loss\", \"value\": 0.2052135169506073}, {\"epoch\": 6, \"metric\": \"valid_accuracy\", \"value\": 0.6264456510543823}, {\"epoch\": 7, \"metric\": \"train_loss\", \"value\": 0.1855192631483078}, {\"epoch\": 7, \"metric\": \"train_accuracy\", \"value\": 0.6591172218322754}, {\"epoch\": 7, \"metric\": \"valid_loss\", \"value\": 0.20454685389995575}, {\"epoch\": 7, \"metric\": \"valid_accuracy\", \"value\": 0.6010023355484009}, {\"epoch\": 8, \"metric\": \"train_loss\", \"value\": 0.18098248541355133}, {\"epoch\": 8, \"metric\": \"train_accuracy\", \"value\": 0.6693331003189087}, {\"epoch\": 8, \"metric\": \"valid_loss\", \"value\": 0.20483215153217316}, {\"epoch\": 8, \"metric\": \"valid_accuracy\", \"value\": 0.6341557502746582}, {\"epoch\": 9, \"metric\": \"train_loss\", \"value\": 0.17832984030246735}, {\"epoch\": 9, \"metric\": \"train_accuracy\", \"value\": 0.6728990077972412}, {\"epoch\": 9, \"metric\": \"valid_loss\", \"value\": 0.207328662276268}, {\"epoch\": 9, \"metric\": \"valid_accuracy\", \"value\": 0.614109456539154}, {\"epoch\": 10, \"metric\": \"train_loss\", \"value\": 0.17358876764774323}, {\"epoch\": 10, \"metric\": \"train_accuracy\", \"value\": 0.6847532987594604}, {\"epoch\": 10, \"metric\": \"valid_loss\", \"value\": 0.20228977501392365}, {\"epoch\": 10, \"metric\": \"valid_accuracy\", \"value\": 0.6268311738967896}, {\"epoch\": 11, \"metric\": \"train_loss\", \"value\": 0.16968385875225067}, {\"epoch\": 11, \"metric\": \"train_accuracy\", \"value\": 0.6893793344497681}, {\"epoch\": 11, \"metric\": \"valid_loss\", \"value\": 0.2045319378376007}, {\"epoch\": 11, \"metric\": \"valid_accuracy\", \"value\": 0.6279876828193665}, {\"epoch\": 12, \"metric\": \"train_loss\", \"value\": 0.16739095747470856}, {\"epoch\": 12, \"metric\": \"train_accuracy\", \"value\": 0.6923670172691345}, {\"epoch\": 12, \"metric\": \"valid_loss\", \"value\": 0.2059543877840042}, {\"epoch\": 12, \"metric\": \"valid_accuracy\", \"value\": 0.6249036192893982}, {\"epoch\": 13, \"metric\": \"train_loss\", \"value\": 0.16520793735980988}, {\"epoch\": 13, \"metric\": \"train_accuracy\", \"value\": 0.6966075301170349}, {\"epoch\": 13, \"metric\": \"valid_loss\", \"value\": 0.20522280037403107}, {\"epoch\": 13, \"metric\": \"valid_accuracy\", \"value\": 0.6218195557594299}, {\"epoch\": 14, \"metric\": \"train_loss\", \"value\": 0.16203786432743073}, {\"epoch\": 14, \"metric\": \"train_accuracy\", \"value\": 0.7089437246322632}, {\"epoch\": 14, \"metric\": \"valid_loss\", \"value\": 0.20704226195812225}, {\"epoch\": 14, \"metric\": \"valid_accuracy\", \"value\": 0.6368542909622192}, {\"epoch\": 15, \"metric\": \"train_loss\", \"value\": 0.15939213335514069}, {\"epoch\": 15, \"metric\": \"train_accuracy\", \"value\": 0.7055705189704895}, {\"epoch\": 15, \"metric\": \"valid_loss\", \"value\": 0.20406101644039154}, {\"epoch\": 15, \"metric\": \"valid_accuracy\", \"value\": 0.6333847045898438}, {\"epoch\": 16, \"metric\": \"train_loss\", \"value\": 0.15594562888145447}, {\"epoch\": 16, \"metric\": \"train_accuracy\", \"value\": 0.7172320485115051}, {\"epoch\": 16, \"metric\": \"valid_loss\", \"value\": 0.20591038465499878}, {\"epoch\": 16, \"metric\": \"valid_accuracy\", \"value\": 0.6237471103668213}, {\"epoch\": 17, \"metric\": \"train_loss\", \"value\": 0.15482662618160248}, {\"epoch\": 17, \"metric\": \"train_accuracy\", \"value\": 0.7167502045631409}, {\"epoch\": 17, \"metric\": \"valid_loss\", \"value\": 0.2109525352716446}, {\"epoch\": 17, \"metric\": \"valid_accuracy\", \"value\": 0.6218195557594299}, {\"epoch\": 18, \"metric\": \"train_loss\", \"value\": 0.1505410522222519}, {\"epoch\": 18, \"metric\": \"train_accuracy\", \"value\": 0.7234001755714417}, {\"epoch\": 18, \"metric\": \"valid_loss\", \"value\": 0.21251539885997772}, {\"epoch\": 18, \"metric\": \"valid_accuracy\", \"value\": 0.6279876828193665}, {\"epoch\": 19, \"metric\": \"train_loss\", \"value\": 0.14748069643974304}, {\"epoch\": 19, \"metric\": \"train_accuracy\", \"value\": 0.7339051365852356}, {\"epoch\": 19, \"metric\": \"valid_loss\", \"value\": 0.2116403430700302}, {\"epoch\": 19, \"metric\": \"valid_accuracy\", \"value\": 0.6233615875244141}]}}, {\"mode\": \"vega-lite\"});\n",
       "</script>"
      ],
      "text/plain": [
       "alt.Chart(...)"
      ]
     },
     "execution_count": 72,
     "metadata": {
      "tags": []
     },
     "output_type": "execute_result"
    }
   ],
   "source": [
    "plot_metrics(history)"
   ]
  },
  {
   "cell_type": "code",
   "execution_count": null,
   "metadata": {
    "colab": {
     "base_uri": "https://localhost:8080/",
     "height": 71
    },
    "colab_type": "code",
    "id": "ASQ5-Oc-JADf",
    "outputId": "4914440f-9b21-494a-9761-19a42a00e5c9"
   },
   "outputs": [
    {
     "name": "stdout",
     "output_type": "stream",
     "text": [
      "82/82 [==============================] - 0s 3ms/step - loss: 0.2116 - accuracy: 0.6234\n"
     ]
    },
    {
     "data": {
      "text/plain": [
       "[0.2116403728723526, 0.6233615875244141]"
      ]
     },
     "execution_count": 73,
     "metadata": {
      "tags": []
     },
     "output_type": "execute_result"
    }
   ],
   "source": [
    "score = model.evaluate(X_valid, y_valid)\n",
    "score"
   ]
  },
  {
   "cell_type": "code",
   "execution_count": null,
   "metadata": {
    "colab": {
     "base_uri": "https://localhost:8080/",
     "height": 255
    },
    "colab_type": "code",
    "id": "xsbA_gqvJAG0",
    "outputId": "775f6599-2459-40e4-b9d9-a9842646e672"
   },
   "outputs": [
    {
     "name": "stdout",
     "output_type": "stream",
     "text": [
      "21/21 [==============================] - 0s 2ms/step\n"
     ]
    },
    {
     "data": {
      "text/plain": [
       "array([[7.6820201e-05, 2.8273737e-06, 7.1895454e-05, ..., 9.5831538e-03,\n",
       "        6.8012220e-01, 4.1924794e-03],\n",
       "       [1.1198854e-02, 9.2376041e-04, 7.3881827e-02, ..., 3.4707699e-02,\n",
       "        6.7660086e-02, 9.6595483e-03],\n",
       "       [1.5851082e-03, 1.0148665e-04, 2.7357673e-03, ..., 6.1893713e-01,\n",
       "        1.0451363e-01, 2.6430476e-01],\n",
       "       ...,\n",
       "       [3.1342328e-02, 1.4586991e-02, 1.5204502e-03, ..., 1.9623322e-02,\n",
       "        2.0681049e-03, 7.6039229e-03],\n",
       "       [9.6801907e-04, 9.7208643e-01, 2.2694515e-04, ..., 9.2990638e-04,\n",
       "        3.9620136e-05, 2.0838689e-04],\n",
       "       [1.1233550e-02, 9.0272668e-05, 8.4557505e-05, ..., 7.0597172e-01,\n",
       "        1.1349391e-02, 2.9937169e-02]], dtype=float32)"
      ]
     },
     "execution_count": 74,
     "metadata": {
      "tags": []
     },
     "output_type": "execute_result"
    }
   ],
   "source": [
    "# PREDICTIONS\n",
    "predictions = model.predict(X_valid, batch_size=batch_size, verbose=1)\n",
    "predictions"
   ]
  },
  {
   "cell_type": "code",
   "execution_count": null,
   "metadata": {
    "colab": {
     "base_uri": "https://localhost:8080/",
     "height": 207
    },
    "colab_type": "code",
    "id": "QWQHTf3wJAKg",
    "outputId": "346cf9fe-b9cb-42f5-b66a-635e312ce388"
   },
   "outputs": [
    {
     "name": "stdout",
     "output_type": "stream",
     "text": [
      "\n",
      "Micro-average quality numbers:\n"
     ]
    },
    {
     "data": {
      "text/html": [
       "<div>\n",
       "<style scoped>\n",
       "    .dataframe tbody tr th:only-of-type {\n",
       "        vertical-align: middle;\n",
       "    }\n",
       "\n",
       "    .dataframe tbody tr th {\n",
       "        vertical-align: top;\n",
       "    }\n",
       "\n",
       "    .dataframe thead th {\n",
       "        text-align: right;\n",
       "    }\n",
       "</style>\n",
       "<table border=\"1\" class=\"dataframe\">\n",
       "  <thead>\n",
       "    <tr style=\"text-align: right;\">\n",
       "      <th></th>\n",
       "      <th>Threshold</th>\n",
       "      <th>Precision</th>\n",
       "      <th>Recall</th>\n",
       "      <th>F1-measure</th>\n",
       "    </tr>\n",
       "  </thead>\n",
       "  <tbody>\n",
       "    <tr>\n",
       "      <th>0</th>\n",
       "      <td>0.6</td>\n",
       "      <td>0.868935</td>\n",
       "      <td>0.381150</td>\n",
       "      <td>0.529875</td>\n",
       "    </tr>\n",
       "    <tr>\n",
       "      <th>1</th>\n",
       "      <td>0.7</td>\n",
       "      <td>0.890719</td>\n",
       "      <td>0.328911</td>\n",
       "      <td>0.480420</td>\n",
       "    </tr>\n",
       "    <tr>\n",
       "      <th>2</th>\n",
       "      <td>0.8</td>\n",
       "      <td>0.918594</td>\n",
       "      <td>0.274461</td>\n",
       "      <td>0.422643</td>\n",
       "    </tr>\n",
       "    <tr>\n",
       "      <th>3</th>\n",
       "      <td>0.9</td>\n",
       "      <td>0.940431</td>\n",
       "      <td>0.205086</td>\n",
       "      <td>0.336737</td>\n",
       "    </tr>\n",
       "  </tbody>\n",
       "</table>\n",
       "</div>"
      ],
      "text/plain": [
       "   Threshold  Precision    Recall  F1-measure\n",
       "0        0.6   0.868935  0.381150    0.529875\n",
       "1        0.7   0.890719  0.328911    0.480420\n",
       "2        0.8   0.918594  0.274461    0.422643\n",
       "3        0.9   0.940431  0.205086    0.336737"
      ]
     },
     "execution_count": 75,
     "metadata": {
      "tags": []
     },
     "output_type": "execute_result"
    }
   ],
   "source": [
    "# PRECISION & RECALL\n",
    "predictions_results = []\n",
    "thresholds=np.arange(.6, 1, 0.1).tolist()\n",
    "\n",
    "model.build((None, max_features, embed_size))\n",
    "for val in thresholds:\n",
    "    pred=predictions.copy()\n",
    "    pred[pred>=val]=1\n",
    "    pred[pred<val]=0\n",
    "\n",
    "    precision = precision_score(y_valid, pred, average='micro')\n",
    "    recall = recall_score(y_valid, pred, average='micro')\n",
    "    f1 = f1_score(y_valid, pred, average='micro')\n",
    "   \n",
    "    case= {'Threshold': val,\n",
    "           'Precision': precision,\n",
    "           'Recall': recall,\n",
    "           'F1-measure': f1}\n",
    "    predictions_results.append(case)\n",
    "\n",
    "print(\"\\nMicro-average quality numbers:\")\n",
    "pd.DataFrame(predictions_results)"
   ]
  },
  {
   "cell_type": "code",
   "execution_count": null,
   "metadata": {
    "colab": {},
    "colab_type": "code",
    "id": "wdiy1On8NSVG"
   },
   "outputs": [],
   "source": []
  }
 ],
 "metadata": {
  "accelerator": "GPU",
  "colab": {
   "collapsed_sections": [],
   "name": "Advance_models.ipynb",
   "provenance": [],
   "toc_visible": true
  },
  "kernelspec": {
   "display_name": "Python 3",
   "language": "python",
   "name": "python3"
  },
  "language_info": {
   "codemirror_mode": {
    "name": "ipython",
    "version": 3
   },
   "file_extension": ".py",
   "mimetype": "text/x-python",
   "name": "python",
   "nbconvert_exporter": "python",
   "pygments_lexer": "ipython3",
   "version": "3.7.6"
  }
 },
 "nbformat": 4,
 "nbformat_minor": 4
}
