{
 "cells": [
  {
   "cell_type": "markdown",
   "metadata": {},
   "source": [
    "# Baseline Model for Question 1 (data from 2013, 2018, 2020)\n",
    "## Dummy Classifier model"
   ]
  },
  {
   "cell_type": "markdown",
   "metadata": {},
   "source": [
    "### Dependencies"
   ]
  },
  {
   "cell_type": "code",
   "execution_count": 1,
   "metadata": {},
   "outputs": [],
   "source": [
    "#load dependencies\n",
    "import pandas as pd\n",
    "import numpy as np\n",
    "\n",
    "from sklearn.dummy import DummyClassifier\n",
    "from sklearn.feature_extraction.text import TfidfVectorizer\n",
    "from sklearn.metrics import recall_score, precision_score"
   ]
  },
  {
   "cell_type": "code",
   "execution_count": 2,
   "metadata": {},
   "outputs": [],
   "source": [
    "#load in preprocessed train and validation datas\n",
    "#your path here\n",
    "\n",
    "X_train_Q1 = pd.read_csv('data/X_train_pp.csv')\n",
    "X_valid_Q1 = pd.read_csv('data/X_valid_pp.csv')\n",
    "\n",
    "y_train_Q1 = pd.read_csv('data/y_train.csv')\n",
    "y_valid_Q1 = pd.read_csv('data/y_valid.csv')"
   ]
  },
  {
   "cell_type": "markdown",
   "metadata": {},
   "source": [
    "### Tfid Vectorizer Representation"
   ]
  },
  {
   "cell_type": "code",
   "execution_count": 3,
   "metadata": {},
   "outputs": [],
   "source": [
    "#Tfid Vectorizer Representation\n",
    "\n",
    "def tfid_vectorizer(train, valid):\n",
    "    tfid = TfidfVectorizer() \n",
    "    X = tfid.fit_transform(train)\n",
    "    X_valid = tfid.transform(valid)\n",
    "    return X, X_valid"
   ]
  },
  {
   "cell_type": "markdown",
   "metadata": {},
   "source": [
    "### All labels (themes & sub-themes)"
   ]
  },
  {
   "cell_type": "code",
   "execution_count": 4,
   "metadata": {},
   "outputs": [],
   "source": [
    "#Vectorize X_train and convert Y_train to an array\n",
    "\n",
    "X_train, X_valid = tfid_vectorizer(X_train_Q1['Comment'].values.astype('U'), \n",
    "                                    X_valid_Q1['Comment'].values.astype('U')) #had to convert type \n",
    "Y_train = (np.array(y_train_Q1))"
   ]
  },
  {
   "cell_type": "code",
   "execution_count": 6,
   "metadata": {},
   "outputs": [
    {
     "name": "stdout",
     "output_type": "stream",
     "text": [
      "Training Score for Dummy Classifier: 9.637625289128758e-05\n",
      "Validation Score for Dummy Classifier: 0.00038550501156515033\n",
      "Validation Recall for Dummy Classifier: 0.08258928571428571\n",
      "Validation Precision for Dummy Classifier: 0.0821363280229825\n"
     ]
    }
   ],
   "source": [
    "# Dummy model\n",
    "dummy_clf = DummyClassifier()\n",
    "dummy_clf.fit(X_train, Y_train)\n",
    "dummy_clf.predict(X_train)\n",
    "\n",
    "# Scores ALL LABELS\n",
    "print(\"Training Score for Dummy Classifier:\", \n",
    "      dummy_clf.score(X_train, Y_train))\n",
    "print(\"Validation Score for Dummy Classifier:\",\n",
    "     dummy_clf.score(X_valid, np.array(y_valid_Q1)))\n",
    "\n",
    "y_pred = dummy_clf.predict(X_valid)\n",
    "print(\"Validation Recall for Dummy Classifier:\",\n",
    "     recall_score(y_pred, np.array(y_valid_Q1), average= 'micro'))\n",
    "print(\"Validation Precision for Dummy Classifier:\",\n",
    "     precision_score(y_pred, np.array(y_valid_Q1), average= 'micro'))"
   ]
  },
  {
   "cell_type": "code",
   "execution_count": 7,
   "metadata": {},
   "outputs": [
    {
     "name": "stdout",
     "output_type": "stream",
     "text": [
      "shape: (2594, 75)\n",
      "\n",
      "number of predictions per label:\n"
     ]
    },
    {
     "data": {
      "text/plain": [
       "array([323., 323., 224., 361., 221., 263., 208., 249., 410., 569., 360.,\n",
       "       109.,  21.,  14., 207.,  70.,  19.,  36.,  61.,  49., 170.,  43.,\n",
       "        30.,  20.,  38.,  64.,  94.,  31.,  16., 190.,  48.,  95.,  32.,\n",
       "        68.,  83.,  58.,   8.,  98., 128.,  35.,  34.,  38.,  75.,  12.,\n",
       "        63.,  15.,  28.,  49., 120.,  61.,  20., 145.,  72., 123.,  63.,\n",
       "        31.,  47., 298.,  70., 119.,  61.,  62.,  62.,  99.,  65.,  41.,\n",
       "        55.,  84.,   4.,  27.,  64.,  49.,  14.,   0.,   0.])"
      ]
     },
     "execution_count": 7,
     "metadata": {},
     "output_type": "execute_result"
    }
   ],
   "source": [
    "# the prediction is zero for all values\n",
    "print(\"shape:\", y_pred.shape)\n",
    "print(\"\\nnumber of predictions per label:\")\n",
    "np.sum(y_pred, axis=0)"
   ]
  },
  {
   "cell_type": "markdown",
   "metadata": {},
   "source": [
    "### Themes"
   ]
  },
  {
   "cell_type": "code",
   "execution_count": 8,
   "metadata": {},
   "outputs": [
    {
     "data": {
      "text/plain": [
       "(10376, 13)"
      ]
     },
     "execution_count": 8,
     "metadata": {},
     "output_type": "execute_result"
    }
   ],
   "source": [
    "# target THEMES\n",
    "Y_train_themes = np.concatenate((np.array(y_train_Q1)[:,:12], np.array(y_train_Q1)[:,-1:]), axis=1)\n",
    "Y_valid_themes = np.concatenate((np.array(y_valid_Q1)[:,:12], np.array(y_valid_Q1)[:,-1:]), axis=1)\n",
    "Y_train_themes.shape"
   ]
  },
  {
   "cell_type": "code",
   "execution_count": 9,
   "metadata": {},
   "outputs": [
    {
     "name": "stdout",
     "output_type": "stream",
     "text": [
      "Training Score for Dummy Classifier: 0.028527370855821126\n",
      "Validation Score for Dummy Classifier: 0.026599845797995375\n",
      "Validation Recall for Dummy Classifier: 0.12954672635702294\n",
      "Validation Precision for Dummy Classifier: 0.12797125483692648\n"
     ]
    }
   ],
   "source": [
    "# Dummy model\n",
    "dummy_clf_themes = DummyClassifier()\n",
    "dummy_clf_themes.fit(X_train, Y_train_themes)\n",
    "dummy_clf_themes.predict(X_train)\n",
    "\n",
    "# Scores THEMES\n",
    "print(\"Training Score for Dummy Classifier:\", \n",
    "      dummy_clf_themes.score(X_train, Y_train_themes))\n",
    "print(\"Validation Score for Dummy Classifier:\",\n",
    "     dummy_clf_themes.score(X_valid, Y_valid_themes))\n",
    "\n",
    "y_pred_themes = dummy_clf_themes.predict(X_valid)\n",
    "print(\"Validation Recall for Dummy Classifier:\",\n",
    "      recall_score(y_pred_themes, Y_valid_themes, average= 'micro'))\n",
    "print(\"Validation Precision for Dummy Classifier:\",\n",
    "     precision_score(y_pred_themes, Y_valid_themes, average= 'micro'))"
   ]
  },
  {
   "cell_type": "markdown",
   "metadata": {},
   "source": [
    "### Sub-themes"
   ]
  },
  {
   "cell_type": "code",
   "execution_count": 10,
   "metadata": {},
   "outputs": [
    {
     "data": {
      "text/plain": [
       "(10376, 63)"
      ]
     },
     "execution_count": 10,
     "metadata": {},
     "output_type": "execute_result"
    }
   ],
   "source": [
    "# target SUB-THEMES\n",
    "Y_train_sub = (np.array(y_train_Q1)[:,12:])\n",
    "Y_valid_sub = (np.array(y_valid_Q1)[:,12:])\n",
    "Y_train_sub.shape"
   ]
  },
  {
   "cell_type": "code",
   "execution_count": 11,
   "metadata": {},
   "outputs": [
    {
     "name": "stdout",
     "output_type": "stream",
     "text": [
      "Training Score for Dummy Classifier: 0.0047224363916730915\n",
      "Validation Score for Dummy Classifier: 0.007324595219737857\n",
      "Validation Recall for Dummy Classifier: 0.037163814180929094\n",
      "Validation Precision for Dummy Classifier: 0.03762376237623762\n"
     ]
    }
   ],
   "source": [
    "# Dummy model\n",
    "dummy_clf_sub = DummyClassifier()\n",
    "dummy_clf_sub.fit(X_train, Y_train_sub)\n",
    "dummy_clf_sub.predict(X_train)\n",
    "\n",
    "# Scores THEMES\n",
    "print(\"Training Score for Dummy Classifier:\", \n",
    "      dummy_clf_sub.score(X_train, Y_train_sub))\n",
    "print(\"Validation Score for Dummy Classifier:\",\n",
    "     dummy_clf_sub.score(X_valid, Y_valid_sub))\n",
    "\n",
    "y_pred_sub = dummy_clf_sub.predict(X_valid)\n",
    "print(\"Validation Recall for Dummy Classifier:\",\n",
    "      recall_score(y_pred_sub, Y_valid_sub, average= 'micro'))\n",
    "print(\"Validation Precision for Dummy Classifier:\",\n",
    "     precision_score(y_pred_sub, Y_valid_sub, average= 'micro'))"
   ]
  },
  {
   "cell_type": "code",
   "execution_count": null,
   "metadata": {},
   "outputs": [],
   "source": []
  }
 ],
 "metadata": {
  "kernelspec": {
   "display_name": "Python 3",
   "language": "python",
   "name": "python3"
  },
  "language_info": {
   "codemirror_mode": {
    "name": "ipython",
    "version": 3
   },
   "file_extension": ".py",
   "mimetype": "text/x-python",
   "name": "python",
   "nbconvert_exporter": "python",
   "pygments_lexer": "ipython3",
   "version": "3.7.6"
  }
 },
 "nbformat": 4,
 "nbformat_minor": 4
}
