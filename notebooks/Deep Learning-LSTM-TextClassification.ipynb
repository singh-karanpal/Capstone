{
 "cells": [
  {
   "cell_type": "markdown",
   "metadata": {},
   "source": [
    "## Deep Learning Model - LSTM Multi-Label Text Classification"
   ]
  },
  {
   "cell_type": "code",
   "execution_count": 6,
   "metadata": {},
   "outputs": [],
   "source": [
    "import os\n",
    "os.environ[\"KERAS_BACKEND\"] = \"plaidml.keras.backend\"\n",
    "import keras\n",
    "from keras.datasets import mnist\n",
    "from keras.models import Sequential\n",
    "from keras.layers import Dense, Dropout, Flatten\n",
    "from keras.layers import Conv2D, MaxPooling2D\n",
    "from keras.preprocessing.text import Tokenizer\n",
    "from keras.preprocessing.sequence import pad_sequences\n",
    "from keras.layers import Embedding, LSTM\n",
    "from keras import backend as K\n",
    "\n",
    "\n",
    "import pandas as pd\n",
    "import numpy as np\n",
    "from urllib.request import urlopen\n",
    "from bs4 import BeautifulSoup\n",
    "\n",
    "from sklearn.model_selection import train_test_split\n",
    "from sklearn.feature_extraction.text import CountVectorizer"
   ]
  },
  {
   "cell_type": "markdown",
   "metadata": {},
   "source": [
    "### Loading Data"
   ]
  },
  {
   "cell_type": "code",
   "execution_count": 2,
   "metadata": {},
   "outputs": [],
   "source": [
    "X_train_Q1 = pd.read_excel('../data/interim/X_train_Q1_clean.xlsx')\n",
    "X_valid_Q1 = pd.read_excel('../data/interim/X_valid_Q1_clean.xlsx')\n",
    "\n",
    "y_train_Q1 = pd.read_excel('../data/interim/y_train_Q1.xlsx')\n",
    "y_valid_Q1 = pd.read_excel('../data/interim/y_valid_Q1.xlsx')"
   ]
  },
  {
   "cell_type": "markdown",
   "metadata": {},
   "source": [
    "### Creating a Unified Dataframe for LSTM Ready Model"
   ]
  },
  {
   "cell_type": "code",
   "execution_count": 3,
   "metadata": {},
   "outputs": [],
   "source": [
    "df = pd.concat([X_train_Q1, y_train_Q1.iloc[:,0:12]], axis = 1)"
   ]
  },
  {
   "cell_type": "code",
   "execution_count": 4,
   "metadata": {},
   "outputs": [
    {
     "data": {
      "text/html": [
       "<div>\n",
       "<style scoped>\n",
       "    .dataframe tbody tr th:only-of-type {\n",
       "        vertical-align: middle;\n",
       "    }\n",
       "\n",
       "    .dataframe tbody tr th {\n",
       "        vertical-align: top;\n",
       "    }\n",
       "\n",
       "    .dataframe thead th {\n",
       "        text-align: right;\n",
       "    }\n",
       "</style>\n",
       "<table border=\"1\" class=\"dataframe\">\n",
       "  <thead>\n",
       "    <tr style=\"text-align: right;\">\n",
       "      <th></th>\n",
       "      <th>Comment</th>\n",
       "      <th>CPD</th>\n",
       "      <th>CB</th>\n",
       "      <th>EWC</th>\n",
       "      <th>Exec</th>\n",
       "      <th>FEW</th>\n",
       "      <th>SP</th>\n",
       "      <th>RE</th>\n",
       "      <th>Sup</th>\n",
       "      <th>SW</th>\n",
       "      <th>TEPE</th>\n",
       "      <th>VMG</th>\n",
       "      <th>OTH</th>\n",
       "    </tr>\n",
       "  </thead>\n",
       "  <tbody>\n",
       "    <tr>\n",
       "      <th>0</th>\n",
       "      <td>to be real about diversity, you need to create...</td>\n",
       "      <td>0</td>\n",
       "      <td>0</td>\n",
       "      <td>1</td>\n",
       "      <td>0</td>\n",
       "      <td>0</td>\n",
       "      <td>0</td>\n",
       "      <td>0</td>\n",
       "      <td>0</td>\n",
       "      <td>0</td>\n",
       "      <td>0</td>\n",
       "      <td>0</td>\n",
       "      <td>0</td>\n",
       "    </tr>\n",
       "    <tr>\n",
       "      <th>1</th>\n",
       "      <td>Keep the building warmer and provide warm wate...</td>\n",
       "      <td>0</td>\n",
       "      <td>0</td>\n",
       "      <td>0</td>\n",
       "      <td>0</td>\n",
       "      <td>0</td>\n",
       "      <td>0</td>\n",
       "      <td>0</td>\n",
       "      <td>0</td>\n",
       "      <td>0</td>\n",
       "      <td>1</td>\n",
       "      <td>0</td>\n",
       "      <td>0</td>\n",
       "    </tr>\n",
       "    <tr>\n",
       "      <th>2</th>\n",
       "      <td>better communication from the top down</td>\n",
       "      <td>0</td>\n",
       "      <td>0</td>\n",
       "      <td>0</td>\n",
       "      <td>1</td>\n",
       "      <td>0</td>\n",
       "      <td>0</td>\n",
       "      <td>0</td>\n",
       "      <td>0</td>\n",
       "      <td>0</td>\n",
       "      <td>0</td>\n",
       "      <td>0</td>\n",
       "      <td>0</td>\n",
       "    </tr>\n",
       "    <tr>\n",
       "      <th>3</th>\n",
       "      <td>It would be beneficial if Management did not m...</td>\n",
       "      <td>0</td>\n",
       "      <td>0</td>\n",
       "      <td>0</td>\n",
       "      <td>0</td>\n",
       "      <td>0</td>\n",
       "      <td>0</td>\n",
       "      <td>1</td>\n",
       "      <td>0</td>\n",
       "      <td>0</td>\n",
       "      <td>0</td>\n",
       "      <td>0</td>\n",
       "      <td>0</td>\n",
       "    </tr>\n",
       "    <tr>\n",
       "      <th>4</th>\n",
       "      <td>more education applicable to my job</td>\n",
       "      <td>1</td>\n",
       "      <td>0</td>\n",
       "      <td>0</td>\n",
       "      <td>0</td>\n",
       "      <td>0</td>\n",
       "      <td>0</td>\n",
       "      <td>0</td>\n",
       "      <td>0</td>\n",
       "      <td>0</td>\n",
       "      <td>0</td>\n",
       "      <td>0</td>\n",
       "      <td>0</td>\n",
       "    </tr>\n",
       "  </tbody>\n",
       "</table>\n",
       "</div>"
      ],
      "text/plain": [
       "                                             Comment  CPD  CB  EWC  Exec  FEW  \\\n",
       "0  to be real about diversity, you need to create...    0   0    1     0    0   \n",
       "1  Keep the building warmer and provide warm wate...    0   0    0     0    0   \n",
       "2             better communication from the top down    0   0    0     1    0   \n",
       "3  It would be beneficial if Management did not m...    0   0    0     0    0   \n",
       "4                more education applicable to my job    1   0    0     0    0   \n",
       "\n",
       "   SP  RE  Sup  SW  TEPE  VMG  OTH  \n",
       "0   0   0    0   0     0    0    0  \n",
       "1   0   0    0   0     1    0    0  \n",
       "2   0   0    0   0     0    0    0  \n",
       "3   0   1    0   0     0    0    0  \n",
       "4   0   0    0   0     0    0    0  "
      ]
     },
     "execution_count": 4,
     "metadata": {},
     "output_type": "execute_result"
    }
   ],
   "source": [
    "df.head()"
   ]
  },
  {
   "cell_type": "code",
   "execution_count": 5,
   "metadata": {},
   "outputs": [],
   "source": [
    "def combine_labels(list):\n",
    "    all_labels= ''\n",
    "    for tag in list:\n",
    "        all_labels = all_labels + str(tag) + ','\n",
    "    return all_labels[:-1]"
   ]
  },
  {
   "cell_type": "code",
   "execution_count": 6,
   "metadata": {},
   "outputs": [],
   "source": [
    "main_list_labels = list()\n",
    "\n",
    "for i in range(len(df)):\n",
    "    labels = np.where(df.iloc[i,1:] ==1,df.iloc[0,1:].index,0)\n",
    "    names = labels[np.nonzero(labels)]\n",
    "    main_list_labels.append(combine_labels(names))"
   ]
  },
  {
   "cell_type": "code",
   "execution_count": 7,
   "metadata": {},
   "outputs": [],
   "source": [
    "df['tags'] = main_list_labels"
   ]
  },
  {
   "cell_type": "code",
   "execution_count": 8,
   "metadata": {},
   "outputs": [],
   "source": [
    "data_df = df[['Comment','tags']]"
   ]
  },
  {
   "cell_type": "code",
   "execution_count": 9,
   "metadata": {},
   "outputs": [
    {
     "data": {
      "text/html": [
       "<div>\n",
       "<style scoped>\n",
       "    .dataframe tbody tr th:only-of-type {\n",
       "        vertical-align: middle;\n",
       "    }\n",
       "\n",
       "    .dataframe tbody tr th {\n",
       "        vertical-align: top;\n",
       "    }\n",
       "\n",
       "    .dataframe thead th {\n",
       "        text-align: right;\n",
       "    }\n",
       "</style>\n",
       "<table border=\"1\" class=\"dataframe\">\n",
       "  <thead>\n",
       "    <tr style=\"text-align: right;\">\n",
       "      <th></th>\n",
       "      <th>Comment</th>\n",
       "      <th>tags</th>\n",
       "    </tr>\n",
       "  </thead>\n",
       "  <tbody>\n",
       "    <tr>\n",
       "      <th>0</th>\n",
       "      <td>to be real about diversity, you need to create...</td>\n",
       "      <td>EWC</td>\n",
       "    </tr>\n",
       "    <tr>\n",
       "      <th>1</th>\n",
       "      <td>Keep the building warmer and provide warm wate...</td>\n",
       "      <td>TEPE</td>\n",
       "    </tr>\n",
       "    <tr>\n",
       "      <th>2</th>\n",
       "      <td>better communication from the top down</td>\n",
       "      <td>Exec</td>\n",
       "    </tr>\n",
       "    <tr>\n",
       "      <th>3</th>\n",
       "      <td>It would be beneficial if Management did not m...</td>\n",
       "      <td>RE</td>\n",
       "    </tr>\n",
       "    <tr>\n",
       "      <th>4</th>\n",
       "      <td>more education applicable to my job</td>\n",
       "      <td>CPD</td>\n",
       "    </tr>\n",
       "    <tr>\n",
       "      <th>5</th>\n",
       "      <td>Allocating resources appropriately. It feels a...</td>\n",
       "      <td>VMG</td>\n",
       "    </tr>\n",
       "    <tr>\n",
       "      <th>6</th>\n",
       "      <td>Stop moving forward with open concept offices.</td>\n",
       "      <td>FEW</td>\n",
       "    </tr>\n",
       "    <tr>\n",
       "      <th>7</th>\n",
       "      <td>Go back to the old way of doing computer refre...</td>\n",
       "      <td>SW,TEPE</td>\n",
       "    </tr>\n",
       "    <tr>\n",
       "      <th>8</th>\n",
       "      <td>greater understanding of the importance of tra...</td>\n",
       "      <td>CPD</td>\n",
       "    </tr>\n",
       "    <tr>\n",
       "      <th>9</th>\n",
       "      <td>accountability /measures required when people ...</td>\n",
       "      <td>FEW,Sup</td>\n",
       "    </tr>\n",
       "  </tbody>\n",
       "</table>\n",
       "</div>"
      ],
      "text/plain": [
       "                                             Comment     tags\n",
       "0  to be real about diversity, you need to create...      EWC\n",
       "1  Keep the building warmer and provide warm wate...     TEPE\n",
       "2             better communication from the top down     Exec\n",
       "3  It would be beneficial if Management did not m...       RE\n",
       "4                more education applicable to my job      CPD\n",
       "5  Allocating resources appropriately. It feels a...      VMG\n",
       "6     Stop moving forward with open concept offices.      FEW\n",
       "7  Go back to the old way of doing computer refre...  SW,TEPE\n",
       "8  greater understanding of the importance of tra...      CPD\n",
       "9  accountability /measures required when people ...  FEW,Sup"
      ]
     },
     "execution_count": 9,
     "metadata": {},
     "output_type": "execute_result"
    }
   ],
   "source": [
    "data_df.head(10)"
   ]
  },
  {
   "cell_type": "code",
   "execution_count": 10,
   "metadata": {},
   "outputs": [
    {
     "data": {
      "text/plain": [
       "(10376, 2)"
      ]
     },
     "execution_count": 10,
     "metadata": {},
     "output_type": "execute_result"
    }
   ],
   "source": [
    "data_df.shape"
   ]
  },
  {
   "cell_type": "markdown",
   "metadata": {},
   "source": [
    "### Pre-processing"
   ]
  },
  {
   "cell_type": "code",
   "execution_count": 11,
   "metadata": {},
   "outputs": [],
   "source": [
    "import re\n",
    "\n",
    "def decontracted(phrase):\n",
    "    # specific\n",
    "    phrase = re.sub(r\"won't\", \"will not\", phrase)\n",
    "    phrase = re.sub(r\"can\\'t\", \"can not\", phrase)\n",
    "\n",
    "    # general\n",
    "    phrase = re.sub(r\"n\\'t\", \" not\", phrase)\n",
    "    phrase = re.sub(r\"\\'re\", \" are\", phrase)\n",
    "    phrase = re.sub(r\"\\'s\", \" is\", phrase)\n",
    "    phrase = re.sub(r\"\\'d\", \" would\", phrase)\n",
    "    phrase = re.sub(r\"\\'ll\", \" will\", phrase)\n",
    "    phrase = re.sub(r\"\\'t\", \" not\", phrase)\n",
    "    phrase = re.sub(r\"\\'ve\", \" have\", phrase)\n",
    "    phrase = re.sub(r\"\\'m\", \" am\", phrase)\n",
    "    return phrase"
   ]
  },
  {
   "cell_type": "code",
   "execution_count": 12,
   "metadata": {},
   "outputs": [],
   "source": [
    "stopwords= set(['br', 'the', 'i', 'me', 'my', 'myself', 'we', 'our', 'ours', 'ourselves',\\\n",
    "            \"you'll\", \"you'd\", 'your', 'yours', 'yourself', 'yourselves', 'he', 'him', 'his', 'himself', \\\n",
    "            'she', \"she's\", 'her', 'hers', 'herself', 'it', \"it's\", 'its', 'itself', 'they', 'them', 'their',\\\n",
    "            'theirs', 'themselves', 'what', 'which', 'who', 'whom', 'this', 'that', \"that'll\", 'these', 'those', \\\n",
    "            'am', 'is', 'are', 'was', 'were', 'be', 'been', 'being', 'have', 'has', 'had', 'having', 'do', 'does', \\\n",
    "            'did', 'doing', 'a', 'an', 'the', 'and', 'but', 'if', 'or', 'because', 'as', 'until', 'while', 'of', \\\n",
    "            'at', 'by', 'for', 'with', 'about', 'against', 'between', 'into', 'through', 'during', 'before', 'after',\\\n",
    "            'above', 'below', 'to', 'from', 'up', 'down', 'in', 'out', 'on', 'off', 'over', 'under', 'again', 'further',\\\n",
    "            'then', 'once', 'here', 'there', 'when', 'where', 'why', 'how', 'all', 'any', 'both', 'each', 'few', 'more',\\\n",
    "            'most', 'other', 'some', 'such', 'only', 'own', 'same', 'so', 'than', 'too', 'very', \\\n",
    "            's', 't', 'can', 'will', 'just', 'don', \"don't\", 'should', \"should've\", 'now', 'd', 'll', 'm', 'o', 're', \\\n",
    "            've', 'y', 'ain', 'aren', \"aren't\", 'couldn', \"couldn't\", 'didn', \"didn't\", 'doesn', \"doesn't\", 'hadn',\\\n",
    "            \"hadn't\", 'hasn', \"hasn't\", 'haven', \"haven't\", 'isn', \"isn't\", 'ma', 'mightn', \"mightn't\", 'mustn',\\\n",
    "            \"mustn't\", 'needn', \"needn't\", 'shan', \"shan't\", 'shouldn', \"shouldn't\", 'wasn', \"wasn't\", 'weren', \"weren't\", \\\n",
    "            'won', \"won't\", 'wouldn', \"wouldn't\"])"
   ]
  },
  {
   "cell_type": "code",
   "execution_count": 13,
   "metadata": {},
   "outputs": [
    {
     "name": "stderr",
     "output_type": "stream",
     "text": [
      "/Users/karan/anaconda3/lib/python3.7/site-packages/ipykernel_launcher.py:13: SettingWithCopyWarning: \n",
      "A value is trying to be set on a copy of a slice from a DataFrame.\n",
      "Try using .loc[row_indexer,col_indexer] = value instead\n",
      "\n",
      "See the caveats in the documentation: https://pandas.pydata.org/pandas-docs/stable/user_guide/indexing.html#returning-a-view-versus-a-copy\n",
      "  del sys.path[0]\n"
     ]
    }
   ],
   "source": [
    "from tqdm import tqdm\n",
    "preprocessed_synopsis = []\n",
    "# tqdm is for printing the status bar\n",
    "for sentance in data_df['Comment'].values:\n",
    "    sentance = re.sub(r\"http\\S+\", \"\", sentance)\n",
    "    sentance = BeautifulSoup(sentance, 'lxml').get_text()\n",
    "    sentance = decontracted(sentance)\n",
    "    sentance = re.sub(\"\\S*\\d\\S*\", \"\", sentance).strip()\n",
    "    sentance = re.sub('[^A-Za-z]+', ' ', sentance)\n",
    "    # https://gist.github.com/sebleier/554280\n",
    "    sentance = ' '.join(e.lower() for e in sentance.split() if e.lower() not in stopwords)\n",
    "    preprocessed_synopsis.append(sentance.strip())\n",
    "data_df['preprocessed_comments']=preprocessed_synopsis"
   ]
  },
  {
   "cell_type": "code",
   "execution_count": 14,
   "metadata": {},
   "outputs": [
    {
     "data": {
      "text/html": [
       "<div>\n",
       "<style scoped>\n",
       "    .dataframe tbody tr th:only-of-type {\n",
       "        vertical-align: middle;\n",
       "    }\n",
       "\n",
       "    .dataframe tbody tr th {\n",
       "        vertical-align: top;\n",
       "    }\n",
       "\n",
       "    .dataframe thead th {\n",
       "        text-align: right;\n",
       "    }\n",
       "</style>\n",
       "<table border=\"1\" class=\"dataframe\">\n",
       "  <thead>\n",
       "    <tr style=\"text-align: right;\">\n",
       "      <th></th>\n",
       "      <th>Comment</th>\n",
       "      <th>tags</th>\n",
       "      <th>preprocessed_comments</th>\n",
       "    </tr>\n",
       "  </thead>\n",
       "  <tbody>\n",
       "    <tr>\n",
       "      <th>0</th>\n",
       "      <td>to be real about diversity, you need to create...</td>\n",
       "      <td>EWC</td>\n",
       "      <td>real diversity you need create seats table mea...</td>\n",
       "    </tr>\n",
       "    <tr>\n",
       "      <th>1</th>\n",
       "      <td>Keep the building warmer and provide warm wate...</td>\n",
       "      <td>TEPE</td>\n",
       "      <td>keep building warmer provide warm water bathroom</td>\n",
       "    </tr>\n",
       "    <tr>\n",
       "      <th>2</th>\n",
       "      <td>better communication from the top down</td>\n",
       "      <td>Exec</td>\n",
       "      <td>better communication top</td>\n",
       "    </tr>\n",
       "    <tr>\n",
       "      <th>3</th>\n",
       "      <td>It would be beneficial if Management did not m...</td>\n",
       "      <td>RE</td>\n",
       "      <td>would beneficial management not micro manage</td>\n",
       "    </tr>\n",
       "    <tr>\n",
       "      <th>4</th>\n",
       "      <td>more education applicable to my job</td>\n",
       "      <td>CPD</td>\n",
       "      <td>education applicable job</td>\n",
       "    </tr>\n",
       "  </tbody>\n",
       "</table>\n",
       "</div>"
      ],
      "text/plain": [
       "                                             Comment  tags  \\\n",
       "0  to be real about diversity, you need to create...   EWC   \n",
       "1  Keep the building warmer and provide warm wate...  TEPE   \n",
       "2             better communication from the top down  Exec   \n",
       "3  It would be beneficial if Management did not m...    RE   \n",
       "4                more education applicable to my job   CPD   \n",
       "\n",
       "                               preprocessed_comments  \n",
       "0  real diversity you need create seats table mea...  \n",
       "1   keep building warmer provide warm water bathroom  \n",
       "2                           better communication top  \n",
       "3       would beneficial management not micro manage  \n",
       "4                           education applicable job  "
      ]
     },
     "execution_count": 14,
     "metadata": {},
     "output_type": "execute_result"
    }
   ],
   "source": [
    "data_df.head()"
   ]
  },
  {
   "cell_type": "code",
   "execution_count": 15,
   "metadata": {},
   "outputs": [],
   "source": [
    "def remove_spaces(x):\n",
    "    x=x.split(\",\")\n",
    "    nospace=[]\n",
    "    for item in x:\n",
    "        item=item.lstrip()\n",
    "        nospace.append(item)\n",
    "    return (\",\").join(nospace)"
   ]
  },
  {
   "cell_type": "code",
   "execution_count": 16,
   "metadata": {},
   "outputs": [
    {
     "data": {
      "text/plain": [
       "0        EWC\n",
       "1       TEPE\n",
       "2       Exec\n",
       "3         RE\n",
       "4        CPD\n",
       "5        VMG\n",
       "6        FEW\n",
       "7    SW,TEPE\n",
       "8        CPD\n",
       "9    FEW,Sup\n",
       "Name: tags, dtype: object"
      ]
     },
     "execution_count": 16,
     "metadata": {},
     "output_type": "execute_result"
    }
   ],
   "source": [
    "data_df['tags'].apply(remove_spaces).head(10)"
   ]
  },
  {
   "cell_type": "markdown",
   "metadata": {},
   "source": [
    "### Splitting into Train and Test"
   ]
  },
  {
   "cell_type": "code",
   "execution_count": 17,
   "metadata": {},
   "outputs": [],
   "source": [
    "X = data_df[['preprocessed_comments']]\n",
    "y = data_df.drop(['Comment', 'preprocessed_comments'], axis=1)"
   ]
  },
  {
   "cell_type": "code",
   "execution_count": 18,
   "metadata": {},
   "outputs": [],
   "source": [
    "X_train, X_test, y_train, y_test = train_test_split(X, y, test_size=0.20, random_state=42)"
   ]
  },
  {
   "cell_type": "markdown",
   "metadata": {},
   "source": [
    "### Preparing Labels"
   ]
  },
  {
   "cell_type": "code",
   "execution_count": 19,
   "metadata": {},
   "outputs": [],
   "source": [
    "vectorizer = CountVectorizer(tokenizer = lambda x: x.split(\",\"), binary='true')"
   ]
  },
  {
   "cell_type": "code",
   "execution_count": 20,
   "metadata": {},
   "outputs": [],
   "source": [
    "y_train = vectorizer.fit_transform(y_train['tags']).toarray()\n",
    "y_test=vectorizer.transform(y_test['tags']).toarray()"
   ]
  },
  {
   "cell_type": "code",
   "execution_count": 21,
   "metadata": {},
   "outputs": [
    {
     "data": {
      "text/plain": [
       "150"
      ]
     },
     "execution_count": 21,
     "metadata": {},
     "output_type": "execute_result"
    }
   ],
   "source": [
    "def max_len(x):\n",
    "    a=x.split()\n",
    "    return len(a)\n",
    "\n",
    "max(data_df['Comment'].apply(max_len))"
   ]
  },
  {
   "cell_type": "markdown",
   "metadata": {},
   "source": [
    "### Vocab Size"
   ]
  },
  {
   "cell_type": "code",
   "execution_count": 22,
   "metadata": {},
   "outputs": [
    {
     "name": "stdout",
     "output_type": "stream",
     "text": [
      "10933\n"
     ]
    }
   ],
   "source": [
    "vect=Tokenizer()\n",
    "vect.fit_on_texts(X_train['preprocessed_comments'])\n",
    "vocab_size = len(vect.word_index) + 1\n",
    "print(vocab_size)"
   ]
  },
  {
   "cell_type": "markdown",
   "metadata": {},
   "source": [
    "## Modelling LSTM"
   ]
  },
  {
   "cell_type": "markdown",
   "metadata": {},
   "source": [
    "#### Padding to make all sequences of same length"
   ]
  },
  {
   "cell_type": "markdown",
   "metadata": {},
   "source": [
    "**Training Data**"
   ]
  },
  {
   "cell_type": "code",
   "execution_count": 23,
   "metadata": {},
   "outputs": [
    {
     "name": "stdout",
     "output_type": "stream",
     "text": [
      "[[5152   77  105 ...    0    0    0]\n",
      " [ 393    7 1087 ...    0    0    0]\n",
      " [6648   30 2124 ...    0    0    0]\n",
      " ...\n",
      " [   1   70  300 ...    0    0    0]\n",
      " [1471  102    6 ...    0    0    0]\n",
      " [ 116  121    6 ...    0    0    0]]\n"
     ]
    }
   ],
   "source": [
    "encoded_docs_train = vect.texts_to_sequences(X_train['preprocessed_comments'])\n",
    "max_length = vocab_size\n",
    "padded_docs_train = pad_sequences(encoded_docs_train, maxlen=1200, padding='post')\n",
    "print(padded_docs_train)"
   ]
  },
  {
   "cell_type": "markdown",
   "metadata": {},
   "source": [
    "**Test Data**"
   ]
  },
  {
   "cell_type": "code",
   "execution_count": 24,
   "metadata": {},
   "outputs": [],
   "source": [
    "encoded_docs_test =  vect.texts_to_sequences(X_test['preprocessed_comments'])\n",
    "padded_docs_test = pad_sequences(encoded_docs_test, maxlen=1200, padding='post')\n",
    "\n",
    "#encoded_docs_cv = vect.texts_to_sequences(cv['preprocessed_plots'])\n",
    "#padded_docs_cv = pad_sequences(encoded_docs_cv, maxlen=1200, padding='post')"
   ]
  },
  {
   "cell_type": "code",
   "execution_count": null,
   "metadata": {},
   "outputs": [],
   "source": []
  },
  {
   "cell_type": "markdown",
   "metadata": {},
   "source": [
    "#### Defining Model"
   ]
  },
  {
   "cell_type": "code",
   "execution_count": 25,
   "metadata": {},
   "outputs": [],
   "source": [
    "n_classes = 13"
   ]
  },
  {
   "cell_type": "code",
   "execution_count": null,
   "metadata": {
    "collapsed": true,
    "jupyter": {
     "outputs_hidden": true
    }
   },
   "outputs": [
    {
     "name": "stderr",
     "output_type": "stream",
     "text": [
      "INFO:plaidml:Opening device \"metal_amd_radeon_pro_555x.0\"\n"
     ]
    },
    {
     "name": "stdout",
     "output_type": "stream",
     "text": [
      "Train on 8300 samples, validate on 2076 samples\n",
      "Epoch 1/5\n"
     ]
    },
    {
     "name": "stderr",
     "output_type": "stream",
     "text": [
      "INFO:plaidml:Analyzing Ops: 752 of 241465 operations complete\n",
      "INFO:plaidml:Analyzing Ops: 1565 of 241465 operations complete\n",
      "INFO:plaidml:Analyzing Ops: 2408 of 241465 operations complete\n",
      "INFO:plaidml:Analyzing Ops: 3344 of 241465 operations complete\n",
      "INFO:plaidml:Analyzing Ops: 3868 of 241465 operations complete\n",
      "INFO:plaidml:Analyzing Ops: 4193 of 241465 operations complete\n",
      "INFO:plaidml:Analyzing Ops: 4535 of 241465 operations complete\n",
      "INFO:plaidml:Analyzing Ops: 4905 of 241465 operations complete\n",
      "INFO:plaidml:Analyzing Ops: 5255 of 241465 operations complete\n",
      "INFO:plaidml:Analyzing Ops: 5627 of 241465 operations complete\n",
      "INFO:plaidml:Analyzing Ops: 6007 of 241465 operations complete\n",
      "INFO:plaidml:Analyzing Ops: 6435 of 241465 operations complete\n",
      "INFO:plaidml:Analyzing Ops: 6870 of 241465 operations complete\n",
      "INFO:plaidml:Analyzing Ops: 7299 of 241465 operations complete\n",
      "INFO:plaidml:Analyzing Ops: 7765 of 241465 operations complete\n",
      "INFO:plaidml:Analyzing Ops: 8221 of 241465 operations complete\n",
      "INFO:plaidml:Analyzing Ops: 8705 of 241465 operations complete\n",
      "INFO:plaidml:Analyzing Ops: 9171 of 241465 operations complete\n",
      "INFO:plaidml:Analyzing Ops: 9655 of 241465 operations complete\n",
      "INFO:plaidml:Analyzing Ops: 10157 of 241465 operations complete\n",
      "INFO:plaidml:Analyzing Ops: 10605 of 241465 operations complete\n",
      "INFO:plaidml:Analyzing Ops: 11099 of 241465 operations complete\n",
      "INFO:plaidml:Analyzing Ops: 11603 of 241465 operations complete\n",
      "INFO:plaidml:Analyzing Ops: 12097 of 241465 operations complete\n",
      "INFO:plaidml:Analyzing Ops: 12619 of 241465 operations complete\n",
      "INFO:plaidml:Analyzing Ops: 13121 of 241465 operations complete\n",
      "INFO:plaidml:Analyzing Ops: 13634 of 241465 operations complete\n",
      "INFO:plaidml:Analyzing Ops: 14177 of 241465 operations complete\n",
      "INFO:plaidml:Analyzing Ops: 14736 of 241465 operations complete\n",
      "INFO:plaidml:Analyzing Ops: 15279 of 241465 operations complete\n",
      "INFO:plaidml:Analyzing Ops: 15838 of 241465 operations complete\n",
      "INFO:plaidml:Analyzing Ops: 16408 of 241465 operations complete\n",
      "INFO:plaidml:Analyzing Ops: 16989 of 241465 operations complete\n",
      "INFO:plaidml:Analyzing Ops: 17569 of 241465 operations complete\n",
      "INFO:plaidml:Analyzing Ops: 18167 of 241465 operations complete\n",
      "INFO:plaidml:Analyzing Ops: 18747 of 241465 operations complete\n",
      "INFO:plaidml:Analyzing Ops: 19334 of 241465 operations complete\n",
      "INFO:plaidml:Analyzing Ops: 19877 of 241465 operations complete\n",
      "INFO:plaidml:Analyzing Ops: 20379 of 241465 operations complete\n",
      "INFO:plaidml:Analyzing Ops: 20913 of 241465 operations complete\n",
      "INFO:plaidml:Analyzing Ops: 21549 of 241465 operations complete\n",
      "INFO:plaidml:Analyzing Ops: 22184 of 241465 operations complete\n",
      "INFO:plaidml:Analyzing Ops: 22841 of 241465 operations complete\n",
      "INFO:plaidml:Analyzing Ops: 23561 of 241465 operations complete\n",
      "INFO:plaidml:Analyzing Ops: 24219 of 241465 operations complete\n",
      "INFO:plaidml:Analyzing Ops: 25034 of 241465 operations complete\n",
      "INFO:plaidml:Analyzing Ops: 25777 of 241465 operations complete\n",
      "INFO:plaidml:Analyzing Ops: 26413 of 241465 operations complete\n",
      "INFO:plaidml:Analyzing Ops: 27219 of 241465 operations complete\n",
      "INFO:plaidml:Analyzing Ops: 27998 of 241465 operations complete\n",
      "INFO:plaidml:Analyzing Ops: 28786 of 241465 operations complete\n",
      "INFO:plaidml:Analyzing Ops: 29501 of 241465 operations complete\n",
      "INFO:plaidml:Analyzing Ops: 30314 of 241465 operations complete\n",
      "INFO:plaidml:Analyzing Ops: 31049 of 241465 operations complete\n",
      "INFO:plaidml:Analyzing Ops: 31948 of 241465 operations complete\n",
      "INFO:plaidml:Analyzing Ops: 32769 of 241465 operations complete\n",
      "INFO:plaidml:Analyzing Ops: 33823 of 241465 operations complete\n",
      "INFO:plaidml:Analyzing Ops: 34800 of 241465 operations complete\n",
      "INFO:plaidml:Analyzing Ops: 35885 of 241465 operations complete\n",
      "INFO:plaidml:Analyzing Ops: 37013 of 241465 operations complete\n",
      "INFO:plaidml:Analyzing Ops: 38239 of 241465 operations complete\n",
      "INFO:plaidml:Analyzing Ops: 39455 of 241465 operations complete\n",
      "INFO:plaidml:Analyzing Ops: 40711 of 241465 operations complete\n",
      "INFO:plaidml:Analyzing Ops: 42259 of 241465 operations complete\n",
      "INFO:plaidml:Analyzing Ops: 44017 of 241465 operations complete\n",
      "INFO:plaidml:Analyzing Ops: 46010 of 241465 operations complete\n",
      "INFO:plaidml:Analyzing Ops: 48594 of 241465 operations complete\n",
      "INFO:plaidml:Analyzing Ops: 50748 of 241465 operations complete\n",
      "INFO:plaidml:Analyzing Ops: 52023 of 241465 operations complete\n",
      "INFO:plaidml:Analyzing Ops: 53298 of 241465 operations complete\n",
      "INFO:plaidml:Analyzing Ops: 54216 of 241465 operations complete\n",
      "INFO:plaidml:Analyzing Ops: 54579 of 241465 operations complete\n",
      "INFO:plaidml:Analyzing Ops: 54997 of 241465 operations complete\n",
      "INFO:plaidml:Analyzing Ops: 55405 of 241465 operations complete\n",
      "INFO:plaidml:Analyzing Ops: 55831 of 241465 operations complete\n",
      "INFO:plaidml:Analyzing Ops: 56251 of 241465 operations complete\n",
      "INFO:plaidml:Analyzing Ops: 56705 of 241465 operations complete\n",
      "INFO:plaidml:Analyzing Ops: 57153 of 241465 operations complete\n",
      "INFO:plaidml:Analyzing Ops: 57619 of 241465 operations complete\n",
      "INFO:plaidml:Analyzing Ops: 58075 of 241465 operations complete\n",
      "INFO:plaidml:Analyzing Ops: 58493 of 241465 operations complete\n",
      "INFO:plaidml:Analyzing Ops: 58977 of 241465 operations complete\n",
      "INFO:plaidml:Analyzing Ops: 59367 of 241465 operations complete\n",
      "INFO:plaidml:Analyzing Ops: 59775 of 241465 operations complete\n",
      "INFO:plaidml:Analyzing Ops: 60220 of 241465 operations complete\n",
      "INFO:plaidml:Analyzing Ops: 60712 of 241465 operations complete\n",
      "INFO:plaidml:Analyzing Ops: 61170 of 241465 operations complete\n",
      "INFO:plaidml:Analyzing Ops: 61550 of 241465 operations complete\n",
      "INFO:plaidml:Analyzing Ops: 62006 of 241465 operations complete\n",
      "INFO:plaidml:Analyzing Ops: 62498 of 241465 operations complete\n",
      "INFO:plaidml:Analyzing Ops: 63015 of 241465 operations complete\n",
      "INFO:plaidml:Analyzing Ops: 63488 of 241465 operations complete\n",
      "INFO:plaidml:Analyzing Ops: 63965 of 241465 operations complete\n",
      "INFO:plaidml:Analyzing Ops: 64421 of 241465 operations complete\n",
      "INFO:plaidml:Analyzing Ops: 64943 of 241465 operations complete\n",
      "INFO:plaidml:Analyzing Ops: 65409 of 241465 operations complete\n",
      "INFO:plaidml:Analyzing Ops: 65918 of 241465 operations complete\n",
      "INFO:plaidml:Analyzing Ops: 66412 of 241465 operations complete\n",
      "INFO:plaidml:Analyzing Ops: 66927 of 241465 operations complete\n",
      "INFO:plaidml:Analyzing Ops: 67364 of 241465 operations complete\n",
      "INFO:plaidml:Analyzing Ops: 67831 of 241465 operations complete\n",
      "INFO:plaidml:Analyzing Ops: 68314 of 241465 operations complete\n",
      "INFO:plaidml:Analyzing Ops: 68829 of 241465 operations complete\n",
      "INFO:plaidml:Analyzing Ops: 69416 of 241465 operations complete\n",
      "INFO:plaidml:Analyzing Ops: 70007 of 241465 operations complete\n",
      "INFO:plaidml:Analyzing Ops: 70615 of 241465 operations complete\n",
      "INFO:plaidml:Analyzing Ops: 71213 of 241465 operations complete\n",
      "INFO:plaidml:Analyzing Ops: 71869 of 241465 operations complete\n",
      "INFO:plaidml:Analyzing Ops: 72608 of 241465 operations complete\n",
      "INFO:plaidml:Analyzing Ops: 73275 of 241465 operations complete\n",
      "INFO:plaidml:Analyzing Ops: 73959 of 241465 operations complete\n",
      "INFO:plaidml:Analyzing Ops: 74774 of 241465 operations complete\n",
      "INFO:plaidml:Analyzing Ops: 75583 of 241465 operations complete\n",
      "INFO:plaidml:Analyzing Ops: 76408 of 241465 operations complete\n",
      "INFO:plaidml:Analyzing Ops: 77217 of 241465 operations complete\n",
      "INFO:plaidml:Analyzing Ops: 78080 of 241465 operations complete\n",
      "INFO:plaidml:Analyzing Ops: 78952 of 241465 operations complete\n",
      "INFO:plaidml:Analyzing Ops: 79780 of 241465 operations complete\n",
      "INFO:plaidml:Analyzing Ops: 80723 of 241465 operations complete\n",
      "INFO:plaidml:Analyzing Ops: 81673 of 241465 operations complete\n",
      "INFO:plaidml:Analyzing Ops: 82545 of 241465 operations complete\n",
      "INFO:plaidml:Analyzing Ops: 83514 of 241465 operations complete\n",
      "INFO:plaidml:Analyzing Ops: 84713 of 241465 operations complete\n",
      "INFO:plaidml:Analyzing Ops: 85957 of 241465 operations complete\n",
      "INFO:plaidml:Analyzing Ops: 87297 of 241465 operations complete\n",
      "INFO:plaidml:Analyzing Ops: 88568 of 241465 operations complete\n",
      "INFO:plaidml:Analyzing Ops: 89871 of 241465 operations complete\n",
      "INFO:plaidml:Analyzing Ops: 91477 of 241465 operations complete\n",
      "INFO:plaidml:Analyzing Ops: 93392 of 241465 operations complete\n",
      "INFO:plaidml:Analyzing Ops: 95417 of 241465 operations complete\n",
      "INFO:plaidml:Analyzing Ops: 97724 of 241465 operations complete\n",
      "INFO:plaidml:Analyzing Ops: 102006 of 241465 operations complete\n",
      "INFO:plaidml:Analyzing Ops: 107968 of 241465 operations complete\n",
      "INFO:plaidml:Analyzing Ops: 113841 of 241465 operations complete\n",
      "INFO:plaidml:Analyzing Ops: 119216 of 241465 operations complete\n",
      "INFO:plaidml:Analyzing Ops: 124446 of 241465 operations complete\n",
      "INFO:plaidml:Analyzing Ops: 130347 of 241465 operations complete\n",
      "INFO:plaidml:Analyzing Ops: 136161 of 241465 operations complete\n",
      "INFO:plaidml:Analyzing Ops: 142013 of 241465 operations complete\n",
      "INFO:plaidml:Analyzing Ops: 147690 of 241465 operations complete\n",
      "INFO:plaidml:Analyzing Ops: 152800 of 241465 operations complete\n",
      "INFO:plaidml:Analyzing Ops: 158267 of 241465 operations complete\n",
      "INFO:plaidml:Analyzing Ops: 163473 of 241465 operations complete\n",
      "INFO:plaidml:Analyzing Ops: 168913 of 241465 operations complete\n",
      "INFO:plaidml:Analyzing Ops: 174301 of 241465 operations complete\n",
      "INFO:plaidml:Analyzing Ops: 179598 of 241465 operations complete\n",
      "INFO:plaidml:Analyzing Ops: 184964 of 241465 operations complete\n",
      "INFO:plaidml:Analyzing Ops: 190301 of 241465 operations complete\n",
      "INFO:plaidml:Analyzing Ops: 194781 of 241465 operations complete\n",
      "INFO:plaidml:Analyzing Ops: 198093 of 241465 operations complete\n",
      "INFO:plaidml:Analyzing Ops: 201389 of 241465 operations complete\n",
      "INFO:plaidml:Analyzing Ops: 204742 of 241465 operations complete\n",
      "INFO:plaidml:Analyzing Ops: 208103 of 241465 operations complete\n",
      "INFO:plaidml:Analyzing Ops: 211502 of 241465 operations complete\n",
      "INFO:plaidml:Analyzing Ops: 219458 of 241465 operations complete\n",
      "INFO:plaidml:Analyzing Ops: 222761 of 241465 operations complete\n",
      "INFO:plaidml:Analyzing Ops: 226176 of 241465 operations complete\n",
      "INFO:plaidml:Analyzing Ops: 229587 of 241465 operations complete\n",
      "INFO:plaidml:Analyzing Ops: 232988 of 241465 operations complete\n",
      "INFO:plaidml:Analyzing Ops: 236287 of 241465 operations complete\n"
     ]
    }
   ],
   "source": [
    "model = Sequential()\n",
    "# Configuring the parameters\n",
    "model.add(Embedding(vocab_size, output_dim=50, input_length=1200))\n",
    "model.add(LSTM(128, return_sequences=True))  \n",
    "# Adding a dropout layer\n",
    "model.add(Dropout(0.5))\n",
    "model.add(LSTM(64))\n",
    "model.add(Dropout(0.5))\n",
    "# Adding a dense output layer with sigmoid activation\n",
    "model.add(Dense(n_classes, activation='sigmoid'))\n",
    "#model.summary()\n",
    "\n",
    "model.compile(optimizer='adam', loss='binary_crossentropy')\n",
    "model.fit(padded_docs_train, y_train,\n",
    "                    class_weight='balanced',\n",
    "                    epochs=5,\n",
    "                    batch_size=12,\n",
    "                    verbose=1,\n",
    "                    validation_data=(padded_docs_test, y_test))"
   ]
  },
  {
   "cell_type": "code",
   "execution_count": null,
   "metadata": {},
   "outputs": [],
   "source": []
  }
 ],
 "metadata": {
  "kernelspec": {
   "display_name": "Python 3",
   "language": "python",
   "name": "python3"
  },
  "language_info": {
   "codemirror_mode": {
    "name": "ipython",
    "version": 3
   },
   "file_extension": ".py",
   "mimetype": "text/x-python",
   "name": "python",
   "nbconvert_exporter": "python",
   "pygments_lexer": "ipython3",
   "version": "3.7.7"
  }
 },
 "nbformat": 4,
 "nbformat_minor": 4
}
