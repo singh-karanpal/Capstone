{
  "nbformat": 4,
  "nbformat_minor": 0,
  "metadata": {
    "colab": {
      "name": "Final Model.ipynb",
      "provenance": [],
      "collapsed_sections": []
    },
    "kernelspec": {
      "name": "python3",
      "display_name": "Python 3"
    },
    "accelerator": "GPU"
  },
  "cells": [
    {
      "cell_type": "code",
      "metadata": {
        "id": "dLT-748oTYwc",
        "colab_type": "code",
        "colab": {}
      },
      "source": [
        "import pandas as pd\n",
        "import numpy as np"
      ],
      "execution_count": 0,
      "outputs": []
    },
    {
      "cell_type": "code",
      "metadata": {
        "id": "k8RSZW2DTbQi",
        "colab_type": "code",
        "outputId": "3da6a393-a7a0-4595-f6b3-066fe773d9df",
        "colab": {
          "base_uri": "https://localhost:8080/",
          "height": 34
        }
      },
      "source": [
        "import os\n",
        "from keras.models import Sequential, Model\n",
        "from keras.layers import Dense, Dropout, Flatten, Activation, Concatenate\n",
        "from keras.layers import Conv1D, Conv2D, MaxPooling2D, GlobalMaxPooling1D, MaxPool1D, MaxPooling1D, SpatialDropout1D, GRU, Bidirectional, AveragePooling1D, GlobalAveragePooling1D\n",
        "from keras.preprocessing.text import Tokenizer\n",
        "from keras.preprocessing.sequence import pad_sequences\n",
        "from keras.layers import Embedding, LSTM, Input\n",
        "from keras.layers.merge import concatenate\n",
        "from keras.utils import to_categorical\n",
        "from keras import layers\n",
        "import tensorflow as tf\n",
        "from tensorflow.keras import regularizers"
      ],
      "execution_count": 0,
      "outputs": [
        {
          "output_type": "stream",
          "text": [
            "Using TensorFlow backend.\n"
          ],
          "name": "stderr"
        }
      ]
    },
    {
      "cell_type": "code",
      "metadata": {
        "id": "Fr86NP8rTdNy",
        "colab_type": "code",
        "colab": {}
      },
      "source": [
        "import keras"
      ],
      "execution_count": 0,
      "outputs": []
    },
    {
      "cell_type": "code",
      "metadata": {
        "id": "apEWNdnKTgus",
        "colab_type": "code",
        "colab": {}
      },
      "source": [
        "from sklearn.metrics import precision_score, recall_score, f1_score, accuracy_score, hamming_loss, precision_recall_curve"
      ],
      "execution_count": 0,
      "outputs": []
    },
    {
      "cell_type": "code",
      "metadata": {
        "id": "ya7qnhKEW5Yw",
        "colab_type": "code",
        "colab": {}
      },
      "source": [
        "padded_docs_train = np.load('X_train.npy')\n",
        "padded_docs_valid = np.load('X_valid.npy')\n",
        "embedding_matrix_fastext = np.load('embedding_matrix_fastext_ppd.npy')\n",
        "embedding_matrix_glove = np.load('embedding_matrix_glove_300.npy')\n",
        "y_train_ohe = np.load('y_train.npy')\n",
        "y_valid_ohe = np.load('y_valid.npy')"
      ],
      "execution_count": 0,
      "outputs": []
    },
    {
      "cell_type": "code",
      "metadata": {
        "id": "HVrODwu8UgnB",
        "colab_type": "code",
        "colab": {}
      },
      "source": [
        "max_features = embedding_matrix_fastext.shape[0] ## vocabulary size\n",
        "maxlen = padded_docs_train.shape[1]\n",
        "embed_size = 300 ## for glove using 300d dataset\n",
        "n_class = 12\n",
        "\n",
        "epochs = 12\n",
        "batch_size = 100"
      ],
      "execution_count": 0,
      "outputs": []
    },
    {
      "cell_type": "code",
      "metadata": {
        "id": "2uE9JKmCUhUH",
        "colab_type": "code",
        "colab": {}
      },
      "source": [
        "def define_model(length, max_features):\n",
        "  # channel 1\n",
        "  inputs1 = Input(shape=(length,))\n",
        "  embedding1 = Embedding(max_features, 300, weights=[embedding_matrix_fastext], trainable=False)(inputs1)\n",
        "\n",
        "  bi_gru = Bidirectional(GRU(278, return_sequences=True))(embedding1)\n",
        "\n",
        "  global_pool = GlobalMaxPooling1D()(bi_gru)\n",
        "  avg_pool = GlobalAveragePooling1D()(bi_gru)\n",
        "\n",
        "  concat_layer = Concatenate()([global_pool, avg_pool])\n",
        "\n",
        "  output = Dense(n_class, activation='sigmoid')(concat_layer)\n",
        "\n",
        "  model=Model(inputs1, output)\n",
        "\n",
        "  model.compile(loss='binary_crossentropy', optimizer='adam', metrics=['accuracy', 'categorical_accuracy'])\n",
        "  model.summary()\n",
        "  return model"
      ],
      "execution_count": 0,
      "outputs": []
    },
    {
      "cell_type": "code",
      "metadata": {
        "id": "ISnL1C7OXAuu",
        "colab_type": "code",
        "colab": {}
      },
      "source": [
        "model_gru_4 = define_model(maxlen, max_features)"
      ],
      "execution_count": 0,
      "outputs": []
    },
    {
      "cell_type": "code",
      "metadata": {
        "id": "x1hC-ZInXCmR",
        "colab_type": "code",
        "colab": {}
      },
      "source": [
        "model_gru_4.compile(loss='binary_crossentropy', optimizer='adam', metrics=['accuracy'])\n",
        "model_gru_4.fit(padded_docs_train, y_train_ohe, validation_split=0.1, epochs=epochs, batch_size=batch_size, verbose=1)"
      ],
      "execution_count": 0,
      "outputs": []
    },
    {
      "cell_type": "code",
      "metadata": {
        "id": "qlEZZ-m3XEeF",
        "colab_type": "code",
        "colab": {}
      },
      "source": [
        "pred_bidgru_fastext_4 = model_gru_4.predict(padded_docs_valid)"
      ],
      "execution_count": 0,
      "outputs": []
    },
    {
      "cell_type": "code",
      "metadata": {
        "id": "hHJ4VASgXGXq",
        "colab_type": "code",
        "colab": {}
      },
      "source": [
        "# PRECISION & RECALL\n",
        "from sklearn.metrics import precision_score, recall_score, f1_score, accuracy_score, hamming_loss\n",
        "predictions_results = []\n",
        "\n",
        "thresholds=[0.3, 0.4, 0.5, 0.6, 0.7, 0.8, 0.9]\n",
        "\n",
        "for val in thresholds:\n",
        "  pred=pred_bidgru_fastext_4.copy()\n",
        "  pred[pred>=val]=1\n",
        "  pred[pred<val]=0\n",
        "  \n",
        "  accuracy = accuracy_score(y_valid_ohe, pred, normalize=True, sample_weight=None)\n",
        "  hamming = hamming_loss(y_valid_ohe, pred)\n",
        "  precision = precision_score(y_valid_ohe, pred, average='micro')\n",
        "  recall = recall_score(y_valid_ohe, pred, average='micro')\n",
        "  f1 = f1_score(y_valid_ohe, pred, average='micro')\n",
        "  case= {'Threshold': val,\n",
        "          'Accuracy': accuracy,\n",
        "          'Hamming loss': hamming,\n",
        "          'Precision': precision,\n",
        "          'Recall': recall,\n",
        "          'F1-measure': f1}\n",
        "  predictions_results.append(case)\n",
        "\n",
        "print(\"Micro-average quality numbers:\")\n",
        "pd.DataFrame(predictions_results)"
      ],
      "execution_count": 0,
      "outputs": []
    }
  ]
}