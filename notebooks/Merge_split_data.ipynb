{
 "cells": [
  {
   "cell_type": "markdown",
   "metadata": {},
   "source": [
    "## **Script for merging and splitting data into train, validation and test sets**"
   ]
  },
  {
   "cell_type": "code",
   "execution_count": 23,
   "metadata": {},
   "outputs": [],
   "source": [
    "import numpy as np\n",
    "import pandas as pd\n",
    "from sklearn.model_selection import train_test_split"
   ]
  },
  {
   "cell_type": "markdown",
   "metadata": {},
   "source": [
    "### **Question 1**"
   ]
  },
  {
   "cell_type": "markdown",
   "metadata": {},
   "source": [
    "**Reading datasets** (2013, 2018, 2020 labeled datasets)"
   ]
  },
  {
   "cell_type": "code",
   "execution_count": 24,
   "metadata": {},
   "outputs": [],
   "source": [
    "pd.set_option('display.max_colwidth', 60)"
   ]
  },
  {
   "cell_type": "code",
   "execution_count": 27,
   "metadata": {},
   "outputs": [],
   "source": [
    "# WES 2013, question 1\n",
    "data_2013 = pd.read_excel(\"../../data/WES2013 1st Qual Sample - Coded.xlsx\", \n",
    "                     sheet_name='2013 1st Qual Sample',\n",
    "                     skiprows=1)   ## change your path for data\n",
    "data_2013.rename(columns={'_telkey':'Telkey',\n",
    "                          'AQ3345_13':'Comment'}, inplace=True)\n",
    "data_2013['Year'] = 2013"
   ]
  },
  {
   "cell_type": "code",
   "execution_count": 28,
   "metadata": {},
   "outputs": [],
   "source": [
    "# WES 2018, question 1\n",
    "data_2018 = pd.read_excel(\"../../data/WES2018 1st Qual Coded - Final Comments and Codes.xlsx\", \n",
    "                     sheet_name='2018 1st Qual',\n",
    "                     skiprows=1)   ## change your path for data\n",
    "data_2018.rename(columns={'_telkey':'Telkey',\n",
    "                          'Q3345_13':'Comment'}, inplace=True)\n",
    "data_2018['Year'] = 2018"
   ]
  },
  {
   "cell_type": "code",
   "execution_count": 29,
   "metadata": {},
   "outputs": [],
   "source": [
    "# WES 2020, question 1\n",
    "data_2020 = pd.read_excel(\"../../data/WES2020 1st Qual Coded - Final Comments and Codes.xlsx\", \n",
    "                     sheet_name='2020 1st Qual',\n",
    "                     skiprows=1)\n",
    "data_2020.rename(columns={'Q3345_13:   What one thing would you like your organization to focus on to improve your work environment?':'Comment'}, inplace=True)\n",
    "data_2020['Year'] = 2020"
   ]
  },
  {
   "cell_type": "markdown",
   "metadata": {},
   "source": [
    "**Compiling datasets**"
   ]
  },
  {
   "cell_type": "code",
   "execution_count": 31,
   "metadata": {},
   "outputs": [],
   "source": [
    "# header\n",
    "header_codes = pd.read_excel(\"../../data/WES2020 1st Qual Coded - Final Comments and Codes.xlsx\", \n",
    "                          sheet_name='Codebook',\n",
    "                          usecols='A,F')\n",
    "\n",
    "# In this line I am correcting their CODE, for the subthemes of\n",
    "# 11-Vision_Mission_Goals and 12-Other, because those should have \n",
    "# codes as 11.1 and not 111, to be similar to all the other \n",
    "# subthemes' format.\n",
    "\n",
    "header_codes['CODE'] = [code/10 if code>100 else code for code in header_codes['CODE']]\n",
    "\n",
    "# Comment: Note that all the CODEs that have XX.0 format (finish in \n",
    "# zero) are themes, and any CODE with decimals is a subtheme."
   ]
  },
  {
   "cell_type": "code",
   "execution_count": 32,
   "metadata": {},
   "outputs": [],
   "source": [
    "# header_codes"
   ]
  },
  {
   "cell_type": "code",
   "execution_count": 33,
   "metadata": {},
   "outputs": [],
   "source": [
    "# Dictionaries for header (back and forward)\n",
    "header_dict_VAR = {header_codes['VARIABLE NAME'][i] : header_codes['CODE'][i] for i in range(0, len(header_codes['CODE']))}\n",
    "header_dict_COD = {header_codes['CODE'][i] : header_codes['VARIABLE NAME'][i] for i in range(0, len(header_codes['CODE']))}\n",
    "# header_dict_COD # <-- Print this to show what the dictionary looks like it but be can erase the line"
   ]
  },
  {
   "cell_type": "markdown",
   "metadata": {},
   "source": [
    "##### Comment: Note that all the CODEs that have XX.0 format (finish in zero) are themes, and any CODE with decimals is a subtheme."
   ]
  },
  {
   "cell_type": "code",
   "execution_count": 34,
   "metadata": {},
   "outputs": [],
   "source": [
    "# Correcting names to compile the databases\n",
    "data_2013.rename(columns = {\"Tools_Equipment_Physical_Environment\":'TEPE',\n",
    "    \"Vision_Mission_Goals\":'VMG',\n",
    "    \"Other\":'OTH',\n",
    "    \"Other comments\":'OTH_Other_related',\n",
    "    \"Positive comments\": \"OTH_Positive_comments\"}, inplace=True)\n",
    "\n",
    "data_2018.rename(columns = {'FWE':'FEW',\n",
    "    'CPD_Improve_performance_management':'CPD_Improve_performance',\n",
    "    'CB_Improve_benefits':'CB_Improve_medical',\n",
    "    'Exec_Strengthen_quality_of_executive_leadership':'Exec_Strengthen_quality_of_executive_leaders',\n",
    "    'FWE_Leading_Workplace_Strategies':'FWE_Improve_and_or_expand_Leading_Workplace_Strategies_LWS',\n",
    "    'TEPE__Ensure_safety_and_security':'TEPE__Ensure_safety',\n",
    "    'TEPE_Better_supplies_equipment':'TEPE_Provide_better_equipment',\n",
    "    'TEPE_Better_furniture':'TEPE_Provide_better_furniture',\n",
    "    'TEPE_Better_computer_hardware':'TEPE_Provide_better_hardware',\n",
    "    'VMG_Assess_plans_priorities':'VMG_Assess_plans',\n",
    "    'VMG_Improve_program_implementation':'VMG_Improve_program',\n",
    "    'VMG_Public_interest_and_service_delivery':'VMG_Pay_attention_to_the_public_interest',\n",
    "    'VMG_Keep_politics_out_of_work':'VMG_Remove_political_influence'\n",
    "    }, inplace=True)\n",
    "\n",
    "# Comment: the code for theme 'FEW' is different from the \n",
    "# initial part of their sub-themes ('FWE')."
   ]
  },
  {
   "cell_type": "code",
   "execution_count": 53,
   "metadata": {},
   "outputs": [
    {
     "data": {
      "text/html": [
       "<div>\n",
       "<style scoped>\n",
       "    .dataframe tbody tr th:only-of-type {\n",
       "        vertical-align: middle;\n",
       "    }\n",
       "\n",
       "    .dataframe tbody tr th {\n",
       "        vertical-align: top;\n",
       "    }\n",
       "\n",
       "    .dataframe thead th {\n",
       "        text-align: right;\n",
       "    }\n",
       "</style>\n",
       "<table border=\"1\" class=\"dataframe\">\n",
       "  <thead>\n",
       "    <tr style=\"text-align: right;\">\n",
       "      <th></th>\n",
       "      <th>Telkey</th>\n",
       "      <th>Comment</th>\n",
       "      <th>CPD</th>\n",
       "      <th>CB</th>\n",
       "      <th>EWC</th>\n",
       "      <th>Exec</th>\n",
       "      <th>FEW</th>\n",
       "      <th>SP</th>\n",
       "      <th>RE</th>\n",
       "      <th>Sup</th>\n",
       "      <th>...</th>\n",
       "      <th>VMG_Pay_attention_to_the_public_interest</th>\n",
       "      <th>VMG_Review_funding_or_budget</th>\n",
       "      <th>VMG_Remove_political_influence</th>\n",
       "      <th>VMG_other</th>\n",
       "      <th>OTH_Other_related</th>\n",
       "      <th>OTH_Positive_comments</th>\n",
       "      <th>OTH_Survey_feedback</th>\n",
       "      <th>OTH_Covid</th>\n",
       "      <th>Unrelated</th>\n",
       "      <th>Year</th>\n",
       "    </tr>\n",
       "  </thead>\n",
       "  <tbody>\n",
       "    <tr>\n",
       "      <th>0</th>\n",
       "      <td>172538-522988</td>\n",
       "      <td>WAGES!      We are all very underpaid.    It is very dif...</td>\n",
       "      <td>0</td>\n",
       "      <td>1</td>\n",
       "      <td>0</td>\n",
       "      <td>0</td>\n",
       "      <td>0</td>\n",
       "      <td>0</td>\n",
       "      <td>0</td>\n",
       "      <td>0</td>\n",
       "      <td>...</td>\n",
       "      <td>0</td>\n",
       "      <td>0</td>\n",
       "      <td>0</td>\n",
       "      <td>0</td>\n",
       "      <td>0</td>\n",
       "      <td>0</td>\n",
       "      <td>0.0</td>\n",
       "      <td>0.0</td>\n",
       "      <td>0.0</td>\n",
       "      <td>2020</td>\n",
       "    </tr>\n",
       "    <tr>\n",
       "      <th>1</th>\n",
       "      <td>172540-015050</td>\n",
       "      <td>With each \"bad\" press news story the organization knee j...</td>\n",
       "      <td>0</td>\n",
       "      <td>0</td>\n",
       "      <td>0</td>\n",
       "      <td>0</td>\n",
       "      <td>0</td>\n",
       "      <td>0</td>\n",
       "      <td>0</td>\n",
       "      <td>0</td>\n",
       "      <td>...</td>\n",
       "      <td>0</td>\n",
       "      <td>0</td>\n",
       "      <td>0</td>\n",
       "      <td>1</td>\n",
       "      <td>0</td>\n",
       "      <td>0</td>\n",
       "      <td>0.0</td>\n",
       "      <td>0.0</td>\n",
       "      <td>0.0</td>\n",
       "      <td>2020</td>\n",
       "    </tr>\n",
       "    <tr>\n",
       "      <th>2</th>\n",
       "      <td>172550-323842</td>\n",
       "      <td>better seating furniture and office layout</td>\n",
       "      <td>0</td>\n",
       "      <td>0</td>\n",
       "      <td>0</td>\n",
       "      <td>0</td>\n",
       "      <td>0</td>\n",
       "      <td>0</td>\n",
       "      <td>0</td>\n",
       "      <td>0</td>\n",
       "      <td>...</td>\n",
       "      <td>0</td>\n",
       "      <td>0</td>\n",
       "      <td>0</td>\n",
       "      <td>0</td>\n",
       "      <td>0</td>\n",
       "      <td>0</td>\n",
       "      <td>0.0</td>\n",
       "      <td>0.0</td>\n",
       "      <td>0.0</td>\n",
       "      <td>2020</td>\n",
       "    </tr>\n",
       "    <tr>\n",
       "      <th>3</th>\n",
       "      <td>172553-172324</td>\n",
       "      <td>Is to improve the ventilation system for heating and coo...</td>\n",
       "      <td>0</td>\n",
       "      <td>0</td>\n",
       "      <td>0</td>\n",
       "      <td>0</td>\n",
       "      <td>0</td>\n",
       "      <td>0</td>\n",
       "      <td>0</td>\n",
       "      <td>0</td>\n",
       "      <td>...</td>\n",
       "      <td>0</td>\n",
       "      <td>0</td>\n",
       "      <td>0</td>\n",
       "      <td>0</td>\n",
       "      <td>0</td>\n",
       "      <td>0</td>\n",
       "      <td>0.0</td>\n",
       "      <td>0.0</td>\n",
       "      <td>0.0</td>\n",
       "      <td>2020</td>\n",
       "    </tr>\n",
       "    <tr>\n",
       "      <th>4</th>\n",
       "      <td>172553-986176</td>\n",
       "      <td>Stop hiring based on scenarios.  Hire based on knowledge...</td>\n",
       "      <td>0</td>\n",
       "      <td>0</td>\n",
       "      <td>0</td>\n",
       "      <td>0</td>\n",
       "      <td>0</td>\n",
       "      <td>1</td>\n",
       "      <td>0</td>\n",
       "      <td>0</td>\n",
       "      <td>...</td>\n",
       "      <td>0</td>\n",
       "      <td>0</td>\n",
       "      <td>0</td>\n",
       "      <td>0</td>\n",
       "      <td>0</td>\n",
       "      <td>0</td>\n",
       "      <td>0.0</td>\n",
       "      <td>0.0</td>\n",
       "      <td>0.0</td>\n",
       "      <td>2020</td>\n",
       "    </tr>\n",
       "  </tbody>\n",
       "</table>\n",
       "<p>5 rows × 78 columns</p>\n",
       "</div>"
      ],
      "text/plain": [
       "          Telkey                                                      Comment  \\\n",
       "0  172538-522988  WAGES!      We are all very underpaid.    It is very dif...   \n",
       "1  172540-015050  With each \"bad\" press news story the organization knee j...   \n",
       "2  172550-323842                   better seating furniture and office layout   \n",
       "3  172553-172324  Is to improve the ventilation system for heating and coo...   \n",
       "4  172553-986176  Stop hiring based on scenarios.  Hire based on knowledge...   \n",
       "\n",
       "   CPD  CB  EWC  Exec  FEW  SP  RE  Sup  ...  \\\n",
       "0    0   1    0     0    0   0   0    0  ...   \n",
       "1    0   0    0     0    0   0   0    0  ...   \n",
       "2    0   0    0     0    0   0   0    0  ...   \n",
       "3    0   0    0     0    0   0   0    0  ...   \n",
       "4    0   0    0     0    0   1   0    0  ...   \n",
       "\n",
       "   VMG_Pay_attention_to_the_public_interest  VMG_Review_funding_or_budget  \\\n",
       "0                                         0                             0   \n",
       "1                                         0                             0   \n",
       "2                                         0                             0   \n",
       "3                                         0                             0   \n",
       "4                                         0                             0   \n",
       "\n",
       "   VMG_Remove_political_influence  VMG_other  OTH_Other_related  \\\n",
       "0                               0          0                  0   \n",
       "1                               0          1                  0   \n",
       "2                               0          0                  0   \n",
       "3                               0          0                  0   \n",
       "4                               0          0                  0   \n",
       "\n",
       "   OTH_Positive_comments  OTH_Survey_feedback  OTH_Covid  Unrelated  Year  \n",
       "0                      0                  0.0        0.0        0.0  2020  \n",
       "1                      0                  0.0        0.0        0.0  2020  \n",
       "2                      0                  0.0        0.0        0.0  2020  \n",
       "3                      0                  0.0        0.0        0.0  2020  \n",
       "4                      0                  0.0        0.0        0.0  2020  \n",
       "\n",
       "[5 rows x 78 columns]"
      ]
     },
     "execution_count": 53,
     "metadata": {},
     "output_type": "execute_result"
    }
   ],
   "source": [
    "# Put databases together\n",
    "frames = [data_2020, data_2018, data_2013]\n",
    "data_all = pd.concat(frames)\n",
    "data_all_num = data_all.rename(columns=header_dict_VAR)\n",
    "# pd.set_option('display.max_colwidth', 60) # <-- to display just the beggining of the comment\n",
    "data_all.head()"
   ]
  },
  {
   "cell_type": "code",
   "execution_count": 56,
   "metadata": {},
   "outputs": [
    {
     "data": {
      "text/plain": [
       "(31768, 78)"
      ]
     },
     "execution_count": 56,
     "metadata": {},
     "output_type": "execute_result"
    }
   ],
   "source": [
    "data_all.shape"
   ]
  },
  {
   "cell_type": "code",
   "execution_count": 57,
   "metadata": {},
   "outputs": [],
   "source": [
    "# Karan's addition for R Shiny app (note this is for all dataset)\n",
    "data_all.to_excel('../../data/bcstats.xlsx',index = False)"
   ]
  },
  {
   "cell_type": "markdown",
   "metadata": {},
   "source": [
    "**Basic Cleaning**"
   ]
  },
  {
   "cell_type": "code",
   "execution_count": 36,
   "metadata": {},
   "outputs": [],
   "source": [
    "## dropping null rows\n",
    "data_all.dropna(inplace=True)"
   ]
  },
  {
   "cell_type": "code",
   "execution_count": 37,
   "metadata": {},
   "outputs": [
    {
     "data": {
      "text/plain": [
       "0"
      ]
     },
     "execution_count": 37,
     "metadata": {},
     "output_type": "execute_result"
    }
   ],
   "source": [
    "data_all['Comment'].isnull().sum()"
   ]
  },
  {
   "cell_type": "markdown",
   "metadata": {},
   "source": [
    "**Splitting data into train, test and validation portions**"
   ]
  },
  {
   "cell_type": "code",
   "execution_count": 38,
   "metadata": {},
   "outputs": [],
   "source": [
    "X = data_all['Comment']\n",
    "y = data_all.drop(['Telkey', 'Comment', 'Year'], axis=1)"
   ]
  },
  {
   "cell_type": "code",
   "execution_count": 39,
   "metadata": {},
   "outputs": [],
   "source": [
    "X_trainvalid, X_test, y_trainvalid, y_test = train_test_split(X, y, test_size=0.20, random_state=42)"
   ]
  },
  {
   "cell_type": "code",
   "execution_count": 40,
   "metadata": {},
   "outputs": [],
   "source": [
    "X_train, X_valid, y_train, y_valid = train_test_split(X_trainvalid, y_trainvalid, test_size=0.20, random_state=42)"
   ]
  },
  {
   "cell_type": "code",
   "execution_count": 54,
   "metadata": {},
   "outputs": [
    {
     "data": {
      "text/plain": [
       "(10376,)"
      ]
     },
     "execution_count": 54,
     "metadata": {},
     "output_type": "execute_result"
    }
   ],
   "source": [
    "X_train.shape"
   ]
  },
  {
   "cell_type": "code",
   "execution_count": 41,
   "metadata": {},
   "outputs": [],
   "source": [
    "## y_train with column names as code numbers\n",
    "y_train_num = y_train.rename(columns=header_dict_VAR) "
   ]
  },
  {
   "cell_type": "markdown",
   "metadata": {},
   "source": [
    "**Saving files**"
   ]
  },
  {
   "cell_type": "code",
   "execution_count": 17,
   "metadata": {},
   "outputs": [],
   "source": [
    "# target datasets\n",
    "y_train.to_csv('../data/y_train.csv', index=False)\n",
    "y_valid.to_csv('../data/y_valid.csv', index=False)\n",
    "\n",
    "# explanatory variable - Comments\n",
    "################################################################################\n",
    "### CAUTION! these lines save the COMMENTS, which have sensible information. ###\n",
    "################################################################################\n",
    "# X_train.to_csv('../data/X_train.csv', index=False)\n",
    "# X_valid.to_csv('../data/X_valid.csv', index=False)"
   ]
  },
  {
   "cell_type": "code",
   "execution_count": 18,
   "metadata": {},
   "outputs": [],
   "source": [
    "# y_train_num.to_csv('data/y_train_num.csv', index=False)"
   ]
  },
  {
   "cell_type": "markdown",
   "metadata": {},
   "source": [
    "### **Question 2** - Supervised (2018 labeled dataset)"
   ]
  },
  {
   "cell_type": "markdown",
   "metadata": {},
   "source": [
    "**Reading dataset** (2018)"
   ]
  },
  {
   "cell_type": "code",
   "execution_count": 87,
   "metadata": {},
   "outputs": [],
   "source": [
    "# WES 2018, question 2\n",
    "data_2018_2 = pd.read_excel('../../data/WES2018 2nd Qual Coded - Final Comments and Codes.xlsx', \n",
    "                     sheet_name='2018 2nd Qual Coded (All)')  ## change path for data\n",
    "data_2018_2.rename(columns={'Q4981_11':'Comment'}, inplace=True)"
   ]
  },
  {
   "cell_type": "code",
   "execution_count": 88,
   "metadata": {},
   "outputs": [
    {
     "data": {
      "text/html": [
       "<div>\n",
       "<style scoped>\n",
       "    .dataframe tbody tr th:only-of-type {\n",
       "        vertical-align: middle;\n",
       "    }\n",
       "\n",
       "    .dataframe tbody tr th {\n",
       "        vertical-align: top;\n",
       "    }\n",
       "\n",
       "    .dataframe thead th {\n",
       "        text-align: right;\n",
       "    }\n",
       "</style>\n",
       "<table border=\"1\" class=\"dataframe\">\n",
       "  <thead>\n",
       "    <tr style=\"text-align: right;\">\n",
       "      <th></th>\n",
       "      <th>Telkey</th>\n",
       "      <th>Comment</th>\n",
       "      <th># of codes</th>\n",
       "      <th>N/A</th>\n",
       "      <th>ENG</th>\n",
       "      <th>c_topdown</th>\n",
       "      <th>c_botup</th>\n",
       "      <th>c_other</th>\n",
       "      <th>c_Aware</th>\n",
       "      <th>S&amp;W</th>\n",
       "      <th>TOOLS</th>\n",
       "      <th>A_CarDev</th>\n",
       "      <th>A_EXEC</th>\n",
       "      <th>A_SUP</th>\n",
       "      <th>A_VMG</th>\n",
       "      <th>A_REC&amp;EMP</th>\n",
       "      <th>A_TEAM</th>\n",
       "      <th>A_SP&amp;Jsat&amp;Pay</th>\n",
       "      <th>Other</th>\n",
       "    </tr>\n",
       "  </thead>\n",
       "  <tbody>\n",
       "    <tr>\n",
       "      <th>0</th>\n",
       "      <td>180999-599664</td>\n",
       "      <td>Supervisory development and accountability Recognition a...</td>\n",
       "      <td>7.0</td>\n",
       "      <td>0.0</td>\n",
       "      <td>0.0</td>\n",
       "      <td>1.0</td>\n",
       "      <td>0.0</td>\n",
       "      <td>0.0</td>\n",
       "      <td>0.0</td>\n",
       "      <td>1.0</td>\n",
       "      <td>1.0</td>\n",
       "      <td>0.0</td>\n",
       "      <td>0.0</td>\n",
       "      <td>1.0</td>\n",
       "      <td>0.0</td>\n",
       "      <td>1.0</td>\n",
       "      <td>1.0</td>\n",
       "      <td>1.0</td>\n",
       "      <td>0.0</td>\n",
       "    </tr>\n",
       "    <tr>\n",
       "      <th>1</th>\n",
       "      <td>181577-570226</td>\n",
       "      <td>Expectations, Communication at all levels, engagement, r...</td>\n",
       "      <td>6.0</td>\n",
       "      <td>0.0</td>\n",
       "      <td>0.0</td>\n",
       "      <td>1.0</td>\n",
       "      <td>1.0</td>\n",
       "      <td>0.0</td>\n",
       "      <td>1.0</td>\n",
       "      <td>1.0</td>\n",
       "      <td>0.0</td>\n",
       "      <td>0.0</td>\n",
       "      <td>0.0</td>\n",
       "      <td>0.0</td>\n",
       "      <td>0.0</td>\n",
       "      <td>1.0</td>\n",
       "      <td>1.0</td>\n",
       "      <td>0.0</td>\n",
       "      <td>0.0</td>\n",
       "    </tr>\n",
       "    <tr>\n",
       "      <th>2</th>\n",
       "      <td>187688-377968</td>\n",
       "      <td>Improved morale, communication, respect, empowerment, tr...</td>\n",
       "      <td>6.0</td>\n",
       "      <td>0.0</td>\n",
       "      <td>0.0</td>\n",
       "      <td>0.0</td>\n",
       "      <td>0.0</td>\n",
       "      <td>1.0</td>\n",
       "      <td>0.0</td>\n",
       "      <td>1.0</td>\n",
       "      <td>0.0</td>\n",
       "      <td>1.0</td>\n",
       "      <td>0.0</td>\n",
       "      <td>1.0</td>\n",
       "      <td>0.0</td>\n",
       "      <td>1.0</td>\n",
       "      <td>1.0</td>\n",
       "      <td>0.0</td>\n",
       "      <td>0.0</td>\n",
       "    </tr>\n",
       "    <tr>\n",
       "      <th>3</th>\n",
       "      <td>173821-289382</td>\n",
       "      <td>Organization provided CYMH Clinicians with data on cell ...</td>\n",
       "      <td>5.0</td>\n",
       "      <td>0.0</td>\n",
       "      <td>0.0</td>\n",
       "      <td>1.0</td>\n",
       "      <td>0.0</td>\n",
       "      <td>1.0</td>\n",
       "      <td>0.0</td>\n",
       "      <td>0.0</td>\n",
       "      <td>1.0</td>\n",
       "      <td>1.0</td>\n",
       "      <td>0.0</td>\n",
       "      <td>0.0</td>\n",
       "      <td>0.0</td>\n",
       "      <td>1.0</td>\n",
       "      <td>0.0</td>\n",
       "      <td>0.0</td>\n",
       "      <td>0.0</td>\n",
       "    </tr>\n",
       "    <tr>\n",
       "      <th>4</th>\n",
       "      <td>174099-084198</td>\n",
       "      <td>Enhanced Courthouse Security Training - Lockdown /High R...</td>\n",
       "      <td>5.0</td>\n",
       "      <td>0.0</td>\n",
       "      <td>0.0</td>\n",
       "      <td>0.0</td>\n",
       "      <td>0.0</td>\n",
       "      <td>1.0</td>\n",
       "      <td>1.0</td>\n",
       "      <td>0.0</td>\n",
       "      <td>1.0</td>\n",
       "      <td>1.0</td>\n",
       "      <td>0.0</td>\n",
       "      <td>0.0</td>\n",
       "      <td>0.0</td>\n",
       "      <td>0.0</td>\n",
       "      <td>0.0</td>\n",
       "      <td>1.0</td>\n",
       "      <td>0.0</td>\n",
       "    </tr>\n",
       "  </tbody>\n",
       "</table>\n",
       "</div>"
      ],
      "text/plain": [
       "          Telkey                                                      Comment  \\\n",
       "0  180999-599664  Supervisory development and accountability Recognition a...   \n",
       "1  181577-570226  Expectations, Communication at all levels, engagement, r...   \n",
       "2  187688-377968  Improved morale, communication, respect, empowerment, tr...   \n",
       "3  173821-289382  Organization provided CYMH Clinicians with data on cell ...   \n",
       "4  174099-084198  Enhanced Courthouse Security Training - Lockdown /High R...   \n",
       "\n",
       "   # of codes  N/A  ENG  c_topdown  c_botup  c_other  c_Aware  S&W  TOOLS  \\\n",
       "0         7.0  0.0  0.0        1.0      0.0      0.0      0.0  1.0    1.0   \n",
       "1         6.0  0.0  0.0        1.0      1.0      0.0      1.0  1.0    0.0   \n",
       "2         6.0  0.0  0.0        0.0      0.0      1.0      0.0  1.0    0.0   \n",
       "3         5.0  0.0  0.0        1.0      0.0      1.0      0.0  0.0    1.0   \n",
       "4         5.0  0.0  0.0        0.0      0.0      1.0      1.0  0.0    1.0   \n",
       "\n",
       "   A_CarDev  A_EXEC  A_SUP  A_VMG  A_REC&EMP  A_TEAM  A_SP&Jsat&Pay  Other  \n",
       "0       0.0     0.0    1.0    0.0        1.0     1.0            1.0    0.0  \n",
       "1       0.0     0.0    0.0    0.0        1.0     1.0            0.0    0.0  \n",
       "2       1.0     0.0    1.0    0.0        1.0     1.0            0.0    0.0  \n",
       "3       1.0     0.0    0.0    0.0        1.0     0.0            0.0    0.0  \n",
       "4       1.0     0.0    0.0    0.0        0.0     0.0            1.0    0.0  "
      ]
     },
     "execution_count": 88,
     "metadata": {},
     "output_type": "execute_result"
    }
   ],
   "source": [
    "data_2018_2.head()"
   ]
  },
  {
   "cell_type": "markdown",
   "metadata": {},
   "source": [
    "**Basic Cleaning**"
   ]
  },
  {
   "cell_type": "code",
   "execution_count": 89,
   "metadata": {},
   "outputs": [],
   "source": [
    "## dropping last row that contains \"totals\"\n",
    "data_2018_2.drop(data_2018_2.tail(1).index,inplace=True)"
   ]
  },
  {
   "cell_type": "code",
   "execution_count": 90,
   "metadata": {},
   "outputs": [],
   "source": [
    "## dropping NaN rows\n",
    "data_2018_2.dropna(inplace=True)"
   ]
  },
  {
   "cell_type": "code",
   "execution_count": 91,
   "metadata": {},
   "outputs": [
    {
     "data": {
      "text/plain": [
       "(6022, 19)"
      ]
     },
     "execution_count": 91,
     "metadata": {},
     "output_type": "execute_result"
    }
   ],
   "source": [
    "data_2018_2.shape"
   ]
  },
  {
   "cell_type": "code",
   "execution_count": 77,
   "metadata": {},
   "outputs": [],
   "source": [
    "## Carlina's addition for adding ministries \n",
    "\n",
    "#data_2018_2 = data_2018_2.drop(columns=['# of codes'])\n",
    "#data_2018_2.to_excel('../../data/bcstatsQ2.xlsx', index=False)"
   ]
  },
  {
   "cell_type": "markdown",
   "metadata": {},
   "source": [
    "**Splitting into train and test**"
   ]
  },
  {
   "cell_type": "code",
   "execution_count": 9,
   "metadata": {},
   "outputs": [],
   "source": [
    "X_2 = data_2018_2['Comment']\n",
    "y_2 = data_2018_2.drop(['Telkey', 'Comment', '# of codes'], axis=1)"
   ]
  },
  {
   "cell_type": "code",
   "execution_count": 10,
   "metadata": {},
   "outputs": [],
   "source": [
    "X_trainvalid_2, X_test_2, y_trainvalid_2, y_test_2 = train_test_split(X_2, y_2, test_size=0.20, random_state=42)"
   ]
  },
  {
   "cell_type": "code",
   "execution_count": 11,
   "metadata": {},
   "outputs": [],
   "source": [
    "X_train_2, X_valid_2, y_train_2, y_valid_2 = train_test_split(X_trainvalid_2, y_trainvalid_2, test_size=0.20, random_state=42)"
   ]
  },
  {
   "cell_type": "code",
   "execution_count": 21,
   "metadata": {},
   "outputs": [
    {
     "data": {
      "text/plain": [
       "4548    Addition of the ACYMH Mild to Moderate Outreac...\n",
       "665           Better Facilities (washroom, work out area)\n",
       "2674    New Fridge, New Lunchroom, TV in Boardroom, Re...\n",
       "5896                                            SAFTEY  !\n",
       "5910               More standardization to the job itself\n",
       "                              ...                        \n",
       "2954    More focus on Recognition and more communicati...\n",
       "802     greater communication from executive to front ...\n",
       "4014    I feel that there has been more communication ...\n",
       "4984    Working to address the space concerns through ...\n",
       "1164    Better use of project management to prioritize...\n",
       "Name: Comment, Length: 3853, dtype: object"
      ]
     },
     "execution_count": 21,
     "metadata": {},
     "output_type": "execute_result"
    }
   ],
   "source": [
    "X_train_2"
   ]
  },
  {
   "cell_type": "markdown",
   "metadata": {},
   "source": [
    "**Saving files**"
   ]
  },
  {
   "cell_type": "code",
   "execution_count": 26,
   "metadata": {},
   "outputs": [],
   "source": [
    "# target datasets\n",
    "y_train_2.to_csv('../../data/y_train_q2.csv', index=False)\n",
    "# y_valid_2.to_csv('../data/y_valid_q2.csv', index=False)\n",
    "\n",
    "# explanatory variable - Comments\n",
    "################################################################################\n",
    "### CAUTION! these lines save the COMMENTS, which have sensible information. ###\n",
    "################################################################################\n",
    "# X_valid_2.to_csv('../data/X_valid_q2.csv', index=False)\n",
    "# X_train_2.to_csv('../data/X_train_q2.csv', index=False)"
   ]
  },
  {
   "cell_type": "markdown",
   "metadata": {},
   "source": [
    "### Question 2 - Unsupervised (complete dataset of comments)"
   ]
  },
  {
   "cell_type": "code",
   "execution_count": 92,
   "metadata": {},
   "outputs": [],
   "source": [
    "# WES 2015, question 2 in the necesary format\n",
    "data_2018_2['Year'] = 2018\n",
    "data_2018_2b = data_2018_2[['Telkey', 'Comment', 'Year']]"
   ]
  },
  {
   "cell_type": "code",
   "execution_count": 93,
   "metadata": {},
   "outputs": [],
   "source": [
    "# WES 2015, question 2\n",
    "data_2015_2 = pd.read_excel('../../data/WES2015 2nd Qual UNCODED.xlsx', \n",
    "                     sheet_name='2015 2nd Qual')  ## change path for data\n",
    "data_2015_2.rename(columns={'Q4981_11':'Comment',\n",
    "                            'telkey': 'Telkey'}, inplace=True)\n",
    "data_2015_2['Year'] = 2015"
   ]
  },
  {
   "cell_type": "code",
   "execution_count": 94,
   "metadata": {},
   "outputs": [],
   "source": [
    "# WES 2020, question 2\n",
    "data_2020_2 = pd.read_excel('../../data/WES2020 2nd Qual UNCODED.xlsx', \n",
    "                     sheet_name='WES2020 Q4981_11 UNCODED')  ## change path for data\n",
    "data_2020_2.rename(columns={'AQ4981_11':'Comment',\n",
    "                            '_telkey': 'Telkey'}, inplace=True)\n",
    "data_2020_2['Year'] = 2020"
   ]
  },
  {
   "cell_type": "code",
   "execution_count": 99,
   "metadata": {},
   "outputs": [],
   "source": [
    "# Put databases together for question 2\n",
    "frames = [data_2020_2, data_2018_2b, data_2015_2]\n",
    "unsuperv_q2 = pd.concat(frames)\n",
    "\n",
    "# Saving unsuperv_q2 dataset\n",
    "#################################################################################\n",
    "### CAUTION! the next line save the COMMENTS, which have sensible information. ###\n",
    "##################################################################################\n",
    "#unsuperv_q2.to_csv('../../data/unsuperv_q2.csv', index=False)"
   ]
  },
  {
   "cell_type": "code",
   "execution_count": 100,
   "metadata": {},
   "outputs": [
    {
     "data": {
      "text/html": [
       "<div>\n",
       "<style scoped>\n",
       "    .dataframe tbody tr th:only-of-type {\n",
       "        vertical-align: middle;\n",
       "    }\n",
       "\n",
       "    .dataframe tbody tr th {\n",
       "        vertical-align: top;\n",
       "    }\n",
       "\n",
       "    .dataframe thead th {\n",
       "        text-align: right;\n",
       "    }\n",
       "</style>\n",
       "<table border=\"1\" class=\"dataframe\">\n",
       "  <thead>\n",
       "    <tr style=\"text-align: right;\">\n",
       "      <th></th>\n",
       "      <th>Telkey</th>\n",
       "      <th>Comment</th>\n",
       "      <th>Year</th>\n",
       "    </tr>\n",
       "  </thead>\n",
       "  <tbody>\n",
       "    <tr>\n",
       "      <th>0</th>\n",
       "      <td>172544-762520</td>\n",
       "      <td>Recognition of products delivered and importance of the ...</td>\n",
       "      <td>2020</td>\n",
       "    </tr>\n",
       "    <tr>\n",
       "      <th>1</th>\n",
       "      <td>172550-323842</td>\n",
       "      <td>the refresh  -</td>\n",
       "      <td>2020</td>\n",
       "    </tr>\n",
       "    <tr>\n",
       "      <th>2</th>\n",
       "      <td>172555-613880</td>\n",
       "      <td>We have a new Director and managers, who have set a grea...</td>\n",
       "      <td>2020</td>\n",
       "    </tr>\n",
       "    <tr>\n",
       "      <th>3</th>\n",
       "      <td>172559-818782</td>\n",
       "      <td>Executive team agreed that they wanted to focus on impro...</td>\n",
       "      <td>2020</td>\n",
       "    </tr>\n",
       "    <tr>\n",
       "      <th>4</th>\n",
       "      <td>172561-717770</td>\n",
       "      <td>workplace technology improved and has made off-site work...</td>\n",
       "      <td>2020</td>\n",
       "    </tr>\n",
       "    <tr>\n",
       "      <th>...</th>\n",
       "      <td>...</td>\n",
       "      <td>...</td>\n",
       "      <td>...</td>\n",
       "    </tr>\n",
       "    <tr>\n",
       "      <th>2340</th>\n",
       "      <td>190835-950578</td>\n",
       "      <td>More open discussion about the old conflicts impacting t...</td>\n",
       "      <td>2015</td>\n",
       "    </tr>\n",
       "    <tr>\n",
       "      <th>2341</th>\n",
       "      <td>178502-023518</td>\n",
       "      <td>Employees are encouraged to take courses/training.</td>\n",
       "      <td>2015</td>\n",
       "    </tr>\n",
       "    <tr>\n",
       "      <th>2342</th>\n",
       "      <td>191929-903308</td>\n",
       "      <td>Since the last WES there has been an obvious focus on Pr...</td>\n",
       "      <td>2015</td>\n",
       "    </tr>\n",
       "    <tr>\n",
       "      <th>2343</th>\n",
       "      <td>178782-259890</td>\n",
       "      <td>We hear more timely information from our executive than ...</td>\n",
       "      <td>2015</td>\n",
       "    </tr>\n",
       "    <tr>\n",
       "      <th>2344</th>\n",
       "      <td>174389-493720</td>\n",
       "      <td>There has been a legitimate and appreciated effort to en...</td>\n",
       "      <td>2015</td>\n",
       "    </tr>\n",
       "  </tbody>\n",
       "</table>\n",
       "<p>15238 rows × 3 columns</p>\n",
       "</div>"
      ],
      "text/plain": [
       "             Telkey  \\\n",
       "0     172544-762520   \n",
       "1     172550-323842   \n",
       "2     172555-613880   \n",
       "3     172559-818782   \n",
       "4     172561-717770   \n",
       "...             ...   \n",
       "2340  190835-950578   \n",
       "2341  178502-023518   \n",
       "2342  191929-903308   \n",
       "2343  178782-259890   \n",
       "2344  174389-493720   \n",
       "\n",
       "                                                          Comment  Year  \n",
       "0     Recognition of products delivered and importance of the ...  2020  \n",
       "1                                                 the refresh  -   2020  \n",
       "2     We have a new Director and managers, who have set a grea...  2020  \n",
       "3     Executive team agreed that they wanted to focus on impro...  2020  \n",
       "4     workplace technology improved and has made off-site work...  2020  \n",
       "...                                                           ...   ...  \n",
       "2340  More open discussion about the old conflicts impacting t...  2015  \n",
       "2341           Employees are encouraged to take courses/training.  2015  \n",
       "2342  Since the last WES there has been an obvious focus on Pr...  2015  \n",
       "2343  We hear more timely information from our executive than ...  2015  \n",
       "2344  There has been a legitimate and appreciated effort to en...  2015  \n",
       "\n",
       "[15238 rows x 3 columns]"
      ]
     },
     "execution_count": 100,
     "metadata": {},
     "output_type": "execute_result"
    }
   ],
   "source": [
    "unsuperv_q2"
   ]
  },
  {
   "cell_type": "code",
   "execution_count": 101,
   "metadata": {},
   "outputs": [],
   "source": [
    "#Carlina's addition to DashR minitries \n",
    "unsuperv_q2.to_excel('../../data/bcstatsQ2_unsup.xlsx', index=False)"
   ]
  },
  {
   "cell_type": "code",
   "execution_count": null,
   "metadata": {},
   "outputs": [],
   "source": []
  }
 ],
 "metadata": {
  "kernelspec": {
   "display_name": "Python 3",
   "language": "python",
   "name": "python3"
  },
  "language_info": {
   "codemirror_mode": {
    "name": "ipython",
    "version": 3
   },
   "file_extension": ".py",
   "mimetype": "text/x-python",
   "name": "python",
   "nbconvert_exporter": "python",
   "pygments_lexer": "ipython3",
   "version": "3.7.6"
  }
 },
 "nbformat": 4,
 "nbformat_minor": 4
}
