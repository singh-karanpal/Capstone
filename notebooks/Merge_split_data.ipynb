{
 "cells": [
  {
   "cell_type": "markdown",
   "metadata": {},
   "source": [
    "## **Script for merging and splitting data into train, validation and test sets**"
   ]
  },
  {
   "cell_type": "code",
   "execution_count": 1,
   "metadata": {},
   "outputs": [],
   "source": [
    "import numpy as np\n",
    "import pandas as pd\n",
    "# import altair as alt\n",
    "from sklearn.model_selection import train_test_split"
   ]
  },
  {
   "cell_type": "markdown",
   "metadata": {},
   "source": [
    "### **Question 1**"
   ]
  },
  {
   "cell_type": "markdown",
   "metadata": {},
   "source": [
    "**Reading datasets** (2013, 2018, 2020 labeled datasets)"
   ]
  },
  {
   "cell_type": "code",
   "execution_count": 2,
   "metadata": {},
   "outputs": [],
   "source": [
    "pd.set_option('display.max_colwidth', 60)"
   ]
  },
  {
   "cell_type": "code",
   "execution_count": 3,
   "metadata": {},
   "outputs": [],
   "source": [
    "# WES 2013, question 1\n",
    "data_2013 = pd.read_excel(\"data/2013/WES2013 1st Qual Sample - Coded.xlsx\", \n",
    "                     sheet_name='2013 1st Qual Sample',\n",
    "                     skiprows=1)   ## change your path for data\n",
    "data_2013.rename(columns={'_telkey':'Telkey',\n",
    "                          'AQ3345_13':'Comment'}, inplace=True)\n",
    "data_2013['Year'] = 2013"
   ]
  },
  {
   "cell_type": "code",
   "execution_count": 4,
   "metadata": {},
   "outputs": [],
   "source": [
    "# WES 2018, question 1\n",
    "data_2018 = pd.read_excel(\"data/2018/WES2018 1st Qual Coded - Final Comments and Codes.xlsx\", \n",
    "                     sheet_name='2018 1st Qual',\n",
    "                     skiprows=1)   ## change your path for data\n",
    "data_2018.rename(columns={'_telkey':'Telkey',\n",
    "                          'Q3345_13':'Comment'}, inplace=True)\n",
    "data_2018['Year'] = 2018"
   ]
  },
  {
   "cell_type": "code",
   "execution_count": 5,
   "metadata": {},
   "outputs": [],
   "source": [
    "# WES 2020, question 1\n",
    "data_2020 = pd.read_excel(\"data/2020/WES2020 1st Qual Coded - Final Comments and Codes.xlsx\", \n",
    "                     sheet_name='2020 1st Qual',\n",
    "                     skiprows=1)\n",
    "data_2020.rename(columns={'Q3345_13:   What one thing would you like your organization to focus on to improve your work environment?':'Comment'}, inplace=True)\n",
    "data_2020['Year'] = 2020"
   ]
  },
  {
   "cell_type": "markdown",
   "metadata": {},
   "source": [
    "**Compiling datasets**"
   ]
  },
  {
   "cell_type": "code",
   "execution_count": 6,
   "metadata": {},
   "outputs": [],
   "source": [
    "# header\n",
    "header_codes = pd.read_excel(\"data/2020/WES2020 1st Qual Coded - Final Comments and Codes.xlsx\", \n",
    "                          sheet_name='Codebook',\n",
    "                          usecols='A,F')\n",
    "\n",
    "# In this line I am correcting their CODE, for the subthemes of\n",
    "# 11-Vision_Mission_Goals and 12-Other, because those should have \n",
    "# codes as 11.1 and not 111, to be similar to all the other \n",
    "# subthemes' format.\n",
    "\n",
    "header_codes['CODE'] = [code/10 if code>100 else code for code in header_codes['CODE']]\n",
    "\n",
    "# Comment: Note that all the CODEs that have XX.0 format (finish in \n",
    "# zero) are themes, and any CODE with decimals is a subtheme."
   ]
  },
  {
   "cell_type": "code",
   "execution_count": 6,
   "metadata": {},
   "outputs": [],
   "source": [
    "# header_codes"
   ]
  },
  {
   "cell_type": "code",
   "execution_count": 7,
   "metadata": {},
   "outputs": [],
   "source": [
    "# Dictionaries for header (back and forward)\n",
    "header_dict_VAR = {header_codes['VARIABLE NAME'][i] : header_codes['CODE'][i] for i in range(0, len(header_codes['CODE']))}\n",
    "header_dict_COD = {header_codes['CODE'][i] : header_codes['VARIABLE NAME'][i] for i in range(0, len(header_codes['CODE']))}\n",
    "# header_dict_COD # <-- Print this to show what the dictionary looks like it but be can erase the line"
   ]
  },
  {
   "cell_type": "markdown",
   "metadata": {},
   "source": [
    "##### Comment: Note that all the CODEs that have XX.0 format (finish in zero) are themes, and any CODE with decimals is a subtheme."
   ]
  },
  {
   "cell_type": "code",
   "execution_count": 8,
   "metadata": {},
   "outputs": [],
   "source": [
    "# Correcting names to compile the databases\n",
    "data_2013.rename(columns = {\"Tools_Equipment_Physical_Environment\":'TEPE',\n",
    "    \"Vision_Mission_Goals\":'VMG',\n",
    "    \"Other\":'OTH',\n",
    "    \"Other comments\":'OTH_Other_related',\n",
    "    \"Positive comments\": \"OTH_Positive_comments\"}, inplace=True)\n",
    "\n",
    "data_2018.rename(columns = {'FWE':'FEW',\n",
    "    'CPD_Improve_performance_management':'CPD_Improve_performance',\n",
    "    'CB_Improve_benefits':'CB_Improve_medical',\n",
    "    'Exec_Strengthen_quality_of_executive_leadership':'Exec_Strengthen_quality_of_executive_leaders',\n",
    "    'FWE_Leading_Workplace_Strategies':'FWE_Improve_and_or_expand_Leading_Workplace_Strategies_LWS',\n",
    "    'TEPE__Ensure_safety_and_security':'TEPE__Ensure_safety',\n",
    "    'TEPE_Better_supplies_equipment':'TEPE_Provide_better_equipment',\n",
    "    'TEPE_Better_furniture':'TEPE_Provide_better_furniture',\n",
    "    'TEPE_Better_computer_hardware':'TEPE_Provide_better_hardware',\n",
    "    'VMG_Assess_plans_priorities':'VMG_Assess_plans',\n",
    "    'VMG_Improve_program_implementation':'VMG_Improve_program',\n",
    "    'VMG_Public_interest_and_service_delivery':'VMG_Pay_attention_to_the_public_interest',\n",
    "    'VMG_Keep_politics_out_of_work':'VMG_Remove_political_influence'\n",
    "    }, inplace=True)\n",
    "\n",
    "# Comment: the code for theme 'FEW' is different from the \n",
    "# initial part of their sub-themes ('FWE')."
   ]
  },
  {
   "cell_type": "code",
   "execution_count": 9,
   "metadata": {},
   "outputs": [
    {
     "data": {
      "text/html": [
       "<div>\n",
       "<style scoped>\n",
       "    .dataframe tbody tr th:only-of-type {\n",
       "        vertical-align: middle;\n",
       "    }\n",
       "\n",
       "    .dataframe tbody tr th {\n",
       "        vertical-align: top;\n",
       "    }\n",
       "\n",
       "    .dataframe thead th {\n",
       "        text-align: right;\n",
       "    }\n",
       "</style>\n",
       "<table border=\"1\" class=\"dataframe\">\n",
       "  <thead>\n",
       "    <tr style=\"text-align: right;\">\n",
       "      <th></th>\n",
       "      <th>Telkey</th>\n",
       "      <th>Comment</th>\n",
       "      <th>CPD</th>\n",
       "      <th>CB</th>\n",
       "      <th>EWC</th>\n",
       "      <th>Exec</th>\n",
       "      <th>FEW</th>\n",
       "      <th>SP</th>\n",
       "      <th>RE</th>\n",
       "      <th>Sup</th>\n",
       "      <th>...</th>\n",
       "      <th>VMG_Pay_attention_to_the_public_interest</th>\n",
       "      <th>VMG_Review_funding_or_budget</th>\n",
       "      <th>VMG_Remove_political_influence</th>\n",
       "      <th>VMG_other</th>\n",
       "      <th>OTH_Other_related</th>\n",
       "      <th>OTH_Positive_comments</th>\n",
       "      <th>OTH_Survey_feedback</th>\n",
       "      <th>OTH_Covid</th>\n",
       "      <th>Unrelated</th>\n",
       "      <th>Year</th>\n",
       "    </tr>\n",
       "  </thead>\n",
       "  <tbody>\n",
       "    <tr>\n",
       "      <th>0</th>\n",
       "      <td>172538-522988</td>\n",
       "      <td>WAGES!      We are all very underpaid.    It is very dif...</td>\n",
       "      <td>0</td>\n",
       "      <td>1</td>\n",
       "      <td>0</td>\n",
       "      <td>0</td>\n",
       "      <td>0</td>\n",
       "      <td>0</td>\n",
       "      <td>0</td>\n",
       "      <td>0</td>\n",
       "      <td>...</td>\n",
       "      <td>0</td>\n",
       "      <td>0</td>\n",
       "      <td>0</td>\n",
       "      <td>0</td>\n",
       "      <td>0</td>\n",
       "      <td>0</td>\n",
       "      <td>0.0</td>\n",
       "      <td>0.0</td>\n",
       "      <td>0.0</td>\n",
       "      <td>2020</td>\n",
       "    </tr>\n",
       "    <tr>\n",
       "      <th>1</th>\n",
       "      <td>172540-015050</td>\n",
       "      <td>With each \"bad\" press news story the organization knee j...</td>\n",
       "      <td>0</td>\n",
       "      <td>0</td>\n",
       "      <td>0</td>\n",
       "      <td>0</td>\n",
       "      <td>0</td>\n",
       "      <td>0</td>\n",
       "      <td>0</td>\n",
       "      <td>0</td>\n",
       "      <td>...</td>\n",
       "      <td>0</td>\n",
       "      <td>0</td>\n",
       "      <td>0</td>\n",
       "      <td>1</td>\n",
       "      <td>0</td>\n",
       "      <td>0</td>\n",
       "      <td>0.0</td>\n",
       "      <td>0.0</td>\n",
       "      <td>0.0</td>\n",
       "      <td>2020</td>\n",
       "    </tr>\n",
       "    <tr>\n",
       "      <th>2</th>\n",
       "      <td>172550-323842</td>\n",
       "      <td>better seating furniture and office layout</td>\n",
       "      <td>0</td>\n",
       "      <td>0</td>\n",
       "      <td>0</td>\n",
       "      <td>0</td>\n",
       "      <td>0</td>\n",
       "      <td>0</td>\n",
       "      <td>0</td>\n",
       "      <td>0</td>\n",
       "      <td>...</td>\n",
       "      <td>0</td>\n",
       "      <td>0</td>\n",
       "      <td>0</td>\n",
       "      <td>0</td>\n",
       "      <td>0</td>\n",
       "      <td>0</td>\n",
       "      <td>0.0</td>\n",
       "      <td>0.0</td>\n",
       "      <td>0.0</td>\n",
       "      <td>2020</td>\n",
       "    </tr>\n",
       "    <tr>\n",
       "      <th>3</th>\n",
       "      <td>172553-172324</td>\n",
       "      <td>Is to improve the ventilation system for heating and coo...</td>\n",
       "      <td>0</td>\n",
       "      <td>0</td>\n",
       "      <td>0</td>\n",
       "      <td>0</td>\n",
       "      <td>0</td>\n",
       "      <td>0</td>\n",
       "      <td>0</td>\n",
       "      <td>0</td>\n",
       "      <td>...</td>\n",
       "      <td>0</td>\n",
       "      <td>0</td>\n",
       "      <td>0</td>\n",
       "      <td>0</td>\n",
       "      <td>0</td>\n",
       "      <td>0</td>\n",
       "      <td>0.0</td>\n",
       "      <td>0.0</td>\n",
       "      <td>0.0</td>\n",
       "      <td>2020</td>\n",
       "    </tr>\n",
       "    <tr>\n",
       "      <th>4</th>\n",
       "      <td>172553-986176</td>\n",
       "      <td>Stop hiring based on scenarios.  Hire based on knowledge...</td>\n",
       "      <td>0</td>\n",
       "      <td>0</td>\n",
       "      <td>0</td>\n",
       "      <td>0</td>\n",
       "      <td>0</td>\n",
       "      <td>1</td>\n",
       "      <td>0</td>\n",
       "      <td>0</td>\n",
       "      <td>...</td>\n",
       "      <td>0</td>\n",
       "      <td>0</td>\n",
       "      <td>0</td>\n",
       "      <td>0</td>\n",
       "      <td>0</td>\n",
       "      <td>0</td>\n",
       "      <td>0.0</td>\n",
       "      <td>0.0</td>\n",
       "      <td>0.0</td>\n",
       "      <td>2020</td>\n",
       "    </tr>\n",
       "  </tbody>\n",
       "</table>\n",
       "<p>5 rows × 78 columns</p>\n",
       "</div>"
      ],
      "text/plain": [
       "          Telkey                                                      Comment  \\\n",
       "0  172538-522988  WAGES!      We are all very underpaid.    It is very dif...   \n",
       "1  172540-015050  With each \"bad\" press news story the organization knee j...   \n",
       "2  172550-323842                   better seating furniture and office layout   \n",
       "3  172553-172324  Is to improve the ventilation system for heating and coo...   \n",
       "4  172553-986176  Stop hiring based on scenarios.  Hire based on knowledge...   \n",
       "\n",
       "   CPD  CB  EWC  Exec  FEW  SP  RE  Sup  ...  \\\n",
       "0    0   1    0     0    0   0   0    0  ...   \n",
       "1    0   0    0     0    0   0   0    0  ...   \n",
       "2    0   0    0     0    0   0   0    0  ...   \n",
       "3    0   0    0     0    0   0   0    0  ...   \n",
       "4    0   0    0     0    0   1   0    0  ...   \n",
       "\n",
       "   VMG_Pay_attention_to_the_public_interest  VMG_Review_funding_or_budget  \\\n",
       "0                                         0                             0   \n",
       "1                                         0                             0   \n",
       "2                                         0                             0   \n",
       "3                                         0                             0   \n",
       "4                                         0                             0   \n",
       "\n",
       "   VMG_Remove_political_influence  VMG_other  OTH_Other_related  \\\n",
       "0                               0          0                  0   \n",
       "1                               0          1                  0   \n",
       "2                               0          0                  0   \n",
       "3                               0          0                  0   \n",
       "4                               0          0                  0   \n",
       "\n",
       "   OTH_Positive_comments  OTH_Survey_feedback  OTH_Covid  Unrelated  Year  \n",
       "0                      0                  0.0        0.0        0.0  2020  \n",
       "1                      0                  0.0        0.0        0.0  2020  \n",
       "2                      0                  0.0        0.0        0.0  2020  \n",
       "3                      0                  0.0        0.0        0.0  2020  \n",
       "4                      0                  0.0        0.0        0.0  2020  \n",
       "\n",
       "[5 rows x 78 columns]"
      ]
     },
     "execution_count": 9,
     "metadata": {},
     "output_type": "execute_result"
    }
   ],
   "source": [
    "# Put databases together\n",
    "frames = [data_2020, data_2018, data_2013]\n",
    "data_all = pd.concat(frames)\n",
    "data_all_num = data_all.rename(columns=header_dict_VAR)\n",
    "# pd.set_option('display.max_colwidth', 60) # <-- to display just the beggining of the comment\n",
    "data_all.head()"
   ]
  },
  {
   "cell_type": "markdown",
   "metadata": {},
   "source": [
    "**Basic Cleaning**"
   ]
  },
  {
   "cell_type": "code",
   "execution_count": 10,
   "metadata": {},
   "outputs": [],
   "source": [
    "## dropping null rows\n",
    "data_all.dropna(inplace=True)"
   ]
  },
  {
   "cell_type": "code",
   "execution_count": 11,
   "metadata": {},
   "outputs": [
    {
     "data": {
      "text/plain": [
       "0"
      ]
     },
     "execution_count": 11,
     "metadata": {},
     "output_type": "execute_result"
    }
   ],
   "source": [
    "data_all['Comment'].isnull().sum()"
   ]
  },
  {
   "cell_type": "markdown",
   "metadata": {},
   "source": [
    "**Splitting data into train, test and validation portions**"
   ]
  },
  {
   "cell_type": "code",
   "execution_count": 12,
   "metadata": {},
   "outputs": [],
   "source": [
    "X = data_all['Comment']\n",
    "y = data_all.drop(['Telkey', 'Comment', 'Year'], axis=1)"
   ]
  },
  {
   "cell_type": "code",
   "execution_count": 13,
   "metadata": {},
   "outputs": [],
   "source": [
    "X_trainvalid, X_test, y_trainvalid, y_test = train_test_split(X, y, test_size=0.20, random_state=42)"
   ]
  },
  {
   "cell_type": "code",
   "execution_count": 14,
   "metadata": {},
   "outputs": [],
   "source": [
    "X_train, X_valid, y_train, y_valid = train_test_split(X_trainvalid, y_trainvalid, test_size=0.20, random_state=42)"
   ]
  },
  {
   "cell_type": "code",
   "execution_count": 15,
   "metadata": {},
   "outputs": [],
   "source": [
    "## y_train with column names as code numbers\n",
    "y_train_num = y_train.rename(columns=header_dict_VAR) "
   ]
  },
  {
   "cell_type": "markdown",
   "metadata": {},
   "source": [
    "**Saving y_train files**"
   ]
  },
  {
   "cell_type": "code",
   "execution_count": 16,
   "metadata": {},
   "outputs": [],
   "source": [
    "y_train.to_csv('data/y_train.csv', index=False)"
   ]
  },
  {
   "cell_type": "code",
   "execution_count": 17,
   "metadata": {},
   "outputs": [],
   "source": [
    "# y_train_num.to_csv('data/y_train_num.csv', index=False)"
   ]
  },
  {
   "cell_type": "code",
   "execution_count": null,
   "metadata": {},
   "outputs": [],
   "source": []
  },
  {
   "cell_type": "markdown",
   "metadata": {},
   "source": [
    "### **Question 2**"
   ]
  },
  {
   "cell_type": "markdown",
   "metadata": {},
   "source": [
    "**Reading dataset** (2018 labeled dataset)"
   ]
  },
  {
   "cell_type": "code",
   "execution_count": 18,
   "metadata": {},
   "outputs": [],
   "source": [
    "# WES 2018, question 2\n",
    "data_2018_2 = pd.read_excel('data/2018/WES2018 2nd Qual Coded - Final Comments and Codes.xlsx', \n",
    "                     sheet_name='2018 2nd Qual Coded (All)')  ## change path for data\n",
    "data_2018_2.rename(columns={'Q4981_11':'Comment'}, inplace=True)\n",
    "# data_2018_2['Year'] = 2018\n",
    "# data_2018_2.head()"
   ]
  },
  {
   "cell_type": "markdown",
   "metadata": {},
   "source": [
    "**Basic Cleaning**"
   ]
  },
  {
   "cell_type": "code",
   "execution_count": 19,
   "metadata": {},
   "outputs": [],
   "source": [
    "## dropping last row that contains \"totals\"\n",
    "data_2018_2.drop(data_2018_2.tail(1).index,inplace=True)"
   ]
  },
  {
   "cell_type": "code",
   "execution_count": 20,
   "metadata": {},
   "outputs": [],
   "source": [
    "## dropping NaN rows\n",
    "data_2018_2.dropna(inplace=True)"
   ]
  },
  {
   "cell_type": "markdown",
   "metadata": {},
   "source": [
    "**Splitting into train and test**"
   ]
  },
  {
   "cell_type": "code",
   "execution_count": 21,
   "metadata": {},
   "outputs": [],
   "source": [
    "X_2 = data_2018_2['Comment']\n",
    "y_2 = data_2018_2.drop(['Telkey', 'Comment', '# of codes'], axis=1)"
   ]
  },
  {
   "cell_type": "code",
   "execution_count": 22,
   "metadata": {},
   "outputs": [],
   "source": [
    "X_trainvalid_2, X_test_2, y_trainvalid_2, y_test_2 = train_test_split(X_2, y_2, test_size=0.20, random_state=42)"
   ]
  },
  {
   "cell_type": "code",
   "execution_count": 23,
   "metadata": {},
   "outputs": [],
   "source": [
    "X_train_2, X_valid_2, y_train_2, y_valid_2 = train_test_split(X_trainvalid_2, y_trainvalid_2, test_size=0.20, random_state=42)"
   ]
  },
  {
   "cell_type": "markdown",
   "metadata": {},
   "source": [
    "**Saving y_train file**"
   ]
  },
  {
   "cell_type": "code",
   "execution_count": 24,
   "metadata": {},
   "outputs": [],
   "source": [
    "## Saving y_train\n",
    "y_train_2.to_csv('data/y_train_q2.csv', index=False)"
   ]
  },
  {
   "cell_type": "code",
   "execution_count": null,
   "metadata": {},
   "outputs": [],
   "source": []
  }
 ],
 "metadata": {
  "kernelspec": {
   "display_name": "Python 3",
   "language": "python",
   "name": "python3"
  },
  "language_info": {
   "codemirror_mode": {
    "name": "ipython",
    "version": 3
   },
   "file_extension": ".py",
   "mimetype": "text/x-python",
   "name": "python",
   "nbconvert_exporter": "python",
   "pygments_lexer": "ipython3",
   "version": "3.7.6"
  }
 },
 "nbformat": 4,
 "nbformat_minor": 4
}
