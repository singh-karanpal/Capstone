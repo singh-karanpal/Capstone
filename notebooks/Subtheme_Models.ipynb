{
  "nbformat": 4,
  "nbformat_minor": 0,
  "metadata": {
    "colab": {
      "name": "Subtheme_Models.ipynb",
      "provenance": []
    },
    "kernelspec": {
      "name": "python3",
      "display_name": "Python 3"
    },
    "accelerator": "GPU"
  },
  "cells": [
    {
      "cell_type": "markdown",
      "metadata": {
        "id": "2jWWY4tY9xjk",
        "colab_type": "text"
      },
      "source": [
        "## Models for Multilabel Subtheme Classification "
      ]
    },
    {
      "cell_type": "markdown",
      "metadata": {
        "id": "CTKZVe0Y9yD_",
        "colab_type": "text"
      },
      "source": [
        "This notebook can be used to train the subtheme models for multilabel subtheme classification of comments of Question 1\n",
        "<br> You can connect this notebook to a GPU/TPU from *Runtime -> Change runtime type*"
      ]
    },
    {
      "cell_type": "code",
      "metadata": {
        "id": "YxIcK6FkpsYs",
        "colab_type": "code",
        "colab": {}
      },
      "source": [
        "import pandas as pd\n",
        "import numpy as np"
      ],
      "execution_count": 3,
      "outputs": []
    },
    {
      "cell_type": "code",
      "metadata": {
        "id": "P_4B8iKMqFsf",
        "colab_type": "code",
        "colab": {
          "base_uri": "https://localhost:8080/",
          "height": 34
        },
        "outputId": "c6fc9174-370f-4ff6-9bc8-ff65d93be4e6"
      },
      "source": [
        "import os\n",
        "from keras.models import Sequential, Model\n",
        "from keras.layers import Dense, Dropout, Flatten, Activation, Concatenate\n",
        "from keras.layers import Conv1D, Conv2D, MaxPooling2D, GlobalMaxPooling1D, MaxPool1D, MaxPooling1D, SpatialDropout1D, GRU, Bidirectional, AveragePooling1D, GlobalAveragePooling1D\n",
        "from keras.preprocessing.text import Tokenizer\n",
        "from keras.preprocessing.sequence import pad_sequences\n",
        "from keras.layers import Embedding, LSTM, Input\n",
        "from keras.layers.merge import concatenate\n",
        "from keras.utils import to_categorical\n",
        "from keras import layers\n",
        "import tensorflow as tf\n",
        "from tensorflow.keras import regularizers"
      ],
      "execution_count": 4,
      "outputs": [
        {
          "output_type": "stream",
          "text": [
            "Using TensorFlow backend.\n"
          ],
          "name": "stderr"
        }
      ]
    },
    {
      "cell_type": "code",
      "metadata": {
        "id": "vNTqncrTqIhe",
        "colab_type": "code",
        "colab": {}
      },
      "source": [
        "import keras"
      ],
      "execution_count": 5,
      "outputs": []
    },
    {
      "cell_type": "code",
      "metadata": {
        "id": "t8FLPObQqKWz",
        "colab_type": "code",
        "colab": {}
      },
      "source": [
        "from sklearn.metrics import precision_score, recall_score, f1_score, accuracy_score, hamming_loss, precision_recall_curve, auc"
      ],
      "execution_count": 6,
      "outputs": []
    },
    {
      "cell_type": "code",
      "metadata": {
        "id": "YdcY_NNCqMCt",
        "colab_type": "code",
        "colab": {
          "base_uri": "https://localhost:8080/",
          "height": 124
        },
        "outputId": "8e806253-0493-4afe-e16e-2742f033ff0d"
      },
      "source": [
        "## Mounting Drive to this Colab notebook\n",
        "from google.colab import drive\n",
        "drive.mount('/content/gdrive')"
      ],
      "execution_count": 5,
      "outputs": [
        {
          "output_type": "stream",
          "text": [
            "Go to this URL in a browser: https://accounts.google.com/o/oauth2/auth?client_id=947318989803-6bn6qk8qdgf4n4g3pfee6491hc0brc4i.apps.googleusercontent.com&redirect_uri=urn%3aietf%3awg%3aoauth%3a2.0%3aoob&response_type=code&scope=email%20https%3a%2f%2fwww.googleapis.com%2fauth%2fdocs.test%20https%3a%2f%2fwww.googleapis.com%2fauth%2fdrive%20https%3a%2f%2fwww.googleapis.com%2fauth%2fdrive.photos.readonly%20https%3a%2f%2fwww.googleapis.com%2fauth%2fpeopleapi.readonly\n",
            "\n",
            "Enter your authorization code:\n",
            "··········\n",
            "Mounted at /content/gdrive\n"
          ],
          "name": "stdout"
        }
      ]
    },
    {
      "cell_type": "markdown",
      "metadata": {
        "id": "gjZz1QyxqbIu",
        "colab_type": "text"
      },
      "source": [
        "### Standard model functions"
      ]
    },
    {
      "cell_type": "markdown",
      "metadata": {
        "id": "_mqZ9f_e-gsJ",
        "colab_type": "text"
      },
      "source": [
        "Here we will define the 3 standard functions (Bi-GRU, Bi-GRU with 2 GRU layers and a CNN model) which are used to train the subtheme models"
      ]
    },
    {
      "cell_type": "code",
      "metadata": {
        "id": "nsoIyDbPqP7B",
        "colab_type": "code",
        "colab": {}
      },
      "source": [
        "def bigru(max_features, max_len, n_class, weight_matrix, hidden_sequences, embed_size = 300):\n",
        "  inputs1 = Input(shape=(max_len,))\n",
        "  embedding1 = Embedding(max_features, embed_size, weights=[weight_matrix], trainable=False)(inputs1)\n",
        "\n",
        "  bi_gru = Bidirectional(GRU(hidden_sequences, return_sequences=True))(embedding1)\n",
        "  \n",
        "  global_pool = GlobalMaxPooling1D()(bi_gru)\n",
        "  avg_pool = GlobalAveragePooling1D()(bi_gru)\n",
        "\n",
        "  concat_layer = Concatenate()([global_pool, avg_pool])\n",
        "\n",
        "  output = Dense(n_class, activation='sigmoid')(concat_layer)\n",
        "\n",
        "  model=Model(inputs1, output)\n",
        "\n",
        "  model.compile(loss='binary_crossentropy', optimizer='adam', metrics=['accuracy', 'categorical_accuracy'])\n",
        "  model.summary()\n",
        "  return model"
      ],
      "execution_count": 14,
      "outputs": []
    },
    {
      "cell_type": "code",
      "metadata": {
        "id": "RJHmy6ytqdDi",
        "colab_type": "code",
        "colab": {}
      },
      "source": [
        "def bigru_2(max_features, max_len, n_class, weight_matrix, hidden_sequences, hidden_sequences_2, embed_size = 300):\n",
        "  inputs1 = Input(shape=(max_len,))\n",
        "  embedding1 = Embedding(max_features, embed_size, weights=[weight_matrix], trainable=False)(inputs1)\n",
        "\n",
        "  bi_gru = Bidirectional(GRU(hidden_sequences, return_sequences=True))(embedding1)\n",
        "  bi_gru2 = Bidirectional(GRU(hidden_sequences_2, return_sequences=True))(bi_gru)\n",
        "  \n",
        "  global_pool = GlobalMaxPooling1D()(bi_gru2)\n",
        "  avg_pool = GlobalAveragePooling1D()(bi_gru2)\n",
        "\n",
        "  concat_layer = Concatenate()([global_pool, avg_pool])\n",
        "\n",
        "  output = Dense(n_class, activation='sigmoid')(concat_layer)\n",
        "\n",
        "  model=Model(inputs1, output)\n",
        "\n",
        "  model.compile(loss='binary_crossentropy', optimizer='adam', metrics=['accuracy', 'categorical_accuracy'])\n",
        "  model.summary()\n",
        "  return model"
      ],
      "execution_count": 8,
      "outputs": []
    },
    {
      "cell_type": "code",
      "metadata": {
        "id": "mBohKjUpqepP",
        "colab_type": "code",
        "colab": {}
      },
      "source": [
        "def cnn(max_features, maxlen, filters, kernel_size, hidden_dims, embed_size, n_class, weight_matrix):\n",
        "  model = Sequential()\n",
        "\n",
        "  model.add(Embedding(max_features, embed_size, weights=[weight_matrix], trainable=True, input_length=maxlen))\n",
        "\n",
        "  model.add(Dropout(0.2))\n",
        "  model.add(Conv1D(filters, kernel_size, padding='valid', activation='relu',\n",
        "                  strides=1))\n",
        "  model.add(MaxPooling1D())\n",
        "  model.add(Conv1D(filters, kernel_size, padding='valid',activation='relu'))\n",
        "  model.add(MaxPooling1D())\n",
        "  model.add(Flatten())\n",
        "\n",
        "  # L2 regularization\n",
        "  model.add(Dense(hidden_dims, activation = 'relu', kernel_regularizer=keras.regularizers.l2(0.001)))\n",
        "  model.add(Dense(hidden_dims, activation = 'relu', kernel_regularizer=keras.regularizers.l2(0.001)))\n",
        "  model.add(Dense(n_class, activation = 'sigmoid'))\n",
        "  model.compile(loss='binary_crossentropy', optimizer='adam', metrics=['accuracy'])\n",
        "\n",
        "  model.summary()\n",
        "  return model"
      ],
      "execution_count": 9,
      "outputs": []
    },
    {
      "cell_type": "code",
      "metadata": {
        "id": "q3d1CS9E-vpB",
        "colab_type": "code",
        "colab": {}
      },
      "source": [
        "def eval_metrics(model_name, x_valid, y_valid):\n",
        "  \"\"\"\n",
        "  Function for evaluating precision, recall, F1 score, accuracy at various\n",
        "  thresholds for the validation set\n",
        "  \"\"\"\n",
        "  pred_values = model_name.predict(x_valid)\n",
        "\n",
        "  # PRECISION & RECALL\n",
        "  predictions_results = []\n",
        "\n",
        "  thresholds=[0.3, 0.4, 0.5, 0.6, 0.7, 0.8, 0.9]\n",
        "\n",
        "  for val in thresholds:\n",
        "    pred=pred_values.copy()\n",
        "    pred[pred>=val]=1\n",
        "    pred[pred<val]=0\n",
        "    \n",
        "    accuracy = accuracy_score(y_valid, pred, normalize=True, sample_weight=None)#average='micro')\n",
        "    hamming = hamming_loss(y_valid, pred)\n",
        "    precision = precision_score(y_valid, pred, average='micro')\n",
        "    recall = recall_score(y_valid, pred, average='micro')\n",
        "    f1 = f1_score(y_valid, pred, average='micro')\n",
        "    case= {'Threshold': val,\n",
        "            'Accuracy': accuracy,\n",
        "            'Hamming loss': hamming,\n",
        "            'Precision': precision,\n",
        "            'Recall': recall,\n",
        "            'F1-measure': f1}\n",
        "    predictions_results.append(case)\n",
        "\n",
        "  print(\"Micro-average quality numbers:\")\n",
        "  return pd.DataFrame(predictions_results)"
      ],
      "execution_count": 10,
      "outputs": []
    },
    {
      "cell_type": "markdown",
      "metadata": {
        "id": "LoCrsF1Z-_tC",
        "colab_type": "text"
      },
      "source": [
        "- Now, we will build subtheme models for each theme. Note that the precision-recall values may change slightly each time the model is run due to randomness while fitting the model.\n",
        "\n",
        "- The first step for each subtheme model will be loading the data. This can be done from **`data/interim/subthemes/<subtheme_name>`**, for `example data/interim/subthemes/CB` for theme `CB`. Upload the following files:\n",
        "1. embedding_matrix.npy\n",
        "2. X_train_padded.npy\n",
        "3. X_valid_padded.npy\n",
        "4. y_train.npy\n",
        "5. y_valid.npy\n",
        "\n",
        "*Warning: Be careful while uploading files. **Do not** upload files with sensitive information.*\n",
        "\n",
        "- Also, since the training and validation padded data for subthemes are stored in different directories, but with same names, we recommend uploading these padded documents along with the embeddings on Google Drive and mount the drive to this Colab notebook for easier uploading of data."
      ]
    },
    {
      "cell_type": "markdown",
      "metadata": {
        "id": "X3WpozpF81Sy",
        "colab_type": "text"
      },
      "source": [
        "### CB"
      ]
    },
    {
      "cell_type": "code",
      "metadata": {
        "id": "TD15AHPn878S",
        "colab_type": "code",
        "colab": {}
      },
      "source": [
        "## load data\n",
        "padded_docs_train_cb = np.load('X_train_padded.npy')\n",
        "padded_docs_valid_cb = np.load('X_valid_padded.npy')\n",
        "\n",
        "embedding_matrix_ft_cb = np.load('embedding_matrix.npy')\n",
        "\n",
        "y_train_cb = np.load('y_train.npy')\n",
        "y_valid_cb = np.load('y_valid.npy')"
      ],
      "execution_count": 8,
      "outputs": []
    },
    {
      "cell_type": "code",
      "metadata": {
        "id": "5MwG6Bkm81iQ",
        "colab_type": "code",
        "colab": {}
      },
      "source": [
        "max_features = embedding_matrix_ft_cb.shape[0]\n",
        "maxlen = padded_docs_train_cb.shape[1]\n",
        "batch_size = 128\n",
        "filters = 250\n",
        "kernel_size = 3\n",
        "hidden_dims = 250\n",
        "epochs = 7\n",
        "embed_size = 300 # for glove we are using 300d dataset\n",
        "n_class = y_train_cb.shape[1]\n",
        "weight_matrix = embedding_matrix_ft_cb"
      ],
      "execution_count": 9,
      "outputs": []
    },
    {
      "cell_type": "code",
      "metadata": {
        "id": "IXUurx-D8g3w",
        "colab_type": "code",
        "colab": {
          "base_uri": "https://localhost:8080/",
          "height": 836
        },
        "outputId": "9a812ddf-c6a1-4aa5-dcb3-5a8bfe5b5e06"
      },
      "source": [
        "model_cb = cnn(max_features=max_features, maxlen=maxlen, filters=filters, kernel_size=kernel_size, hidden_dims=hidden_dims, embed_size=embed_size, n_class=n_class, weight_matrix=weight_matrix)\n",
        "\n",
        "model_cb.fit(padded_docs_train_cb, y_train_cb, batch_size=batch_size, epochs=7, class_weight='auto', validation_split=0.15)"
      ],
      "execution_count": 12,
      "outputs": [
        {
          "output_type": "stream",
          "text": [
            "Model: \"sequential_2\"\n",
            "_________________________________________________________________\n",
            "Layer (type)                 Output Shape              Param #   \n",
            "=================================================================\n",
            "embedding_2 (Embedding)      (None, 184, 300)          1502100   \n",
            "_________________________________________________________________\n",
            "dropout_1 (Dropout)          (None, 184, 300)          0         \n",
            "_________________________________________________________________\n",
            "conv1d_1 (Conv1D)            (None, 182, 250)          225250    \n",
            "_________________________________________________________________\n",
            "max_pooling1d_1 (MaxPooling1 (None, 91, 250)           0         \n",
            "_________________________________________________________________\n",
            "conv1d_2 (Conv1D)            (None, 89, 250)           187750    \n",
            "_________________________________________________________________\n",
            "max_pooling1d_2 (MaxPooling1 (None, 44, 250)           0         \n",
            "_________________________________________________________________\n",
            "flatten_1 (Flatten)          (None, 11000)             0         \n",
            "_________________________________________________________________\n",
            "dense_1 (Dense)              (None, 250)               2750250   \n",
            "_________________________________________________________________\n",
            "dense_2 (Dense)              (None, 250)               62750     \n",
            "_________________________________________________________________\n",
            "dense_3 (Dense)              (None, 6)                 1506      \n",
            "=================================================================\n",
            "Total params: 4,729,606\n",
            "Trainable params: 4,729,606\n",
            "Non-trainable params: 0\n",
            "_________________________________________________________________\n"
          ],
          "name": "stdout"
        },
        {
          "output_type": "stream",
          "text": [
            "/usr/local/lib/python3.6/dist-packages/tensorflow/python/framework/indexed_slices.py:434: UserWarning: Converting sparse IndexedSlices to a dense Tensor of unknown shape. This may consume a large amount of memory.\n",
            "  \"Converting sparse IndexedSlices to a dense Tensor of unknown shape. \"\n"
          ],
          "name": "stderr"
        },
        {
          "output_type": "stream",
          "text": [
            "Train on 2646 samples, validate on 467 samples\n",
            "Epoch 1/7\n",
            "2646/2646 [==============================] - 7s 3ms/step - loss: 0.8918 - accuracy: 0.8047 - val_loss: 0.6543 - val_accuracy: 0.8269\n",
            "Epoch 2/7\n",
            "2646/2646 [==============================] - 1s 445us/step - loss: 0.5766 - accuracy: 0.8419 - val_loss: 0.5211 - val_accuracy: 0.8558\n",
            "Epoch 3/7\n",
            "2646/2646 [==============================] - 1s 446us/step - loss: 0.4738 - accuracy: 0.8597 - val_loss: 0.4669 - val_accuracy: 0.8544\n",
            "Epoch 4/7\n",
            "2646/2646 [==============================] - 1s 450us/step - loss: 0.3945 - accuracy: 0.8742 - val_loss: 0.3944 - val_accuracy: 0.8754\n",
            "Epoch 5/7\n",
            "2646/2646 [==============================] - 1s 439us/step - loss: 0.3164 - accuracy: 0.9012 - val_loss: 0.3841 - val_accuracy: 0.8833\n",
            "Epoch 6/7\n",
            "2646/2646 [==============================] - 1s 448us/step - loss: 0.2692 - accuracy: 0.9186 - val_loss: 0.3602 - val_accuracy: 0.8940\n",
            "Epoch 7/7\n",
            "2646/2646 [==============================] - 1s 442us/step - loss: 0.2231 - accuracy: 0.9339 - val_loss: 0.3471 - val_accuracy: 0.8926\n"
          ],
          "name": "stdout"
        },
        {
          "output_type": "execute_result",
          "data": {
            "text/plain": [
              "<keras.callbacks.callbacks.History at 0x7f12ca4c0588>"
            ]
          },
          "metadata": {
            "tags": []
          },
          "execution_count": 12
        }
      ]
    },
    {
      "cell_type": "code",
      "metadata": {
        "id": "yBGcv3U1-JS6",
        "colab_type": "code",
        "colab": {}
      },
      "source": [
        "## Saving the trained model\n",
        "## model.save('/content/gdrive/My Drive/Subtheme_Models/cb_model')"
      ],
      "execution_count": 16,
      "outputs": []
    },
    {
      "cell_type": "code",
      "metadata": {
        "id": "awiNQA3zAazq",
        "colab_type": "code",
        "colab": {
          "base_uri": "https://localhost:8080/",
          "height": 286
        },
        "outputId": "1626fa52-6ad3-44dd-cbb5-989ae70ee35c"
      },
      "source": [
        "eval_metrics(model_cb, padded_docs_valid_cb, y_valid_cb)"
      ],
      "execution_count": 15,
      "outputs": [
        {
          "output_type": "stream",
          "text": [
            "Micro-average quality numbers:\n"
          ],
          "name": "stdout"
        },
        {
          "output_type": "execute_result",
          "data": {
            "text/html": [
              "<div>\n",
              "<style scoped>\n",
              "    .dataframe tbody tr th:only-of-type {\n",
              "        vertical-align: middle;\n",
              "    }\n",
              "\n",
              "    .dataframe tbody tr th {\n",
              "        vertical-align: top;\n",
              "    }\n",
              "\n",
              "    .dataframe thead th {\n",
              "        text-align: right;\n",
              "    }\n",
              "</style>\n",
              "<table border=\"1\" class=\"dataframe\">\n",
              "  <thead>\n",
              "    <tr style=\"text-align: right;\">\n",
              "      <th></th>\n",
              "      <th>Threshold</th>\n",
              "      <th>Accuracy</th>\n",
              "      <th>Hamming loss</th>\n",
              "      <th>Precision</th>\n",
              "      <th>Recall</th>\n",
              "      <th>F1-measure</th>\n",
              "    </tr>\n",
              "  </thead>\n",
              "  <tbody>\n",
              "    <tr>\n",
              "      <th>0</th>\n",
              "      <td>0.3</td>\n",
              "      <td>0.747510</td>\n",
              "      <td>0.059696</td>\n",
              "      <td>0.839565</td>\n",
              "      <td>0.861262</td>\n",
              "      <td>0.850275</td>\n",
              "    </tr>\n",
              "    <tr>\n",
              "      <th>1</th>\n",
              "      <td>0.4</td>\n",
              "      <td>0.761966</td>\n",
              "      <td>0.056805</td>\n",
              "      <td>0.889717</td>\n",
              "      <td>0.812024</td>\n",
              "      <td>0.849097</td>\n",
              "    </tr>\n",
              "    <tr>\n",
              "      <th>2</th>\n",
              "      <td>0.5</td>\n",
              "      <td>0.736267</td>\n",
              "      <td>0.060660</td>\n",
              "      <td>0.914845</td>\n",
              "      <td>0.762786</td>\n",
              "      <td>0.831924</td>\n",
              "    </tr>\n",
              "    <tr>\n",
              "      <th>3</th>\n",
              "      <td>0.6</td>\n",
              "      <td>0.709284</td>\n",
              "      <td>0.064033</td>\n",
              "      <td>0.930855</td>\n",
              "      <td>0.728781</td>\n",
              "      <td>0.817516</td>\n",
              "    </tr>\n",
              "    <tr>\n",
              "      <th>4</th>\n",
              "      <td>0.7</td>\n",
              "      <td>0.673948</td>\n",
              "      <td>0.068851</td>\n",
              "      <td>0.947231</td>\n",
              "      <td>0.688520</td>\n",
              "      <td>0.797417</td>\n",
              "    </tr>\n",
              "    <tr>\n",
              "      <th>5</th>\n",
              "      <td>0.8</td>\n",
              "      <td>0.611950</td>\n",
              "      <td>0.079023</td>\n",
              "      <td>0.968484</td>\n",
              "      <td>0.618607</td>\n",
              "      <td>0.754980</td>\n",
              "    </tr>\n",
              "    <tr>\n",
              "      <th>6</th>\n",
              "      <td>0.9</td>\n",
              "      <td>0.493093</td>\n",
              "      <td>0.100867</td>\n",
              "      <td>0.980171</td>\n",
              "      <td>0.497552</td>\n",
              "      <td>0.660051</td>\n",
              "    </tr>\n",
              "  </tbody>\n",
              "</table>\n",
              "</div>"
            ],
            "text/plain": [
              "   Threshold  Accuracy  Hamming loss  Precision    Recall  F1-measure\n",
              "0        0.3  0.747510      0.059696   0.839565  0.861262    0.850275\n",
              "1        0.4  0.761966      0.056805   0.889717  0.812024    0.849097\n",
              "2        0.5  0.736267      0.060660   0.914845  0.762786    0.831924\n",
              "3        0.6  0.709284      0.064033   0.930855  0.728781    0.817516\n",
              "4        0.7  0.673948      0.068851   0.947231  0.688520    0.797417\n",
              "5        0.8  0.611950      0.079023   0.968484  0.618607    0.754980\n",
              "6        0.9  0.493093      0.100867   0.980171  0.497552    0.660051"
            ]
          },
          "metadata": {
            "tags": []
          },
          "execution_count": 15
        }
      ]
    },
    {
      "cell_type": "markdown",
      "metadata": {
        "id": "lA8EKMU2Arkr",
        "colab_type": "text"
      },
      "source": [
        "### CPD"
      ]
    },
    {
      "cell_type": "code",
      "metadata": {
        "id": "DRtwx7u9AhaO",
        "colab_type": "code",
        "colab": {}
      },
      "source": [
        "## load data\n",
        "padded_docs_train_cpd = np.load('X_train_padded.npy')\n",
        "padded_docs_valid_cpd = np.load('X_valid_padded.npy')\n",
        "\n",
        "embedding_matrix_ft_cpd = np.load('embedding_matrix.npy')\n",
        "\n",
        "y_train_cpd = np.load('y_train.npy')\n",
        "y_valid_cpd = np.load('y_valid.npy')"
      ],
      "execution_count": 12,
      "outputs": []
    },
    {
      "cell_type": "code",
      "metadata": {
        "id": "_eoB2ucdf57a",
        "colab_type": "code",
        "colab": {
          "base_uri": "https://localhost:8080/",
          "height": 416
        },
        "outputId": "5b351b44-754a-419d-f0db-f05e98fdba62"
      },
      "source": [
        "model_cpd = bigru(max_features=embedding_matrix_ft_cpd.shape[0], max_len=padded_docs_train_cpd.shape[1], n_class=y_train_cpd.shape[1],\n",
        "                  weight_matrix=embedding_matrix_ft_cpd, hidden_sequences = 100)"
      ],
      "execution_count": 15,
      "outputs": [
        {
          "output_type": "stream",
          "text": [
            "Model: \"model_2\"\n",
            "__________________________________________________________________________________________________\n",
            "Layer (type)                    Output Shape         Param #     Connected to                     \n",
            "==================================================================================================\n",
            "input_2 (InputLayer)            (None, 163)          0                                            \n",
            "__________________________________________________________________________________________________\n",
            "embedding_2 (Embedding)         (None, 163, 300)     1428900     input_2[0][0]                    \n",
            "__________________________________________________________________________________________________\n",
            "bidirectional_2 (Bidirectional) (None, 163, 200)     240600      embedding_2[0][0]                \n",
            "__________________________________________________________________________________________________\n",
            "global_max_pooling1d_2 (GlobalM (None, 200)          0           bidirectional_2[0][0]            \n",
            "__________________________________________________________________________________________________\n",
            "global_average_pooling1d_2 (Glo (None, 200)          0           bidirectional_2[0][0]            \n",
            "__________________________________________________________________________________________________\n",
            "concatenate_2 (Concatenate)     (None, 400)          0           global_max_pooling1d_2[0][0]     \n",
            "                                                                 global_average_pooling1d_2[0][0] \n",
            "__________________________________________________________________________________________________\n",
            "dense_2 (Dense)                 (None, 5)            2005        concatenate_2[0][0]              \n",
            "==================================================================================================\n",
            "Total params: 1,671,505\n",
            "Trainable params: 242,605\n",
            "Non-trainable params: 1,428,900\n",
            "__________________________________________________________________________________________________\n"
          ],
          "name": "stdout"
        }
      ]
    },
    {
      "cell_type": "code",
      "metadata": {
        "id": "PSsvcaqHf-vp",
        "colab_type": "code",
        "colab": {
          "base_uri": "https://localhost:8080/",
          "height": 280
        },
        "outputId": "dab3ff91-a2e9-4734-bacd-4953f6de6dd9"
      },
      "source": [
        "model_cpd.fit(padded_docs_train_cpd, y_train_cpd, validation_split=0.15, epochs=6, batch_size=100, verbose=1)"
      ],
      "execution_count": 16,
      "outputs": [
        {
          "output_type": "stream",
          "text": [
            "Train on 2191 samples, validate on 387 samples\n",
            "Epoch 1/6\n",
            "2191/2191 [==============================] - 24s 11ms/step - loss: 0.4544 - accuracy: 0.8206 - categorical_accuracy: 0.5819 - val_loss: 0.3526 - val_accuracy: 0.8429 - val_categorical_accuracy: 0.6253\n",
            "Epoch 2/6\n",
            "2191/2191 [==============================] - 21s 10ms/step - loss: 0.3349 - accuracy: 0.8658 - categorical_accuracy: 0.6577 - val_loss: 0.3061 - val_accuracy: 0.8791 - val_categorical_accuracy: 0.7028\n",
            "Epoch 3/6\n",
            "2191/2191 [==============================] - 22s 10ms/step - loss: 0.2955 - accuracy: 0.8886 - categorical_accuracy: 0.7047 - val_loss: 0.2747 - val_accuracy: 0.9018 - val_categorical_accuracy: 0.7287\n",
            "Epoch 4/6\n",
            "2191/2191 [==============================] - 21s 10ms/step - loss: 0.2691 - accuracy: 0.8962 - categorical_accuracy: 0.7166 - val_loss: 0.2574 - val_accuracy: 0.9018 - val_categorical_accuracy: 0.7442\n",
            "Epoch 5/6\n",
            "2191/2191 [==============================] - 21s 10ms/step - loss: 0.2452 - accuracy: 0.9026 - categorical_accuracy: 0.7613 - val_loss: 0.2414 - val_accuracy: 0.9034 - val_categorical_accuracy: 0.7700\n",
            "Epoch 6/6\n",
            "2191/2191 [==============================] - 21s 10ms/step - loss: 0.2254 - accuracy: 0.9114 - categorical_accuracy: 0.7809 - val_loss: 0.2287 - val_accuracy: 0.9106 - val_categorical_accuracy: 0.7804\n"
          ],
          "name": "stdout"
        },
        {
          "output_type": "execute_result",
          "data": {
            "text/plain": [
              "<keras.callbacks.callbacks.History at 0x7f50503444a8>"
            ]
          },
          "metadata": {
            "tags": []
          },
          "execution_count": 16
        }
      ]
    },
    {
      "cell_type": "code",
      "metadata": {
        "id": "e_7u-4K_gAoM",
        "colab_type": "code",
        "colab": {
          "base_uri": "https://localhost:8080/",
          "height": 286
        },
        "outputId": "e648b303-25f0-452f-b5e0-033a379505fa"
      },
      "source": [
        "eval_metrics(model_cpd, padded_docs_valid_cpd, y_valid_cpd)"
      ],
      "execution_count": 17,
      "outputs": [
        {
          "output_type": "stream",
          "text": [
            "Micro-average quality numbers:\n"
          ],
          "name": "stdout"
        },
        {
          "output_type": "execute_result",
          "data": {
            "text/html": [
              "<div>\n",
              "<style scoped>\n",
              "    .dataframe tbody tr th:only-of-type {\n",
              "        vertical-align: middle;\n",
              "    }\n",
              "\n",
              "    .dataframe tbody tr th {\n",
              "        vertical-align: top;\n",
              "    }\n",
              "\n",
              "    .dataframe thead th {\n",
              "        text-align: right;\n",
              "    }\n",
              "</style>\n",
              "<table border=\"1\" class=\"dataframe\">\n",
              "  <thead>\n",
              "    <tr style=\"text-align: right;\">\n",
              "      <th></th>\n",
              "      <th>Threshold</th>\n",
              "      <th>Accuracy</th>\n",
              "      <th>Hamming loss</th>\n",
              "      <th>Precision</th>\n",
              "      <th>Recall</th>\n",
              "      <th>F1-measure</th>\n",
              "    </tr>\n",
              "  </thead>\n",
              "  <tbody>\n",
              "    <tr>\n",
              "      <th>0</th>\n",
              "      <td>0.3</td>\n",
              "      <td>0.613377</td>\n",
              "      <td>0.111909</td>\n",
              "      <td>0.716535</td>\n",
              "      <td>0.811293</td>\n",
              "      <td>0.760976</td>\n",
              "    </tr>\n",
              "    <tr>\n",
              "      <th>1</th>\n",
              "      <td>0.4</td>\n",
              "      <td>0.655791</td>\n",
              "      <td>0.099511</td>\n",
              "      <td>0.775449</td>\n",
              "      <td>0.769688</td>\n",
              "      <td>0.772558</td>\n",
              "    </tr>\n",
              "    <tr>\n",
              "      <th>2</th>\n",
              "      <td>0.5</td>\n",
              "      <td>0.634584</td>\n",
              "      <td>0.102121</td>\n",
              "      <td>0.807167</td>\n",
              "      <td>0.702823</td>\n",
              "      <td>0.751390</td>\n",
              "    </tr>\n",
              "    <tr>\n",
              "      <th>3</th>\n",
              "      <td>0.6</td>\n",
              "      <td>0.601958</td>\n",
              "      <td>0.109625</td>\n",
              "      <td>0.833663</td>\n",
              "      <td>0.625557</td>\n",
              "      <td>0.714771</td>\n",
              "    </tr>\n",
              "    <tr>\n",
              "      <th>4</th>\n",
              "      <td>0.7</td>\n",
              "      <td>0.536705</td>\n",
              "      <td>0.117129</td>\n",
              "      <td>0.875598</td>\n",
              "      <td>0.543834</td>\n",
              "      <td>0.670944</td>\n",
              "    </tr>\n",
              "    <tr>\n",
              "      <th>5</th>\n",
              "      <td>0.8</td>\n",
              "      <td>0.435563</td>\n",
              "      <td>0.130179</td>\n",
              "      <td>0.930818</td>\n",
              "      <td>0.439822</td>\n",
              "      <td>0.597376</td>\n",
              "    </tr>\n",
              "    <tr>\n",
              "      <th>6</th>\n",
              "      <td>0.9</td>\n",
              "      <td>0.290375</td>\n",
              "      <td>0.159543</td>\n",
              "      <td>0.950980</td>\n",
              "      <td>0.288262</td>\n",
              "      <td>0.442417</td>\n",
              "    </tr>\n",
              "  </tbody>\n",
              "</table>\n",
              "</div>"
            ],
            "text/plain": [
              "   Threshold  Accuracy  Hamming loss  Precision    Recall  F1-measure\n",
              "0        0.3  0.613377      0.111909   0.716535  0.811293    0.760976\n",
              "1        0.4  0.655791      0.099511   0.775449  0.769688    0.772558\n",
              "2        0.5  0.634584      0.102121   0.807167  0.702823    0.751390\n",
              "3        0.6  0.601958      0.109625   0.833663  0.625557    0.714771\n",
              "4        0.7  0.536705      0.117129   0.875598  0.543834    0.670944\n",
              "5        0.8  0.435563      0.130179   0.930818  0.439822    0.597376\n",
              "6        0.9  0.290375      0.159543   0.950980  0.288262    0.442417"
            ]
          },
          "metadata": {
            "tags": []
          },
          "execution_count": 17
        }
      ]
    },
    {
      "cell_type": "code",
      "metadata": {
        "id": "6y9iJu5lgJ3W",
        "colab_type": "code",
        "colab": {}
      },
      "source": [
        ""
      ],
      "execution_count": null,
      "outputs": []
    },
    {
      "cell_type": "markdown",
      "metadata": {
        "id": "rsotzZy0gRku",
        "colab_type": "text"
      },
      "source": [
        "### EWC"
      ]
    },
    {
      "cell_type": "code",
      "metadata": {
        "id": "HYWRsr5agXUm",
        "colab_type": "code",
        "colab": {}
      },
      "source": [
        "## load data\n",
        "padded_docs_train_ewc = np.load('X_train_padded.npy')\n",
        "padded_docs_valid_ewc = np.load('X_valid_padded.npy')\n",
        "\n",
        "embedding_matrix_ft_ewc = np.load('embedding_matrix.npy')\n",
        "\n",
        "y_train_ewc = np.load('y_train.npy')\n",
        "y_valid_ewc = np.load('y_valid.npy')"
      ],
      "execution_count": 21,
      "outputs": []
    },
    {
      "cell_type": "code",
      "metadata": {
        "id": "NSutaaqpgajK",
        "colab_type": "code",
        "colab": {
          "base_uri": "https://localhost:8080/",
          "height": 416
        },
        "outputId": "91809516-8315-4920-d6c7-5a59b09a7076"
      },
      "source": [
        "model_ewc = bigru(max_features=embedding_matrix_ft_ewc.shape[0], max_len=padded_docs_train_ewc.shape[1], n_class=y_train_ewc.shape[1],\n",
        "                  weight_matrix=embedding_matrix_ft_ewc, hidden_sequences = 100)"
      ],
      "execution_count": 22,
      "outputs": [
        {
          "output_type": "stream",
          "text": [
            "Model: \"model_4\"\n",
            "__________________________________________________________________________________________________\n",
            "Layer (type)                    Output Shape         Param #     Connected to                     \n",
            "==================================================================================================\n",
            "input_4 (InputLayer)            (None, 220)          0                                            \n",
            "__________________________________________________________________________________________________\n",
            "embedding_4 (Embedding)         (None, 220, 300)     1463700     input_4[0][0]                    \n",
            "__________________________________________________________________________________________________\n",
            "bidirectional_4 (Bidirectional) (None, 220, 200)     240600      embedding_4[0][0]                \n",
            "__________________________________________________________________________________________________\n",
            "global_max_pooling1d_4 (GlobalM (None, 200)          0           bidirectional_4[0][0]            \n",
            "__________________________________________________________________________________________________\n",
            "global_average_pooling1d_4 (Glo (None, 200)          0           bidirectional_4[0][0]            \n",
            "__________________________________________________________________________________________________\n",
            "concatenate_4 (Concatenate)     (None, 400)          0           global_max_pooling1d_4[0][0]     \n",
            "                                                                 global_average_pooling1d_4[0][0] \n",
            "__________________________________________________________________________________________________\n",
            "dense_4 (Dense)                 (None, 6)            2406        concatenate_4[0][0]              \n",
            "==================================================================================================\n",
            "Total params: 1,706,706\n",
            "Trainable params: 243,006\n",
            "Non-trainable params: 1,463,700\n",
            "__________________________________________________________________________________________________\n"
          ],
          "name": "stdout"
        }
      ]
    },
    {
      "cell_type": "code",
      "metadata": {
        "id": "ABMfh1dm0raL",
        "colab_type": "code",
        "colab": {
          "base_uri": "https://localhost:8080/",
          "height": 593
        },
        "outputId": "9417ad82-54cf-4ff5-fb0d-e46391393022"
      },
      "source": [
        "model_ewc.fit(padded_docs_train_ewc, y_train_ewc, validation_split=0.15, epochs=15, batch_size=200, verbose=1)"
      ],
      "execution_count": 23,
      "outputs": [
        {
          "output_type": "stream",
          "text": [
            "Train on 1569 samples, validate on 277 samples\n",
            "Epoch 1/15\n",
            "1569/1569 [==============================] - 12s 8ms/step - loss: 0.5502 - accuracy: 0.8042 - categorical_accuracy: 0.3015 - val_loss: 0.4587 - val_accuracy: 0.8219 - val_categorical_accuracy: 0.4513\n",
            "Epoch 2/15\n",
            "1569/1569 [==============================] - 11s 7ms/step - loss: 0.4422 - accuracy: 0.8173 - categorical_accuracy: 0.3499 - val_loss: 0.4189 - val_accuracy: 0.8237 - val_categorical_accuracy: 0.3791\n",
            "Epoch 3/15\n",
            "1569/1569 [==============================] - 11s 7ms/step - loss: 0.4222 - accuracy: 0.8226 - categorical_accuracy: 0.3321 - val_loss: 0.4038 - val_accuracy: 0.8297 - val_categorical_accuracy: 0.4260\n",
            "Epoch 4/15\n",
            "1569/1569 [==============================] - 11s 7ms/step - loss: 0.3991 - accuracy: 0.8246 - categorical_accuracy: 0.4990 - val_loss: 0.3831 - val_accuracy: 0.8345 - val_categorical_accuracy: 0.6029\n",
            "Epoch 5/15\n",
            "1569/1569 [==============================] - 11s 7ms/step - loss: 0.3745 - accuracy: 0.8359 - categorical_accuracy: 0.6106 - val_loss: 0.3558 - val_accuracy: 0.8592 - val_categorical_accuracy: 0.6318\n",
            "Epoch 6/15\n",
            "1569/1569 [==============================] - 11s 7ms/step - loss: 0.3494 - accuracy: 0.8599 - categorical_accuracy: 0.6201 - val_loss: 0.3315 - val_accuracy: 0.8785 - val_categorical_accuracy: 0.6498\n",
            "Epoch 7/15\n",
            "1569/1569 [==============================] - 11s 7ms/step - loss: 0.3234 - accuracy: 0.8770 - categorical_accuracy: 0.6577 - val_loss: 0.3130 - val_accuracy: 0.8893 - val_categorical_accuracy: 0.6643\n",
            "Epoch 8/15\n",
            "1569/1569 [==============================] - 11s 7ms/step - loss: 0.3001 - accuracy: 0.8923 - categorical_accuracy: 0.6775 - val_loss: 0.2952 - val_accuracy: 0.8911 - val_categorical_accuracy: 0.6715\n",
            "Epoch 9/15\n",
            "1569/1569 [==============================] - 11s 7ms/step - loss: 0.2809 - accuracy: 0.8979 - categorical_accuracy: 0.6851 - val_loss: 0.2788 - val_accuracy: 0.9019 - val_categorical_accuracy: 0.6787\n",
            "Epoch 10/15\n",
            "1569/1569 [==============================] - 11s 7ms/step - loss: 0.2656 - accuracy: 0.9032 - categorical_accuracy: 0.7106 - val_loss: 0.2695 - val_accuracy: 0.9061 - val_categorical_accuracy: 0.6859\n",
            "Epoch 11/15\n",
            "1569/1569 [==============================] - 11s 7ms/step - loss: 0.2515 - accuracy: 0.9076 - categorical_accuracy: 0.7177 - val_loss: 0.2614 - val_accuracy: 0.9049 - val_categorical_accuracy: 0.6895\n",
            "Epoch 12/15\n",
            "1569/1569 [==============================] - 11s 7ms/step - loss: 0.2396 - accuracy: 0.9123 - categorical_accuracy: 0.7298 - val_loss: 0.2524 - val_accuracy: 0.9049 - val_categorical_accuracy: 0.7112\n",
            "Epoch 13/15\n",
            "1569/1569 [==============================] - 11s 7ms/step - loss: 0.2284 - accuracy: 0.9181 - categorical_accuracy: 0.7425 - val_loss: 0.2512 - val_accuracy: 0.9061 - val_categorical_accuracy: 0.7112\n",
            "Epoch 14/15\n",
            "1569/1569 [==============================] - 11s 7ms/step - loss: 0.2200 - accuracy: 0.9199 - categorical_accuracy: 0.7616 - val_loss: 0.2441 - val_accuracy: 0.9091 - val_categorical_accuracy: 0.7184\n",
            "Epoch 15/15\n",
            "1569/1569 [==============================] - 11s 7ms/step - loss: 0.2099 - accuracy: 0.9225 - categorical_accuracy: 0.7686 - val_loss: 0.2411 - val_accuracy: 0.9073 - val_categorical_accuracy: 0.7148\n"
          ],
          "name": "stdout"
        },
        {
          "output_type": "execute_result",
          "data": {
            "text/plain": [
              "<keras.callbacks.callbacks.History at 0x7f4ffa8045c0>"
            ]
          },
          "metadata": {
            "tags": []
          },
          "execution_count": 23
        }
      ]
    },
    {
      "cell_type": "code",
      "metadata": {
        "id": "ZRAPp75kzKr0",
        "colab_type": "code",
        "colab": {
          "base_uri": "https://localhost:8080/",
          "height": 286
        },
        "outputId": "b1efcd9c-3646-4648-b375-b7fe16197014"
      },
      "source": [
        "eval_metrics(model_ewc, padded_docs_valid_ewc, y_valid_ewc)"
      ],
      "execution_count": 24,
      "outputs": [
        {
          "output_type": "stream",
          "text": [
            "Micro-average quality numbers:\n"
          ],
          "name": "stdout"
        },
        {
          "output_type": "execute_result",
          "data": {
            "text/html": [
              "<div>\n",
              "<style scoped>\n",
              "    .dataframe tbody tr th:only-of-type {\n",
              "        vertical-align: middle;\n",
              "    }\n",
              "\n",
              "    .dataframe tbody tr th {\n",
              "        vertical-align: top;\n",
              "    }\n",
              "\n",
              "    .dataframe thead th {\n",
              "        text-align: right;\n",
              "    }\n",
              "</style>\n",
              "<table border=\"1\" class=\"dataframe\">\n",
              "  <thead>\n",
              "    <tr style=\"text-align: right;\">\n",
              "      <th></th>\n",
              "      <th>Threshold</th>\n",
              "      <th>Accuracy</th>\n",
              "      <th>Hamming loss</th>\n",
              "      <th>Precision</th>\n",
              "      <th>Recall</th>\n",
              "      <th>F1-measure</th>\n",
              "    </tr>\n",
              "  </thead>\n",
              "  <tbody>\n",
              "    <tr>\n",
              "      <th>0</th>\n",
              "      <td>0.3</td>\n",
              "      <td>0.610092</td>\n",
              "      <td>0.099006</td>\n",
              "      <td>0.726708</td>\n",
              "      <td>0.734310</td>\n",
              "      <td>0.730489</td>\n",
              "    </tr>\n",
              "    <tr>\n",
              "      <th>1</th>\n",
              "      <td>0.4</td>\n",
              "      <td>0.626147</td>\n",
              "      <td>0.096713</td>\n",
              "      <td>0.762238</td>\n",
              "      <td>0.684100</td>\n",
              "      <td>0.721058</td>\n",
              "    </tr>\n",
              "    <tr>\n",
              "      <th>2</th>\n",
              "      <td>0.5</td>\n",
              "      <td>0.594037</td>\n",
              "      <td>0.096713</td>\n",
              "      <td>0.804878</td>\n",
              "      <td>0.621339</td>\n",
              "      <td>0.701299</td>\n",
              "    </tr>\n",
              "    <tr>\n",
              "      <th>3</th>\n",
              "      <td>0.6</td>\n",
              "      <td>0.532110</td>\n",
              "      <td>0.100153</td>\n",
              "      <td>0.850649</td>\n",
              "      <td>0.548117</td>\n",
              "      <td>0.666667</td>\n",
              "    </tr>\n",
              "    <tr>\n",
              "      <th>4</th>\n",
              "      <td>0.7</td>\n",
              "      <td>0.477064</td>\n",
              "      <td>0.105122</td>\n",
              "      <td>0.894942</td>\n",
              "      <td>0.481172</td>\n",
              "      <td>0.625850</td>\n",
              "    </tr>\n",
              "    <tr>\n",
              "      <th>5</th>\n",
              "      <td>0.8</td>\n",
              "      <td>0.403670</td>\n",
              "      <td>0.115061</td>\n",
              "      <td>0.923445</td>\n",
              "      <td>0.403766</td>\n",
              "      <td>0.561863</td>\n",
              "    </tr>\n",
              "    <tr>\n",
              "      <th>6</th>\n",
              "      <td>0.9</td>\n",
              "      <td>0.250000</td>\n",
              "      <td>0.139526</td>\n",
              "      <td>0.966942</td>\n",
              "      <td>0.244770</td>\n",
              "      <td>0.390651</td>\n",
              "    </tr>\n",
              "  </tbody>\n",
              "</table>\n",
              "</div>"
            ],
            "text/plain": [
              "   Threshold  Accuracy  Hamming loss  Precision    Recall  F1-measure\n",
              "0        0.3  0.610092      0.099006   0.726708  0.734310    0.730489\n",
              "1        0.4  0.626147      0.096713   0.762238  0.684100    0.721058\n",
              "2        0.5  0.594037      0.096713   0.804878  0.621339    0.701299\n",
              "3        0.6  0.532110      0.100153   0.850649  0.548117    0.666667\n",
              "4        0.7  0.477064      0.105122   0.894942  0.481172    0.625850\n",
              "5        0.8  0.403670      0.115061   0.923445  0.403766    0.561863\n",
              "6        0.9  0.250000      0.139526   0.966942  0.244770    0.390651"
            ]
          },
          "metadata": {
            "tags": []
          },
          "execution_count": 24
        }
      ]
    },
    {
      "cell_type": "markdown",
      "metadata": {
        "id": "MNLX4StZgk7w",
        "colab_type": "text"
      },
      "source": [
        "### Exec"
      ]
    },
    {
      "cell_type": "code",
      "metadata": {
        "id": "12cHGAocgqUm",
        "colab_type": "code",
        "colab": {}
      },
      "source": [
        "## load data\n",
        "padded_docs_train_exec = np.load('X_train_padded.npy')\n",
        "padded_docs_valid_exec = np.load('X_valid_padded.npy')\n",
        "\n",
        "embedding_matrix_ft_exec = np.load('embedding_matrix.npy')\n",
        "\n",
        "y_train_exec = np.load('y_train.npy')\n",
        "y_valid_exec = np.load('y_valid.npy')"
      ],
      "execution_count": null,
      "outputs": []
    },
    {
      "cell_type": "code",
      "metadata": {
        "id": "H7maxKDegs3c",
        "colab_type": "code",
        "colab": {}
      },
      "source": [
        "model_exec = bigru(max_features=embedding_matrix_ft_exec.shape[0], max_len=padded_docs_train_exec.shape[1], n_class=y_train_exec.shape[1],\n",
        "                  weight_matrix=embedding_matrix_ft_exec, hidden_sequences = 100)"
      ],
      "execution_count": null,
      "outputs": []
    },
    {
      "cell_type": "code",
      "metadata": {
        "id": "LE2GRkbnguzz",
        "colab_type": "code",
        "colab": {}
      },
      "source": [
        "model_exec.fit(padded_docs_train_exec, y_train_exec, validation_split=0.15, epochs=15, batch_size=256, verbose=1)"
      ],
      "execution_count": null,
      "outputs": []
    },
    {
      "cell_type": "code",
      "metadata": {
        "id": "TwPH91u7gwt4",
        "colab_type": "code",
        "colab": {}
      },
      "source": [
        "eval_metrics(model_exec, padded_docs_valid_exec, y_valid_exec)"
      ],
      "execution_count": null,
      "outputs": []
    },
    {
      "cell_type": "markdown",
      "metadata": {
        "id": "Ch3QJ7o1g0o9",
        "colab_type": "text"
      },
      "source": [
        "### FWE"
      ]
    },
    {
      "cell_type": "code",
      "metadata": {
        "id": "-SigPl7ehTsq",
        "colab_type": "code",
        "colab": {}
      },
      "source": [
        "## load data\n",
        "padded_docs_train_fwe = np.load('X_train_padded.npy')\n",
        "padded_docs_valid_fwe = np.load('X_valid_padded.npy')\n",
        "\n",
        "embedding_matrix_ft_fwe = np.load('embedding_matrix.npy')\n",
        "\n",
        "y_train_fwe = np.load('y_train.npy')\n",
        "y_valid_fwe = np.load('y_valid.npy')"
      ],
      "execution_count": null,
      "outputs": []
    },
    {
      "cell_type": "code",
      "metadata": {
        "id": "etUrhYGUhT0t",
        "colab_type": "code",
        "colab": {}
      },
      "source": [
        "model_fwe = bigru_2(max_features=embedding_matrix_ft_fwe.shape[0], max_len=padded_docs_train_fwe.shape[1], n_class=y_train_fwe.shape[1],\n",
        "                  weight_matrix=embedding_matrix_ft_fwe, hidden_sequences = 200, hidden_sequences_2 = 75)"
      ],
      "execution_count": null,
      "outputs": []
    },
    {
      "cell_type": "code",
      "metadata": {
        "id": "M0iv_pBNhT63",
        "colab_type": "code",
        "colab": {}
      },
      "source": [
        "model_fwe.fit(padded_docs_train_fwe, y_train_fwe, validation_split=0.15, epochs=10, batch_size=156, verbose=1)"
      ],
      "execution_count": null,
      "outputs": []
    },
    {
      "cell_type": "code",
      "metadata": {
        "id": "A2ryM3RYhUT6",
        "colab_type": "code",
        "colab": {}
      },
      "source": [
        "eval_metrics(model_fwe, padded_docs_valid_fwe, y_valid_fwe)"
      ],
      "execution_count": null,
      "outputs": []
    },
    {
      "cell_type": "markdown",
      "metadata": {
        "id": "-ZXEu27Qg3Zu",
        "colab_type": "text"
      },
      "source": [
        "### OTH"
      ]
    },
    {
      "cell_type": "code",
      "metadata": {
        "id": "EDX3mXe2hXmO",
        "colab_type": "code",
        "colab": {}
      },
      "source": [
        "## load data\n",
        "padded_docs_train_oth = np.load('X_train_padded.npy')\n",
        "padded_docs_valid_oth = np.load('X_valid_padded.npy')\n",
        "\n",
        "embedding_matrix_ft_oth = np.load('embedding_matrix.npy')\n",
        "\n",
        "y_train_oth = np.load('y_train.npy')\n",
        "y_valid_oth = np.load('y_valid.npy')"
      ],
      "execution_count": null,
      "outputs": []
    },
    {
      "cell_type": "code",
      "metadata": {
        "id": "jjh6qRNyhXuX",
        "colab_type": "code",
        "colab": {}
      },
      "source": [
        "model_oth = bigru_2(max_features=embedding_matrix_ft_oth.shape[0], max_len=padded_docs_train_oth.shape[1], n_class=y_train_oth.shape[1],\n",
        "                  weight_matrix=embedding_matrix_ft_oth, hidden_sequences = 100, hidden_sequences_2 = 75)"
      ],
      "execution_count": null,
      "outputs": []
    },
    {
      "cell_type": "code",
      "metadata": {
        "id": "f0CatWSlhX2N",
        "colab_type": "code",
        "colab": {}
      },
      "source": [
        "model_oth.fit(padded_docs_train_oth, y_train_oth, validation_split=0.15, epochs=15, batch_size=200, verbose=1)"
      ],
      "execution_count": null,
      "outputs": []
    },
    {
      "cell_type": "code",
      "metadata": {
        "id": "d50zGSjAhYbJ",
        "colab_type": "code",
        "colab": {}
      },
      "source": [
        "eval_metrics(model_oth, padded_docs_valid_oth, y_valid_oth)"
      ],
      "execution_count": null,
      "outputs": []
    },
    {
      "cell_type": "code",
      "metadata": {
        "id": "qYRpMiM7hX0Z",
        "colab_type": "code",
        "colab": {}
      },
      "source": [
        ""
      ],
      "execution_count": null,
      "outputs": []
    },
    {
      "cell_type": "markdown",
      "metadata": {
        "id": "w8wBeOd9g3h1",
        "colab_type": "text"
      },
      "source": [
        "### RE"
      ]
    },
    {
      "cell_type": "code",
      "metadata": {
        "id": "uZxiXCpShZoz",
        "colab_type": "code",
        "colab": {}
      },
      "source": [
        "## load data\n",
        "padded_docs_train_re = np.load('X_train_padded.npy')\n",
        "padded_docs_valid_re = np.load('X_valid_padded.npy')\n",
        "\n",
        "embedding_matrix_ft_re = np.load('embedding_matrix.npy')\n",
        "\n",
        "y_train_re = np.load('y_train.npy')\n",
        "y_valid_re = np.load('y_valid.npy')"
      ],
      "execution_count": null,
      "outputs": []
    },
    {
      "cell_type": "code",
      "metadata": {
        "id": "skn96mCkha_v",
        "colab_type": "code",
        "colab": {}
      },
      "source": [
        "model_re = bigru_2(max_features=embedding_matrix_ft_re.shape[0], max_len=padded_docs_train_re.shape[1], n_class=y_train_re.shape[1],\n",
        "                  weight_matrix=embedding_matrix_ft_re, hidden_sequences = 200, hidden_sequences_2 = 75)"
      ],
      "execution_count": null,
      "outputs": []
    },
    {
      "cell_type": "code",
      "metadata": {
        "id": "Ug0argrvhZxX",
        "colab_type": "code",
        "colab": {}
      },
      "source": [
        "model_re.fit(padded_docs_train_re, y_train_re, validation_split=0.15, epochs=12, batch_size=156, verbose=1)"
      ],
      "execution_count": null,
      "outputs": []
    },
    {
      "cell_type": "code",
      "metadata": {
        "id": "VlI7ZHUvhZ42",
        "colab_type": "code",
        "colab": {}
      },
      "source": [
        "eval_metrics(model_re, padded_docs_valid_re, y_valid_re)"
      ],
      "execution_count": null,
      "outputs": []
    },
    {
      "cell_type": "markdown",
      "metadata": {
        "id": "qRfsymcZg3oX",
        "colab_type": "text"
      },
      "source": [
        "### SP"
      ]
    },
    {
      "cell_type": "code",
      "metadata": {
        "id": "iABh719VhbkZ",
        "colab_type": "code",
        "colab": {}
      },
      "source": [
        "## load data\n",
        "padded_docs_train_sp = np.load('X_train_padded.npy')\n",
        "padded_docs_valid_sp = np.load('X_valid_padded.npy')\n",
        "\n",
        "embedding_matrix_ft_sp = np.load('embedding_matrix.npy')\n",
        "\n",
        "y_train_sp = np.load('y_train.npy')\n",
        "y_valid_sp = np.load('y_valid.npy')"
      ],
      "execution_count": null,
      "outputs": []
    },
    {
      "cell_type": "code",
      "metadata": {
        "id": "1uhZM9dYhbqI",
        "colab_type": "code",
        "colab": {}
      },
      "source": [
        "model_sp = bigru(max_features=embedding_matrix_ft_sp.shape[0], max_len=padded_docs_train_sp.shape[1], n_class=y_train_sp.shape[1],\n",
        "                  weight_matrix=embedding_matrix_ft_sp, hidden_sequences = 100)"
      ],
      "execution_count": null,
      "outputs": []
    },
    {
      "cell_type": "code",
      "metadata": {
        "id": "65-CzhT_hbtP",
        "colab_type": "code",
        "colab": {}
      },
      "source": [
        "model_sp.fit(padded_docs_train_sp, y_train_sp, validation_split=0.15, epochs=15, batch_size=256, verbose=1)"
      ],
      "execution_count": null,
      "outputs": []
    },
    {
      "cell_type": "code",
      "metadata": {
        "id": "VgU1j3gRhb2F",
        "colab_type": "code",
        "colab": {}
      },
      "source": [
        "eval_metrics(model_sp, padded_docs_valid_sp, y_valid_sp)"
      ],
      "execution_count": null,
      "outputs": []
    },
    {
      "cell_type": "code",
      "metadata": {
        "id": "JmaJVeWHhbya",
        "colab_type": "code",
        "colab": {}
      },
      "source": [
        ""
      ],
      "execution_count": null,
      "outputs": []
    },
    {
      "cell_type": "markdown",
      "metadata": {
        "id": "8neWmJksg3vc",
        "colab_type": "text"
      },
      "source": [
        "### Sup"
      ]
    },
    {
      "cell_type": "code",
      "metadata": {
        "id": "HsRJpPNLhdJb",
        "colab_type": "code",
        "colab": {}
      },
      "source": [
        "## load data\n",
        "padded_docs_train_sup = np.load('X_train_padded.npy')\n",
        "padded_docs_valid_sup = np.load('X_valid_padded.npy')\n",
        "\n",
        "embedding_matrix_ft_sup = np.load('embedding_matrix.npy')\n",
        "\n",
        "y_train_sup = np.load('y_train.npy')\n",
        "y_valid_sup = np.load('y_valid.npy')"
      ],
      "execution_count": null,
      "outputs": []
    },
    {
      "cell_type": "code",
      "metadata": {
        "id": "lf0cyGHchdOn",
        "colab_type": "code",
        "colab": {}
      },
      "source": [
        "model_sup = bigru(max_features=embedding_matrix_ft_sup.shape[0], max_len=padded_docs_train_sup.shape[1], n_class=y_train_sup.shape[1],\n",
        "                  weight_matrix=embedding_matrix_ft_sup, hidden_sequences = 100)"
      ],
      "execution_count": null,
      "outputs": []
    },
    {
      "cell_type": "code",
      "metadata": {
        "id": "UkBkT0zrhdXU",
        "colab_type": "code",
        "colab": {}
      },
      "source": [
        "model_sup.fit(padded_docs_train_sup, y_train_sup, validation_split=0.15, epochs=20, batch_size=256, verbose=1)"
      ],
      "execution_count": null,
      "outputs": []
    },
    {
      "cell_type": "code",
      "metadata": {
        "id": "o6dvez60hdTg",
        "colab_type": "code",
        "colab": {}
      },
      "source": [
        "eval_metrics(model_sup, padded_docs_valid_sup, y_valid_sup)"
      ],
      "execution_count": null,
      "outputs": []
    },
    {
      "cell_type": "markdown",
      "metadata": {
        "id": "SqOzPhX9g341",
        "colab_type": "text"
      },
      "source": [
        "### SW"
      ]
    },
    {
      "cell_type": "code",
      "metadata": {
        "id": "c5Ori6ochewY",
        "colab_type": "code",
        "colab": {}
      },
      "source": [
        "## load data\n",
        "padded_docs_train_sw = np.load('X_train_padded.npy')\n",
        "padded_docs_valid_sw = np.load('X_valid_padded.npy')\n",
        "\n",
        "embedding_matrix_ft_sw = np.load('embedding_matrix.npy')\n",
        "\n",
        "y_train_sw = np.load('y_train.npy')\n",
        "y_valid_sw = np.load('y_valid.npy')"
      ],
      "execution_count": null,
      "outputs": []
    },
    {
      "cell_type": "code",
      "metadata": {
        "id": "J4cyMVq3he7u",
        "colab_type": "code",
        "colab": {}
      },
      "source": [
        "model_sw = bigru(max_features=embedding_matrix_ft_sw.shape[0], max_len=padded_docs_train_sw.shape[1], n_class=y_train_sw.shape[1],\n",
        "                  weight_matrix=embedding_matrix_ft_sw, hidden_sequences = 100)"
      ],
      "execution_count": null,
      "outputs": []
    },
    {
      "cell_type": "code",
      "metadata": {
        "id": "-soq11D7hfDG",
        "colab_type": "code",
        "colab": {}
      },
      "source": [
        "model_sw.fit(padded_docs_train_sw, y_train_sw, validation_split=0.15, epochs=20, batch_size=256, verbose=1)"
      ],
      "execution_count": null,
      "outputs": []
    },
    {
      "cell_type": "code",
      "metadata": {
        "id": "Y5RAVc7ehe4H",
        "colab_type": "code",
        "colab": {}
      },
      "source": [
        "eval_metrics(model_sw, padded_docs_valid_sw, y_valid_sw)"
      ],
      "execution_count": null,
      "outputs": []
    },
    {
      "cell_type": "code",
      "metadata": {
        "id": "964sgZjYhe2V",
        "colab_type": "code",
        "colab": {}
      },
      "source": [
        ""
      ],
      "execution_count": null,
      "outputs": []
    },
    {
      "cell_type": "code",
      "metadata": {
        "id": "cslNVhO_hezJ",
        "colab_type": "code",
        "colab": {}
      },
      "source": [
        ""
      ],
      "execution_count": null,
      "outputs": []
    },
    {
      "cell_type": "markdown",
      "metadata": {
        "id": "MjRo41PIhE0-",
        "colab_type": "text"
      },
      "source": [
        "### TEPE"
      ]
    },
    {
      "cell_type": "code",
      "metadata": {
        "id": "wNkooYALhgJb",
        "colab_type": "code",
        "colab": {}
      },
      "source": [
        "## load data\n",
        "padded_docs_train_tepe = np.load('X_train_padded.npy')\n",
        "padded_docs_valid_tepe = np.load('X_valid_padded.npy')\n",
        "\n",
        "embedding_matrix_ft_tepe = np.load('embedding_matrix.npy')\n",
        "\n",
        "y_train_tepe = np.load('y_train.npy')\n",
        "y_valid_tepe = np.load('y_valid.npy')"
      ],
      "execution_count": null,
      "outputs": []
    },
    {
      "cell_type": "code",
      "metadata": {
        "id": "6TJh0zG7hgSN",
        "colab_type": "code",
        "colab": {}
      },
      "source": [
        "model_tepe = bigru(max_features=embedding_matrix_ft_tepe.shape[0], max_len=padded_docs_train_tepe.shape[1], n_class=y_train_tepe.shape[1],\n",
        "                  weight_matrix=embedding_matrix_ft_tepe, hidden_sequences = 100)"
      ],
      "execution_count": null,
      "outputs": []
    },
    {
      "cell_type": "code",
      "metadata": {
        "id": "Z3npkqirhgfP",
        "colab_type": "code",
        "colab": {}
      },
      "source": [
        "model_tepe.fit(padded_docs_train_tepe, y_train_tepe, validation_split=0.15, epochs=6, batch_size=256, verbose=1)"
      ],
      "execution_count": null,
      "outputs": []
    },
    {
      "cell_type": "code",
      "metadata": {
        "id": "nlTg8_PBhgQE",
        "colab_type": "code",
        "colab": {}
      },
      "source": [
        "eval_metrics(model_tepe, padded_docs_valid_tepe, y_valid_tepe)"
      ],
      "execution_count": null,
      "outputs": []
    },
    {
      "cell_type": "code",
      "metadata": {
        "id": "oKop40OehgOR",
        "colab_type": "code",
        "colab": {}
      },
      "source": [
        ""
      ],
      "execution_count": null,
      "outputs": []
    },
    {
      "cell_type": "code",
      "metadata": {
        "id": "QK6ByNRehgMK",
        "colab_type": "code",
        "colab": {}
      },
      "source": [
        ""
      ],
      "execution_count": null,
      "outputs": []
    },
    {
      "cell_type": "markdown",
      "metadata": {
        "id": "ljA_HpFRhE9t",
        "colab_type": "text"
      },
      "source": [
        "### VMG"
      ]
    },
    {
      "cell_type": "code",
      "metadata": {
        "id": "rNWKyYVQhh-W",
        "colab_type": "code",
        "colab": {}
      },
      "source": [
        "## load data\n",
        "padded_docs_train_vmg = np.load('X_train_padded.npy')\n",
        "padded_docs_valid_vmg = np.load('X_valid_padded.npy')\n",
        "\n",
        "embedding_matrix_ft_vmg = np.load('embedding_matrix.npy')\n",
        "\n",
        "y_train_vmg = np.load('y_train.npy')\n",
        "y_valid_vmg = np.load('y_valid.npy')"
      ],
      "execution_count": null,
      "outputs": []
    },
    {
      "cell_type": "code",
      "metadata": {
        "id": "cAZr8dq-hh73",
        "colab_type": "code",
        "colab": {}
      },
      "source": [
        "model_vmg = bigru_2(max_features=embedding_matrix_ft_vmg.shape[0], max_len=padded_docs_train_vmg.shape[1], n_class=y_train_vmg.shape[1],\n",
        "                  weight_matrix=embedding_matrix_ft_vmg, hidden_sequences = 100, hidden_sequences_2 = 75)"
      ],
      "execution_count": null,
      "outputs": []
    },
    {
      "cell_type": "code",
      "metadata": {
        "id": "PI8lYtSHhh6M",
        "colab_type": "code",
        "colab": {}
      },
      "source": [
        "model_vmg.fit(padded_docs_train_vmg, y_train_vmg, validation_split=0.15, epochs=15, batch_size=256, verbose=1)"
      ],
      "execution_count": null,
      "outputs": []
    },
    {
      "cell_type": "code",
      "metadata": {
        "id": "50riZOq2hh4K",
        "colab_type": "code",
        "colab": {}
      },
      "source": [
        "eval_metrics(model_vmg, padded_docs_valid_vmg, y_valid_vmg)"
      ],
      "execution_count": null,
      "outputs": []
    },
    {
      "cell_type": "code",
      "metadata": {
        "id": "_k-M4bhThDKJ",
        "colab_type": "code",
        "colab": {}
      },
      "source": [
        ""
      ],
      "execution_count": null,
      "outputs": []
    }
  ]
}