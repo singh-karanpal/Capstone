{
 "cells": [
  {
   "cell_type": "markdown",
   "metadata": {},
   "source": [
    "# Subthemes OTH, EWC, EXEC"
   ]
  },
  {
   "cell_type": "code",
   "execution_count": 42,
   "metadata": {},
   "outputs": [],
   "source": [
    "import numpy as np\n",
    "import pandas as pd\n",
    "from keras.preprocessing.text import Tokenizer\n",
    "from gensim.models.fasttext import FastText\n",
    "\n",
    "import keras\n",
    "from keras import backend as K\n",
    "from keras.models import Sequential\n",
    "from keras.layers import Dense, Activation, Dropout, Flatten\n",
    "from keras.layers import Embedding, Conv1D, MaxPooling1D, GlobalMaxPooling1D \n",
    "from keras.preprocessing.sequence import pad_sequences\n",
    "from keras.preprocessing import sequence\n",
    "from keras.preprocessing.text import Tokenizer\n",
    "\n",
    "from tqdm import tqdm\n",
    "from nltk.corpus import stopwords\n",
    "from nltk.tokenize import RegexpTokenizer \n",
    "import os, codecs"
   ]
  },
  {
   "cell_type": "code",
   "execution_count": 2,
   "metadata": {},
   "outputs": [],
   "source": [
    "#Import documents\n",
    "X_train = pd.read_excel('../data/interim/question1_models/X_train.xlsx')\n",
    "X_valid = pd.read_excel('../data/interim/question1_models/X_valid.xlsx')\n",
    "\n",
    "y_train = pd.read_excel('../data/interim/question1_models/y_train.xlsx')\n",
    "y_valid = pd.read_excel('../data/interim/question1_models/y_valid.xlsx')"
   ]
  },
  {
   "cell_type": "code",
   "execution_count": 3,
   "metadata": {},
   "outputs": [],
   "source": [
    "# from preprocess import Preprocessing\n",
    "import sys\n",
    "sys.path.append('../src/data/')\n",
    "from subset_subtheme_data import subset_data"
   ]
  },
  {
   "cell_type": "code",
   "execution_count": 8,
   "metadata": {},
   "outputs": [],
   "source": [
    "label_name = 'OTH'\n",
    "subset_data(label_name, X_train, y_train, X_valid, y_valid)"
   ]
  },
  {
   "cell_type": "code",
   "execution_count": 9,
   "metadata": {},
   "outputs": [],
   "source": [
    "label_name = 'EWC'\n",
    "subset_data(label_name, X_train, y_train, X_valid, y_valid)"
   ]
  },
  {
   "cell_type": "code",
   "execution_count": 12,
   "metadata": {},
   "outputs": [],
   "source": [
    "label_name = 'Exec'\n",
    "subset_data(label_name, X_train, y_train, X_valid, y_valid)"
   ]
  },
  {
   "cell_type": "markdown",
   "metadata": {},
   "source": [
    "### Fasttext Embeddings"
   ]
  },
  {
   "cell_type": "code",
   "execution_count": 39,
   "metadata": {},
   "outputs": [
    {
     "name": "stderr",
     "output_type": "stream",
     "text": [
      "1999996it [03:50, 8669.98it/s] \n"
     ]
    },
    {
     "name": "stdout",
     "output_type": "stream",
     "text": [
      "found 1999996 word vectors\n"
     ]
    }
   ],
   "source": [
    "#load embeddings\n",
    "embeddings_matrix = {}\n",
    "f = codecs.open('../data/interim/subthemes/OTH/crawl-300d-2M.vec', encoding='utf-8')\n",
    "for line in tqdm(f):\n",
    "    values = line.rstrip().rsplit(' ')\n",
    "    word = values[0]\n",
    "    coefs = np.asarray(values[1:], dtype='float32')\n",
    "    embeddings_matrix[word] = coefs\n",
    "f.close()\n",
    "print('found %s word vectors' % len(embeddings_matrix))"
   ]
  },
  {
   "cell_type": "code",
   "execution_count": 40,
   "metadata": {},
   "outputs": [],
   "source": [
    "# create a weight matrix for words in training docs\n",
    "embedding_matrix_fastext = np.zeros((vocab_size, 300))\n",
    "for word, i in vect.word_index.items():\n",
    "    embedding_vector = embeddings_matrix.get(word)\n",
    "    if embedding_vector is not None:\n",
    "        embedding_matrix_fastext[i] = embedding_vector"
   ]
  },
  {
   "cell_type": "code",
   "execution_count": 52,
   "metadata": {},
   "outputs": [
    {
     "data": {
      "text/plain": [
       "array([[ 0.        ,  0.        ,  0.        , ...,  0.        ,\n",
       "         0.        ,  0.        ],\n",
       "       [ 0.0427    , -0.0728    ,  0.0133    , ..., -0.1613    ,\n",
       "        -0.0381    , -0.0019    ],\n",
       "       [-0.0538    , -0.1575    , -0.037     , ..., -0.63129997,\n",
       "         0.14399999,  0.0629    ],\n",
       "       ...,\n",
       "       [ 0.0651    ,  0.4427    , -0.25040001, ...,  0.2915    ,\n",
       "         0.1004    ,  0.34150001],\n",
       "       [ 0.25709999, -0.039     ,  0.0038    , ..., -0.0509    ,\n",
       "         0.27509999,  0.1655    ],\n",
       "       [ 0.42910001,  0.259     , -0.2712    , ...,  0.25600001,\n",
       "         0.22390001, -0.0841    ]])"
      ]
     },
     "execution_count": 52,
     "metadata": {},
     "output_type": "execute_result"
    }
   ],
   "source": [
    "embedding_matrix_fastext"
   ]
  },
  {
   "cell_type": "code",
   "execution_count": 48,
   "metadata": {},
   "outputs": [
    {
     "data": {
      "text/plain": [
       "(3303, 300)"
      ]
     },
     "execution_count": 48,
     "metadata": {},
     "output_type": "execute_result"
    }
   ],
   "source": [
    "embedding_matrix_fastext.shape"
   ]
  },
  {
   "cell_type": "markdown",
   "metadata": {},
   "source": [
    "### OTH"
   ]
  },
  {
   "cell_type": "code",
   "execution_count": 15,
   "metadata": {},
   "outputs": [],
   "source": [
    "#load data\n",
    "\n",
    "OTH_X_train = pd.read_excel('../data/interim/subthemes/OTH/X_train_subset.xlsx')\n",
    "OTH_X_valid = pd.read_excel('../data/interim/subthemes/OTH/X_valid_subset.xlsx')\n",
    "\n",
    "OTH_Y_train = pd.read_excel('../data/interim/subthemes/OTH/Y_train_subset.xlsx')\n",
    "OTH_Y_valid = pd.read_excel('../data/interim/subthemes/OTH/Y_valid_subset.xlsx')\n"
   ]
  },
  {
   "cell_type": "code",
   "execution_count": 21,
   "metadata": {},
   "outputs": [
    {
     "data": {
      "text/html": [
       "<div>\n",
       "<style scoped>\n",
       "    .dataframe tbody tr th:only-of-type {\n",
       "        vertical-align: middle;\n",
       "    }\n",
       "\n",
       "    .dataframe tbody tr th {\n",
       "        vertical-align: top;\n",
       "    }\n",
       "\n",
       "    .dataframe thead th {\n",
       "        text-align: right;\n",
       "    }\n",
       "</style>\n",
       "<table border=\"1\" class=\"dataframe\">\n",
       "  <thead>\n",
       "    <tr style=\"text-align: right;\">\n",
       "      <th></th>\n",
       "      <th>OTH_Other_related</th>\n",
       "      <th>OTH_Positive_comments</th>\n",
       "      <th>OTH_Survey_feedback</th>\n",
       "      <th>OTH_Covid</th>\n",
       "    </tr>\n",
       "  </thead>\n",
       "  <tbody>\n",
       "    <tr>\n",
       "      <th>0</th>\n",
       "      <td>0</td>\n",
       "      <td>1</td>\n",
       "      <td>0</td>\n",
       "      <td>0</td>\n",
       "    </tr>\n",
       "    <tr>\n",
       "      <th>1</th>\n",
       "      <td>1</td>\n",
       "      <td>0</td>\n",
       "      <td>0</td>\n",
       "      <td>0</td>\n",
       "    </tr>\n",
       "    <tr>\n",
       "      <th>2</th>\n",
       "      <td>0</td>\n",
       "      <td>0</td>\n",
       "      <td>1</td>\n",
       "      <td>0</td>\n",
       "    </tr>\n",
       "    <tr>\n",
       "      <th>3</th>\n",
       "      <td>0</td>\n",
       "      <td>0</td>\n",
       "      <td>1</td>\n",
       "      <td>0</td>\n",
       "    </tr>\n",
       "    <tr>\n",
       "      <th>4</th>\n",
       "      <td>0</td>\n",
       "      <td>1</td>\n",
       "      <td>0</td>\n",
       "      <td>0</td>\n",
       "    </tr>\n",
       "    <tr>\n",
       "      <th>...</th>\n",
       "      <td>...</td>\n",
       "      <td>...</td>\n",
       "      <td>...</td>\n",
       "      <td>...</td>\n",
       "    </tr>\n",
       "    <tr>\n",
       "      <th>834</th>\n",
       "      <td>0</td>\n",
       "      <td>1</td>\n",
       "      <td>0</td>\n",
       "      <td>0</td>\n",
       "    </tr>\n",
       "    <tr>\n",
       "      <th>835</th>\n",
       "      <td>1</td>\n",
       "      <td>0</td>\n",
       "      <td>0</td>\n",
       "      <td>0</td>\n",
       "    </tr>\n",
       "    <tr>\n",
       "      <th>836</th>\n",
       "      <td>0</td>\n",
       "      <td>1</td>\n",
       "      <td>0</td>\n",
       "      <td>0</td>\n",
       "    </tr>\n",
       "    <tr>\n",
       "      <th>837</th>\n",
       "      <td>1</td>\n",
       "      <td>0</td>\n",
       "      <td>0</td>\n",
       "      <td>0</td>\n",
       "    </tr>\n",
       "    <tr>\n",
       "      <th>838</th>\n",
       "      <td>0</td>\n",
       "      <td>1</td>\n",
       "      <td>0</td>\n",
       "      <td>0</td>\n",
       "    </tr>\n",
       "  </tbody>\n",
       "</table>\n",
       "<p>839 rows × 4 columns</p>\n",
       "</div>"
      ],
      "text/plain": [
       "     OTH_Other_related  OTH_Positive_comments  OTH_Survey_feedback  OTH_Covid\n",
       "0                    0                      1                    0          0\n",
       "1                    1                      0                    0          0\n",
       "2                    0                      0                    1          0\n",
       "3                    0                      0                    1          0\n",
       "4                    0                      1                    0          0\n",
       "..                 ...                    ...                  ...        ...\n",
       "834                  0                      1                    0          0\n",
       "835                  1                      0                    0          0\n",
       "836                  0                      1                    0          0\n",
       "837                  1                      0                    0          0\n",
       "838                  0                      1                    0          0\n",
       "\n",
       "[839 rows x 4 columns]"
      ]
     },
     "execution_count": 21,
     "metadata": {},
     "output_type": "execute_result"
    }
   ],
   "source": [
    "OTH_Y_train"
   ]
  },
  {
   "cell_type": "markdown",
   "metadata": {},
   "source": [
    "**Import preprocessing**"
   ]
  },
  {
   "cell_type": "code",
   "execution_count": 16,
   "metadata": {},
   "outputs": [],
   "source": [
    "# from preprocess import Preprocessing\n",
    "from preprocess import Preprocessing"
   ]
  },
  {
   "cell_type": "code",
   "execution_count": 20,
   "metadata": {},
   "outputs": [],
   "source": [
    "OTH_X_train['preprocessed_comments'] = Preprocessing().general(OTH_X_train['Comment'])\n"
   ]
  },
  {
   "cell_type": "code",
   "execution_count": 22,
   "metadata": {},
   "outputs": [],
   "source": [
    "X_train = OTH_X_train[['preprocessed_comments']]\n",
    "Y_train = np.asarray(OTH_Y_train)"
   ]
  },
  {
   "cell_type": "code",
   "execution_count": 24,
   "metadata": {},
   "outputs": [
    {
     "data": {
      "text/plain": [
       "146"
      ]
     },
     "execution_count": 24,
     "metadata": {},
     "output_type": "execute_result"
    }
   ],
   "source": [
    "def max_len(x):\n",
    "    a=x.split()\n",
    "    return len(a)\n",
    "\n",
    "max_len = max(OTH_X_train['Comment'].apply(max_len))\n",
    "max_len"
   ]
  },
  {
   "cell_type": "code",
   "execution_count": 26,
   "metadata": {},
   "outputs": [
    {
     "name": "stdout",
     "output_type": "stream",
     "text": [
      "3303\n"
     ]
    }
   ],
   "source": [
    "vect=Tokenizer()\n",
    "vect.fit_on_texts(X_train['preprocessed_comments'])\n",
    "vocab_size = len(vect.word_index) + 1\n",
    "print(vocab_size)"
   ]
  },
  {
   "cell_type": "markdown",
   "metadata": {},
   "source": [
    "**Padded docs for Oth**"
   ]
  },
  {
   "cell_type": "code",
   "execution_count": 43,
   "metadata": {},
   "outputs": [
    {
     "name": "stdout",
     "output_type": "stream",
     "text": [
      "[[  72 1270 1750 ...    0    0    0]\n",
      " [  60   40   46 ...    0    0    0]\n",
      " [ 831   36  574 ...    0    0    0]\n",
      " ...\n",
      " [ 211    1   16 ...    0    0    0]\n",
      " [ 594 3297   90 ...    0    0    0]\n",
      " [  45   39   40 ...    0    0    0]]\n"
     ]
    }
   ],
   "source": [
    "# creating padded dataset for x_train\n",
    "encoded_docs_train = vect.texts_to_sequences(X_train['preprocessed_comments'])\n",
    "padded_docs_train = pad_sequences(encoded_docs_train, maxlen=max_len, padding='post')\n",
    "print(padded_docs_train)"
   ]
  },
  {
   "cell_type": "code",
   "execution_count": 45,
   "metadata": {},
   "outputs": [
    {
     "name": "stdout",
     "output_type": "stream",
     "text": [
      "[[  21   33 1348 ...    0    0    0]\n",
      " [  25    0    0 ...    0    0    0]\n",
      " [ 100  265 1696 ...    0    0    0]\n",
      " ...\n",
      " [   6   14  679 ...    0    0    0]\n",
      " [ 178   89    4 ...    0    0    0]\n",
      " [ 306  637    7 ...    0    0    0]]\n"
     ]
    }
   ],
   "source": [
    "#padded for x_valid\n",
    "OTH_X_valid['preprocessed_comments'] = Preprocessing().general(OTH_X_valid['Comment'])\n",
    "\n",
    "encoded_docs_valid = vect.texts_to_sequences(OTH_X_valid['preprocessed_comments'])\n",
    "padded_docs_valid = pad_sequences(encoded_docs_valid, maxlen=max_len, padding='post')\n",
    "print(padded_docs_valid)"
   ]
  },
  {
   "cell_type": "code",
   "execution_count": 46,
   "metadata": {},
   "outputs": [
    {
     "data": {
      "text/plain": [
       "((839, 146), (215, 146))"
      ]
     },
     "execution_count": 46,
     "metadata": {},
     "output_type": "execute_result"
    }
   ],
   "source": [
    "padded_docs_train.shape, padded_docs_valid.shape"
   ]
  },
  {
   "cell_type": "code",
   "execution_count": 49,
   "metadata": {},
   "outputs": [],
   "source": [
    "#Saving fasttext embeddings\n",
    "np.save('../data/interim/subthemes/OTH/embedding_matrix_fastext', embedding_matrix_fastext)\n",
    "\n",
    "\n",
    "#Saving Oth padded\n",
    "np.save('../data/interim/subthemes/OTH/padded_docs_train', padded_docs_train)\n",
    "np.save('../data/interim/subthemes/OTH/padded_docs_valid', padded_docs_valid)"
   ]
  },
  {
   "cell_type": "markdown",
   "metadata": {},
   "source": [
    "### EWC"
   ]
  },
  {
   "cell_type": "code",
   "execution_count": 53,
   "metadata": {},
   "outputs": [],
   "source": [
    "#load data\n",
    "\n",
    "EWC_X_train = pd.read_excel('../data/interim/subthemes/EWC/X_train_subset.xlsx')\n",
    "EWC_X_valid = pd.read_excel('../data/interim/subthemes/EWC/X_valid_subset.xlsx')\n",
    "\n",
    "EWC_Y_train = pd.read_excel('../data/interim/subthemes/EWC/Y_train_subset.xlsx')\n",
    "EWC_Y_valid = pd.read_excel('../data/interim/subthemes/EWC/Y_valid_subset.xlsx')\n"
   ]
  },
  {
   "cell_type": "code",
   "execution_count": 54,
   "metadata": {},
   "outputs": [
    {
     "data": {
      "text/html": [
       "<div>\n",
       "<style scoped>\n",
       "    .dataframe tbody tr th:only-of-type {\n",
       "        vertical-align: middle;\n",
       "    }\n",
       "\n",
       "    .dataframe tbody tr th {\n",
       "        vertical-align: top;\n",
       "    }\n",
       "\n",
       "    .dataframe thead th {\n",
       "        text-align: right;\n",
       "    }\n",
       "</style>\n",
       "<table border=\"1\" class=\"dataframe\">\n",
       "  <thead>\n",
       "    <tr style=\"text-align: right;\">\n",
       "      <th></th>\n",
       "      <th>EWC_Act_on_engagement</th>\n",
       "      <th>EWC_Address_discrimination</th>\n",
       "      <th>EWC_Improve_morale</th>\n",
       "      <th>EWC_Treat_employees_better</th>\n",
       "      <th>EWC_Value_diversity</th>\n",
       "      <th>EWC - Other</th>\n",
       "    </tr>\n",
       "  </thead>\n",
       "  <tbody>\n",
       "    <tr>\n",
       "      <th>0</th>\n",
       "      <td>0</td>\n",
       "      <td>0</td>\n",
       "      <td>1</td>\n",
       "      <td>0</td>\n",
       "      <td>0</td>\n",
       "      <td>0</td>\n",
       "    </tr>\n",
       "    <tr>\n",
       "      <th>1</th>\n",
       "      <td>0</td>\n",
       "      <td>0</td>\n",
       "      <td>0</td>\n",
       "      <td>1</td>\n",
       "      <td>0</td>\n",
       "      <td>0</td>\n",
       "    </tr>\n",
       "    <tr>\n",
       "      <th>2</th>\n",
       "      <td>0</td>\n",
       "      <td>0</td>\n",
       "      <td>0</td>\n",
       "      <td>1</td>\n",
       "      <td>0</td>\n",
       "      <td>0</td>\n",
       "    </tr>\n",
       "    <tr>\n",
       "      <th>3</th>\n",
       "      <td>0</td>\n",
       "      <td>0</td>\n",
       "      <td>1</td>\n",
       "      <td>0</td>\n",
       "      <td>0</td>\n",
       "      <td>0</td>\n",
       "    </tr>\n",
       "    <tr>\n",
       "      <th>4</th>\n",
       "      <td>0</td>\n",
       "      <td>0</td>\n",
       "      <td>0</td>\n",
       "      <td>0</td>\n",
       "      <td>0</td>\n",
       "      <td>1</td>\n",
       "    </tr>\n",
       "    <tr>\n",
       "      <th>...</th>\n",
       "      <td>...</td>\n",
       "      <td>...</td>\n",
       "      <td>...</td>\n",
       "      <td>...</td>\n",
       "      <td>...</td>\n",
       "      <td>...</td>\n",
       "    </tr>\n",
       "    <tr>\n",
       "      <th>1841</th>\n",
       "      <td>0</td>\n",
       "      <td>0</td>\n",
       "      <td>0</td>\n",
       "      <td>1</td>\n",
       "      <td>0</td>\n",
       "      <td>0</td>\n",
       "    </tr>\n",
       "    <tr>\n",
       "      <th>1842</th>\n",
       "      <td>0</td>\n",
       "      <td>0</td>\n",
       "      <td>1</td>\n",
       "      <td>0</td>\n",
       "      <td>0</td>\n",
       "      <td>0</td>\n",
       "    </tr>\n",
       "    <tr>\n",
       "      <th>1843</th>\n",
       "      <td>0</td>\n",
       "      <td>0</td>\n",
       "      <td>0</td>\n",
       "      <td>1</td>\n",
       "      <td>0</td>\n",
       "      <td>0</td>\n",
       "    </tr>\n",
       "    <tr>\n",
       "      <th>1844</th>\n",
       "      <td>0</td>\n",
       "      <td>0</td>\n",
       "      <td>0</td>\n",
       "      <td>1</td>\n",
       "      <td>0</td>\n",
       "      <td>0</td>\n",
       "    </tr>\n",
       "    <tr>\n",
       "      <th>1845</th>\n",
       "      <td>1</td>\n",
       "      <td>0</td>\n",
       "      <td>0</td>\n",
       "      <td>0</td>\n",
       "      <td>0</td>\n",
       "      <td>0</td>\n",
       "    </tr>\n",
       "  </tbody>\n",
       "</table>\n",
       "<p>1846 rows × 6 columns</p>\n",
       "</div>"
      ],
      "text/plain": [
       "      EWC_Act_on_engagement  EWC_Address_discrimination  EWC_Improve_morale  \\\n",
       "0                         0                           0                   1   \n",
       "1                         0                           0                   0   \n",
       "2                         0                           0                   0   \n",
       "3                         0                           0                   1   \n",
       "4                         0                           0                   0   \n",
       "...                     ...                         ...                 ...   \n",
       "1841                      0                           0                   0   \n",
       "1842                      0                           0                   1   \n",
       "1843                      0                           0                   0   \n",
       "1844                      0                           0                   0   \n",
       "1845                      1                           0                   0   \n",
       "\n",
       "      EWC_Treat_employees_better  EWC_Value_diversity  EWC - Other  \n",
       "0                              0                    0            0  \n",
       "1                              1                    0            0  \n",
       "2                              1                    0            0  \n",
       "3                              0                    0            0  \n",
       "4                              0                    0            1  \n",
       "...                          ...                  ...          ...  \n",
       "1841                           1                    0            0  \n",
       "1842                           0                    0            0  \n",
       "1843                           1                    0            0  \n",
       "1844                           1                    0            0  \n",
       "1845                           0                    0            0  \n",
       "\n",
       "[1846 rows x 6 columns]"
      ]
     },
     "execution_count": 54,
     "metadata": {},
     "output_type": "execute_result"
    }
   ],
   "source": [
    "EWC_Y_train"
   ]
  },
  {
   "cell_type": "code",
   "execution_count": 55,
   "metadata": {},
   "outputs": [],
   "source": [
    "EWC_X_train['preprocessed_comments'] = Preprocessing().general(EWC_X_train['Comment'])\n"
   ]
  },
  {
   "cell_type": "code",
   "execution_count": 56,
   "metadata": {},
   "outputs": [],
   "source": [
    "X_train = EWC_X_train[['preprocessed_comments']]\n",
    "Y_train = np.asarray(EWC_Y_train)"
   ]
  },
  {
   "cell_type": "code",
   "execution_count": 57,
   "metadata": {},
   "outputs": [
    {
     "data": {
      "text/plain": [
       "432"
      ]
     },
     "execution_count": 57,
     "metadata": {},
     "output_type": "execute_result"
    }
   ],
   "source": [
    "def max_len(x):\n",
    "    a=x.split()\n",
    "    return len(a)\n",
    "\n",
    "max_len = max(EWC_X_train['Comment'].apply(max_len))\n",
    "max_len"
   ]
  },
  {
   "cell_type": "code",
   "execution_count": 58,
   "metadata": {},
   "outputs": [
    {
     "name": "stdout",
     "output_type": "stream",
     "text": [
      "4879\n"
     ]
    }
   ],
   "source": [
    "vect=Tokenizer()\n",
    "vect.fit_on_texts(X_train['preprocessed_comments'])\n",
    "vocab_size = len(vect.word_index) + 1\n",
    "print(vocab_size)"
   ]
  },
  {
   "cell_type": "markdown",
   "metadata": {},
   "source": [
    "**Padded docs for Ewc**"
   ]
  },
  {
   "cell_type": "code",
   "execution_count": 59,
   "metadata": {},
   "outputs": [
    {
     "name": "stdout",
     "output_type": "stream",
     "text": [
      "[[ 85  48  57 ...   0   0   0]\n",
      " [ 61  31  61 ...   0   0   0]\n",
      " [ 51  40  32 ...   0   0   0]\n",
      " ...\n",
      " [231 812   7 ...   0   0   0]\n",
      " [ 31  61  31 ...   0   0   0]\n",
      " [ 92 893  93 ...   0   0   0]]\n"
     ]
    }
   ],
   "source": [
    "# creating padded dataset for x_train\n",
    "encoded_docs_train = vect.texts_to_sequences(X_train['preprocessed_comments'])\n",
    "padded_docs_train = pad_sequences(encoded_docs_train, maxlen=max_len, padding='post')\n",
    "print(padded_docs_train)"
   ]
  },
  {
   "cell_type": "code",
   "execution_count": 60,
   "metadata": {},
   "outputs": [
    {
     "name": "stdout",
     "output_type": "stream",
     "text": [
      "[[  4 475 773 ...   0   0   0]\n",
      " [ 61  31  61 ...   0   0   0]\n",
      " [103  74   2 ...   0   0   0]\n",
      " ...\n",
      " [218 967  50 ...   0   0   0]\n",
      " [ 17 130  21 ...   0   0   0]\n",
      " [133   6  85 ...   0   0   0]]\n"
     ]
    }
   ],
   "source": [
    "#padded for x_valid\n",
    "EWC_X_valid['preprocessed_comments'] = Preprocessing().general(EWC_X_valid['Comment'])\n",
    "\n",
    "encoded_docs_valid = vect.texts_to_sequences(EWC_X_valid['preprocessed_comments'])\n",
    "padded_docs_valid = pad_sequences(encoded_docs_valid, maxlen=max_len, padding='post')\n",
    "print(padded_docs_valid)"
   ]
  },
  {
   "cell_type": "code",
   "execution_count": 61,
   "metadata": {},
   "outputs": [
    {
     "data": {
      "text/plain": [
       "((1846, 432), (436, 432))"
      ]
     },
     "execution_count": 61,
     "metadata": {},
     "output_type": "execute_result"
    }
   ],
   "source": [
    "padded_docs_train.shape, padded_docs_valid.shape"
   ]
  },
  {
   "cell_type": "code",
   "execution_count": 62,
   "metadata": {},
   "outputs": [],
   "source": [
    "\n",
    "#Saving EWC padded\n",
    "np.save('../data/interim/subthemes/EWC/padded_docs_train', padded_docs_train)\n",
    "np.save('../data/interim/subthemes/EWC/padded_docs_valid', padded_docs_valid)"
   ]
  },
  {
   "cell_type": "markdown",
   "metadata": {},
   "source": [
    "### EXEC"
   ]
  },
  {
   "cell_type": "code",
   "execution_count": 63,
   "metadata": {},
   "outputs": [],
   "source": [
    "#load data\n",
    "\n",
    "EXEC_X_train = pd.read_excel('../data/interim/subthemes/EXEC/X_train_subset.xlsx')\n",
    "EXEC_X_valid = pd.read_excel('../data/interim/subthemes/EXEC/X_valid_subset.xlsx')\n",
    "\n",
    "EXEC_Y_train = pd.read_excel('../data/interim/subthemes/EXEC/Y_train_subset.xlsx')\n",
    "EXEC_Y_valid = pd.read_excel('../data/interim/subthemes/EXEC/Y_valid_subset.xlsx')\n"
   ]
  },
  {
   "cell_type": "code",
   "execution_count": 64,
   "metadata": {},
   "outputs": [
    {
     "data": {
      "text/html": [
       "<div>\n",
       "<style scoped>\n",
       "    .dataframe tbody tr th:only-of-type {\n",
       "        vertical-align: middle;\n",
       "    }\n",
       "\n",
       "    .dataframe tbody tr th {\n",
       "        vertical-align: top;\n",
       "    }\n",
       "\n",
       "    .dataframe thead th {\n",
       "        text-align: right;\n",
       "    }\n",
       "</style>\n",
       "<table border=\"1\" class=\"dataframe\">\n",
       "  <thead>\n",
       "    <tr style=\"text-align: right;\">\n",
       "      <th></th>\n",
       "      <th>Exec_Improve_communication</th>\n",
       "      <th>Exec_Improve_stability</th>\n",
       "      <th>Exec_Strengthen_quality_of_executive_leaders</th>\n",
       "      <th>Exec_other</th>\n",
       "    </tr>\n",
       "  </thead>\n",
       "  <tbody>\n",
       "    <tr>\n",
       "      <th>0</th>\n",
       "      <td>0</td>\n",
       "      <td>0</td>\n",
       "      <td>1</td>\n",
       "      <td>0</td>\n",
       "    </tr>\n",
       "    <tr>\n",
       "      <th>1</th>\n",
       "      <td>0</td>\n",
       "      <td>0</td>\n",
       "      <td>1</td>\n",
       "      <td>0</td>\n",
       "    </tr>\n",
       "    <tr>\n",
       "      <th>2</th>\n",
       "      <td>0</td>\n",
       "      <td>0</td>\n",
       "      <td>1</td>\n",
       "      <td>0</td>\n",
       "    </tr>\n",
       "    <tr>\n",
       "      <th>3</th>\n",
       "      <td>0</td>\n",
       "      <td>0</td>\n",
       "      <td>1</td>\n",
       "      <td>0</td>\n",
       "    </tr>\n",
       "    <tr>\n",
       "      <th>4</th>\n",
       "      <td>0</td>\n",
       "      <td>0</td>\n",
       "      <td>1</td>\n",
       "      <td>0</td>\n",
       "    </tr>\n",
       "    <tr>\n",
       "      <th>...</th>\n",
       "      <td>...</td>\n",
       "      <td>...</td>\n",
       "      <td>...</td>\n",
       "      <td>...</td>\n",
       "    </tr>\n",
       "    <tr>\n",
       "      <th>2506</th>\n",
       "      <td>0</td>\n",
       "      <td>0</td>\n",
       "      <td>1</td>\n",
       "      <td>0</td>\n",
       "    </tr>\n",
       "    <tr>\n",
       "      <th>2507</th>\n",
       "      <td>1</td>\n",
       "      <td>0</td>\n",
       "      <td>0</td>\n",
       "      <td>0</td>\n",
       "    </tr>\n",
       "    <tr>\n",
       "      <th>2508</th>\n",
       "      <td>1</td>\n",
       "      <td>0</td>\n",
       "      <td>0</td>\n",
       "      <td>0</td>\n",
       "    </tr>\n",
       "    <tr>\n",
       "      <th>2509</th>\n",
       "      <td>1</td>\n",
       "      <td>0</td>\n",
       "      <td>0</td>\n",
       "      <td>0</td>\n",
       "    </tr>\n",
       "    <tr>\n",
       "      <th>2510</th>\n",
       "      <td>0</td>\n",
       "      <td>0</td>\n",
       "      <td>1</td>\n",
       "      <td>0</td>\n",
       "    </tr>\n",
       "  </tbody>\n",
       "</table>\n",
       "<p>2511 rows × 4 columns</p>\n",
       "</div>"
      ],
      "text/plain": [
       "      Exec_Improve_communication  Exec_Improve_stability  \\\n",
       "0                              0                       0   \n",
       "1                              0                       0   \n",
       "2                              0                       0   \n",
       "3                              0                       0   \n",
       "4                              0                       0   \n",
       "...                          ...                     ...   \n",
       "2506                           0                       0   \n",
       "2507                           1                       0   \n",
       "2508                           1                       0   \n",
       "2509                           1                       0   \n",
       "2510                           0                       0   \n",
       "\n",
       "      Exec_Strengthen_quality_of_executive_leaders  Exec_other  \n",
       "0                                                1           0  \n",
       "1                                                1           0  \n",
       "2                                                1           0  \n",
       "3                                                1           0  \n",
       "4                                                1           0  \n",
       "...                                            ...         ...  \n",
       "2506                                             1           0  \n",
       "2507                                             0           0  \n",
       "2508                                             0           0  \n",
       "2509                                             0           0  \n",
       "2510                                             1           0  \n",
       "\n",
       "[2511 rows x 4 columns]"
      ]
     },
     "execution_count": 64,
     "metadata": {},
     "output_type": "execute_result"
    }
   ],
   "source": [
    "EXEC_Y_train"
   ]
  },
  {
   "cell_type": "code",
   "execution_count": 65,
   "metadata": {},
   "outputs": [],
   "source": [
    "EXEC_X_train['preprocessed_comments'] = Preprocessing().general(EXEC_X_train['Comment'])\n"
   ]
  },
  {
   "cell_type": "code",
   "execution_count": 66,
   "metadata": {},
   "outputs": [],
   "source": [
    "X_train = EXEC_X_train[['preprocessed_comments']]\n",
    "Y_train = np.asarray(EXEC_Y_train)"
   ]
  },
  {
   "cell_type": "code",
   "execution_count": 67,
   "metadata": {},
   "outputs": [
    {
     "data": {
      "text/plain": [
       "432"
      ]
     },
     "execution_count": 67,
     "metadata": {},
     "output_type": "execute_result"
    }
   ],
   "source": [
    "def max_len(x):\n",
    "    a=x.split()\n",
    "    return len(a)\n",
    "\n",
    "max_len = max(EXEC_X_train['Comment'].apply(max_len))\n",
    "max_len"
   ]
  },
  {
   "cell_type": "code",
   "execution_count": 68,
   "metadata": {},
   "outputs": [
    {
     "name": "stdout",
     "output_type": "stream",
     "text": [
      "5073\n"
     ]
    }
   ],
   "source": [
    "vect=Tokenizer()\n",
    "vect.fit_on_texts(X_train['preprocessed_comments'])\n",
    "vocab_size = len(vect.word_index) + 1\n",
    "print(vocab_size)"
   ]
  },
  {
   "cell_type": "markdown",
   "metadata": {},
   "source": [
    "**Padded docs for EXEC**"
   ]
  },
  {
   "cell_type": "code",
   "execution_count": 69,
   "metadata": {},
   "outputs": [
    {
     "name": "stdout",
     "output_type": "stream",
     "text": [
      "[[172 414 893 ...   0   0   0]\n",
      " [ 12  43  13 ...   0   0   0]\n",
      " [ 73  13  34 ...   0   0   0]\n",
      " ...\n",
      " [  5   0   0 ...   0   0   0]\n",
      " [  9  85  15 ...   0   0   0]\n",
      " [ 29 976 180 ...   0   0   0]]\n"
     ]
    }
   ],
   "source": [
    "# creating padded dataset for x_train\n",
    "encoded_docs_train = vect.texts_to_sequences(X_train['preprocessed_comments'])\n",
    "padded_docs_train = pad_sequences(encoded_docs_train, maxlen=max_len, padding='post')\n",
    "print(padded_docs_train)"
   ]
  },
  {
   "cell_type": "code",
   "execution_count": 71,
   "metadata": {},
   "outputs": [
    {
     "name": "stdout",
     "output_type": "stream",
     "text": [
      "[[   4    7   42 ...    0    0    0]\n",
      " [ 132   22 1070 ...    0    0    0]\n",
      " [ 126  300    2 ...    0    0    0]\n",
      " ...\n",
      " [  31    1  340 ...    0    0    0]\n",
      " [  97   69  247 ...    0    0    0]\n",
      " [ 304  214  406 ...    0    0    0]]\n"
     ]
    }
   ],
   "source": [
    "#padded for x_valid\n",
    "EXEC_X_valid['preprocessed_comments'] = Preprocessing().general(EXEC_X_valid['Comment'])\n",
    "\n",
    "encoded_docs_valid = vect.texts_to_sequences(EXEC_X_valid['preprocessed_comments'])\n",
    "padded_docs_valid = pad_sequences(encoded_docs_valid, maxlen=max_len, padding='post')\n",
    "print(padded_docs_valid)"
   ]
  },
  {
   "cell_type": "code",
   "execution_count": 72,
   "metadata": {},
   "outputs": [
    {
     "data": {
      "text/plain": [
       "((2511, 432), (629, 432))"
      ]
     },
     "execution_count": 72,
     "metadata": {},
     "output_type": "execute_result"
    }
   ],
   "source": [
    "padded_docs_train.shape, padded_docs_valid.shape"
   ]
  },
  {
   "cell_type": "code",
   "execution_count": 73,
   "metadata": {},
   "outputs": [],
   "source": [
    "\n",
    "#Saving EWC padded\n",
    "np.save('../data/interim/subthemes/EXEC/padded_docs_train', padded_docs_train)\n",
    "np.save('../data/interim/subthemes/EXEC/padded_docs_valid', padded_docs_valid)"
   ]
  },
  {
   "cell_type": "code",
   "execution_count": null,
   "metadata": {},
   "outputs": [],
   "source": []
  }
 ],
 "metadata": {
  "kernelspec": {
   "display_name": "Python 3",
   "language": "python",
   "name": "python3"
  },
  "language_info": {
   "codemirror_mode": {
    "name": "ipython",
    "version": 3
   },
   "file_extension": ".py",
   "mimetype": "text/x-python",
   "name": "python",
   "nbconvert_exporter": "python",
   "pygments_lexer": "ipython3",
   "version": "3.7.6"
  }
 },
 "nbformat": 4,
 "nbformat_minor": 4
}
