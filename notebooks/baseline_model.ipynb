{
 "cells": [
  {
   "cell_type": "markdown",
   "metadata": {},
   "source": [
    "# Baseline Model for Question 1 (data from 2013, 2018, 2020)\n",
    "## Multi-Label Classification using Classifier Chains model\n"
   ]
  },
  {
   "cell_type": "code",
   "execution_count": 210,
   "metadata": {},
   "outputs": [],
   "source": [
    "#load dependencies\n",
    "import pandas as pd\n",
    "import numpy as np\n",
    "\n",
    "from sklearn.feature_extraction.text import TfidfVectorizer, CountVectorizer\n",
    "from skmultilearn.problem_transform import ClassifierChain\n",
    "from sklearn.model_selection import GridSearchCV\n",
    "from sklearn.naive_bayes import MultinomialNB, GaussianNB\n",
    "from sklearn.neural_network import MLPClassifier\n",
    "from sklearn.svm import LinearSVC\n",
    "from sklearn.ensemble import RandomForestClassifier\n",
    "from sklearn.tree import DecisionTreeClassifier\n",
    "from sklearn.neighbors import KNeighborsClassifier\n",
    "from scipy.sparse import csr_matrix\n",
    "\n",
    "from sklearn.metrics import accuracy_score\n",
    "from sklearn.model_selection import GridSearchCV\n",
    "from sklearn.metrics import recall_score, precision_score\n"
   ]
  },
  {
   "cell_type": "markdown",
   "metadata": {},
   "source": [
    "**This is after importing preprocessing comments**\n"
   ]
  },
  {
   "cell_type": "code",
   "execution_count": 289,
   "metadata": {},
   "outputs": [],
   "source": [
    "#load in preprocessed train and validation datas\n",
    "#your path here\n",
    "\n",
    "X_train_Q1 = pd.read_csv('data/X_train_pp.csv')\n",
    "X_valid_Q1 = pd.read_csv('data/X_valid_pp.csv')\n",
    "\n",
    "y_train_Q1 = pd.read_csv('data/y_train_Q1.csv')\n",
    "y_valid_Q1 = pd.read_csv('data/y_valid_Q1.csv')"
   ]
  },
  {
   "cell_type": "markdown",
   "metadata": {},
   "source": [
    "## Tfid Vectorizer Representation\n",
    "First we'll use Tfid as vectorizer\n"
   ]
  },
  {
   "cell_type": "code",
   "execution_count": 375,
   "metadata": {},
   "outputs": [],
   "source": [
    "#Tfid Vectorizer Representation\n",
    "\n",
    "def tfid_vectorizer(train, valid):\n",
    "    \"\"\"\n",
    "    Fits the TfidVectorizer() on your X training \n",
    "    set and transform on X validation set\n",
    "    Returns the matrixes.\n",
    "    \"\"\"\n",
    "    tfid = TfidfVectorizer() \n",
    "    X = tfid.fit_transform(train)\n",
    "    X_valid = tfid.transform(valid)\n",
    "    return X, X_valid\n",
    "\n",
    "\n",
    "#To view the representation\n",
    "#bow = pd.DataFrame(X_train_tfid, columns=sorted(tfid.vocabulary_), index=final_comments)\n",
    "#bow.head()"
   ]
  },
  {
   "cell_type": "code",
   "execution_count": 376,
   "metadata": {},
   "outputs": [],
   "source": [
    "#Vectorize X_train and convert Y_train to an array\n",
    "\n",
    "X_train, X_valid = tfid_vectorizer(X_train_Q1['Comment'].values.astype('U'), \n",
    "                                    X_valid_Q1['Comment'].values.astype('U')) #had to convert type \n",
    "#ytrain for all themes and subthemes\n",
    "Y_train = (np.array(y_train_Q1))"
   ]
  },
  {
   "cell_type": "code",
   "execution_count": 377,
   "metadata": {},
   "outputs": [
    {
     "name": "stdout",
     "output_type": "stream",
     "text": [
      "Theme columns: 13\n",
      "Subtheme columns: 62\n"
     ]
    }
   ],
   "source": [
    "#slice y to themes and subthemes\n",
    "#y_train\n",
    "subthemes_ytrain = y_train_Q1.loc[:, 'CPD_Improve_new_employee_orientation':'OTH_Covid']\n",
    "themes_ytrain = y_train_Q1[['CPD','CB', 'EWC', 'Exec', 'FEW', 'SP', 'RE', 'Sup', 'SW', 'TEPE',\n",
    "                            'VMG', 'OTH', 'Unrelated']]\n",
    "\n",
    "#y_valid\n",
    "subthemes_yvalid = y_valid_Q1.loc[:, 'CPD_Improve_new_employee_orientation':'OTH_Covid']\n",
    "themes_yvalid = y_valid_Q1[['CPD','CB', 'EWC', 'Exec', 'FEW', 'SP', 'RE', 'Sup', \n",
    "                                      'SW', 'TEPE','VMG', 'OTH', 'Unrelated']]\n",
    "\n",
    "#shape check: 13 themes and 62 subthemes\n",
    "print('Theme columns:',themes_ytrain.shape[1])\n",
    "print('Subtheme columns:', subthemes_ytrain.shape[1])"
   ]
  },
  {
   "cell_type": "code",
   "execution_count": 301,
   "metadata": {},
   "outputs": [
    {
     "data": {
      "text/plain": [
       "(2594, 62)"
      ]
     },
     "execution_count": 301,
     "metadata": {},
     "output_type": "execute_result"
    }
   ],
   "source": [
    "np.shape(subthemes_yvalid)"
   ]
  },
  {
   "cell_type": "code",
   "execution_count": 302,
   "metadata": {},
   "outputs": [
    {
     "data": {
      "text/plain": [
       "(2594, 13)"
      ]
     },
     "execution_count": 302,
     "metadata": {},
     "output_type": "execute_result"
    }
   ],
   "source": [
    "np.shape(themes_yvalid)"
   ]
  },
  {
   "cell_type": "markdown",
   "metadata": {},
   "source": [
    "# Classifier Chain\n",
    "## Subthemes only\n",
    "### trying different models to choose best baseline classifier\n",
    "\n",
    "**Starting with Subthemes Y only**"
   ]
  },
  {
   "cell_type": "code",
   "execution_count": 303,
   "metadata": {},
   "outputs": [],
   "source": [
    "#Parts of code adapated from DSCI 573 lab 4\n",
    "#Dictionary of Base Models\n",
    "\n",
    "models = {\n",
    "    'LinearSVC': LinearSVC(),\n",
    "    'MultinomialNB' : MultinomialNB(),\n",
    "    'GaussianNB' : GaussianNB()#,\n",
    "    #'Random Forest' : RandomForestClassifier(), too slow will use function \n",
    "    #'KNeighborsClassifier': KNeighborsClassifier(),\n",
    "    #'Neural Net' : MLPClassifier()\n",
    "}\n"
   ]
  },
  {
   "cell_type": "code",
   "execution_count": 304,
   "metadata": {},
   "outputs": [],
   "source": [
    "#For subthemes only\n",
    "#Note takes about 15 min to run\n",
    "\n",
    "results_dict = []\n",
    "\n",
    "for model_name, model in models.items():\n",
    "\n",
    "    classifier_chain = ClassifierChain(model)\n",
    "    model = classifier_chain.fit(X_train, subthemes_ytrain)\n",
    "    train = model.score(X_train, np.array(subthemes_ytrain))\n",
    "    valid = model.score(X_valid, np.array(subthemes_yvalid))\n",
    "    y_pred = model.predict(X_valid)\n",
    "    recall = recall_score(np.array(subthemes_yvalid), y_pred, average= 'micro')\n",
    "    precision = precision_score(np.array(subthemes_yvalid), y_pred, average= 'micro')\n",
    "    \n",
    "    case= {'Model': model_name,\n",
    "           'Train Accuracy': train,\n",
    "           'Validation Accuracy': valid,\n",
    "           'Recall Score': recall,\n",
    "           'Precision Score': precision}\n",
    "    \n",
    "    results_dict.append(case)"
   ]
  },
  {
   "cell_type": "code",
   "execution_count": 305,
   "metadata": {},
   "outputs": [
    {
     "data": {
      "text/html": [
       "<div>\n",
       "<style scoped>\n",
       "    .dataframe tbody tr th:only-of-type {\n",
       "        vertical-align: middle;\n",
       "    }\n",
       "\n",
       "    .dataframe tbody tr th {\n",
       "        vertical-align: top;\n",
       "    }\n",
       "\n",
       "    .dataframe thead th {\n",
       "        text-align: right;\n",
       "    }\n",
       "</style>\n",
       "<table border=\"1\" class=\"dataframe\">\n",
       "  <thead>\n",
       "    <tr style=\"text-align: right;\">\n",
       "      <th></th>\n",
       "      <th>Model</th>\n",
       "      <th>Train Accuracy</th>\n",
       "      <th>Validation Accuracy</th>\n",
       "      <th>Recall Score</th>\n",
       "      <th>Precision Score</th>\n",
       "    </tr>\n",
       "  </thead>\n",
       "  <tbody>\n",
       "    <tr>\n",
       "      <th>0</th>\n",
       "      <td>LinearSVC</td>\n",
       "      <td>0.770625</td>\n",
       "      <td>0.319584</td>\n",
       "      <td>0.399010</td>\n",
       "      <td>0.707638</td>\n",
       "    </tr>\n",
       "    <tr>\n",
       "      <th>1</th>\n",
       "      <td>MultinomialNB</td>\n",
       "      <td>0.052525</td>\n",
       "      <td>0.042020</td>\n",
       "      <td>0.034653</td>\n",
       "      <td>0.952381</td>\n",
       "    </tr>\n",
       "    <tr>\n",
       "      <th>2</th>\n",
       "      <td>GaussianNB</td>\n",
       "      <td>0.423188</td>\n",
       "      <td>0.026214</td>\n",
       "      <td>0.314356</td>\n",
       "      <td>0.074143</td>\n",
       "    </tr>\n",
       "  </tbody>\n",
       "</table>\n",
       "</div>"
      ],
      "text/plain": [
       "           Model  Train Accuracy  Validation Accuracy  Recall Score  \\\n",
       "0      LinearSVC        0.770625             0.319584      0.399010   \n",
       "1  MultinomialNB        0.052525             0.042020      0.034653   \n",
       "2     GaussianNB        0.423188             0.026214      0.314356   \n",
       "\n",
       "   Precision Score  \n",
       "0         0.707638  \n",
       "1         0.952381  \n",
       "2         0.074143  "
      ]
     },
     "execution_count": 305,
     "metadata": {},
     "output_type": "execute_result"
    }
   ],
   "source": [
    "#inital look at df\n",
    "pd.DataFrame(results_dict)"
   ]
  },
  {
   "cell_type": "code",
   "execution_count": 379,
   "metadata": {},
   "outputs": [],
   "source": [
    "#list-dictionary of basemodels\n",
    "results_dict2 = []"
   ]
  },
  {
   "cell_type": "code",
   "execution_count": 380,
   "metadata": {},
   "outputs": [],
   "source": [
    "def Classifier_Chain(Ytrain, Yvalid, base_model):\n",
    "    \"\"\"\n",
    "    Fits a Classifier Chain Model with the base classifier of choice and \n",
    "    using either themes or subthemes Y.\n",
    "    Show results of training accuracy score, validation accuracy score, \n",
    "    validation recall and precision scores.\n",
    "    \"\"\"\n",
    "    classifier_chain = ClassifierChain(base_model)\n",
    "    \n",
    "    model = classifier_chain.fit(X_train, Ytrain)\n",
    "    train = model.score(X_train, np.array(Ytrain))\n",
    "    valid = model.score(X_valid, np.array(Yvalid))\n",
    "    y_pred = model.predict(X_valid)\n",
    "    recall = recall_score(np.array(Yvalid), y_pred, average= 'micro')\n",
    "    precision = precision_score(np.array(Yvalid), y_pred, average= 'micro')\n",
    "    \n",
    "    case= {'Model': base_model,\n",
    "           'Train Accuracy': train,\n",
    "           'Validation Accuracy': valid,\n",
    "           'Recall Score': recall,\n",
    "           'Precision Score': precision}\n",
    "    \n",
    "    results_dict2.append(case)    "
   ]
  },
  {
   "cell_type": "code",
   "execution_count": 381,
   "metadata": {},
   "outputs": [
    {
     "data": {
      "text/plain": [
       "[{'Model': RandomForestClassifier(bootstrap=True, ccp_alpha=0.0, class_weight=None,\n",
       "                         criterion='gini', max_depth=None, max_features='auto',\n",
       "                         max_leaf_nodes=None, max_samples=None,\n",
       "                         min_impurity_decrease=0.0, min_impurity_split=None,\n",
       "                         min_samples_leaf=1, min_samples_split=2,\n",
       "                         min_weight_fraction_leaf=0.0, n_estimators=100,\n",
       "                         n_jobs=None, oob_score=False, random_state=None,\n",
       "                         verbose=0, warm_start=False),\n",
       "  'Train Accuracy': 0.9969159599074788,\n",
       "  'Validation Accuracy': 0.18696993060909792,\n",
       "  'Recall Score': 0.1905940594059406,\n",
       "  'Precision Score': 0.8680947012401353}]"
      ]
     },
     "execution_count": 381,
     "metadata": {},
     "output_type": "execute_result"
    }
   ],
   "source": [
    "#Random Forest' : RandomForestClassifier()\n",
    "#Note takes quite some time ~15 min on my computer\n",
    "Classifier_Chain(subthemes_ytrain, subthemes_yvalid, RandomForestClassifier())\n",
    "#results_dict2"
   ]
  },
  {
   "cell_type": "code",
   "execution_count": 383,
   "metadata": {},
   "outputs": [],
   "source": [
    "results_dict2[0]['Model'] = 'RandomForest' #rename"
   ]
  },
  {
   "cell_type": "code",
   "execution_count": 384,
   "metadata": {},
   "outputs": [
    {
     "data": {
      "text/plain": [
       "[{'Model': 'RandomForest',\n",
       "  'Train Accuracy': 0.9969159599074788,\n",
       "  'Validation Accuracy': 0.18696993060909792,\n",
       "  'Recall Score': 0.1905940594059406,\n",
       "  'Precision Score': 0.8680947012401353},\n",
       " {'Model': DecisionTreeClassifier(ccp_alpha=0.0, class_weight=None, criterion='gini',\n",
       "                         max_depth=None, max_features=None, max_leaf_nodes=None,\n",
       "                         min_impurity_decrease=0.0, min_impurity_split=None,\n",
       "                         min_samples_leaf=1, min_samples_split=2,\n",
       "                         min_weight_fraction_leaf=0.0, presort='deprecated',\n",
       "                         random_state=None, splitter='best'),\n",
       "  'Train Accuracy': 0.9982652274479569,\n",
       "  'Validation Accuracy': 0.20855821125674634,\n",
       "  'Recall Score': 0.43094059405940593,\n",
       "  'Precision Score': 0.45960929250263993}]"
      ]
     },
     "execution_count": 384,
     "metadata": {},
     "output_type": "execute_result"
    }
   ],
   "source": [
    "#Decision Tree' : DecisionTreeClassifier()\n",
    "#Note takes quite some time ~15 min on my computer\n",
    "Classifier_Chain(subthemes_ytrain, subthemes_yvalid, DecisionTreeClassifier())"
   ]
  },
  {
   "cell_type": "code",
   "execution_count": 385,
   "metadata": {},
   "outputs": [],
   "source": [
    "results_dict2[1]['Model'] = 'DecisionTree' #rename"
   ]
  },
  {
   "cell_type": "code",
   "execution_count": 387,
   "metadata": {},
   "outputs": [
    {
     "name": "stderr",
     "output_type": "stream",
     "text": [
      "//anaconda3/lib/python3.7/site-packages/sklearn/svm/_base.py:947: ConvergenceWarning: Liblinear failed to converge, increase the number of iterations.\n",
      "  \"the number of iterations.\", ConvergenceWarning)\n"
     ]
    }
   ],
   "source": [
    "#LinearSVC(multi_class= \"crammer_singer\")\n",
    "#\"crammer_singer\" optimizes a joint objective over all classes.\n",
    "Classifier_Chain(subthemes_ytrain, subthemes_yvalid, LinearSVC(multi_class= \"crammer_singer\"))\n"
   ]
  },
  {
   "cell_type": "code",
   "execution_count": 388,
   "metadata": {},
   "outputs": [],
   "source": [
    "results_dict2[2]['Model'] = 'LinearSVC(multi_class= \"crammer_singer\")' #rename"
   ]
  },
  {
   "cell_type": "code",
   "execution_count": 389,
   "metadata": {},
   "outputs": [],
   "source": [
    "#Trying last year's base classifier LinearSVC(C=0.5, tol=0.2)\n",
    "\n",
    "#results_dict2 = []\n",
    "Classifier_Chain(subthemes_ytrain, subthemes_yvalid, LinearSVC(C=0.5, tol=0.2))"
   ]
  },
  {
   "cell_type": "code",
   "execution_count": 390,
   "metadata": {},
   "outputs": [],
   "source": [
    "results_dict2[3]['Model'] = 'LinearSVC(C=0.5, tol=0.2) 2019 capstone base' #rename"
   ]
  },
  {
   "cell_type": "code",
   "execution_count": 396,
   "metadata": {},
   "outputs": [],
   "source": [
    "results_dict.extend(results_dict2)"
   ]
  },
  {
   "cell_type": "code",
   "execution_count": 397,
   "metadata": {},
   "outputs": [
    {
     "data": {
      "text/html": [
       "<div>\n",
       "<style scoped>\n",
       "    .dataframe tbody tr th:only-of-type {\n",
       "        vertical-align: middle;\n",
       "    }\n",
       "\n",
       "    .dataframe tbody tr th {\n",
       "        vertical-align: top;\n",
       "    }\n",
       "\n",
       "    .dataframe thead th {\n",
       "        text-align: right;\n",
       "    }\n",
       "</style>\n",
       "<table border=\"1\" class=\"dataframe\">\n",
       "  <thead>\n",
       "    <tr style=\"text-align: right;\">\n",
       "      <th></th>\n",
       "      <th>Model</th>\n",
       "      <th>Train Accuracy</th>\n",
       "      <th>Validation Accuracy</th>\n",
       "      <th>Recall Score</th>\n",
       "      <th>Precision Score</th>\n",
       "    </tr>\n",
       "  </thead>\n",
       "  <tbody>\n",
       "    <tr>\n",
       "      <th>0</th>\n",
       "      <td>LinearSVC</td>\n",
       "      <td>0.770625</td>\n",
       "      <td>0.319584</td>\n",
       "      <td>0.399010</td>\n",
       "      <td>0.707638</td>\n",
       "    </tr>\n",
       "    <tr>\n",
       "      <th>1</th>\n",
       "      <td>MultinomialNB</td>\n",
       "      <td>0.052525</td>\n",
       "      <td>0.042020</td>\n",
       "      <td>0.034653</td>\n",
       "      <td>0.952381</td>\n",
       "    </tr>\n",
       "    <tr>\n",
       "      <th>2</th>\n",
       "      <td>GaussianNB</td>\n",
       "      <td>0.423188</td>\n",
       "      <td>0.026214</td>\n",
       "      <td>0.314356</td>\n",
       "      <td>0.074143</td>\n",
       "    </tr>\n",
       "    <tr>\n",
       "      <th>3</th>\n",
       "      <td>RandomForest</td>\n",
       "      <td>0.996916</td>\n",
       "      <td>0.186970</td>\n",
       "      <td>0.190594</td>\n",
       "      <td>0.868095</td>\n",
       "    </tr>\n",
       "    <tr>\n",
       "      <th>4</th>\n",
       "      <td>DecisionTree</td>\n",
       "      <td>0.998265</td>\n",
       "      <td>0.208558</td>\n",
       "      <td>0.430941</td>\n",
       "      <td>0.459609</td>\n",
       "    </tr>\n",
       "    <tr>\n",
       "      <th>5</th>\n",
       "      <td>LinearSVC(multi_class= \"crammer_singer\")</td>\n",
       "      <td>0.681766</td>\n",
       "      <td>0.338088</td>\n",
       "      <td>0.425000</td>\n",
       "      <td>0.654594</td>\n",
       "    </tr>\n",
       "    <tr>\n",
       "      <th>6</th>\n",
       "      <td>LinearSVC(C=0.5, tol=0.2) 2019 capstone base</td>\n",
       "      <td>0.544237</td>\n",
       "      <td>0.313801</td>\n",
       "      <td>0.373020</td>\n",
       "      <td>0.753877</td>\n",
       "    </tr>\n",
       "  </tbody>\n",
       "</table>\n",
       "</div>"
      ],
      "text/plain": [
       "                                          Model  Train Accuracy  \\\n",
       "0                                     LinearSVC        0.770625   \n",
       "1                                 MultinomialNB        0.052525   \n",
       "2                                    GaussianNB        0.423188   \n",
       "3                                  RandomForest        0.996916   \n",
       "4                                  DecisionTree        0.998265   \n",
       "5      LinearSVC(multi_class= \"crammer_singer\")        0.681766   \n",
       "6  LinearSVC(C=0.5, tol=0.2) 2019 capstone base        0.544237   \n",
       "\n",
       "   Validation Accuracy  Recall Score  Precision Score  \n",
       "0             0.319584      0.399010         0.707638  \n",
       "1             0.042020      0.034653         0.952381  \n",
       "2             0.026214      0.314356         0.074143  \n",
       "3             0.186970      0.190594         0.868095  \n",
       "4             0.208558      0.430941         0.459609  \n",
       "5             0.338088      0.425000         0.654594  \n",
       "6             0.313801      0.373020         0.753877  "
      ]
     },
     "execution_count": 397,
     "metadata": {},
     "output_type": "execute_result"
    }
   ],
   "source": [
    "my_results =pd.DataFrame(results_dict)\n",
    "my_results"
   ]
  },
  {
   "cell_type": "markdown",
   "metadata": {},
   "source": [
    "***All models overfitting especially the Tree models. Best one overall is LinearSVC with default multi-class='ovr'. Still overfitting though, try tune regularization (less regularization is larger C)***"
   ]
  },
  {
   "cell_type": "code",
   "execution_count": 320,
   "metadata": {},
   "outputs": [],
   "source": [
    "#Looping through various C value in LinearSVC\n",
    "\n",
    "scores = []\n",
    "for i in (10.0**np.arange(-4,4)):\n",
    "    model = ClassifierChain(LinearSVC(C = i, max_iter = 100000)).fit(X_train, subthemes_ytrain)\n",
    "    #train = model.score(X_train, np.array(subthemes_ytrain))\n",
    "    valid = model.score(X_valid, np.array(subthemes_yvalid))\n",
    "    \n",
    "    scores.append(valid)"
   ]
  },
  {
   "cell_type": "code",
   "execution_count": 321,
   "metadata": {},
   "outputs": [
    {
     "data": {
      "text/plain": [
       "array([1.e-04, 1.e-03, 1.e-02, 1.e-01, 1.e+00, 1.e+01, 1.e+02, 1.e+03])"
      ]
     },
     "execution_count": 321,
     "metadata": {},
     "output_type": "execute_result"
    }
   ],
   "source": [
    "10.0**np.arange(-4,4)"
   ]
  },
  {
   "cell_type": "code",
   "execution_count": 322,
   "metadata": {},
   "outputs": [
    {
     "data": {
      "text/plain": [
       "[0.0007710100231303007,\n",
       " 0.0007710100231303007,\n",
       " 0.05127216653816499,\n",
       " 0.24518118735543562,\n",
       " 0.31958365458750965,\n",
       " 0.2779491133384734,\n",
       " 0.24518118735543562,\n",
       " 0.23014649190439476]"
      ]
     },
     "execution_count": 322,
     "metadata": {},
     "output_type": "execute_result"
    }
   ],
   "source": [
    "scores"
   ]
  },
  {
   "cell_type": "markdown",
   "metadata": {},
   "source": [
    "> Regularization doesn't help here. The best validation score is given by the default C hyperparameter = 1.0. Let's try this on LinearSVC(multi-class='crammer_singer')"
   ]
  },
  {
   "cell_type": "code",
   "execution_count": 101,
   "metadata": {},
   "outputs": [],
   "source": [
    "#Looping through various C value in LinearSVC multiclass= crammer_singer \n",
    "\n",
    "scores = []\n",
    "for i in (10.0**np.arange(-4,4)):\n",
    "    model = ClassifierChain(LinearSVC(multi_class= \"crammer_singer\", C = i, max_iter = 100000)).fit(X_train, subthemes_ytrain)\n",
    "    #train = model.score(X_train, np.array(subthemes_ytrain))\n",
    "    valid = model.score(X_valid, np.array(subthemes_yvalid))\n",
    "    \n",
    "    scores.append(valid)"
   ]
  },
  {
   "cell_type": "code",
   "execution_count": 102,
   "metadata": {},
   "outputs": [
    {
     "data": {
      "text/plain": [
       "[0.0007710100231303007,\n",
       " 0.0007710100231303007,\n",
       " 0.009252120277563608,\n",
       " 0.19275250578257516,\n",
       " 0.3430994602929838,\n",
       " 0.2679259830377795,\n",
       " 0.25212027756360833,\n",
       " 0.24710871241326138]"
      ]
     },
     "execution_count": 102,
     "metadata": {},
     "output_type": "execute_result"
    }
   ],
   "source": [
    "scores"
   ]
  },
  {
   "cell_type": "markdown",
   "metadata": {},
   "source": [
    "> Same results for C values of crammer_singer. Seems that Linear(SVC) with its default regularization gives the highest\n",
    "\n",
    "> Due to lack of resources could not find proper way to GridSeach with multilabel classifier. https://stackoverflow.com/questions/26018543/gridsearch-for-multi-label-classification-in-scikit-learn"
   ]
  },
  {
   "cell_type": "code",
   "execution_count": 112,
   "metadata": {},
   "outputs": [
    {
     "data": {
      "text/plain": [
       "{'LinearSVC': LinearSVC(C=1.0, class_weight=None, dual=True, fit_intercept=True,\n",
       "           intercept_scaling=1, loss='squared_hinge', max_iter=1000,\n",
       "           multi_class='ovr', penalty='l2', random_state=None, tol=0.0001,\n",
       "           verbose=0),\n",
       " 'MultinomialNB': MultinomialNB(alpha=1.0, class_prior=None, fit_prior=True),\n",
       " 'GaussianNB': GaussianNB(priors=None, var_smoothing=1e-09)}"
      ]
     },
     "execution_count": 112,
     "metadata": {},
     "output_type": "execute_result"
    }
   ],
   "source": [
    "models"
   ]
  },
  {
   "cell_type": "markdown",
   "metadata": {},
   "source": [
    "## For themes Y \n",
    "\n",
    "## working the same steps on Themes to find base classifier"
   ]
  },
  {
   "cell_type": "code",
   "execution_count": 323,
   "metadata": {},
   "outputs": [],
   "source": [
    "#For themes only\n",
    "#Note takes about ~15 min to run\n",
    "results_dict_themes = []\n",
    "\n",
    "for model_name, model in models.items():\n",
    "\n",
    "    classifier_chain = ClassifierChain(model)\n",
    "    model = classifier_chain.fit(X_train, themes_ytrain)\n",
    "    train = model.score(X_train, np.array(themes_ytrain))\n",
    "    valid = model.score(X_valid, np.array(themes_yvalid))\n",
    "    y_pred = model.predict(X_valid)\n",
    "    recall = recall_score(np.array(themes_yvalid), y_pred, average= 'micro')\n",
    "    precision = precision_score(np.array(themes_yvalid), y_pred, average= 'micro')\n",
    "    \n",
    "    case= {'Model': model_name,\n",
    "           'Train Accuracy': train,\n",
    "           'Validation Accuracy': valid,\n",
    "           'Recall Score': recall,\n",
    "           'Precision Score': precision}\n",
    "    \n",
    "    results_dict_themes.append(case)"
   ]
  },
  {
   "cell_type": "code",
   "execution_count": 324,
   "metadata": {},
   "outputs": [
    {
     "data": {
      "text/html": [
       "<div>\n",
       "<style scoped>\n",
       "    .dataframe tbody tr th:only-of-type {\n",
       "        vertical-align: middle;\n",
       "    }\n",
       "\n",
       "    .dataframe tbody tr th {\n",
       "        vertical-align: top;\n",
       "    }\n",
       "\n",
       "    .dataframe thead th {\n",
       "        text-align: right;\n",
       "    }\n",
       "</style>\n",
       "<table border=\"1\" class=\"dataframe\">\n",
       "  <thead>\n",
       "    <tr style=\"text-align: right;\">\n",
       "      <th></th>\n",
       "      <th>Model</th>\n",
       "      <th>Train Accuracy</th>\n",
       "      <th>Validation Accuracy</th>\n",
       "      <th>Recall Score</th>\n",
       "      <th>Precision Score</th>\n",
       "    </tr>\n",
       "  </thead>\n",
       "  <tbody>\n",
       "    <tr>\n",
       "      <th>0</th>\n",
       "      <td>LinearSVC</td>\n",
       "      <td>0.791345</td>\n",
       "      <td>0.476099</td>\n",
       "      <td>0.608347</td>\n",
       "      <td>0.749915</td>\n",
       "    </tr>\n",
       "    <tr>\n",
       "      <th>1</th>\n",
       "      <td>MultinomialNB</td>\n",
       "      <td>0.246338</td>\n",
       "      <td>0.212028</td>\n",
       "      <td>0.181039</td>\n",
       "      <td>0.942446</td>\n",
       "    </tr>\n",
       "    <tr>\n",
       "      <th>2</th>\n",
       "      <td>GaussianNB</td>\n",
       "      <td>0.336546</td>\n",
       "      <td>0.047417</td>\n",
       "      <td>0.622996</td>\n",
       "      <td>0.144090</td>\n",
       "    </tr>\n",
       "  </tbody>\n",
       "</table>\n",
       "</div>"
      ],
      "text/plain": [
       "           Model  Train Accuracy  Validation Accuracy  Recall Score  \\\n",
       "0      LinearSVC        0.791345             0.476099      0.608347   \n",
       "1  MultinomialNB        0.246338             0.212028      0.181039   \n",
       "2     GaussianNB        0.336546             0.047417      0.622996   \n",
       "\n",
       "   Precision Score  \n",
       "0         0.749915  \n",
       "1         0.942446  \n",
       "2         0.144090  "
      ]
     },
     "execution_count": 324,
     "metadata": {},
     "output_type": "execute_result"
    }
   ],
   "source": [
    "pd.DataFrame(results_dict_themes)"
   ]
  },
  {
   "cell_type": "code",
   "execution_count": 398,
   "metadata": {},
   "outputs": [],
   "source": [
    "#empty out list\n",
    "results_dict3 = []"
   ]
  },
  {
   "cell_type": "code",
   "execution_count": 399,
   "metadata": {},
   "outputs": [],
   "source": [
    "def Classifier_Chain(Ytrain, Yvalid, base_model):\n",
    "    \"\"\"\n",
    "    Fits a Classifier Chain Model with the base classifier of choice and \n",
    "    using either themes or subthemes Y.\n",
    "    Show results of training accuracy score, validation accuracy score, \n",
    "    validation recall and precision scores.\n",
    "    \"\"\"\n",
    "    classifier_chain = ClassifierChain(base_model)\n",
    "    \n",
    "    model = classifier_chain.fit(X_train, Ytrain) #subthemes_ytrain)\n",
    "    train = model.score(X_train, np.array(Ytrain)) #subthemes_ytrain\n",
    "    valid = model.score(X_valid, np.array(Yvalid)) #subthemes_yvalid\n",
    "    y_pred = model.predict(X_valid)\n",
    "    recall = recall_score(np.array(Yvalid), y_pred, average= 'micro') #subthemes_yvalid\n",
    "    precision = precision_score(np.array(Yvalid), y_pred, average= 'micro') #subthemes_yvalid\n",
    "    \n",
    "    case= {'Model': base_model,\n",
    "           'Train Accuracy': train,\n",
    "           'Validation Accuracy': valid,\n",
    "           'Recall Score': recall,\n",
    "           'Precision Score': precision}\n",
    "    \n",
    "    #print(case)\n",
    "    #change results dictionary name\n",
    "    results_dict3.append(case)    "
   ]
  },
  {
   "cell_type": "code",
   "execution_count": 400,
   "metadata": {},
   "outputs": [],
   "source": [
    "#Random Forest' : RandomForestClassifier()\n",
    "#Note takes quite some time ~15 min on my computer\n",
    "Classifier_Chain(themes_ytrain, themes_yvalid, RandomForestClassifier())"
   ]
  },
  {
   "cell_type": "code",
   "execution_count": 401,
   "metadata": {},
   "outputs": [],
   "source": [
    "results_dict3[0]['Model'] = 'RandomForest' #rename"
   ]
  },
  {
   "cell_type": "code",
   "execution_count": 403,
   "metadata": {},
   "outputs": [],
   "source": [
    "#Decision Tree' : DecisionTreeClassifier()\n",
    "#Note takes quite some time ~15 min on my computer\n",
    "Classifier_Chain(themes_ytrain, themes_yvalid, DecisionTreeClassifier())"
   ]
  },
  {
   "cell_type": "code",
   "execution_count": 404,
   "metadata": {},
   "outputs": [],
   "source": [
    "results_dict3[1]['Model'] = 'DecisionTree' #rename"
   ]
  },
  {
   "cell_type": "code",
   "execution_count": 406,
   "metadata": {},
   "outputs": [
    {
     "name": "stderr",
     "output_type": "stream",
     "text": [
      "//anaconda3/lib/python3.7/site-packages/sklearn/svm/_base.py:947: ConvergenceWarning: Liblinear failed to converge, increase the number of iterations.\n",
      "  \"the number of iterations.\", ConvergenceWarning)\n"
     ]
    }
   ],
   "source": [
    "#LinearSVC(multi_class= \"crammer_singer\")\n",
    "#\"crammer_singer\" optimizes a joint objective over all classes.\n",
    "Classifier_Chain(themes_ytrain, themes_yvalid, LinearSVC(multi_class= \"crammer_singer\"))\n"
   ]
  },
  {
   "cell_type": "code",
   "execution_count": 407,
   "metadata": {},
   "outputs": [],
   "source": [
    "results_dict3[2]['Model'] = 'LinearSVC(multi_class= \"crammer_singer\")' #rename"
   ]
  },
  {
   "cell_type": "code",
   "execution_count": 412,
   "metadata": {},
   "outputs": [],
   "source": [
    "results_dict_themes.extend(results_dict3)"
   ]
  },
  {
   "cell_type": "code",
   "execution_count": 413,
   "metadata": {},
   "outputs": [
    {
     "data": {
      "text/html": [
       "<div>\n",
       "<style scoped>\n",
       "    .dataframe tbody tr th:only-of-type {\n",
       "        vertical-align: middle;\n",
       "    }\n",
       "\n",
       "    .dataframe tbody tr th {\n",
       "        vertical-align: top;\n",
       "    }\n",
       "\n",
       "    .dataframe thead th {\n",
       "        text-align: right;\n",
       "    }\n",
       "</style>\n",
       "<table border=\"1\" class=\"dataframe\">\n",
       "  <thead>\n",
       "    <tr style=\"text-align: right;\">\n",
       "      <th></th>\n",
       "      <th>Model</th>\n",
       "      <th>Train Accuracy</th>\n",
       "      <th>Validation Accuracy</th>\n",
       "      <th>Recall Score</th>\n",
       "      <th>Precision Score</th>\n",
       "    </tr>\n",
       "  </thead>\n",
       "  <tbody>\n",
       "    <tr>\n",
       "      <th>0</th>\n",
       "      <td>LinearSVC</td>\n",
       "      <td>0.791345</td>\n",
       "      <td>0.476099</td>\n",
       "      <td>0.608347</td>\n",
       "      <td>0.749915</td>\n",
       "    </tr>\n",
       "    <tr>\n",
       "      <th>1</th>\n",
       "      <td>MultinomialNB</td>\n",
       "      <td>0.246338</td>\n",
       "      <td>0.212028</td>\n",
       "      <td>0.181039</td>\n",
       "      <td>0.942446</td>\n",
       "    </tr>\n",
       "    <tr>\n",
       "      <th>2</th>\n",
       "      <td>GaussianNB</td>\n",
       "      <td>0.336546</td>\n",
       "      <td>0.047417</td>\n",
       "      <td>0.622996</td>\n",
       "      <td>0.144090</td>\n",
       "    </tr>\n",
       "    <tr>\n",
       "      <th>3</th>\n",
       "      <td>RandomForest</td>\n",
       "      <td>0.998169</td>\n",
       "      <td>0.410177</td>\n",
       "      <td>0.449972</td>\n",
       "      <td>0.854593</td>\n",
       "    </tr>\n",
       "    <tr>\n",
       "      <th>4</th>\n",
       "      <td>DecisionTree</td>\n",
       "      <td>0.998651</td>\n",
       "      <td>0.363531</td>\n",
       "      <td>0.601990</td>\n",
       "      <td>0.600496</td>\n",
       "    </tr>\n",
       "    <tr>\n",
       "      <th>5</th>\n",
       "      <td>LinearSVC(multi_class= \"crammer_singer\")</td>\n",
       "      <td>0.736507</td>\n",
       "      <td>0.499229</td>\n",
       "      <td>0.628524</td>\n",
       "      <td>0.720989</td>\n",
       "    </tr>\n",
       "  </tbody>\n",
       "</table>\n",
       "</div>"
      ],
      "text/plain": [
       "                                      Model  Train Accuracy  \\\n",
       "0                                 LinearSVC        0.791345   \n",
       "1                             MultinomialNB        0.246338   \n",
       "2                                GaussianNB        0.336546   \n",
       "3                              RandomForest        0.998169   \n",
       "4                              DecisionTree        0.998651   \n",
       "5  LinearSVC(multi_class= \"crammer_singer\")        0.736507   \n",
       "\n",
       "   Validation Accuracy  Recall Score  Precision Score  \n",
       "0             0.476099      0.608347         0.749915  \n",
       "1             0.212028      0.181039         0.942446  \n",
       "2             0.047417      0.622996         0.144090  \n",
       "3             0.410177      0.449972         0.854593  \n",
       "4             0.363531      0.601990         0.600496  \n",
       "5             0.499229      0.628524         0.720989  "
      ]
     },
     "execution_count": 413,
     "metadata": {},
     "output_type": "execute_result"
    }
   ],
   "source": [
    "pd.DataFrame(results_dict_themes)"
   ]
  },
  {
   "cell_type": "markdown",
   "metadata": {},
   "source": [
    "> For themes, also looks like LinearSVC() is the best. Hypothesizing that the best regularization parameter C for this model is their default values. Let's see if regularizing Decision Tree will help with overfitting and get better validation results"
   ]
  },
  {
   "cell_type": "code",
   "execution_count": 174,
   "metadata": {},
   "outputs": [],
   "source": [
    "#Looping through various max_depth value in LinearSVC multiclass= crammer_singer \n",
    "\n",
    "scores = []\n",
    "for i in range(10,100,10):\n",
    "    model = ClassifierChain(DecisionTreeClassifier(max_depth = i)).fit(X_train, themes_ytrain)\n",
    "    #train = model.score(X_train, np.array(subthemes_ytrain))\n",
    "    valid = model.score(X_valid, np.array(themes_yvalid))\n",
    "    \n",
    "    scores.append(valid)"
   ]
  },
  {
   "cell_type": "code",
   "execution_count": 175,
   "metadata": {},
   "outputs": [
    {
     "data": {
      "text/plain": [
       "[0.3797224363916731,\n",
       " 0.4055512721665382,\n",
       " 0.4109483423284503,\n",
       " 0.40670778720123363,\n",
       " 0.3982266769468003,\n",
       " 0.40400925212027755,\n",
       " 0.39552814186584423,\n",
       " 0.39167309175019277,\n",
       " 0.38781804163454126]"
      ]
     },
     "execution_count": 175,
     "metadata": {},
     "output_type": "execute_result"
    }
   ],
   "source": [
    "scores"
   ]
  },
  {
   "cell_type": "markdown",
   "metadata": {},
   "source": [
    "> Looks like none of these max depths improves the validation accuracy with None of result 0.42"
   ]
  },
  {
   "cell_type": "code",
   "execution_count": 414,
   "metadata": {},
   "outputs": [],
   "source": [
    "#reset list\n",
    "results_dict3 = []"
   ]
  },
  {
   "cell_type": "code",
   "execution_count": 415,
   "metadata": {},
   "outputs": [],
   "source": [
    "#Trying last year's base classifier LinearSVC(C=0.5, tol=0.2)\n",
    "Classifier_Chain(themes_ytrain, themes_yvalid, LinearSVC(C=0.5, tol=0.2))"
   ]
  },
  {
   "cell_type": "code",
   "execution_count": 416,
   "metadata": {},
   "outputs": [],
   "source": [
    "results_dict3[0]['Model'] = 'LinearSVC(C=0.5, tol=0.2) 2019 capstone base' #rename"
   ]
  },
  {
   "cell_type": "code",
   "execution_count": 417,
   "metadata": {},
   "outputs": [],
   "source": [
    "results_dict_themes.extend(results_dict3)"
   ]
  },
  {
   "cell_type": "code",
   "execution_count": 419,
   "metadata": {},
   "outputs": [],
   "source": [
    "themes_results = pd.DataFrame(results_dict_themes)"
   ]
  },
  {
   "cell_type": "markdown",
   "metadata": {},
   "source": [
    "# Summary of results:\n",
    "## Subthemes"
   ]
  },
  {
   "cell_type": "code",
   "execution_count": 420,
   "metadata": {},
   "outputs": [
    {
     "name": "stdout",
     "output_type": "stream",
     "text": [
      "SUBTHEMES RESULTS:\n"
     ]
    },
    {
     "data": {
      "text/html": [
       "<div>\n",
       "<style scoped>\n",
       "    .dataframe tbody tr th:only-of-type {\n",
       "        vertical-align: middle;\n",
       "    }\n",
       "\n",
       "    .dataframe tbody tr th {\n",
       "        vertical-align: top;\n",
       "    }\n",
       "\n",
       "    .dataframe thead th {\n",
       "        text-align: right;\n",
       "    }\n",
       "</style>\n",
       "<table border=\"1\" class=\"dataframe\">\n",
       "  <thead>\n",
       "    <tr style=\"text-align: right;\">\n",
       "      <th></th>\n",
       "      <th>Model</th>\n",
       "      <th>Train Accuracy</th>\n",
       "      <th>Validation Accuracy</th>\n",
       "      <th>Recall Score</th>\n",
       "      <th>Precision Score</th>\n",
       "    </tr>\n",
       "  </thead>\n",
       "  <tbody>\n",
       "    <tr>\n",
       "      <th>0</th>\n",
       "      <td>LinearSVC</td>\n",
       "      <td>0.770625</td>\n",
       "      <td>0.319584</td>\n",
       "      <td>0.399010</td>\n",
       "      <td>0.707638</td>\n",
       "    </tr>\n",
       "    <tr>\n",
       "      <th>1</th>\n",
       "      <td>MultinomialNB</td>\n",
       "      <td>0.052525</td>\n",
       "      <td>0.042020</td>\n",
       "      <td>0.034653</td>\n",
       "      <td>0.952381</td>\n",
       "    </tr>\n",
       "    <tr>\n",
       "      <th>2</th>\n",
       "      <td>GaussianNB</td>\n",
       "      <td>0.423188</td>\n",
       "      <td>0.026214</td>\n",
       "      <td>0.314356</td>\n",
       "      <td>0.074143</td>\n",
       "    </tr>\n",
       "    <tr>\n",
       "      <th>3</th>\n",
       "      <td>RandomForest</td>\n",
       "      <td>0.996916</td>\n",
       "      <td>0.186970</td>\n",
       "      <td>0.190594</td>\n",
       "      <td>0.868095</td>\n",
       "    </tr>\n",
       "    <tr>\n",
       "      <th>4</th>\n",
       "      <td>DecisionTree</td>\n",
       "      <td>0.998265</td>\n",
       "      <td>0.208558</td>\n",
       "      <td>0.430941</td>\n",
       "      <td>0.459609</td>\n",
       "    </tr>\n",
       "    <tr>\n",
       "      <th>5</th>\n",
       "      <td>LinearSVC(multi_class= \"crammer_singer\")</td>\n",
       "      <td>0.681766</td>\n",
       "      <td>0.338088</td>\n",
       "      <td>0.425000</td>\n",
       "      <td>0.654594</td>\n",
       "    </tr>\n",
       "    <tr>\n",
       "      <th>6</th>\n",
       "      <td>LinearSVC(C=0.5, tol=0.2) 2019 capstone base</td>\n",
       "      <td>0.544237</td>\n",
       "      <td>0.313801</td>\n",
       "      <td>0.373020</td>\n",
       "      <td>0.753877</td>\n",
       "    </tr>\n",
       "  </tbody>\n",
       "</table>\n",
       "</div>"
      ],
      "text/plain": [
       "                                          Model  Train Accuracy  \\\n",
       "0                                     LinearSVC        0.770625   \n",
       "1                                 MultinomialNB        0.052525   \n",
       "2                                    GaussianNB        0.423188   \n",
       "3                                  RandomForest        0.996916   \n",
       "4                                  DecisionTree        0.998265   \n",
       "5      LinearSVC(multi_class= \"crammer_singer\")        0.681766   \n",
       "6  LinearSVC(C=0.5, tol=0.2) 2019 capstone base        0.544237   \n",
       "\n",
       "   Validation Accuracy  Recall Score  Precision Score  \n",
       "0             0.319584      0.399010         0.707638  \n",
       "1             0.042020      0.034653         0.952381  \n",
       "2             0.026214      0.314356         0.074143  \n",
       "3             0.186970      0.190594         0.868095  \n",
       "4             0.208558      0.430941         0.459609  \n",
       "5             0.338088      0.425000         0.654594  \n",
       "6             0.313801      0.373020         0.753877  "
      ]
     },
     "execution_count": 420,
     "metadata": {},
     "output_type": "execute_result"
    }
   ],
   "source": [
    "#SUBTHEMES RESULTS \n",
    "print(\"SUBTHEMES RESULTS:\")\n",
    "my_results"
   ]
  },
  {
   "cell_type": "markdown",
   "metadata": {},
   "source": [
    "> LinearSVC() worked the best with their default C regularization parameter. \n",
    "\n",
    "    * train score: 0.77\n",
    "    * validation score: 0.32\n",
    "    * recall score: 0.40\n",
    "    * precision score: 0.71"
   ]
  },
  {
   "cell_type": "markdown",
   "metadata": {},
   "source": [
    "## Themes"
   ]
  },
  {
   "cell_type": "code",
   "execution_count": 421,
   "metadata": {},
   "outputs": [
    {
     "name": "stdout",
     "output_type": "stream",
     "text": [
      "THEMES RESULTS:\n"
     ]
    },
    {
     "data": {
      "text/html": [
       "<div>\n",
       "<style scoped>\n",
       "    .dataframe tbody tr th:only-of-type {\n",
       "        vertical-align: middle;\n",
       "    }\n",
       "\n",
       "    .dataframe tbody tr th {\n",
       "        vertical-align: top;\n",
       "    }\n",
       "\n",
       "    .dataframe thead th {\n",
       "        text-align: right;\n",
       "    }\n",
       "</style>\n",
       "<table border=\"1\" class=\"dataframe\">\n",
       "  <thead>\n",
       "    <tr style=\"text-align: right;\">\n",
       "      <th></th>\n",
       "      <th>Model</th>\n",
       "      <th>Train Accuracy</th>\n",
       "      <th>Validation Accuracy</th>\n",
       "      <th>Recall Score</th>\n",
       "      <th>Precision Score</th>\n",
       "    </tr>\n",
       "  </thead>\n",
       "  <tbody>\n",
       "    <tr>\n",
       "      <th>0</th>\n",
       "      <td>LinearSVC</td>\n",
       "      <td>0.791345</td>\n",
       "      <td>0.476099</td>\n",
       "      <td>0.608347</td>\n",
       "      <td>0.749915</td>\n",
       "    </tr>\n",
       "    <tr>\n",
       "      <th>1</th>\n",
       "      <td>MultinomialNB</td>\n",
       "      <td>0.246338</td>\n",
       "      <td>0.212028</td>\n",
       "      <td>0.181039</td>\n",
       "      <td>0.942446</td>\n",
       "    </tr>\n",
       "    <tr>\n",
       "      <th>2</th>\n",
       "      <td>GaussianNB</td>\n",
       "      <td>0.336546</td>\n",
       "      <td>0.047417</td>\n",
       "      <td>0.622996</td>\n",
       "      <td>0.144090</td>\n",
       "    </tr>\n",
       "    <tr>\n",
       "      <th>3</th>\n",
       "      <td>RandomForest</td>\n",
       "      <td>0.998169</td>\n",
       "      <td>0.410177</td>\n",
       "      <td>0.449972</td>\n",
       "      <td>0.854593</td>\n",
       "    </tr>\n",
       "    <tr>\n",
       "      <th>4</th>\n",
       "      <td>DecisionTree</td>\n",
       "      <td>0.998651</td>\n",
       "      <td>0.363531</td>\n",
       "      <td>0.601990</td>\n",
       "      <td>0.600496</td>\n",
       "    </tr>\n",
       "    <tr>\n",
       "      <th>5</th>\n",
       "      <td>LinearSVC(multi_class= \"crammer_singer\")</td>\n",
       "      <td>0.736507</td>\n",
       "      <td>0.499229</td>\n",
       "      <td>0.628524</td>\n",
       "      <td>0.720989</td>\n",
       "    </tr>\n",
       "    <tr>\n",
       "      <th>6</th>\n",
       "      <td>LinearSVC(C=0.5, tol=0.2) 2019 capstone base</td>\n",
       "      <td>0.691789</td>\n",
       "      <td>0.479568</td>\n",
       "      <td>0.593145</td>\n",
       "      <td>0.779797</td>\n",
       "    </tr>\n",
       "  </tbody>\n",
       "</table>\n",
       "</div>"
      ],
      "text/plain": [
       "                                          Model  Train Accuracy  \\\n",
       "0                                     LinearSVC        0.791345   \n",
       "1                                 MultinomialNB        0.246338   \n",
       "2                                    GaussianNB        0.336546   \n",
       "3                                  RandomForest        0.998169   \n",
       "4                                  DecisionTree        0.998651   \n",
       "5      LinearSVC(multi_class= \"crammer_singer\")        0.736507   \n",
       "6  LinearSVC(C=0.5, tol=0.2) 2019 capstone base        0.691789   \n",
       "\n",
       "   Validation Accuracy  Recall Score  Precision Score  \n",
       "0             0.476099      0.608347         0.749915  \n",
       "1             0.212028      0.181039         0.942446  \n",
       "2             0.047417      0.622996         0.144090  \n",
       "3             0.410177      0.449972         0.854593  \n",
       "4             0.363531      0.601990         0.600496  \n",
       "5             0.499229      0.628524         0.720989  \n",
       "6             0.479568      0.593145         0.779797  "
      ]
     },
     "execution_count": 421,
     "metadata": {},
     "output_type": "execute_result"
    }
   ],
   "source": [
    "#THEMES RESULTS \n",
    "print(\"THEMES RESULTS:\")\n",
    "\n",
    "themes_results"
   ]
  },
  {
   "cell_type": "markdown",
   "metadata": {},
   "source": [
    "> LAST YEARS RESULTS: Results from 2019 Capstone results on test data for baseline model (BoW CountVectorizer and BinaryRelevance(LinearSVC(C=0.5, tol=0.2))\n",
    "\n",
    "     * Accuracy: 45%\n",
    "     * Recall: 0.64\n",
    "     * Precision: 0.74\n",
    "  \n",
    "> OUR RESULTS: Using LinearSVC(C=0.5, tol=0.2) 2019 capstone base, overfitting went down and only recall decreased in score. Our best results for baseline model is:\n",
    "\n",
    "     * Accuracy: 48%\n",
    "     * Recall: 0.59\n",
    "     * Precision: 0.78"
   ]
  },
  {
   "cell_type": "markdown",
   "metadata": {},
   "source": [
    "# Using universal sentence encoder as embedding"
   ]
  },
  {
   "cell_type": "code",
   "execution_count": 346,
   "metadata": {},
   "outputs": [],
   "source": [
    "import tensorflow as tf\n",
    "\n",
    "embed = hub.load(\"https://tfhub.dev/google/universal-sentence-encoder/4\")"
   ]
  },
  {
   "cell_type": "code",
   "execution_count": 350,
   "metadata": {},
   "outputs": [],
   "source": [
    "X_train_raw = pd.read_csv('data/X_train_Q1_clean.csv')"
   ]
  },
  {
   "cell_type": "code",
   "execution_count": 351,
   "metadata": {},
   "outputs": [],
   "source": [
    "with tf.Session() as session:\n",
    "    session.run([tf.global_variables_initializer(), \n",
    "                 tf.tables_initializer()])\n",
    "    training_embeddings = session.run(embed(X_train_raw.Comment.to_list()))"
   ]
  },
  {
   "cell_type": "code",
   "execution_count": 352,
   "metadata": {},
   "outputs": [],
   "source": [
    "use = ClassifierChain(LinearSVC(C=0.5, tol=0.2))"
   ]
  },
  {
   "cell_type": "code",
   "execution_count": 353,
   "metadata": {},
   "outputs": [
    {
     "data": {
      "text/plain": [
       "ClassifierChain(classifier=LinearSVC(C=0.5, class_weight=None, dual=True,\n",
       "                                     fit_intercept=True, intercept_scaling=1,\n",
       "                                     loss='squared_hinge', max_iter=1000,\n",
       "                                     multi_class='ovr', penalty='l2',\n",
       "                                     random_state=None, tol=0.2, verbose=0),\n",
       "                order=None, require_dense=[True, True])"
      ]
     },
     "execution_count": 353,
     "metadata": {},
     "output_type": "execute_result"
    }
   ],
   "source": [
    "use.fit(training_embeddings, themes_ytrain)"
   ]
  },
  {
   "cell_type": "code",
   "execution_count": 354,
   "metadata": {},
   "outputs": [
    {
     "data": {
      "text/plain": [
       "0.4995181187355436"
      ]
     },
     "execution_count": 354,
     "metadata": {},
     "output_type": "execute_result"
    }
   ],
   "source": [
    "use.score(training_embeddings, themes_ytrain)"
   ]
  },
  {
   "cell_type": "code",
   "execution_count": 355,
   "metadata": {},
   "outputs": [],
   "source": [
    "#transforming valiation set\n",
    "with tf.Session() as session:\n",
    "    session.run([tf.global_variables_initializer(), \n",
    "                 tf.tables_initializer()])\n",
    "    test_embeddings = session.run(embed(X_valid_Q1.Comment.to_list()))"
   ]
  },
  {
   "cell_type": "code",
   "execution_count": 356,
   "metadata": {},
   "outputs": [
    {
     "data": {
      "text/plain": [
       "0.44680030840400925"
      ]
     },
     "execution_count": 356,
     "metadata": {},
     "output_type": "execute_result"
    }
   ],
   "source": [
    "use.score(test_embeddings, themes_yvalid)"
   ]
  },
  {
   "cell_type": "code",
   "execution_count": 357,
   "metadata": {},
   "outputs": [],
   "source": [
    "y_pred = use.predict(test_embeddings)"
   ]
  },
  {
   "cell_type": "code",
   "execution_count": 358,
   "metadata": {},
   "outputs": [
    {
     "data": {
      "text/plain": [
       "0.5702045328911001"
      ]
     },
     "execution_count": 358,
     "metadata": {},
     "output_type": "execute_result"
    }
   ],
   "source": [
    "recall_score(np.array(themes_yvalid), y_pred, average= 'micro') "
   ]
  },
  {
   "cell_type": "code",
   "execution_count": 359,
   "metadata": {},
   "outputs": [
    {
     "data": {
      "text/plain": [
       "0.7094222833562586"
      ]
     },
     "execution_count": 359,
     "metadata": {},
     "output_type": "execute_result"
    }
   ],
   "source": [
    "precision_score(np.array(themes_yvalid), y_pred, average= 'micro') "
   ]
  },
  {
   "cell_type": "code",
   "execution_count": 362,
   "metadata": {},
   "outputs": [],
   "source": [
    "uni_sent = []\n",
    "case= {'Model': 'Universal Sentence Encoder LinearSVC',\n",
    "       'Train Accuracy': use.score(training_embeddings, themes_ytrain),\n",
    "       'Validation Accuracy': use.score(test_embeddings, themes_yvalid),\n",
    "       'Recall Score': recall_score(np.array(themes_yvalid), y_pred, average= 'micro') ,\n",
    "       'Precision Score': precision_score(np.array(themes_yvalid), y_pred, average= 'micro') }\n",
    "\n",
    "#print(case)\n",
    "uni_sent.append(case)    \n",
    "results_dict_themes.extend(uni_sent)\n"
   ]
  },
  {
   "cell_type": "code",
   "execution_count": 363,
   "metadata": {},
   "outputs": [
    {
     "data": {
      "text/html": [
       "<div>\n",
       "<style scoped>\n",
       "    .dataframe tbody tr th:only-of-type {\n",
       "        vertical-align: middle;\n",
       "    }\n",
       "\n",
       "    .dataframe tbody tr th {\n",
       "        vertical-align: top;\n",
       "    }\n",
       "\n",
       "    .dataframe thead th {\n",
       "        text-align: right;\n",
       "    }\n",
       "</style>\n",
       "<table border=\"1\" class=\"dataframe\">\n",
       "  <thead>\n",
       "    <tr style=\"text-align: right;\">\n",
       "      <th></th>\n",
       "      <th>Model</th>\n",
       "      <th>Train Accuracy</th>\n",
       "      <th>Validation Accuracy</th>\n",
       "      <th>Recall Score</th>\n",
       "      <th>Precision Score</th>\n",
       "    </tr>\n",
       "  </thead>\n",
       "  <tbody>\n",
       "    <tr>\n",
       "      <th>0</th>\n",
       "      <td>LinearSVC</td>\n",
       "      <td>0.791345</td>\n",
       "      <td>0.476099</td>\n",
       "      <td>0.608347</td>\n",
       "      <td>0.749915</td>\n",
       "    </tr>\n",
       "    <tr>\n",
       "      <th>1</th>\n",
       "      <td>MultinomialNB</td>\n",
       "      <td>0.246338</td>\n",
       "      <td>0.212028</td>\n",
       "      <td>0.181039</td>\n",
       "      <td>0.942446</td>\n",
       "    </tr>\n",
       "    <tr>\n",
       "      <th>2</th>\n",
       "      <td>GaussianNB</td>\n",
       "      <td>0.336546</td>\n",
       "      <td>0.047417</td>\n",
       "      <td>0.622996</td>\n",
       "      <td>0.144090</td>\n",
       "    </tr>\n",
       "    <tr>\n",
       "      <th>3</th>\n",
       "      <td>RandomForest</td>\n",
       "      <td>0.998458</td>\n",
       "      <td>0.417116</td>\n",
       "      <td>0.453566</td>\n",
       "      <td>0.857367</td>\n",
       "    </tr>\n",
       "    <tr>\n",
       "      <th>4</th>\n",
       "      <td>DecisionTree</td>\n",
       "      <td>0.998651</td>\n",
       "      <td>0.350810</td>\n",
       "      <td>0.588170</td>\n",
       "      <td>0.590128</td>\n",
       "    </tr>\n",
       "    <tr>\n",
       "      <th>5</th>\n",
       "      <td>LinearSVC(multi_class= \"crammer_singer\")</td>\n",
       "      <td>0.736507</td>\n",
       "      <td>0.499229</td>\n",
       "      <td>0.628524</td>\n",
       "      <td>0.720989</td>\n",
       "    </tr>\n",
       "    <tr>\n",
       "      <th>6</th>\n",
       "      <td>LinearSVC(C=0.5, tol=0.2) 2019 capstone base</td>\n",
       "      <td>0.692174</td>\n",
       "      <td>0.478797</td>\n",
       "      <td>0.592593</td>\n",
       "      <td>0.779920</td>\n",
       "    </tr>\n",
       "    <tr>\n",
       "      <th>7</th>\n",
       "      <td>Universal Sentence Encoder LinearSVC</td>\n",
       "      <td>0.499518</td>\n",
       "      <td>0.446800</td>\n",
       "      <td>0.570205</td>\n",
       "      <td>0.709422</td>\n",
       "    </tr>\n",
       "  </tbody>\n",
       "</table>\n",
       "</div>"
      ],
      "text/plain": [
       "                                          Model  Train Accuracy  \\\n",
       "0                                     LinearSVC        0.791345   \n",
       "1                                 MultinomialNB        0.246338   \n",
       "2                                    GaussianNB        0.336546   \n",
       "3                                  RandomForest        0.998458   \n",
       "4                                  DecisionTree        0.998651   \n",
       "5      LinearSVC(multi_class= \"crammer_singer\")        0.736507   \n",
       "6  LinearSVC(C=0.5, tol=0.2) 2019 capstone base        0.692174   \n",
       "7          Universal Sentence Encoder LinearSVC        0.499518   \n",
       "\n",
       "   Validation Accuracy  Recall Score  Precision Score  \n",
       "0             0.476099      0.608347         0.749915  \n",
       "1             0.212028      0.181039         0.942446  \n",
       "2             0.047417      0.622996         0.144090  \n",
       "3             0.417116      0.453566         0.857367  \n",
       "4             0.350810      0.588170         0.590128  \n",
       "5             0.499229      0.628524         0.720989  \n",
       "6             0.478797      0.592593         0.779920  \n",
       "7             0.446800      0.570205         0.709422  "
      ]
     },
     "execution_count": 363,
     "metadata": {},
     "output_type": "execute_result"
    }
   ],
   "source": [
    "pd.DataFrame(results_dict_themes)"
   ]
  },
  {
   "cell_type": "markdown",
   "metadata": {},
   "source": [
    "# Decision Tree Hierachical Multi-Classifier\n",
    "\n",
    "- trying to get hmm to work but exceptions trouble importing\n",
    "https://github.com/davidwarshaw/hmc"
   ]
  },
  {
   "cell_type": "code",
   "execution_count": 262,
   "metadata": {},
   "outputs": [
    {
     "data": {
      "text/plain": [
       "Index(['CPD', 'CB', 'EWC', 'Exec', 'FEW', 'SP', 'RE', 'Sup', 'SW', 'TEPE',\n",
       "       'VMG', 'OTH'],\n",
       "      dtype='object')"
      ]
     },
     "execution_count": 262,
     "metadata": {},
     "output_type": "execute_result"
    }
   ],
   "source": [
    "y_train_Q1.columns[0:12]"
   ]
  },
  {
   "cell_type": "markdown",
   "metadata": {},
   "source": [
    "<br>\n",
    "<br>\n",
    "<br>\n",
    "<br>\n",
    "<br>\n",
    "<br>\n",
    "\n",
    "***Previous work:***"
   ]
  },
  {
   "cell_type": "markdown",
   "metadata": {},
   "source": [
    "### Using CountVecorizer for comparison vs TFID"
   ]
  },
  {
   "cell_type": "code",
   "execution_count": 422,
   "metadata": {},
   "outputs": [],
   "source": [
    "#CountVectorizer Vectorizer Representation\n",
    "\n",
    "def count_vectorizer(train, valid):\n",
    "    cv = CountVectorizer() \n",
    "    X = cv.fit_transform(train)\n",
    "    X_valid = cv.transform(valid)\n",
    "    return X, X_valid\n",
    "\n",
    "#bow = pd.DataFrame(X_train_tfid, columns=sorted(tfid.vocabulary_), index=final_comments)\n",
    "#X_valid_tfid = tfid.transform(X_valid)"
   ]
  },
  {
   "cell_type": "code",
   "execution_count": 423,
   "metadata": {},
   "outputs": [],
   "source": [
    "#Vectorize X_train and convert Y_train to an array\n",
    "\n",
    "cvX_train, cvX_valid = count_vectorizer(X_train_Q1['Comment'].values.astype('U'), \n",
    "                                    X_valid_Q1['Comment'].values.astype('U')) #had to convert type \n"
   ]
  },
  {
   "cell_type": "code",
   "execution_count": 424,
   "metadata": {},
   "outputs": [],
   "source": [
    "#function with CountVec X\n",
    "def Classifier_Chain(Ytrain, Yvalid, base_model):\n",
    "    \"\"\"\n",
    "    Fits a Classifier Chain Model with the base classifier of choice and \n",
    "    using either themes or subthemes Y.\n",
    "    Show results of training accuracy score, validation accuracy score, \n",
    "    validation recall and precision scores.\n",
    "    \"\"\"\n",
    "    classifier_chain = ClassifierChain(base_model)\n",
    "    \n",
    "    model = classifier_chain.fit(cvX_train, Ytrain)\n",
    "    train = model.score(cvX_train, np.array(Ytrain))\n",
    "    valid = model.score(cvX_valid, np.array(Yvalid))\n",
    "    y_pred = model.predict(cvX_valid)\n",
    "    recall = recall_score(np.array(Yvalid), y_pred, average= 'micro')\n",
    "    precision = precision_score(np.array(Yvalid), y_pred, average= 'micro')\n",
    "    \n",
    "    case= {'Model': base_model,\n",
    "           'Train Accuracy': train,\n",
    "           'Validation Accuracy': valid,\n",
    "           'Recall Score': recall,\n",
    "           'Precision Score': precision}\n",
    "    \n",
    "    results_dict2.append(case)    "
   ]
  },
  {
   "cell_type": "code",
   "execution_count": 430,
   "metadata": {},
   "outputs": [
    {
     "name": "stdout",
     "output_type": "stream",
     "text": [
      "CountVectorizer- FOR THEMES ONLY using LinearSVC():\n",
      "\n"
     ]
    }
   ],
   "source": [
    "print(\"CountVectorizer- FOR THEMES ONLY using LinearSVC():\\n\")\n",
    "Classifier_Chain(themes_ytrain, themes_yvalid, LinearSVC())"
   ]
  },
  {
   "cell_type": "code",
   "execution_count": 431,
   "metadata": {},
   "outputs": [
    {
     "data": {
      "text/html": [
       "<div>\n",
       "<style scoped>\n",
       "    .dataframe tbody tr th:only-of-type {\n",
       "        vertical-align: middle;\n",
       "    }\n",
       "\n",
       "    .dataframe tbody tr th {\n",
       "        vertical-align: top;\n",
       "    }\n",
       "\n",
       "    .dataframe thead th {\n",
       "        text-align: right;\n",
       "    }\n",
       "</style>\n",
       "<table border=\"1\" class=\"dataframe\">\n",
       "  <thead>\n",
       "    <tr style=\"text-align: right;\">\n",
       "      <th></th>\n",
       "      <th>Model</th>\n",
       "      <th>Train Accuracy</th>\n",
       "      <th>Validation Accuracy</th>\n",
       "      <th>Recall Score</th>\n",
       "      <th>Precision Score</th>\n",
       "    </tr>\n",
       "  </thead>\n",
       "  <tbody>\n",
       "    <tr>\n",
       "      <th>0</th>\n",
       "      <td>LinearSVC(C=1.0, class_weight=None, dual=True,...</td>\n",
       "      <td>0.962702</td>\n",
       "      <td>0.275251</td>\n",
       "      <td>0.482673</td>\n",
       "      <td>0.513699</td>\n",
       "    </tr>\n",
       "    <tr>\n",
       "      <th>1</th>\n",
       "      <td>LinearSVC(C=1.0, class_weight=None, dual=True,...</td>\n",
       "      <td>0.948824</td>\n",
       "      <td>0.406708</td>\n",
       "      <td>0.631288</td>\n",
       "      <td>0.624385</td>\n",
       "    </tr>\n",
       "  </tbody>\n",
       "</table>\n",
       "</div>"
      ],
      "text/plain": [
       "                                               Model  Train Accuracy  \\\n",
       "0  LinearSVC(C=1.0, class_weight=None, dual=True,...        0.962702   \n",
       "1  LinearSVC(C=1.0, class_weight=None, dual=True,...        0.948824   \n",
       "\n",
       "   Validation Accuracy  Recall Score  Precision Score  \n",
       "0             0.275251      0.482673         0.513699  \n",
       "1             0.406708      0.631288         0.624385  "
      ]
     },
     "execution_count": 431,
     "metadata": {},
     "output_type": "execute_result"
    }
   ],
   "source": [
    "pd.DataFrame(results_dict2)"
   ]
  },
  {
   "cell_type": "code",
   "execution_count": 427,
   "metadata": {},
   "outputs": [
    {
     "name": "stdout",
     "output_type": "stream",
     "text": [
      "CountVectorizer-FOR SUBTHEMES ONLY using LinearSVC():\n",
      "\n"
     ]
    }
   ],
   "source": [
    "results_dict2 = []\n",
    "print(\"CountVectorizer-FOR SUBTHEMES ONLY using LinearSVC():\\n\")\n",
    "Classifier_Chain(subthemes_ytrain, subthemes_yvalid, LinearSVC())\n"
   ]
  },
  {
   "cell_type": "code",
   "execution_count": 428,
   "metadata": {},
   "outputs": [
    {
     "data": {
      "text/html": [
       "<div>\n",
       "<style scoped>\n",
       "    .dataframe tbody tr th:only-of-type {\n",
       "        vertical-align: middle;\n",
       "    }\n",
       "\n",
       "    .dataframe tbody tr th {\n",
       "        vertical-align: top;\n",
       "    }\n",
       "\n",
       "    .dataframe thead th {\n",
       "        text-align: right;\n",
       "    }\n",
       "</style>\n",
       "<table border=\"1\" class=\"dataframe\">\n",
       "  <thead>\n",
       "    <tr style=\"text-align: right;\">\n",
       "      <th></th>\n",
       "      <th>Model</th>\n",
       "      <th>Train Accuracy</th>\n",
       "      <th>Validation Accuracy</th>\n",
       "      <th>Recall Score</th>\n",
       "      <th>Precision Score</th>\n",
       "    </tr>\n",
       "  </thead>\n",
       "  <tbody>\n",
       "    <tr>\n",
       "      <th>0</th>\n",
       "      <td>LinearSVC(C=1.0, class_weight=None, dual=True,...</td>\n",
       "      <td>0.962702</td>\n",
       "      <td>0.275251</td>\n",
       "      <td>0.482673</td>\n",
       "      <td>0.513699</td>\n",
       "    </tr>\n",
       "  </tbody>\n",
       "</table>\n",
       "</div>"
      ],
      "text/plain": [
       "                                               Model  Train Accuracy  \\\n",
       "0  LinearSVC(C=1.0, class_weight=None, dual=True,...        0.962702   \n",
       "\n",
       "   Validation Accuracy  Recall Score  Precision Score  \n",
       "0             0.275251      0.482673         0.513699  "
      ]
     },
     "execution_count": 428,
     "metadata": {},
     "output_type": "execute_result"
    }
   ],
   "source": [
    "pd.DataFrame(results_dict2)"
   ]
  },
  {
   "cell_type": "markdown",
   "metadata": {},
   "source": [
    "### ***For all themes and subthemes:***"
   ]
  },
  {
   "cell_type": "code",
   "execution_count": 79,
   "metadata": {},
   "outputs": [
    {
     "data": {
      "text/plain": [
       "ClassifierChain(classifier=LinearSVC(C=1.0, class_weight=None, dual=True,\n",
       "                                     fit_intercept=True, intercept_scaling=1,\n",
       "                                     loss='squared_hinge', max_iter=1000,\n",
       "                                     multi_class='ovr', penalty='l2',\n",
       "                                     random_state=None, tol=0.0001, verbose=0),\n",
       "                order=None, require_dense=[True, True])"
      ]
     },
     "execution_count": 79,
     "metadata": {},
     "output_type": "execute_result"
    }
   ],
   "source": [
    "#LinearSVC multi_class= \"ovr\"\n",
    "#Multiclass as One-Vs-The-Rest:\n",
    "\n",
    "classifier_svc = ClassifierChain(\n",
    "    classifier = LinearSVC(multi_class= \"ovr\")\n",
    ")\n",
    "classifier_svc.fit(X_train, Y_train)"
   ]
  },
  {
   "cell_type": "code",
   "execution_count": 80,
   "metadata": {},
   "outputs": [
    {
     "name": "stdout",
     "output_type": "stream",
     "text": [
      "Training Score for LinearSVC Classifer Chain: 0.7907671549730146\n",
      "Validation Score for LinearSVC Classifer Chain: 0.3338473400154202\n",
      "Validation Recall for LinearSVC Classifer Chain: 0.5321232697832332\n",
      "Validation Precision for LinearSVC Classifer Chain: 0.6822367319604888\n"
     ]
    }
   ],
   "source": [
    "#Train score\n",
    "print(\"Training Score for LinearSVC Classifer Chain:\", \n",
    "      classifier_svc.score(X_train, Y_train))\n",
    "print(\"Validation Score for LinearSVC Classifer Chain:\",\n",
    "     classifier_svc.score(X_valid, np.array(y_valid_Q1)))\n",
    "\n",
    "y_pred = classifier_svc.predict(X_valid)\n",
    "print(\"Validation Recall for LinearSVC Classifer Chain:\",\n",
    "      recall_score(np.array(y_valid_Q1), y_pred, average= 'micro'))\n",
    "print(\"Validation Precision for LinearSVC Classifer Chain:\",\n",
    "     precision_score(np.array(y_valid_Q1), y_pred, average= 'micro'))\n",
    "      "
   ]
  },
  {
   "cell_type": "code",
   "execution_count": 81,
   "metadata": {},
   "outputs": [
    {
     "data": {
      "text/plain": [
       "0.8729869538341413"
      ]
     },
     "execution_count": 81,
     "metadata": {},
     "output_type": "execute_result"
    }
   ],
   "source": [
    "#Recall score for training \n",
    "\n",
    "y_pred = classifier_svc.predict(X_train)\n",
    "recall_score(Y_train, y_pred, average= 'micro')"
   ]
  }
 ],
 "metadata": {
  "kernelspec": {
   "display_name": "Python 3",
   "language": "python",
   "name": "python3"
  },
  "language_info": {
   "codemirror_mode": {
    "name": "ipython",
    "version": 3
   },
   "file_extension": ".py",
   "mimetype": "text/x-python",
   "name": "python",
   "nbconvert_exporter": "python",
   "pygments_lexer": "ipython3",
   "version": "3.7.6"
  }
 },
 "nbformat": 4,
 "nbformat_minor": 4
}
