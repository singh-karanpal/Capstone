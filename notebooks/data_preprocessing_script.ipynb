{
 "cells": [
  {
   "cell_type": "markdown",
   "metadata": {},
   "source": [
    "## Data Preprocessing Script"
   ]
  },
  {
   "cell_type": "code",
   "execution_count": 1,
   "metadata": {},
   "outputs": [],
   "source": [
    "# Step 1: Remove stop words and punctuation (done)\n",
    "# Step 2: Check if text has line breaks and remove those (done)\n",
    "# Step 3: Separate words like I'm to I am (done)\n",
    "# Step 4: Remove names, dates, etc. (named entities)\n",
    "# Step 5: Tokenize the text (done)\n",
    "# Step 6: Change the text to lower case (done)\n",
    "# Step 7: Lemmatize the words (done)\n",
    "\n",
    "# REMOVE PERSON, LOC, ORG, GPE"
   ]
  },
  {
   "cell_type": "code",
   "execution_count": 13,
   "metadata": {},
   "outputs": [],
   "source": [
    "import pandas as pd\n",
    "import numpy as np\n",
    "\n",
    "import nltk\n",
    "from nltk.tokenize import sent_tokenize, word_tokenize\n",
    "from nltk.corpus import stopwords\n",
    "from nltk import wordpunct_tokenize, WordNetLemmatizer, sent_tokenize, pos_tag\n",
    "from nltk.corpus import stopwords as sw, wordnet as wn\n",
    "\n",
    "import string\n",
    "import re\n",
    "from sklearn.feature_extraction.text import TfidfVectorizer"
   ]
  },
  {
   "cell_type": "code",
   "execution_count": 4,
   "metadata": {},
   "outputs": [],
   "source": [
    "import spacy\n",
    "from collections import Counter\n",
    "import en_core_web_sm\n",
    "nlp = en_core_web_sm.load()\n"
   ]
  },
  {
   "cell_type": "code",
   "execution_count": 14,
   "metadata": {},
   "outputs": [],
   "source": [
    "class comment_preprocessor:\n",
    "    \n",
    "    def __init__(self):\n",
    "        self.stop_words = list(set(stopwords.words('english')))\n",
    "        punctuation = string.punctuation\n",
    "        self.stop_words += list(punctuation)\n",
    "        self.stop_words.extend(['``','’', '`','br','\"',\"”\", \"''\", \"'s\"])\n",
    "    \n",
    "    def lemmatize(self, token, tag):\n",
    "        \"\"\"\n",
    "        Converts NLTK tag to a WordNet POS tag, then uses that   \n",
    "        tag to perform an accurate WordNet lemmatization.\n",
    "        \"\"\"\n",
    "        tag = tag.lower()\n",
    "\n",
    "        if str.startswith(tag, 'v'):\n",
    "            tag = wn.VERB\n",
    "        elif str.startswith(tag, 'j'):\n",
    "            tag = wn.ADJ\n",
    "        elif str.startswith(tag, 'r'):\n",
    "            tag = wn.ADV\n",
    "        else:\n",
    "            tag = wn.NOUN\n",
    "        \n",
    "        return WordNetLemmatizer().lemmatize(token, tag)\n",
    "    \n",
    "    def preprocess_text(self, document_list):\n",
    "        \"\"\"\n",
    "        Preprocesses list of documents by reomving stop words, tokenizing, \n",
    "        lemmatizing, and converting short word forms into complete words.\n",
    "        \"\"\"\n",
    "        cleaned_document = []\n",
    "        vocab = []\n",
    "\n",
    "        # For each document inside the corpus\n",
    "        for sent in document_list:\n",
    "\n",
    "            sent = sent.lower()\n",
    "            sent = re.sub(r\"what's\", \"what is \", sent)\n",
    "            sent = re.sub(r\"\\'ve\", \" have \", sent)\n",
    "            sent = re.sub(r\"can't\", \"cannot \", sent)\n",
    "            sent = re.sub(r\"n't\", \"not \", sent)\n",
    "            sent = re.sub(r\"i'm\", \"i am \", sent)\n",
    "            sent = re.sub(r\"\\'re\", \" are \", sent)\n",
    "            sent = re.sub(r\"\\'d\", \" would \", sent)\n",
    "            sent = re.sub(r\"\\'ll\", \" will \", sent)\n",
    "            sent = sent.replace(\"\\n\", \" \")\n",
    "            sent = sent.replace(r'<br />',' ')\n",
    "\n",
    "            lemmatized_tokens = []\n",
    "\n",
    "            # Break the sentence into part of speech tagged tokens\n",
    "            for token, tag in pos_tag(wordpunct_tokenize(sent)):\n",
    "\n",
    "                # Apply preprocessing to the tokens\n",
    "                token = token.strip()\n",
    "\n",
    "                if token in self.stop_words:\n",
    "                    continue\n",
    "\n",
    "                # Lemmatize the token\n",
    "                lemma = self.lemmatize(token, tag)\n",
    "                lemmatized_tokens.append(lemma)\n",
    "                vocab.append(lemma)\n",
    "\n",
    "            cleaned_document.append(lemmatized_tokens)\n",
    "\n",
    "        vocab = sorted(list(set(vocab)))\n",
    "\n",
    "        return cleaned_document, vocab"
   ]
  },
  {
   "cell_type": "code",
   "execution_count": 15,
   "metadata": {},
   "outputs": [],
   "source": [
    "corpus = [\"It isn't a great day. I loved the movie and spending time with you.\", \n",
    "              \"The sky is not always blue underneath. Remember that.\"]"
   ]
  },
  {
   "cell_type": "code",
   "execution_count": 16,
   "metadata": {},
   "outputs": [],
   "source": [
    "c_pp = comment_preprocessor()\n",
    "clean_doc_2, vocab_2 = c_pp.preprocess_text(corpus)"
   ]
  },
  {
   "cell_type": "code",
   "execution_count": 17,
   "metadata": {},
   "outputs": [
    {
     "data": {
      "text/plain": [
       "[['isnot', 'great', 'day', 'love', 'movie', 'spending', 'time'],\n",
       " ['sky', 'always', 'blue', 'underneath', 'remember']]"
      ]
     },
     "execution_count": 17,
     "metadata": {},
     "output_type": "execute_result"
    }
   ],
   "source": [
    "clean_doc_2"
   ]
  },
  {
   "cell_type": "code",
   "execution_count": 18,
   "metadata": {},
   "outputs": [],
   "source": [
    "## Usage example with training data\n",
    "\n",
    "# clean_doc, vocab = c_pp.preprocess_text(list(X_train_q1['Comment']))"
   ]
  },
  {
   "cell_type": "code",
   "execution_count": null,
   "metadata": {},
   "outputs": [],
   "source": [
    "## For TFIDF, convert list of lists into list of sentences using the following code\n",
    "\n",
    "# final_comments = []\n",
    "# for docs in clean_doc_2:\n",
    "#         final_comments.append(' '.join(docs))"
   ]
  }
 ],
 "metadata": {
  "kernelspec": {
   "display_name": "Python 3",
   "language": "python",
   "name": "python3"
  },
  "language_info": {
   "codemirror_mode": {
    "name": "ipython",
    "version": 3
   },
   "file_extension": ".py",
   "mimetype": "text/x-python",
   "name": "python",
   "nbconvert_exporter": "python",
   "pygments_lexer": "ipython3",
   "version": "3.7.6"
  }
 },
 "nbformat": 4,
 "nbformat_minor": 4
}
