{
  "nbformat": 4,
  "nbformat_minor": 0,
  "metadata": {
    "accelerator": "GPU",
    "colab": {
      "name": "final_model.ipynb",
      "provenance": [],
      "collapsed_sections": [],
      "toc_visible": true
    },
    "kernelspec": {
      "display_name": "Python 3",
      "language": "python",
      "name": "python3"
    },
    "language_info": {
      "codemirror_mode": {
        "name": "ipython",
        "version": 3
      },
      "file_extension": ".py",
      "mimetype": "text/x-python",
      "name": "python",
      "nbconvert_exporter": "python",
      "pygments_lexer": "ipython3",
      "version": "3.7.6"
    }
  },
  "cells": [
    {
      "cell_type": "markdown",
      "metadata": {
        "colab_type": "text",
        "id": "LsDmqxW5cSkD"
      },
      "source": [
        "## Model for Multilabel Theme Classification (Fasttext + BiGRU) "
      ]
    },
    {
      "cell_type": "markdown",
      "metadata": {
        "id": "K4vlrhc6dWDU",
        "colab_type": "text"
      },
      "source": [
        "This notebook can be used to train the main theme model for multilabel classification of comments of Question 1\n",
        "<br> You can connect this notebook to a GPU/TPU from *Runtime -> Change runtime type*"
      ]
    },
    {
      "cell_type": "markdown",
      "metadata": {
        "colab_type": "text",
        "id": "pXDJ6RNic-kf"
      },
      "source": [
        "#### Imports"
      ]
    },
    {
      "cell_type": "code",
      "metadata": {
        "colab_type": "code",
        "id": "dLT-748oTYwc",
        "colab": {}
      },
      "source": [
        "import pandas as pd\n",
        "import numpy as np"
      ],
      "execution_count": 1,
      "outputs": []
    },
    {
      "cell_type": "code",
      "metadata": {
        "colab_type": "code",
        "id": "k8RSZW2DTbQi",
        "colab": {
          "base_uri": "https://localhost:8080/",
          "height": 34
        },
        "outputId": "0b690f23-df25-4035-c67a-0dcf101639f3"
      },
      "source": [
        "import os\n",
        "from keras.models import Sequential, Model\n",
        "from keras.layers import Dense, Dropout, Flatten, Activation, Concatenate\n",
        "from keras.layers import Conv1D, Conv2D, MaxPooling2D, GlobalMaxPooling1D, MaxPooling1D, GRU, Bidirectional, AveragePooling1D, GlobalAveragePooling1D\n",
        "from keras.preprocessing.text import Tokenizer\n",
        "from keras.preprocessing.sequence import pad_sequences\n",
        "from keras.layers import Embedding, LSTM, Input\n",
        "from keras.layers.merge import concatenate\n",
        "from keras.utils import to_categorical\n",
        "from keras import layers\n",
        "import tensorflow as tf\n",
        "from tensorflow.keras import regularizers"
      ],
      "execution_count": 2,
      "outputs": [
        {
          "output_type": "stream",
          "text": [
            "Using TensorFlow backend.\n"
          ],
          "name": "stderr"
        }
      ]
    },
    {
      "cell_type": "code",
      "metadata": {
        "colab_type": "code",
        "id": "Fr86NP8rTdNy",
        "colab": {}
      },
      "source": [
        "import keras"
      ],
      "execution_count": 3,
      "outputs": []
    },
    {
      "cell_type": "code",
      "metadata": {
        "colab_type": "code",
        "id": "apEWNdnKTgus",
        "colab": {}
      },
      "source": [
        "from sklearn.metrics import precision_score, recall_score, f1_score, accuracy_score, hamming_loss, precision_recall_curve\n",
        "import matplotlib.pyplot as plt"
      ],
      "execution_count": 4,
      "outputs": []
    },
    {
      "cell_type": "markdown",
      "metadata": {
        "colab_type": "text",
        "id": "kbW_k3ejdEfl"
      },
      "source": [
        "#### Loading the data\n",
        "\n",
        "Using the Files tab (on the left bar), upload the following files on Collab from the **data/interim/question1_models/advance/** subdirectory of project repository:\n",
        "1. embedding_matrix.npy\n",
        "2. X_train_padded.npy\n",
        "3. X_valid_padded.npy\n",
        "4. y_train.npy\n",
        "5. y_valid.npy\n",
        "\n",
        "*Warning: Be careful while uploading files. **Do not** upload files with sensitive information.*"
      ]
    },
    {
      "cell_type": "code",
      "metadata": {
        "colab_type": "code",
        "id": "ya7qnhKEW5Yw",
        "colab": {}
      },
      "source": [
        "padded_docs_train = np.load('X_train_padded.npy')\n",
        "padded_docs_valid = np.load('X_valid_padded.npy')\n",
        "embedding_matrix_fastext = np.load('embedding_matrix.npy')\n",
        "y_train_ohe = np.load('y_train.npy')\n",
        "y_valid_ohe = np.load('y_valid.npy')"
      ],
      "execution_count": 5,
      "outputs": []
    },
    {
      "cell_type": "code",
      "metadata": {
        "colab_type": "code",
        "id": "xD7VR60h7Cb1",
        "colab": {
          "base_uri": "https://localhost:8080/",
          "height": 34
        },
        "outputId": "514fcdfb-8722-48b4-80f9-dd1707afcb6b"
      },
      "source": [
        "padded_docs_train.shape"
      ],
      "execution_count": 6,
      "outputs": [
        {
          "output_type": "execute_result",
          "data": {
            "text/plain": [
              "(20330, 220)"
            ]
          },
          "metadata": {
            "tags": []
          },
          "execution_count": 6
        }
      ]
    },
    {
      "cell_type": "code",
      "metadata": {
        "id": "P0tTcdA9s5-D",
        "colab_type": "code",
        "colab": {
          "base_uri": "https://localhost:8080/",
          "height": 124
        },
        "outputId": "dc4c6120-1aa4-4b1c-a6ef-89182e4562c8"
      },
      "source": [
        "## Mount your google drive in order to save the trained model\n",
        "from google.colab import drive\n",
        "drive.mount('/content/gdrive')"
      ],
      "execution_count": 17,
      "outputs": [
        {
          "output_type": "stream",
          "text": [
            "Go to this URL in a browser: https://accounts.google.com/o/oauth2/auth?client_id=947318989803-6bn6qk8qdgf4n4g3pfee6491hc0brc4i.apps.googleusercontent.com&redirect_uri=urn%3aietf%3awg%3aoauth%3a2.0%3aoob&response_type=code&scope=email%20https%3a%2f%2fwww.googleapis.com%2fauth%2fdocs.test%20https%3a%2f%2fwww.googleapis.com%2fauth%2fdrive%20https%3a%2f%2fwww.googleapis.com%2fauth%2fdrive.photos.readonly%20https%3a%2f%2fwww.googleapis.com%2fauth%2fpeopleapi.readonly\n",
            "\n",
            "Enter your authorization code:\n",
            "··········\n",
            "Mounted at /content/gdrive\n"
          ],
          "name": "stdout"
        }
      ]
    },
    {
      "cell_type": "markdown",
      "metadata": {
        "colab_type": "text",
        "id": "oyp23otJqkLJ"
      },
      "source": [
        "#### Model Building"
      ]
    },
    {
      "cell_type": "code",
      "metadata": {
        "colab_type": "code",
        "id": "HVrODwu8UgnB",
        "colab": {}
      },
      "source": [
        "max_features = embedding_matrix_fastext.shape[0] ## vocabulary size\n",
        "maxlen = padded_docs_train.shape[1]\n",
        "embed_size = 300\n",
        "n_class = 12\n",
        "\n",
        "epochs = 12\n",
        "batch_size = 100"
      ],
      "execution_count": 7,
      "outputs": []
    },
    {
      "cell_type": "code",
      "metadata": {
        "colab_type": "code",
        "id": "2uE9JKmCUhUH",
        "colab": {}
      },
      "source": [
        "def define_model(length, max_features):\n",
        "  # channel 1\n",
        "  inputs1 = Input(shape=(length,))\n",
        "  embedding1 = Embedding(max_features, embed_size, weights=[embedding_matrix_fastext], trainable=False)(inputs1)\n",
        "\n",
        "  bi_gru = Bidirectional(GRU(278, return_sequences=True))(embedding1)\n",
        "\n",
        "  global_pool = GlobalMaxPooling1D()(bi_gru)\n",
        "  avg_pool = GlobalAveragePooling1D()(bi_gru)\n",
        "\n",
        "  concat_layer = Concatenate()([global_pool, avg_pool])\n",
        "\n",
        "  output = Dense(n_class, activation='sigmoid')(concat_layer)\n",
        "\n",
        "  model=Model(inputs1, output)\n",
        "\n",
        "  model.compile(loss='binary_crossentropy', optimizer='adam', metrics=['accuracy', 'categorical_accuracy'])\n",
        "  model.summary()\n",
        "  return model"
      ],
      "execution_count": 8,
      "outputs": []
    },
    {
      "cell_type": "code",
      "metadata": {
        "colab_type": "code",
        "id": "ISnL1C7OXAuu",
        "colab": {
          "base_uri": "https://localhost:8080/",
          "height": 416
        },
        "outputId": "43b05a4d-5927-459b-fe3b-b2ca501ab102"
      },
      "source": [
        "model_gru = define_model(maxlen, max_features)"
      ],
      "execution_count": 10,
      "outputs": [
        {
          "output_type": "stream",
          "text": [
            "Model: \"model_2\"\n",
            "__________________________________________________________________________________________________\n",
            "Layer (type)                    Output Shape         Param #     Connected to                     \n",
            "==================================================================================================\n",
            "input_2 (InputLayer)            (None, 220)          0                                            \n",
            "__________________________________________________________________________________________________\n",
            "embedding_2 (Embedding)         (None, 220, 300)     3468000     input_2[0][0]                    \n",
            "__________________________________________________________________________________________________\n",
            "bidirectional_2 (Bidirectional) (None, 220, 556)     965772      embedding_2[0][0]                \n",
            "__________________________________________________________________________________________________\n",
            "global_max_pooling1d_2 (GlobalM (None, 556)          0           bidirectional_2[0][0]            \n",
            "__________________________________________________________________________________________________\n",
            "global_average_pooling1d_2 (Glo (None, 556)          0           bidirectional_2[0][0]            \n",
            "__________________________________________________________________________________________________\n",
            "concatenate_2 (Concatenate)     (None, 1112)         0           global_max_pooling1d_2[0][0]     \n",
            "                                                                 global_average_pooling1d_2[0][0] \n",
            "__________________________________________________________________________________________________\n",
            "dense_2 (Dense)                 (None, 12)           13356       concatenate_2[0][0]              \n",
            "==================================================================================================\n",
            "Total params: 4,447,128\n",
            "Trainable params: 979,128\n",
            "Non-trainable params: 3,468,000\n",
            "__________________________________________________________________________________________________\n"
          ],
          "name": "stdout"
        }
      ]
    },
    {
      "cell_type": "code",
      "metadata": {
        "colab_type": "code",
        "id": "x1hC-ZInXCmR",
        "colab": {
          "base_uri": "https://localhost:8080/",
          "height": 469
        },
        "outputId": "b06ac5f9-617d-4665-f517-0bebde925c64"
      },
      "source": [
        "model_gru.compile(loss='binary_crossentropy', optimizer='adam', metrics=['accuracy'])\n",
        "model_gru.fit(padded_docs_train, y_train_ohe, validation_split=0.1, epochs=epochs, batch_size=batch_size, verbose=1)"
      ],
      "execution_count": 11,
      "outputs": [
        {
          "output_type": "stream",
          "text": [
            "Train on 18297 samples, validate on 2033 samples\n",
            "Epoch 1/12\n",
            "18297/18297 [==============================] - 256s 14ms/step - loss: 0.2665 - accuracy: 0.9042 - val_loss: 0.1996 - val_accuracy: 0.9249\n",
            "Epoch 2/12\n",
            "18297/18297 [==============================] - 256s 14ms/step - loss: 0.1806 - accuracy: 0.9319 - val_loss: 0.1787 - val_accuracy: 0.9328\n",
            "Epoch 3/12\n",
            "18297/18297 [==============================] - 255s 14ms/step - loss: 0.1610 - accuracy: 0.9383 - val_loss: 0.1698 - val_accuracy: 0.9357\n",
            "Epoch 4/12\n",
            "18297/18297 [==============================] - 254s 14ms/step - loss: 0.1491 - accuracy: 0.9429 - val_loss: 0.1674 - val_accuracy: 0.9370\n",
            "Epoch 5/12\n",
            "18297/18297 [==============================] - 255s 14ms/step - loss: 0.1390 - accuracy: 0.9464 - val_loss: 0.1654 - val_accuracy: 0.9372\n",
            "Epoch 6/12\n",
            "18297/18297 [==============================] - 260s 14ms/step - loss: 0.1296 - accuracy: 0.9500 - val_loss: 0.1621 - val_accuracy: 0.9384\n",
            "Epoch 7/12\n",
            "18297/18297 [==============================] - 254s 14ms/step - loss: 0.1196 - accuracy: 0.9541 - val_loss: 0.1652 - val_accuracy: 0.9380\n",
            "Epoch 8/12\n",
            "18297/18297 [==============================] - 257s 14ms/step - loss: 0.1093 - accuracy: 0.9583 - val_loss: 0.1660 - val_accuracy: 0.9387\n",
            "Epoch 9/12\n",
            "18297/18297 [==============================] - 257s 14ms/step - loss: 0.0992 - accuracy: 0.9625 - val_loss: 0.1691 - val_accuracy: 0.9379\n",
            "Epoch 10/12\n",
            "18297/18297 [==============================] - 255s 14ms/step - loss: 0.0876 - accuracy: 0.9673 - val_loss: 0.1741 - val_accuracy: 0.9352\n",
            "Epoch 11/12\n",
            "18297/18297 [==============================] - 258s 14ms/step - loss: 0.0764 - accuracy: 0.9724 - val_loss: 0.1772 - val_accuracy: 0.9373\n",
            "Epoch 12/12\n",
            "18297/18297 [==============================] - 257s 14ms/step - loss: 0.0642 - accuracy: 0.9779 - val_loss: 0.1878 - val_accuracy: 0.9362\n"
          ],
          "name": "stdout"
        },
        {
          "output_type": "execute_result",
          "data": {
            "text/plain": [
              "<keras.callbacks.callbacks.History at 0x7fa7c0450358>"
            ]
          },
          "metadata": {
            "tags": []
          },
          "execution_count": 11
        }
      ]
    },
    {
      "cell_type": "markdown",
      "metadata": {
        "colab_type": "text",
        "id": "qmjWrQFcqocU"
      },
      "source": [
        "#### Prediction and Evaluation"
      ]
    },
    {
      "cell_type": "code",
      "metadata": {
        "colab_type": "code",
        "id": "qlEZZ-m3XEeF",
        "colab": {}
      },
      "source": [
        "pred_bidgru = model_gru.predict(padded_docs_valid)"
      ],
      "execution_count": 12,
      "outputs": []
    },
    {
      "cell_type": "code",
      "metadata": {
        "colab_type": "code",
        "id": "tkFFW9BUJePl",
        "colab": {}
      },
      "source": [
        "# pred_training = model_gru_4.predict(padded_docs_train)"
      ],
      "execution_count": null,
      "outputs": []
    },
    {
      "cell_type": "code",
      "metadata": {
        "colab_type": "code",
        "id": "hHJ4VASgXGXq",
        "colab": {
          "base_uri": "https://localhost:8080/",
          "height": 286
        },
        "outputId": "3461e640-1451-4ad5-ba70-b4b430f530ce"
      },
      "source": [
        "# PRECISION & RECALL\n",
        "from sklearn.metrics import precision_score, recall_score, f1_score, accuracy_score, hamming_loss, jaccard_score\n",
        "predictions_results = []\n",
        "\n",
        "thresholds=[0.3, 0.4, 0.5, 0.6, 0.7, 0.8, 0.9]\n",
        "\n",
        "for val in thresholds:\n",
        "  pred=pred_bidgru.copy()\n",
        "  pred[pred>=val]=1\n",
        "  pred[pred<val]=0\n",
        "  \n",
        "  # pred_t=pred_training.copy()\n",
        "  # pred_t[pred_t>=val]=1\n",
        "  # pred_t[pred_t<val]=0\n",
        "\n",
        "  # train_accuracy = accuracy_score(y_train_ohe, pred_t, normalize=True, sample_weight=None) \n",
        "  accuracy = accuracy_score(y_valid_ohe, pred, normalize=True, sample_weight=None)\n",
        "  hamming = hamming_loss(y_valid_ohe, pred)\n",
        "  precision = precision_score(y_valid_ohe, pred, average='micro')\n",
        "  recall = recall_score(y_valid_ohe, pred, average='micro')\n",
        "  f1 = f1_score(y_valid_ohe, pred, average='micro')\n",
        "  j_score = jaccard_score(y_valid_ohe, pred, average='weighted')\n",
        "  case= {'Threshold': val,\n",
        "        #  'Training Accuracy': train_accuracy,\n",
        "          'Accuracy': accuracy,\n",
        "          'Hamming loss': hamming,\n",
        "          'Precision': precision,\n",
        "          'Recall': recall,\n",
        "          'F1-measure': f1,\n",
        "          'Jaccard Score': j_score}\n",
        "  predictions_results.append(case)\n",
        "\n",
        "print(\"Micro-average quality numbers:\")\n",
        "pd.DataFrame(predictions_results)"
      ],
      "execution_count": 13,
      "outputs": [
        {
          "output_type": "stream",
          "text": [
            "Micro-average quality numbers:\n"
          ],
          "name": "stdout"
        },
        {
          "output_type": "execute_result",
          "data": {
            "text/html": [
              "<div>\n",
              "<style scoped>\n",
              "    .dataframe tbody tr th:only-of-type {\n",
              "        vertical-align: middle;\n",
              "    }\n",
              "\n",
              "    .dataframe tbody tr th {\n",
              "        vertical-align: top;\n",
              "    }\n",
              "\n",
              "    .dataframe thead th {\n",
              "        text-align: right;\n",
              "    }\n",
              "</style>\n",
              "<table border=\"1\" class=\"dataframe\">\n",
              "  <thead>\n",
              "    <tr style=\"text-align: right;\">\n",
              "      <th></th>\n",
              "      <th>Threshold</th>\n",
              "      <th>Accuracy</th>\n",
              "      <th>Hamming loss</th>\n",
              "      <th>Precision</th>\n",
              "      <th>Recall</th>\n",
              "      <th>F1-measure</th>\n",
              "      <th>Jaccard Score</th>\n",
              "    </tr>\n",
              "  </thead>\n",
              "  <tbody>\n",
              "    <tr>\n",
              "      <th>0</th>\n",
              "      <td>0.3</td>\n",
              "      <td>0.496754</td>\n",
              "      <td>0.068316</td>\n",
              "      <td>0.699191</td>\n",
              "      <td>0.735360</td>\n",
              "      <td>0.716820</td>\n",
              "      <td>0.569869</td>\n",
              "    </tr>\n",
              "    <tr>\n",
              "      <th>1</th>\n",
              "      <td>0.4</td>\n",
              "      <td>0.519378</td>\n",
              "      <td>0.064119</td>\n",
              "      <td>0.738342</td>\n",
              "      <td>0.704267</td>\n",
              "      <td>0.720902</td>\n",
              "      <td>0.572070</td>\n",
              "    </tr>\n",
              "    <tr>\n",
              "      <th>2</th>\n",
              "      <td>0.5</td>\n",
              "      <td>0.524493</td>\n",
              "      <td>0.062791</td>\n",
              "      <td>0.767104</td>\n",
              "      <td>0.669130</td>\n",
              "      <td>0.714775</td>\n",
              "      <td>0.562368</td>\n",
              "    </tr>\n",
              "    <tr>\n",
              "      <th>3</th>\n",
              "      <td>0.6</td>\n",
              "      <td>0.524493</td>\n",
              "      <td>0.062004</td>\n",
              "      <td>0.795193</td>\n",
              "      <td>0.636642</td>\n",
              "      <td>0.707140</td>\n",
              "      <td>0.551554</td>\n",
              "    </tr>\n",
              "    <tr>\n",
              "      <th>4</th>\n",
              "      <td>0.7</td>\n",
              "      <td>0.517214</td>\n",
              "      <td>0.061906</td>\n",
              "      <td>0.824541</td>\n",
              "      <td>0.601506</td>\n",
              "      <td>0.695582</td>\n",
              "      <td>0.536098</td>\n",
              "    </tr>\n",
              "    <tr>\n",
              "      <th>5</th>\n",
              "      <td>0.8</td>\n",
              "      <td>0.498918</td>\n",
              "      <td>0.063184</td>\n",
              "      <td>0.857389</td>\n",
              "      <td>0.554936</td>\n",
              "      <td>0.673777</td>\n",
              "      <td>0.509180</td>\n",
              "    </tr>\n",
              "    <tr>\n",
              "      <th>6</th>\n",
              "      <td>0.9</td>\n",
              "      <td>0.461342</td>\n",
              "      <td>0.067234</td>\n",
              "      <td>0.891609</td>\n",
              "      <td>0.487451</td>\n",
              "      <td>0.630307</td>\n",
              "      <td>0.460235</td>\n",
              "    </tr>\n",
              "  </tbody>\n",
              "</table>\n",
              "</div>"
            ],
            "text/plain": [
              "   Threshold  Accuracy  Hamming loss  ...    Recall  F1-measure  Jaccard Score\n",
              "0        0.3  0.496754      0.068316  ...  0.735360    0.716820       0.569869\n",
              "1        0.4  0.519378      0.064119  ...  0.704267    0.720902       0.572070\n",
              "2        0.5  0.524493      0.062791  ...  0.669130    0.714775       0.562368\n",
              "3        0.6  0.524493      0.062004  ...  0.636642    0.707140       0.551554\n",
              "4        0.7  0.517214      0.061906  ...  0.601506    0.695582       0.536098\n",
              "5        0.8  0.498918      0.063184  ...  0.554936    0.673777       0.509180\n",
              "6        0.9  0.461342      0.067234  ...  0.487451    0.630307       0.460235\n",
              "\n",
              "[7 rows x 7 columns]"
            ]
          },
          "metadata": {
            "tags": []
          },
          "execution_count": 13
        }
      ]
    },
    {
      "cell_type": "markdown",
      "metadata": {
        "id": "PrkdV3LpsL6e",
        "colab_type": "text"
      },
      "source": [
        "*Note that the precision-recall values may change slightly each time the model is run due to randomness while fitting the model*"
      ]
    },
    {
      "cell_type": "markdown",
      "metadata": {
        "id": "HifZaWSkyT0z",
        "colab_type": "text"
      },
      "source": [
        "#### Plotting the precision-recall curve"
      ]
    },
    {
      "cell_type": "code",
      "metadata": {
        "id": "s00LkhmwyXV7",
        "colab_type": "code",
        "colab": {}
      },
      "source": [
        "precision = dict()\n",
        "recall = dict()\n",
        "thresh = dict()"
      ],
      "execution_count": 22,
      "outputs": []
    },
    {
      "cell_type": "code",
      "metadata": {
        "id": "UR_I91QOyZv4",
        "colab_type": "code",
        "colab": {}
      },
      "source": [
        "precision[\"bigru\"], recall[\"bigru\"], thresh[\"bigru\"] = precision_recall_curve(y_valid_ohe.ravel(), pred_bidgru.ravel())"
      ],
      "execution_count": 23,
      "outputs": []
    },
    {
      "cell_type": "code",
      "metadata": {
        "id": "LFuTO0Q-yfWc",
        "colab_type": "code",
        "colab": {
          "base_uri": "https://localhost:8080/",
          "height": 348
        },
        "outputId": "99cc2fd1-1387-44db-cd8e-aec53a940671"
      },
      "source": [
        "labels = []\n",
        "labels = list(precision.keys())\n",
        "\n",
        "plt.figure()\n",
        "plt.step(recall['bigru'], precision['bigru'], where='post')\n",
        "\n",
        "plt.xlabel('Recall')\n",
        "plt.ylabel('Precision')\n",
        "plt.ylim([0.0, 1.05])\n",
        "plt.xlim([0.0, 1.0])\n",
        "plt.legend(labels, loc=(0, -.38), prop=dict(size=14))"
      ],
      "execution_count": 24,
      "outputs": [
        {
          "output_type": "execute_result",
          "data": {
            "text/plain": [
              "<matplotlib.legend.Legend at 0x7fa76a79a8d0>"
            ]
          },
          "metadata": {
            "tags": []
          },
          "execution_count": 24
        },
        {
          "output_type": "display_data",
          "data": {
            "image/png": "[encoded data removed]",
            "text/plain": [
              "<Figure size 432x288 with 1 Axes>"
            ]
          },
          "metadata": {
            "tags": [],
            "needs_background": "light"
          }
        }
      ]
    },
    {
      "cell_type": "markdown",
      "metadata": {
        "id": "JMNkCFPeyvp6",
        "colab_type": "text"
      },
      "source": [
        "#### Loading and running MDS 2019-20 team's BiGRU + Fasttext model"
      ]
    },
    {
      "cell_type": "markdown",
      "metadata": {
        "id": "kOmru6VFy6Yr",
        "colab_type": "text"
      },
      "source": [
        "To run the saved model in the repository, upload the model on Google Drive, mount the drive to this Colab notebook and run the following command (change the path according to your Drive) "
      ]
    },
    {
      "cell_type": "code",
      "metadata": {
        "id": "yB6Pnzt5sZtf",
        "colab_type": "code",
        "colab": {}
      },
      "source": [
        "model_theme = keras.models.load_model('/content/gdrive/My Drive/Model_Files_Capstone/theme_model')"
      ],
      "execution_count": 25,
      "outputs": []
    },
    {
      "cell_type": "code",
      "metadata": {
        "id": "Qi8QbTeqtFI0",
        "colab_type": "code",
        "colab": {}
      },
      "source": [
        "pred_model_theme = model_theme.predict(padded_docs_valid)"
      ],
      "execution_count": 26,
      "outputs": []
    },
    {
      "cell_type": "code",
      "metadata": {
        "id": "hvVJ2G_dtJnF",
        "colab_type": "code",
        "colab": {
          "base_uri": "https://localhost:8080/",
          "height": 286
        },
        "outputId": "d2567b81-42e2-4d48-c8cc-7f9b934200a8"
      },
      "source": [
        "# PRECISION & RECALL\n",
        "from sklearn.metrics import precision_score, recall_score, f1_score, accuracy_score, hamming_loss, jaccard_score\n",
        "predictions_results = []\n",
        "\n",
        "thresholds=[0.3, 0.4, 0.5, 0.6, 0.7, 0.8, 0.9]\n",
        "\n",
        "for val in thresholds:\n",
        "  pred=pred_model_theme.copy()\n",
        "  pred[pred>=val]=1\n",
        "  pred[pred<val]=0\n",
        "  \n",
        "  # pred_t=pred_training.copy()\n",
        "  # pred_t[pred_t>=val]=1\n",
        "  # pred_t[pred_t<val]=0\n",
        "\n",
        "  # train_accuracy = accuracy_score(y_train_ohe, pred_t, normalize=True, sample_weight=None) \n",
        "  accuracy = accuracy_score(y_valid_ohe, pred, normalize=True, sample_weight=None)\n",
        "  hamming = hamming_loss(y_valid_ohe, pred)\n",
        "  precision = precision_score(y_valid_ohe, pred, average='micro')\n",
        "  recall = recall_score(y_valid_ohe, pred, average='micro')\n",
        "  f1 = f1_score(y_valid_ohe, pred, average='micro')\n",
        "  j_score = jaccard_score(y_valid_ohe, pred, average='weighted')\n",
        "  case= {'Threshold': val,\n",
        "        #  'Training Accuracy': train_accuracy,\n",
        "          'Accuracy': accuracy,\n",
        "          'Hamming loss': hamming,\n",
        "          'Precision': precision,\n",
        "          'Recall': recall,\n",
        "          'F1-measure': f1,\n",
        "          'Jaccard Score': j_score}\n",
        "  predictions_results.append(case)\n",
        "\n",
        "print(\"Micro-average quality numbers:\")\n",
        "pd.DataFrame(predictions_results)"
      ],
      "execution_count": 20,
      "outputs": [
        {
          "output_type": "stream",
          "text": [
            "Micro-average quality numbers:\n"
          ],
          "name": "stdout"
        },
        {
          "output_type": "execute_result",
          "data": {
            "text/html": [
              "<div>\n",
              "<style scoped>\n",
              "    .dataframe tbody tr th:only-of-type {\n",
              "        vertical-align: middle;\n",
              "    }\n",
              "\n",
              "    .dataframe tbody tr th {\n",
              "        vertical-align: top;\n",
              "    }\n",
              "\n",
              "    .dataframe thead th {\n",
              "        text-align: right;\n",
              "    }\n",
              "</style>\n",
              "<table border=\"1\" class=\"dataframe\">\n",
              "  <thead>\n",
              "    <tr style=\"text-align: right;\">\n",
              "      <th></th>\n",
              "      <th>Threshold</th>\n",
              "      <th>Accuracy</th>\n",
              "      <th>Hamming loss</th>\n",
              "      <th>Precision</th>\n",
              "      <th>Recall</th>\n",
              "      <th>F1-measure</th>\n",
              "      <th>Jaccard Score</th>\n",
              "    </tr>\n",
              "  </thead>\n",
              "  <tbody>\n",
              "    <tr>\n",
              "      <th>0</th>\n",
              "      <td>0.3</td>\n",
              "      <td>0.500492</td>\n",
              "      <td>0.067283</td>\n",
              "      <td>0.703502</td>\n",
              "      <td>0.739403</td>\n",
              "      <td>0.721006</td>\n",
              "      <td>0.578884</td>\n",
              "    </tr>\n",
              "    <tr>\n",
              "      <th>1</th>\n",
              "      <td>0.4</td>\n",
              "      <td>0.524100</td>\n",
              "      <td>0.063234</td>\n",
              "      <td>0.743643</td>\n",
              "      <td>0.705382</td>\n",
              "      <td>0.724007</td>\n",
              "      <td>0.578052</td>\n",
              "    </tr>\n",
              "    <tr>\n",
              "      <th>2</th>\n",
              "      <td>0.5</td>\n",
              "      <td>0.533937</td>\n",
              "      <td>0.061857</td>\n",
              "      <td>0.774157</td>\n",
              "      <td>0.669130</td>\n",
              "      <td>0.717822</td>\n",
              "      <td>0.568019</td>\n",
              "    </tr>\n",
              "    <tr>\n",
              "      <th>3</th>\n",
              "      <td>0.6</td>\n",
              "      <td>0.529018</td>\n",
              "      <td>0.061545</td>\n",
              "      <td>0.798985</td>\n",
              "      <td>0.636782</td>\n",
              "      <td>0.708721</td>\n",
              "      <td>0.555421</td>\n",
              "    </tr>\n",
              "    <tr>\n",
              "      <th>4</th>\n",
              "      <td>0.7</td>\n",
              "      <td>0.519772</td>\n",
              "      <td>0.061791</td>\n",
              "      <td>0.826897</td>\n",
              "      <td>0.600112</td>\n",
              "      <td>0.695484</td>\n",
              "      <td>0.537609</td>\n",
              "    </tr>\n",
              "    <tr>\n",
              "      <th>5</th>\n",
              "      <td>0.8</td>\n",
              "      <td>0.499902</td>\n",
              "      <td>0.063381</td>\n",
              "      <td>0.856865</td>\n",
              "      <td>0.553402</td>\n",
              "      <td>0.672484</td>\n",
              "      <td>0.508817</td>\n",
              "    </tr>\n",
              "    <tr>\n",
              "      <th>6</th>\n",
              "      <td>0.9</td>\n",
              "      <td>0.465276</td>\n",
              "      <td>0.066857</td>\n",
              "      <td>0.899329</td>\n",
              "      <td>0.485778</td>\n",
              "      <td>0.630817</td>\n",
              "      <td>0.461664</td>\n",
              "    </tr>\n",
              "  </tbody>\n",
              "</table>\n",
              "</div>"
            ],
            "text/plain": [
              "   Threshold  Accuracy  Hamming loss  ...    Recall  F1-measure  Jaccard Score\n",
              "0        0.3  0.500492      0.067283  ...  0.739403    0.721006       0.578884\n",
              "1        0.4  0.524100      0.063234  ...  0.705382    0.724007       0.578052\n",
              "2        0.5  0.533937      0.061857  ...  0.669130    0.717822       0.568019\n",
              "3        0.6  0.529018      0.061545  ...  0.636782    0.708721       0.555421\n",
              "4        0.7  0.519772      0.061791  ...  0.600112    0.695484       0.537609\n",
              "5        0.8  0.499902      0.063381  ...  0.553402    0.672484       0.508817\n",
              "6        0.9  0.465276      0.066857  ...  0.485778    0.630817       0.461664\n",
              "\n",
              "[7 rows x 7 columns]"
            ]
          },
          "metadata": {
            "tags": []
          },
          "execution_count": 20
        }
      ]
    }
  ]
}