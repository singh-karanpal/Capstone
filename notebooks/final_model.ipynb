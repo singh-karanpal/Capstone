{
 "cells": [
  {
   "cell_type": "markdown",
   "metadata": {
    "colab_type": "text",
    "id": "LsDmqxW5cSkD"
   },
   "source": [
    "## Model for Multilabel Theme Classification (Fasttext + BiGRU) "
   ]
  },
  {
   "cell_type": "markdown",
   "metadata": {
    "colab_type": "text",
    "id": "pXDJ6RNic-kf"
   },
   "source": [
    "#### Imports"
   ]
  },
  {
   "cell_type": "code",
   "execution_count": null,
   "metadata": {
    "colab": {},
    "colab_type": "code",
    "id": "dLT-748oTYwc"
   },
   "outputs": [],
   "source": [
    "import pandas as pd\n",
    "import numpy as np"
   ]
  },
  {
   "cell_type": "code",
   "execution_count": 3,
   "metadata": {
    "colab": {
     "base_uri": "https://localhost:8080/",
     "height": 34
    },
    "colab_type": "code",
    "id": "k8RSZW2DTbQi",
    "outputId": "9edba66a-f4c5-43e7-98a8-62af3ab06738"
   },
   "outputs": [
    {
     "name": "stderr",
     "output_type": "stream",
     "text": [
      "Using TensorFlow backend.\n"
     ]
    }
   ],
   "source": [
    "import os\n",
    "from keras.models import Sequential, Model\n",
    "from keras.layers import Dense, Dropout, Flatten, Activation, Concatenate\n",
    "from keras.layers import Conv1D, Conv2D, MaxPooling2D, GlobalMaxPooling1D, MaxPool1D, MaxPooling1D, SpatialDropout1D, GRU, Bidirectional, AveragePooling1D, GlobalAveragePooling1D\n",
    "from keras.preprocessing.text import Tokenizer\n",
    "from keras.preprocessing.sequence import pad_sequences\n",
    "from keras.layers import Embedding, LSTM, Input\n",
    "from keras.layers.merge import concatenate\n",
    "from keras.utils import to_categorical\n",
    "from keras import layers\n",
    "import tensorflow as tf\n",
    "from tensorflow.keras import regularizers"
   ]
  },
  {
   "cell_type": "code",
   "execution_count": null,
   "metadata": {
    "colab": {},
    "colab_type": "code",
    "id": "Fr86NP8rTdNy"
   },
   "outputs": [],
   "source": [
    "import keras"
   ]
  },
  {
   "cell_type": "code",
   "execution_count": null,
   "metadata": {
    "colab": {},
    "colab_type": "code",
    "id": "apEWNdnKTgus"
   },
   "outputs": [],
   "source": [
    "from sklearn.metrics import precision_score, recall_score, f1_score, accuracy_score, hamming_loss, precision_recall_curve\n",
    "import matplotlib.pyplot as plt"
   ]
  },
  {
   "cell_type": "markdown",
   "metadata": {
    "colab_type": "text",
    "id": "kbW_k3ejdEfl"
   },
   "source": [
    "#### Loading the data\n",
    "\n",
    "Using the Files tab (on the left bar), upload the following files on Collab from the data/interim/question1_models/ subdirectory of project repository:\n",
    "1. embedding_matrix_fasttext.npy\n",
    "2. X_train_fasttext.npy\n",
    "3. X_valid_fasttext.npy\n",
    "4. y_train_fasttext.npy\n",
    "5. y_valid_fasttext.npy"
   ]
  },
  {
   "cell_type": "code",
   "execution_count": null,
   "metadata": {
    "colab": {},
    "colab_type": "code",
    "id": "ya7qnhKEW5Yw"
   },
   "outputs": [],
   "source": [
    "padded_docs_train = np.load('X_train_fasttext.npy')\n",
    "padded_docs_valid = np.load('X_valid_fasttext.npy')\n",
    "embedding_matrix_fastext = np.load('embedding_matrix_fasttext.npy')\n",
    "y_train_ohe = np.load('y_train_fasttext.npy')\n",
    "y_valid_ohe = np.load('y_valid_fasttext.npy')"
   ]
  },
  {
   "cell_type": "code",
   "execution_count": 10,
   "metadata": {
    "colab": {
     "base_uri": "https://localhost:8080/",
     "height": 34
    },
    "colab_type": "code",
    "id": "xD7VR60h7Cb1",
    "outputId": "669ed8e9-0033-4f6f-c719-e56a97b86005"
   },
   "outputs": [
    {
     "data": {
      "text/plain": [
       "(20330, 432)"
      ]
     },
     "execution_count": 10,
     "metadata": {
      "tags": []
     },
     "output_type": "execute_result"
    }
   ],
   "source": [
    "padded_docs_train.shape"
   ]
  },
  {
   "cell_type": "markdown",
   "metadata": {
    "colab_type": "text",
    "id": "oyp23otJqkLJ"
   },
   "source": [
    "#### Model Building"
   ]
  },
  {
   "cell_type": "code",
   "execution_count": null,
   "metadata": {
    "colab": {},
    "colab_type": "code",
    "id": "HVrODwu8UgnB"
   },
   "outputs": [],
   "source": [
    "max_features = embedding_matrix_fastext.shape[0] ## vocabulary size\n",
    "maxlen = padded_docs_train.shape[1]\n",
    "embed_size = 300 ## for glove using 300d dataset\n",
    "n_class = 12\n",
    "\n",
    "epochs = 12\n",
    "batch_size = 100"
   ]
  },
  {
   "cell_type": "code",
   "execution_count": null,
   "metadata": {
    "colab": {},
    "colab_type": "code",
    "id": "2uE9JKmCUhUH"
   },
   "outputs": [],
   "source": [
    "def define_model(length, max_features):\n",
    "  # channel 1\n",
    "  inputs1 = Input(shape=(length,))\n",
    "  embedding1 = Embedding(max_features, 300, weights=[embedding_matrix_fastext], trainable=False)(inputs1)\n",
    "\n",
    "  bi_gru = Bidirectional(GRU(278, return_sequences=True))(embedding1)\n",
    "\n",
    "  global_pool = GlobalMaxPooling1D()(bi_gru)\n",
    "  avg_pool = GlobalAveragePooling1D()(bi_gru)\n",
    "\n",
    "  concat_layer = Concatenate()([global_pool, avg_pool])\n",
    "\n",
    "  output = Dense(n_class, activation='sigmoid')(concat_layer)\n",
    "\n",
    "  model=Model(inputs1, output)\n",
    "\n",
    "  model.compile(loss='binary_crossentropy', optimizer='adam', metrics=['accuracy', 'categorical_accuracy'])\n",
    "  model.summary()\n",
    "  return model"
   ]
  },
  {
   "cell_type": "code",
   "execution_count": 9,
   "metadata": {
    "colab": {
     "base_uri": "https://localhost:8080/",
     "height": 416
    },
    "colab_type": "code",
    "id": "ISnL1C7OXAuu",
    "outputId": "0dfec71a-4138-44d2-fb9a-70686680202d"
   },
   "outputs": [
    {
     "name": "stdout",
     "output_type": "stream",
     "text": [
      "Model: \"model_1\"\n",
      "__________________________________________________________________________________________________\n",
      "Layer (type)                    Output Shape         Param #     Connected to                     \n",
      "==================================================================================================\n",
      "input_1 (InputLayer)            (None, 432)          0                                            \n",
      "__________________________________________________________________________________________________\n",
      "embedding_1 (Embedding)         (None, 432, 300)     3468000     input_1[0][0]                    \n",
      "__________________________________________________________________________________________________\n",
      "bidirectional_1 (Bidirectional) (None, 432, 556)     965772      embedding_1[0][0]                \n",
      "__________________________________________________________________________________________________\n",
      "global_max_pooling1d_1 (GlobalM (None, 556)          0           bidirectional_1[0][0]            \n",
      "__________________________________________________________________________________________________\n",
      "global_average_pooling1d_1 (Glo (None, 556)          0           bidirectional_1[0][0]            \n",
      "__________________________________________________________________________________________________\n",
      "concatenate_1 (Concatenate)     (None, 1112)         0           global_max_pooling1d_1[0][0]     \n",
      "                                                                 global_average_pooling1d_1[0][0] \n",
      "__________________________________________________________________________________________________\n",
      "dense_1 (Dense)                 (None, 12)           13356       concatenate_1[0][0]              \n",
      "==================================================================================================\n",
      "Total params: 4,447,128\n",
      "Trainable params: 979,128\n",
      "Non-trainable params: 3,468,000\n",
      "__________________________________________________________________________________________________\n"
     ]
    }
   ],
   "source": [
    "model_gru_4 = define_model(maxlen, max_features)"
   ]
  },
  {
   "cell_type": "code",
   "execution_count": 11,
   "metadata": {
    "colab": {
     "base_uri": "https://localhost:8080/",
     "height": 469
    },
    "colab_type": "code",
    "id": "x1hC-ZInXCmR",
    "outputId": "8f705365-5ea2-4a4f-dd5c-fbfae5b9484d"
   },
   "outputs": [
    {
     "name": "stdout",
     "output_type": "stream",
     "text": [
      "Train on 18297 samples, validate on 2033 samples\n",
      "Epoch 1/12\n",
      "18297/18297 [==============================] - 302s 16ms/step - loss: 0.2681 - accuracy: 0.9032 - val_loss: 0.2004 - val_accuracy: 0.9242\n",
      "Epoch 2/12\n",
      "18297/18297 [==============================] - 294s 16ms/step - loss: 0.1800 - accuracy: 0.9319 - val_loss: 0.1758 - val_accuracy: 0.9330\n",
      "Epoch 3/12\n",
      "18297/18297 [==============================] - 293s 16ms/step - loss: 0.1606 - accuracy: 0.9386 - val_loss: 0.1674 - val_accuracy: 0.9370\n",
      "Epoch 4/12\n",
      "18297/18297 [==============================] - 298s 16ms/step - loss: 0.1483 - accuracy: 0.9427 - val_loss: 0.1643 - val_accuracy: 0.9370\n",
      "Epoch 5/12\n",
      "18297/18297 [==============================] - 285s 16ms/step - loss: 0.1381 - accuracy: 0.9469 - val_loss: 0.1617 - val_accuracy: 0.9400\n",
      "Epoch 6/12\n",
      "18297/18297 [==============================] - 290s 16ms/step - loss: 0.1287 - accuracy: 0.9503 - val_loss: 0.1592 - val_accuracy: 0.9396\n",
      "Epoch 7/12\n",
      "18297/18297 [==============================] - 288s 16ms/step - loss: 0.1192 - accuracy: 0.9538 - val_loss: 0.1617 - val_accuracy: 0.9408\n",
      "Epoch 8/12\n",
      "18297/18297 [==============================] - 285s 16ms/step - loss: 0.1086 - accuracy: 0.9584 - val_loss: 0.1637 - val_accuracy: 0.9399\n",
      "Epoch 9/12\n",
      "18297/18297 [==============================] - 283s 15ms/step - loss: 0.0985 - accuracy: 0.9626 - val_loss: 0.1650 - val_accuracy: 0.9384\n",
      "Epoch 10/12\n",
      "18297/18297 [==============================] - 283s 15ms/step - loss: 0.0876 - accuracy: 0.9675 - val_loss: 0.1696 - val_accuracy: 0.9385\n",
      "Epoch 11/12\n",
      "18297/18297 [==============================] - 285s 16ms/step - loss: 0.0754 - accuracy: 0.9729 - val_loss: 0.1762 - val_accuracy: 0.9370\n",
      "Epoch 12/12\n",
      "18297/18297 [==============================] - 285s 16ms/step - loss: 0.0640 - accuracy: 0.9780 - val_loss: 0.1838 - val_accuracy: 0.9371\n"
     ]
    },
    {
     "data": {
      "text/plain": [
       "<keras.callbacks.callbacks.History at 0x7f35f82d0668>"
      ]
     },
     "execution_count": 11,
     "metadata": {
      "tags": []
     },
     "output_type": "execute_result"
    }
   ],
   "source": [
    "model_gru_4.compile(loss='binary_crossentropy', optimizer='adam', metrics=['accuracy'])\n",
    "model_gru_4.fit(padded_docs_train, y_train_ohe, validation_split=0.1, epochs=epochs, batch_size=batch_size, verbose=1)"
   ]
  },
  {
   "cell_type": "markdown",
   "metadata": {
    "colab_type": "text",
    "id": "qmjWrQFcqocU"
   },
   "source": [
    "#### Prediction and Evaluation"
   ]
  },
  {
   "cell_type": "code",
   "execution_count": null,
   "metadata": {
    "colab": {},
    "colab_type": "code",
    "id": "qlEZZ-m3XEeF"
   },
   "outputs": [],
   "source": [
    "pred_bidgru_fastext_4 = model_gru_4.predict(padded_docs_valid)"
   ]
  },
  {
   "cell_type": "code",
   "execution_count": null,
   "metadata": {
    "colab": {},
    "colab_type": "code",
    "id": "tkFFW9BUJePl"
   },
   "outputs": [],
   "source": [
    "pred_training = model_gru_4.predict(padded_docs_train)"
   ]
  },
  {
   "cell_type": "code",
   "execution_count": 20,
   "metadata": {
    "colab": {
     "base_uri": "https://localhost:8080/",
     "height": 286
    },
    "colab_type": "code",
    "id": "hHJ4VASgXGXq",
    "outputId": "596585b3-cb96-4b04-af25-2a258042daef"
   },
   "outputs": [
    {
     "name": "stdout",
     "output_type": "stream",
     "text": [
      "Micro-average quality numbers:\n"
     ]
    },
    {
     "data": {
      "text/html": [
       "<div>\n",
       "<style scoped>\n",
       "    .dataframe tbody tr th:only-of-type {\n",
       "        vertical-align: middle;\n",
       "    }\n",
       "\n",
       "    .dataframe tbody tr th {\n",
       "        vertical-align: top;\n",
       "    }\n",
       "\n",
       "    .dataframe thead th {\n",
       "        text-align: right;\n",
       "    }\n",
       "</style>\n",
       "<table border=\"1\" class=\"dataframe\">\n",
       "  <thead>\n",
       "    <tr style=\"text-align: right;\">\n",
       "      <th></th>\n",
       "      <th>Threshold</th>\n",
       "      <th>Training Accuracy</th>\n",
       "      <th>Accuracy</th>\n",
       "      <th>Hamming loss</th>\n",
       "      <th>Precision</th>\n",
       "      <th>Recall</th>\n",
       "      <th>F1-measure</th>\n",
       "      <th>Jaccard Score</th>\n",
       "    </tr>\n",
       "  </thead>\n",
       "  <tbody>\n",
       "    <tr>\n",
       "      <th>0</th>\n",
       "      <td>0.3</td>\n",
       "      <td>0.792573</td>\n",
       "      <td>0.498131</td>\n",
       "      <td>0.067988</td>\n",
       "      <td>0.698257</td>\n",
       "      <td>0.742750</td>\n",
       "      <td>0.719816</td>\n",
       "      <td>0.574696</td>\n",
       "    </tr>\n",
       "    <tr>\n",
       "      <th>1</th>\n",
       "      <td>0.4</td>\n",
       "      <td>0.815347</td>\n",
       "      <td>0.516231</td>\n",
       "      <td>0.064594</td>\n",
       "      <td>0.733391</td>\n",
       "      <td>0.708031</td>\n",
       "      <td>0.720488</td>\n",
       "      <td>0.572919</td>\n",
       "    </tr>\n",
       "    <tr>\n",
       "      <th>2</th>\n",
       "      <td>0.5</td>\n",
       "      <td>0.813625</td>\n",
       "      <td>0.523116</td>\n",
       "      <td>0.062627</td>\n",
       "      <td>0.763605</td>\n",
       "      <td>0.676938</td>\n",
       "      <td>0.717664</td>\n",
       "      <td>0.567500</td>\n",
       "    </tr>\n",
       "    <tr>\n",
       "      <th>3</th>\n",
       "      <td>0.6</td>\n",
       "      <td>0.788244</td>\n",
       "      <td>0.526264</td>\n",
       "      <td>0.061266</td>\n",
       "      <td>0.792639</td>\n",
       "      <td>0.648634</td>\n",
       "      <td>0.713442</td>\n",
       "      <td>0.560408</td>\n",
       "    </tr>\n",
       "    <tr>\n",
       "      <th>4</th>\n",
       "      <td>0.7</td>\n",
       "      <td>0.745204</td>\n",
       "      <td>0.525280</td>\n",
       "      <td>0.060725</td>\n",
       "      <td>0.827541</td>\n",
       "      <td>0.610848</td>\n",
       "      <td>0.702872</td>\n",
       "      <td>0.545351</td>\n",
       "    </tr>\n",
       "    <tr>\n",
       "      <th>5</th>\n",
       "      <td>0.8</td>\n",
       "      <td>0.677718</td>\n",
       "      <td>0.507378</td>\n",
       "      <td>0.062660</td>\n",
       "      <td>0.856383</td>\n",
       "      <td>0.561210</td>\n",
       "      <td>0.678066</td>\n",
       "      <td>0.515373</td>\n",
       "    </tr>\n",
       "    <tr>\n",
       "      <th>6</th>\n",
       "      <td>0.9</td>\n",
       "      <td>0.575061</td>\n",
       "      <td>0.464096</td>\n",
       "      <td>0.067185</td>\n",
       "      <td>0.890895</td>\n",
       "      <td>0.488427</td>\n",
       "      <td>0.630944</td>\n",
       "      <td>0.461915</td>\n",
       "    </tr>\n",
       "  </tbody>\n",
       "</table>\n",
       "</div>"
      ],
      "text/plain": [
       "   Threshold  Training Accuracy  Accuracy  ...    Recall  F1-measure  Jaccard Score\n",
       "0        0.3           0.792573  0.498131  ...  0.742750    0.719816       0.574696\n",
       "1        0.4           0.815347  0.516231  ...  0.708031    0.720488       0.572919\n",
       "2        0.5           0.813625  0.523116  ...  0.676938    0.717664       0.567500\n",
       "3        0.6           0.788244  0.526264  ...  0.648634    0.713442       0.560408\n",
       "4        0.7           0.745204  0.525280  ...  0.610848    0.702872       0.545351\n",
       "5        0.8           0.677718  0.507378  ...  0.561210    0.678066       0.515373\n",
       "6        0.9           0.575061  0.464096  ...  0.488427    0.630944       0.461915\n",
       "\n",
       "[7 rows x 8 columns]"
      ]
     },
     "execution_count": 20,
     "metadata": {
      "tags": []
     },
     "output_type": "execute_result"
    }
   ],
   "source": [
    "# PRECISION & RECALL\n",
    "from sklearn.metrics import precision_score, recall_score, f1_score, accuracy_score, hamming_loss, jaccard_score\n",
    "predictions_results = []\n",
    "\n",
    "thresholds=[0.3, 0.4, 0.5, 0.6, 0.7, 0.8, 0.9]\n",
    "\n",
    "for val in thresholds:\n",
    "  pred=pred_bidgru_fastext_4.copy()\n",
    "  pred[pred>=val]=1\n",
    "  pred[pred<val]=0\n",
    "  \n",
    "  pred_t=pred_training.copy()\n",
    "  pred_t[pred_t>=val]=1\n",
    "  pred_t[pred_t<val]=0\n",
    "\n",
    "  train_accuracy = accuracy_score(y_train_ohe, pred_t, normalize=True, sample_weight=None) \n",
    "  accuracy = accuracy_score(y_valid_ohe, pred, normalize=True, sample_weight=None)\n",
    "  hamming = hamming_loss(y_valid_ohe, pred)\n",
    "  precision = precision_score(y_valid_ohe, pred, average='micro')\n",
    "  recall = recall_score(y_valid_ohe, pred, average='micro')\n",
    "  f1 = f1_score(y_valid_ohe, pred, average='micro')\n",
    "  j_score = jaccard_score(y_valid_ohe, pred, average='weighted')\n",
    "  case= {'Threshold': val,\n",
    "         'Training Accuracy': train_accuracy,\n",
    "          'Accuracy': accuracy,\n",
    "          'Hamming loss': hamming,\n",
    "          'Precision': precision,\n",
    "          'Recall': recall,\n",
    "          'F1-measure': f1,\n",
    "          'Jaccard Score': j_score}\n",
    "  predictions_results.append(case)\n",
    "\n",
    "print(\"Micro-average quality numbers:\")\n",
    "pd.DataFrame(predictions_results)"
   ]
  },
  {
   "cell_type": "markdown",
   "metadata": {
    "colab_type": "text",
    "id": "3KgCeLUuqtbB"
   },
   "source": [
    "#### Plotting the precision-recall curve"
   ]
  },
  {
   "cell_type": "code",
   "execution_count": null,
   "metadata": {
    "colab": {},
    "colab_type": "code",
    "id": "A20GbdsHKsjf"
   },
   "outputs": [],
   "source": [
    "precision = dict()\n",
    "recall = dict()\n",
    "thresh = dict()"
   ]
  },
  {
   "cell_type": "code",
   "execution_count": null,
   "metadata": {
    "colab": {},
    "colab_type": "code",
    "id": "p8LvkmuuI1AS"
   },
   "outputs": [],
   "source": [
    "precision[\"bigru\"], recall[\"bigru\"], thresh[\"bigru\"] = precision_recall_curve(y_valid_ohe.ravel(), pred_bidgru_fastext_4.ravel())"
   ]
  },
  {
   "cell_type": "code",
   "execution_count": 28,
   "metadata": {
    "colab": {
     "base_uri": "https://localhost:8080/",
     "height": 348
    },
    "colab_type": "code",
    "id": "TC-dc3q4KMf8",
    "outputId": "f2db7cd8-deb4-4f51-880c-c5a653662f8a"
   },
   "outputs": [
    {
     "data": {
      "text/plain": [
       "<matplotlib.legend.Legend at 0x7f35f36c9710>"
      ]
     },
     "execution_count": 28,
     "metadata": {
      "tags": []
     },
     "output_type": "execute_result"
    },
    {
     "data": {
      "image/png": "[encoded data removed]",
      "text/plain": [
       "<Figure size 432x288 with 1 Axes>"
      ]
     },
     "metadata": {
      "needs_background": "light",
      "tags": []
     },
     "output_type": "display_data"
    }
   ],
   "source": [
    "labels = []\n",
    "labels = list(precision.keys())\n",
    "\n",
    "plt.figure()\n",
    "plt.step(recall['bigru'], precision['bigru'], where='post')\n",
    "\n",
    "plt.xlabel('Recall')\n",
    "plt.ylabel('Precision')\n",
    "plt.ylim([0.0, 1.05])\n",
    "plt.xlim([0.0, 1.0])\n",
    "plt.legend(labels, loc=(0, -.38), prop=dict(size=14))"
   ]
  },
  {
   "cell_type": "code",
   "execution_count": null,
   "metadata": {
    "colab": {},
    "colab_type": "code",
    "id": "d2B92LeaK3J3"
   },
   "outputs": [],
   "source": []
  }
 ],
 "metadata": {
  "accelerator": "GPU",
  "colab": {
   "collapsed_sections": [],
   "name": "Final Model.ipynb",
   "provenance": []
  },
  "kernelspec": {
   "display_name": "Python 3",
   "language": "python",
   "name": "python3"
  },
  "language_info": {
   "codemirror_mode": {
    "name": "ipython",
    "version": 3
   },
   "file_extension": ".py",
   "mimetype": "text/x-python",
   "name": "python",
   "nbconvert_exporter": "python",
   "pygments_lexer": "ipython3",
   "version": "3.7.6"
  }
 },
 "nbformat": 4,
 "nbformat_minor": 4
}
