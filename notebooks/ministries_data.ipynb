{
 "cells": [
  {
   "cell_type": "markdown",
   "metadata": {},
   "source": [
    "# Linking Quantiative data Organization Names with Qualitative Comments for DashR"
   ]
  },
  {
   "cell_type": "code",
   "execution_count": 117,
   "metadata": {},
   "outputs": [],
   "source": [
    "import numpy as np\n",
    "import pandas as pd\n",
    "import re"
   ]
  },
  {
   "cell_type": "markdown",
   "metadata": {},
   "source": [
    "## Question 1\n",
    "\n",
    "From Karan's excel file for DashR"
   ]
  },
  {
   "cell_type": "code",
   "execution_count": 208,
   "metadata": {},
   "outputs": [],
   "source": [
    "# set to your directory with data './../data/'\n",
    "\n",
    "data = pd.read_excel(\"../../data/bcstats.xlsx\")   ## change your path for data\n",
    "data.tail()"
   ]
  },
  {
   "cell_type": "code",
   "execution_count": 205,
   "metadata": {},
   "outputs": [],
   "source": [
    "#remove - in Telkey\n",
    "data['Telkey']= data['Telkey'].astype(str)\n",
    "\n",
    "#wrangle Telkey values in 2013 to align with rest\n",
    "data['Telkey'][31080:]= data['Telkey'].str.replace(r'^((?:\\D*\\d){6})(?=.+)', r'\\1-')[31080:]\n",
    "data.tail()"
   ]
  },
  {
   "cell_type": "markdown",
   "metadata": {},
   "source": [
    "## Import Quantivative Data with organixations"
   ]
  },
  {
   "cell_type": "code",
   "execution_count": 164,
   "metadata": {},
   "outputs": [],
   "source": [
    "# QUAN 2018\n",
    "quan_2018 = pd.read_excel(\"../../data/WES2018 Quant and Driver Data.xlsx\", \n",
    "                     sheet_name='2018 Quant and Driver data')   ## change your path for data\n",
    "quan_2018.rename(columns={'telkey':'Telkey'}, inplace=True)\n",
    "quan_2018['Year'] = 2018\n",
    "quan_2018 =  quan_2018[['Telkey','ORGANIZATION', 'ORGID']]"
   ]
  },
  {
   "cell_type": "code",
   "execution_count": 165,
   "metadata": {},
   "outputs": [],
   "source": [
    "# QUAN 2015\n",
    "quan_2015 = pd.read_excel(\"../../data/WES2015 Quant and Driver Data.xlsx\", \n",
    "                     sheet_name='2015 Quant and Driver data')   ## change your path for data\n",
    "quan_2015.rename(columns={'telkey':'Telkey'}, inplace=True)\n",
    "quan_2015['Year'] = 2015\n",
    "quan_2015 =  quan_2015[['Telkey','ORGANIZATION', 'ORGID']]"
   ]
  },
  {
   "cell_type": "code",
   "execution_count": 166,
   "metadata": {},
   "outputs": [],
   "source": [
    "# QUAN 2020\n",
    "quan_2020 = pd.read_excel(\"../../data/WES2020 Quant and Driver Data.xlsx\", \n",
    "                     sheet_name='2020 Quant and Driver data')   ## change your path for data\n",
    "quan_2020.rename(columns={'telkey':'Telkey',\n",
    "                         'ORGANIZATION20': 'ORGANIZATION',\n",
    "                         'ORGID20': 'ORGID'}, inplace=True)\n",
    "quan_2020['Year'] = 2020\n",
    "quan_2020 =  quan_2020[['Telkey','ORGANIZATION', 'ORGID']]"
   ]
  },
  {
   "cell_type": "code",
   "execution_count": 204,
   "metadata": {},
   "outputs": [],
   "source": [
    "# Put databases together\n",
    "frames = [quan_2015, quan_2018, quan_2020]\n",
    "data_all = pd.concat(frames)\n",
    "# pd.set_option('display.max_colwidth', 60) # <-- to display just the beggining of the comment\n",
    "#data_all['Telkey']= data_all['Telkey'].str.replace('-','')\n",
    "data_all=data_all.drop_duplicates(subset='Telkey')\n",
    "data_all"
   ]
  },
  {
   "cell_type": "code",
   "execution_count": 203,
   "metadata": {},
   "outputs": [],
   "source": [
    "#example to check data\n",
    "data_all[data_all['ORGID'] == 'HLTH']"
   ]
  },
  {
   "cell_type": "markdown",
   "metadata": {},
   "source": [
    "### Left Joining"
   ]
  },
  {
   "cell_type": "code",
   "execution_count": 202,
   "metadata": {},
   "outputs": [],
   "source": [
    "#Left join\n",
    "ministries_Q1 = pd.merge(left=data, right=data_all, how='left', left_on='Telkey', right_on='Telkey')\n",
    "ministries_Q1.head()"
   ]
  },
  {
   "cell_type": "code",
   "execution_count": 187,
   "metadata": {},
   "outputs": [
    {
     "data": {
      "text/plain": [
       "(31768, 78)"
      ]
     },
     "execution_count": 187,
     "metadata": {},
     "output_type": "execute_result"
    }
   ],
   "source": [
    "data.shape"
   ]
  },
  {
   "cell_type": "code",
   "execution_count": 186,
   "metadata": {},
   "outputs": [
    {
     "data": {
      "text/plain": [
       "(31768, 80)"
      ]
     },
     "execution_count": 186,
     "metadata": {},
     "output_type": "execute_result"
    }
   ],
   "source": [
    "ministries_Q1.shape"
   ]
  },
  {
   "cell_type": "markdown",
   "metadata": {},
   "source": [
    "## Question 2:\n",
    "***Just training set***"
   ]
  },
  {
   "cell_type": "code",
   "execution_count": 201,
   "metadata": {},
   "outputs": [],
   "source": [
    "# set to your directory with data './../data/'\n",
    "\n",
    "data2 = pd.read_excel(\"../../data/bcstatsQ2.xlsx\")   ## change your path for data\n",
    "data2.tail()"
   ]
  },
  {
   "cell_type": "code",
   "execution_count": 200,
   "metadata": {},
   "outputs": [],
   "source": [
    "#Left join\n",
    "ministries_Q2 = pd.merge(left=data2, right=data_all, how='left', left_on='Telkey', right_on='Telkey')\n",
    "ministries_Q2.head()"
   ]
  },
  {
   "cell_type": "code",
   "execution_count": 192,
   "metadata": {},
   "outputs": [
    {
     "data": {
      "text/plain": [
       "(6022, 20)"
      ]
     },
     "execution_count": 192,
     "metadata": {},
     "output_type": "execute_result"
    }
   ],
   "source": [
    "ministries_Q2.shape"
   ]
  },
  {
   "cell_type": "markdown",
   "metadata": {},
   "source": [
    "## **All dataset with Unsupervised comments**"
   ]
  },
  {
   "cell_type": "code",
   "execution_count": 199,
   "metadata": {},
   "outputs": [],
   "source": [
    "# set to your directory with data './../data/'\n",
    "\n",
    "data_unsup = pd.read_excel(\"../../data/bcstatsQ2_unsup.xlsx\")   ## change your path for data"
   ]
  },
  {
   "cell_type": "code",
   "execution_count": 198,
   "metadata": {},
   "outputs": [],
   "source": [
    "#Left join\n",
    "ministries_Q2_all = pd.merge(left=data_unsup, right=data_all, how='left', left_on='Telkey', right_on='Telkey')\n",
    "ministries_Q2_all.head()"
   ]
  },
  {
   "cell_type": "code",
   "execution_count": 196,
   "metadata": {},
   "outputs": [
    {
     "data": {
      "text/plain": [
       "(15238, 5)"
      ]
     },
     "execution_count": 196,
     "metadata": {},
     "output_type": "execute_result"
    }
   ],
   "source": [
    "ministries_Q2_all.shape"
   ]
  },
  {
   "cell_type": "markdown",
   "metadata": {},
   "source": [
    "### Saving excel files "
   ]
  },
  {
   "cell_type": "code",
   "execution_count": 197,
   "metadata": {},
   "outputs": [],
   "source": [
    "ministries_Q1.to_excel('../../data/bcstatsQ1.xlsx', index=False)\n",
    "ministries_Q2.to_excel('../../data/bcstatsQ2.xlsx', index=False)\n",
    "ministries_Q2_all.to_excel('../../data/bcstatsQ2_all.xlsx', index=False)"
   ]
  }
 ],
 "metadata": {
  "kernelspec": {
   "display_name": "Python 3",
   "language": "python",
   "name": "python3"
  },
  "language_info": {
   "codemirror_mode": {
    "name": "ipython",
    "version": 3
   },
   "file_extension": ".py",
   "mimetype": "text/x-python",
   "name": "python",
   "nbconvert_exporter": "python",
   "pygments_lexer": "ipython3",
   "version": "3.7.6"
  }
 },
 "nbformat": 4,
 "nbformat_minor": 4
}
