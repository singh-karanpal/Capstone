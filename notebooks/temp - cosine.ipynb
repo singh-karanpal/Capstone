{
 "cells": [
  {
   "cell_type": "code",
   "execution_count": 1,
   "metadata": {},
   "outputs": [],
   "source": [
    "from nltk.corpus import stopwords \n",
    "from nltk.tokenize import word_tokenize \n"
   ]
  },
  {
   "cell_type": "code",
   "execution_count": 2,
   "metadata": {},
   "outputs": [],
   "source": [
    "# X = input(\"Enter first string: \").lower() \n",
    "# Y = input(\"Enter second string: \").lower() \n",
    "X =\"I love horror movies\"\n",
    "Y =\"horror\""
   ]
  },
  {
   "cell_type": "code",
   "execution_count": 3,
   "metadata": {},
   "outputs": [
    {
     "name": "stdout",
     "output_type": "stream",
     "text": [
      "similarity:  0.5\n"
     ]
    }
   ],
   "source": [
    "# tokenization \n",
    "X_list = word_tokenize(X)  \n",
    "Y_list = word_tokenize(Y) \n",
    "  \n",
    "# sw contains the list of stopwords \n",
    "sw = stopwords.words('english')  \n",
    "l1 =[];l2 =[] \n",
    "  \n",
    "# remove stop words from string \n",
    "X_set = {w for w in X_list if not w in sw}  \n",
    "Y_set = {w for w in Y_list if not w in sw} \n",
    "  \n",
    "# form a set containing keywords of both strings  \n",
    "rvector = X_set.union(Y_set)  \n",
    "for w in rvector: \n",
    "    if w in X_set: l1.append(1) # create a vector \n",
    "    else: l1.append(0) \n",
    "    if w in Y_set: l2.append(1) \n",
    "    else: l2.append(0) \n",
    "c = 0\n",
    "  \n",
    "# cosine formula  \n",
    "for i in range(len(rvector)): \n",
    "        c+= l1[i]*l2[i] \n",
    "cosine = c / float((sum(l1)*sum(l2))**0.5) \n",
    "print(\"similarity: \", cosine) "
   ]
  },
  {
   "cell_type": "markdown",
   "metadata": {},
   "source": [
    "### Gensim Model"
   ]
  },
  {
   "cell_type": "code",
   "execution_count": 4,
   "metadata": {},
   "outputs": [
    {
     "name": "stdout",
     "output_type": "stream",
     "text": [
      "3.8.0\n"
     ]
    }
   ],
   "source": [
    "import gensim\n",
    "\n",
    "# upgrade gensim if you can't import softcossim\n",
    "from gensim.matutils import softcossim \n",
    "from gensim import corpora\n",
    "import gensim.downloader as api\n",
    "from gensim.utils import simple_preprocess\n",
    "print(gensim.__version__)"
   ]
  },
  {
   "cell_type": "code",
   "execution_count": 5,
   "metadata": {},
   "outputs": [],
   "source": [
    "# Download the FastText model\n",
    "#fasttext_model300 = api.load('fasttext-wiki-news-subwords-300')"
   ]
  },
  {
   "cell_type": "code",
   "execution_count": null,
   "metadata": {},
   "outputs": [],
   "source": []
  },
  {
   "cell_type": "markdown",
   "metadata": {},
   "source": [
    "### BERT"
   ]
  },
  {
   "cell_type": "code",
   "execution_count": 2,
   "metadata": {},
   "outputs": [],
   "source": [
    "from bert_embedding import BertEmbedding"
   ]
  },
  {
   "cell_type": "code",
   "execution_count": 3,
   "metadata": {},
   "outputs": [],
   "source": [
    "bert_abstract = \"\"\"We introduce a new language representation model called BERT, which stands for Bidirectional Encoder Representations from Transformers.\n",
    " Unlike recent language representation models, BERT is designed to pre-train deep bidirectional representations by jointly conditioning on both left and right context in all layers.\n",
    " As a result, the pre-trained BERT representations can be fine-tuned with just one additional output layer to create state-of-the-art models for a wide range of tasks, such as question answering and language inference, without substantial task-specific architecture modifications. \n",
    "BERT is conceptually simple and empirically powerful. \n",
    "It obtains new state-of-the-art results on eleven natural language processing tasks, including pushing the GLUE benchmark to 80.4% (7.6% absolute improvement), MultiNLI accuracy to 86.7 (5.6% absolute improvement) and the SQuAD v1.1 question answering Test F1 to 93.2 (1.5% absolute improvement), outperforming human performance by 2.0%.\"\"\""
   ]
  },
  {
   "cell_type": "code",
   "execution_count": 4,
   "metadata": {},
   "outputs": [],
   "source": [
    "sentences = bert_abstract.split('\\n')"
   ]
  },
  {
   "cell_type": "code",
   "execution_count": 5,
   "metadata": {},
   "outputs": [
    {
     "data": {
      "text/plain": [
       "['We introduce a new language representation model called BERT, which stands for Bidirectional Encoder Representations from Transformers.',\n",
       " ' Unlike recent language representation models, BERT is designed to pre-train deep bidirectional representations by jointly conditioning on both left and right context in all layers.',\n",
       " ' As a result, the pre-trained BERT representations can be fine-tuned with just one additional output layer to create state-of-the-art models for a wide range of tasks, such as question answering and language inference, without substantial task-specific architecture modifications. ',\n",
       " 'BERT is conceptually simple and empirically powerful. ',\n",
       " 'It obtains new state-of-the-art results on eleven natural language processing tasks, including pushing the GLUE benchmark to 80.4% (7.6% absolute improvement), MultiNLI accuracy to 86.7 (5.6% absolute improvement) and the SQuAD v1.1 question answering Test F1 to 93.2 (1.5% absolute improvement), outperforming human performance by 2.0%.']"
      ]
     },
     "execution_count": 5,
     "metadata": {},
     "output_type": "execute_result"
    }
   ],
   "source": [
    "sentences"
   ]
  },
  {
   "cell_type": "code",
   "execution_count": 6,
   "metadata": {},
   "outputs": [],
   "source": [
    "bert_embedding = BertEmbedding()"
   ]
  },
  {
   "cell_type": "code",
   "execution_count": 7,
   "metadata": {},
   "outputs": [],
   "source": [
    "result = bert_embedding(sentences)"
   ]
  },
  {
   "cell_type": "code",
   "execution_count": null,
   "metadata": {},
   "outputs": [],
   "source": []
  },
  {
   "cell_type": "code",
   "execution_count": null,
   "metadata": {},
   "outputs": [],
   "source": []
  },
  {
   "cell_type": "code",
   "execution_count": null,
   "metadata": {},
   "outputs": [],
   "source": []
  },
  {
   "cell_type": "code",
   "execution_count": null,
   "metadata": {},
   "outputs": [],
   "source": []
  },
  {
   "cell_type": "code",
   "execution_count": null,
   "metadata": {},
   "outputs": [],
   "source": []
  },
  {
   "cell_type": "markdown",
   "metadata": {},
   "source": [
    "### Running Base Model"
   ]
  },
  {
   "cell_type": "code",
   "execution_count": 12,
   "metadata": {},
   "outputs": [],
   "source": [
    "#load dependencies\n",
    "import pandas as pd\n",
    "import numpy as np\n",
    "\n",
    "from sklearn.feature_extraction.text import TfidfVectorizer, CountVectorizer\n",
    "from skmultilearn.problem_transform import ClassifierChain\n",
    "from sklearn.model_selection import GridSearchCV\n",
    "from sklearn.naive_bayes import MultinomialNB, GaussianNB\n",
    "from sklearn.neural_network import MLPClassifier\n",
    "from sklearn.svm import LinearSVC\n",
    "from sklearn.ensemble import RandomForestClassifier\n",
    "from sklearn.tree import DecisionTreeClassifier\n",
    "from sklearn.neighbors import KNeighborsClassifier\n",
    "from scipy.sparse import csr_matrix\n",
    "\n",
    "from sklearn.metrics import accuracy_score\n",
    "from sklearn.model_selection import GridSearchCV\n",
    "from sklearn.metrics import recall_score, precision_score"
   ]
  },
  {
   "cell_type": "code",
   "execution_count": 13,
   "metadata": {},
   "outputs": [],
   "source": [
    "#load in preprocessed train and validation datas\n",
    "#your path here\n",
    "\n",
    "X_train_Q1 = pd.read_excel('../data/interim/X_train_Q1_clean.xlsx')\n",
    "X_valid_Q1 = pd.read_excel('../data/interim/X_valid_Q1_clean.xlsx')\n",
    "\n",
    "y_train_Q1 = pd.read_excel('../data/interim/y_train_Q1.xlsx')\n",
    "y_valid_Q1 = pd.read_excel('../data/interim/y_valid_Q1.xlsx')"
   ]
  },
  {
   "cell_type": "code",
   "execution_count": 14,
   "metadata": {},
   "outputs": [],
   "source": [
    "#Tfid Vectorizer Representation\n",
    "\n",
    "def tfid_vectorizer(train, valid):\n",
    "    \"\"\"\n",
    "    Fits the TfidVectorizer() on your X training \n",
    "    set and transform on X validation set\n",
    "    Returns the matrixes.\n",
    "    \"\"\"\n",
    "    tfid = TfidfVectorizer() \n",
    "    X = tfid.fit_transform(train)\n",
    "    X_valid = tfid.transform(valid)\n",
    "    return X, X_valid"
   ]
  },
  {
   "cell_type": "code",
   "execution_count": 15,
   "metadata": {},
   "outputs": [],
   "source": [
    "#Vectorize X_train and convert Y_train to an array\n",
    "\n",
    "X_train, X_valid = tfid_vectorizer(X_train_Q1['Comment'].values.astype('U'), \n",
    "                                    X_valid_Q1['Comment'].values.astype('U')) #had to convert type \n",
    "#ytrain for all themes and subthemes\n",
    "Y_train = (np.array(y_train_Q1))"
   ]
  },
  {
   "cell_type": "code",
   "execution_count": 16,
   "metadata": {},
   "outputs": [
    {
     "name": "stdout",
     "output_type": "stream",
     "text": [
      "Theme columns: 13\n",
      "Subtheme columns: 62\n"
     ]
    }
   ],
   "source": [
    "#slice y to themes and subthemes\n",
    "#y_train\n",
    "subthemes_ytrain = y_train_Q1.loc[:, 'CPD_Improve_new_employee_orientation':'OTH_Covid']\n",
    "themes_ytrain = y_train_Q1[['CPD','CB', 'EWC', 'Exec', 'FEW', 'SP', 'RE', 'Sup', 'SW', 'TEPE',\n",
    "                            'VMG', 'OTH', 'Unrelated']]\n",
    "\n",
    "#y_valid\n",
    "subthemes_yvalid = y_valid_Q1.loc[:, 'CPD_Improve_new_employee_orientation':'OTH_Covid']\n",
    "themes_yvalid = y_valid_Q1[['CPD','CB', 'EWC', 'Exec', 'FEW', 'SP', 'RE', 'Sup', \n",
    "                                      'SW', 'TEPE','VMG', 'OTH', 'Unrelated']]\n",
    "\n",
    "#shape check: 13 themes and 62 subthemes\n",
    "print('Theme columns:',themes_ytrain.shape[1])\n",
    "print('Subtheme columns:', subthemes_ytrain.shape[1])"
   ]
  },
  {
   "cell_type": "code",
   "execution_count": 17,
   "metadata": {},
   "outputs": [
    {
     "data": {
      "text/plain": [
       "(2594, 62)"
      ]
     },
     "execution_count": 17,
     "metadata": {},
     "output_type": "execute_result"
    }
   ],
   "source": [
    "np.shape(subthemes_yvalid)"
   ]
  },
  {
   "cell_type": "code",
   "execution_count": 18,
   "metadata": {},
   "outputs": [
    {
     "data": {
      "text/plain": [
       "(2594, 13)"
      ]
     },
     "execution_count": 18,
     "metadata": {},
     "output_type": "execute_result"
    }
   ],
   "source": [
    "np.shape(themes_yvalid)"
   ]
  },
  {
   "cell_type": "markdown",
   "metadata": {},
   "source": [
    "### Sub Themes"
   ]
  },
  {
   "cell_type": "code",
   "execution_count": 19,
   "metadata": {},
   "outputs": [],
   "source": [
    "#Parts of code adapated from DSCI 573 lab 4\n",
    "#Dictionary of Base Models\n",
    "\n",
    "models = {\n",
    "    'LinearSVC': LinearSVC(),\n",
    "    #'MultinomialNB' : MultinomialNB(),\n",
    "    #'GaussianNB' : GaussianNB(),#,\n",
    "    #'Random Forest' : RandomForestClassifier(), too slow will use function \n",
    "    #'KNeighborsClassifier': KNeighborsClassifier(),\n",
    "    #'Neural Net' : MLPClassifier()\n",
    "}\n",
    "\n"
   ]
  },
  {
   "cell_type": "code",
   "execution_count": 20,
   "metadata": {},
   "outputs": [
    {
     "data": {
      "text/plain": [
       "216.776658392"
      ]
     },
     "execution_count": 20,
     "metadata": {},
     "output_type": "execute_result"
    }
   ],
   "source": [
    "import timeit\n",
    "start_time = timeit.default_timer()\n",
    "# code you want to evaluate\n",
    "\n",
    "#For subthemes only\n",
    "#Note takes about 15 min to run\n",
    "\n",
    "results_dict = []\n",
    "\n",
    "for model_name, model in models.items():\n",
    "\n",
    "    classifier_chain = ClassifierChain(model)\n",
    "    model = classifier_chain.fit(X_train, subthemes_ytrain)\n",
    "    train = model.score(X_train, np.array(subthemes_ytrain))\n",
    "    valid = model.score(X_valid, np.array(subthemes_yvalid))\n",
    "    y_pred = model.predict(X_valid)\n",
    "    recall = recall_score(np.array(subthemes_yvalid), y_pred, average= 'micro')\n",
    "    precision = precision_score(np.array(subthemes_yvalid), y_pred, average= 'micro')\n",
    "    \n",
    "    case= {'Model': model_name,\n",
    "           'Train Accuracy': train,\n",
    "           'Validation Accuracy': valid,\n",
    "           'Recall Score': recall,\n",
    "           'Precision Score': precision}\n",
    "    \n",
    "    results_dict.append(case)\n",
    "\n",
    "\n",
    "\n",
    "elapsed = timeit.default_timer() - start_time\n",
    "elapsed"
   ]
  },
  {
   "cell_type": "code",
   "execution_count": 21,
   "metadata": {},
   "outputs": [
    {
     "data": {
      "text/plain": [
       "90.48923442200001"
      ]
     },
     "execution_count": 21,
     "metadata": {},
     "output_type": "execute_result"
    }
   ],
   "source": [
    "#Parts of code adapated from DSCI 573 lab 4\n",
    "#Dictionary of Base Models\n",
    "\n",
    "models = {\n",
    "    #'LinearSVC': LinearSVC(),\n",
    "    'MultinomialNB' : MultinomialNB(),\n",
    "    #'GaussianNB' : GaussianNB(),#,\n",
    "    #'Random Forest' : RandomForestClassifier(), too slow will use function \n",
    "    #'KNeighborsClassifier': KNeighborsClassifier(),\n",
    "    #'Neural Net' : MLPClassifier()\n",
    "}\n",
    "\n",
    "\n",
    "start_time = timeit.default_timer()\n",
    "# code you want to evaluate\n",
    "\n",
    "#For subthemes only\n",
    "#Note takes about 15 min to run\n",
    "\n",
    "#results_dict = []\n",
    "\n",
    "for model_name, model in models.items():\n",
    "\n",
    "    classifier_chain = ClassifierChain(model)\n",
    "    model = classifier_chain.fit(X_train, subthemes_ytrain)\n",
    "    train = model.score(X_train, np.array(subthemes_ytrain))\n",
    "    valid = model.score(X_valid, np.array(subthemes_yvalid))\n",
    "    y_pred = model.predict(X_valid)\n",
    "    recall = recall_score(np.array(subthemes_yvalid), y_pred, average= 'micro')\n",
    "    precision = precision_score(np.array(subthemes_yvalid), y_pred, average= 'micro')\n",
    "    \n",
    "    case= {'Model': model_name,\n",
    "           'Train Accuracy': train,\n",
    "           'Validation Accuracy': valid,\n",
    "           'Recall Score': recall,\n",
    "           'Precision Score': precision}\n",
    "    \n",
    "    results_dict.append(case)\n",
    "\n",
    "\n",
    "\n",
    "elapsed = timeit.default_timer() - start_time\n",
    "elapsed"
   ]
  },
  {
   "cell_type": "code",
   "execution_count": 22,
   "metadata": {},
   "outputs": [
    {
     "data": {
      "text/plain": [
       "497.04079193800004"
      ]
     },
     "execution_count": 22,
     "metadata": {},
     "output_type": "execute_result"
    }
   ],
   "source": [
    "#Parts of code adapated from DSCI 573 lab 4\n",
    "#Dictionary of Base Models\n",
    "\n",
    "models = {\n",
    "    #'LinearSVC': LinearSVC(),\n",
    "    #'MultinomialNB' : MultinomialNB(),\n",
    "    'GaussianNB' : GaussianNB(),#,\n",
    "    #'Random Forest' : RandomForestClassifier(), too slow will use function \n",
    "    #'KNeighborsClassifier': KNeighborsClassifier(),\n",
    "    #'Neural Net' : MLPClassifier()\n",
    "}\n",
    "\n",
    "\n",
    "start_time = timeit.default_timer()\n",
    "# code you want to evaluate\n",
    "\n",
    "#For subthemes only\n",
    "#Note takes about 15 min to run\n",
    "\n",
    "#results_dict = []\n",
    "\n",
    "for model_name, model in models.items():\n",
    "\n",
    "    classifier_chain = ClassifierChain(model)\n",
    "    model = classifier_chain.fit(X_train, subthemes_ytrain)\n",
    "    train = model.score(X_train, np.array(subthemes_ytrain))\n",
    "    valid = model.score(X_valid, np.array(subthemes_yvalid))\n",
    "    y_pred = model.predict(X_valid)\n",
    "    recall = recall_score(np.array(subthemes_yvalid), y_pred, average= 'micro')\n",
    "    precision = precision_score(np.array(subthemes_yvalid), y_pred, average= 'micro')\n",
    "    \n",
    "    case= {'Model': model_name,\n",
    "           'Train Accuracy': train,\n",
    "           'Validation Accuracy': valid,\n",
    "           'Recall Score': recall,\n",
    "           'Precision Score': precision}\n",
    "    \n",
    "    results_dict.append(case)\n",
    "\n",
    "\n",
    "\n",
    "elapsed = timeit.default_timer() - start_time\n",
    "elapsed"
   ]
  },
  {
   "cell_type": "code",
   "execution_count": 23,
   "metadata": {},
   "outputs": [
    {
     "data": {
      "text/plain": [
       "1558.5578272950002"
      ]
     },
     "execution_count": 23,
     "metadata": {},
     "output_type": "execute_result"
    }
   ],
   "source": [
    "#Parts of code adapated from DSCI 573 lab 4\n",
    "#Dictionary of Base Models\n",
    "\n",
    "models = {\n",
    "    #'LinearSVC': LinearSVC(),\n",
    "    #'MultinomialNB' : MultinomialNB(),\n",
    "    #'GaussianNB' : GaussianNB(),#,\n",
    "    'Random Forest' : RandomForestClassifier(),# too slow will use function \n",
    "    #'KNeighborsClassifier': KNeighborsClassifier(),\n",
    "    #'Neural Net' : MLPClassifier()\n",
    "}\n",
    "\n",
    "\n",
    "start_time = timeit.default_timer()\n",
    "# code you want to evaluate\n",
    "\n",
    "#For subthemes only\n",
    "#Note takes about 15 min to run\n",
    "\n",
    "#results_dict = []\n",
    "\n",
    "for model_name, model in models.items():\n",
    "\n",
    "    classifier_chain = ClassifierChain(model)\n",
    "    model = classifier_chain.fit(X_train, subthemes_ytrain)\n",
    "    train = model.score(X_train, np.array(subthemes_ytrain))\n",
    "    valid = model.score(X_valid, np.array(subthemes_yvalid))\n",
    "    y_pred = model.predict(X_valid)\n",
    "    recall = recall_score(np.array(subthemes_yvalid), y_pred, average= 'micro')\n",
    "    precision = precision_score(np.array(subthemes_yvalid), y_pred, average= 'micro')\n",
    "    \n",
    "    case= {'Model': model_name,\n",
    "           'Train Accuracy': train,\n",
    "           'Validation Accuracy': valid,\n",
    "           'Recall Score': recall,\n",
    "           'Precision Score': precision}\n",
    "    \n",
    "    results_dict.append(case)\n",
    "\n",
    "\n",
    "\n",
    "elapsed = timeit.default_timer() - start_time\n",
    "elapsed"
   ]
  },
  {
   "cell_type": "code",
   "execution_count": null,
   "metadata": {},
   "outputs": [],
   "source": [
    "#Parts of code adapated from DSCI 573 lab 4\n",
    "#Dictionary of Base Models\n",
    "\n",
    "models = {\n",
    "    #'LinearSVC': LinearSVC(),\n",
    "    #'MultinomialNB' : MultinomialNB(),\n",
    "    #'GaussianNB' : GaussianNB(),#,\n",
    "    #'Random Forest' : RandomForestClassifier(), too slow will use function \n",
    "    'KNeighborsClassifier': KNeighborsClassifier(),\n",
    "    #'Neural Net' : MLPClassifier()\n",
    "}\n",
    "\n",
    "\n",
    "start_time = timeit.default_timer()\n",
    "# code you want to evaluate\n",
    "\n",
    "#For subthemes only\n",
    "#Note takes about 15 min to run\n",
    "\n",
    "#results_dict = []\n",
    "\n",
    "for model_name, model in models.items():\n",
    "\n",
    "    classifier_chain = ClassifierChain(model)\n",
    "    model = classifier_chain.fit(X_train, subthemes_ytrain)\n",
    "    train = model.score(X_train, np.array(subthemes_ytrain))\n",
    "    valid = model.score(X_valid, np.array(subthemes_yvalid))\n",
    "    y_pred = model.predict(X_valid)\n",
    "    recall = recall_score(np.array(subthemes_yvalid), y_pred, average= 'micro')\n",
    "    precision = precision_score(np.array(subthemes_yvalid), y_pred, average= 'micro')\n",
    "    \n",
    "    case= {'Model': model_name,\n",
    "           'Train Accuracy': train,\n",
    "           'Validation Accuracy': valid,\n",
    "           'Recall Score': recall,\n",
    "           'Precision Score': precision}\n",
    "    \n",
    "    results_dict.append(case)\n",
    "\n",
    "\n",
    "\n",
    "elapsed = timeit.default_timer() - start_time\n",
    "elapsed"
   ]
  },
  {
   "cell_type": "code",
   "execution_count": null,
   "metadata": {},
   "outputs": [],
   "source": [
    "#Parts of code adapated from DSCI 573 lab 4\n",
    "#Dictionary of Base Models\n",
    "\n",
    "models = {\n",
    "    #'LinearSVC': LinearSVC(),\n",
    "    #'MultinomialNB' : MultinomialNB(),\n",
    "    #'GaussianNB' : GaussianNB(),#,\n",
    "    #'Random Forest' : RandomForestClassifier(), too slow will use function \n",
    "    #'KNeighborsClassifier': KNeighborsClassifier(),\n",
    "    'Neural Net' : MLPClassifier()\n",
    "}\n",
    "\n",
    "\n",
    "start_time = timeit.default_timer()\n",
    "# code you want to evaluate\n",
    "\n",
    "#For subthemes only\n",
    "#Note takes about 15 min to run\n",
    "\n",
    "#results_dict = []\n",
    "\n",
    "for model_name, model in models.items():\n",
    "\n",
    "    classifier_chain = ClassifierChain(model)\n",
    "    model = classifier_chain.fit(X_train, subthemes_ytrain)\n",
    "    train = model.score(X_train, np.array(subthemes_ytrain))\n",
    "    valid = model.score(X_valid, np.array(subthemes_yvalid))\n",
    "    y_pred = model.predict(X_valid)\n",
    "    recall = recall_score(np.array(subthemes_yvalid), y_pred, average= 'micro')\n",
    "    precision = precision_score(np.array(subthemes_yvalid), y_pred, average= 'micro')\n",
    "    \n",
    "    case= {'Model': model_name,\n",
    "           'Train Accuracy': train,\n",
    "           'Validation Accuracy': valid,\n",
    "           'Recall Score': recall,\n",
    "           'Precision Score': precision}\n",
    "    \n",
    "    results_dict.append(case)\n",
    "\n",
    "\n",
    "\n",
    "elapsed = timeit.default_timer() - start_time\n",
    "elapsed"
   ]
  },
  {
   "cell_type": "code",
   "execution_count": 12,
   "metadata": {},
   "outputs": [],
   "source": [
    "import pandas as pd\n",
    "X_train_Q1 = pd.read_excel('../data/interim/X_train_Q1_clean.xlsx')\n",
    "X_valid_Q1 = pd.read_excel('../data/interim/X_valid_Q1_clean.xlsx')\n",
    "\n",
    "y_train_Q1 = pd.read_excel('../data/interim/y_train_Q1.xlsx')\n",
    "y_valid_Q1 = pd.read_excel('../data/interim/y_valid_Q1.xlsx')"
   ]
  },
  {
   "cell_type": "code",
   "execution_count": 13,
   "metadata": {},
   "outputs": [
    {
     "data": {
      "text/html": [
       "<div>\n",
       "<style scoped>\n",
       "    .dataframe tbody tr th:only-of-type {\n",
       "        vertical-align: middle;\n",
       "    }\n",
       "\n",
       "    .dataframe tbody tr th {\n",
       "        vertical-align: top;\n",
       "    }\n",
       "\n",
       "    .dataframe thead th {\n",
       "        text-align: right;\n",
       "    }\n",
       "</style>\n",
       "<table border=\"1\" class=\"dataframe\">\n",
       "  <thead>\n",
       "    <tr style=\"text-align: right;\">\n",
       "      <th></th>\n",
       "      <th>Comment</th>\n",
       "    </tr>\n",
       "  </thead>\n",
       "  <tbody>\n",
       "    <tr>\n",
       "      <th>0</th>\n",
       "      <td>to be real about diversity, you need to create...</td>\n",
       "    </tr>\n",
       "    <tr>\n",
       "      <th>1</th>\n",
       "      <td>Keep the building warmer and provide warm wate...</td>\n",
       "    </tr>\n",
       "    <tr>\n",
       "      <th>2</th>\n",
       "      <td>better communication from the top down</td>\n",
       "    </tr>\n",
       "    <tr>\n",
       "      <th>3</th>\n",
       "      <td>It would be beneficial if Management did not m...</td>\n",
       "    </tr>\n",
       "    <tr>\n",
       "      <th>4</th>\n",
       "      <td>more education applicable to my job</td>\n",
       "    </tr>\n",
       "  </tbody>\n",
       "</table>\n",
       "</div>"
      ],
      "text/plain": [
       "                                             Comment\n",
       "0  to be real about diversity, you need to create...\n",
       "1  Keep the building warmer and provide warm wate...\n",
       "2             better communication from the top down\n",
       "3  It would be beneficial if Management did not m...\n",
       "4                more education applicable to my job"
      ]
     },
     "execution_count": 13,
     "metadata": {},
     "output_type": "execute_result"
    }
   ],
   "source": [
    "X_train_Q1.head()"
   ]
  },
  {
   "cell_type": "code",
   "execution_count": 14,
   "metadata": {},
   "outputs": [
    {
     "data": {
      "text/html": [
       "<div>\n",
       "<style scoped>\n",
       "    .dataframe tbody tr th:only-of-type {\n",
       "        vertical-align: middle;\n",
       "    }\n",
       "\n",
       "    .dataframe tbody tr th {\n",
       "        vertical-align: top;\n",
       "    }\n",
       "\n",
       "    .dataframe thead th {\n",
       "        text-align: right;\n",
       "    }\n",
       "</style>\n",
       "<table border=\"1\" class=\"dataframe\">\n",
       "  <thead>\n",
       "    <tr style=\"text-align: right;\">\n",
       "      <th></th>\n",
       "      <th>CPD</th>\n",
       "      <th>CB</th>\n",
       "      <th>EWC</th>\n",
       "      <th>Exec</th>\n",
       "      <th>FEW</th>\n",
       "      <th>SP</th>\n",
       "      <th>RE</th>\n",
       "      <th>Sup</th>\n",
       "      <th>SW</th>\n",
       "      <th>TEPE</th>\n",
       "      <th>...</th>\n",
       "      <th>VMG_Improve_program</th>\n",
       "      <th>VMG_Pay_attention_to_the_public_interest</th>\n",
       "      <th>VMG_Review_funding_or_budget</th>\n",
       "      <th>VMG_Remove_political_influence</th>\n",
       "      <th>VMG_other</th>\n",
       "      <th>OTH_Other_related</th>\n",
       "      <th>OTH_Positive_comments</th>\n",
       "      <th>OTH_Survey_feedback</th>\n",
       "      <th>OTH_Covid</th>\n",
       "      <th>Unrelated</th>\n",
       "    </tr>\n",
       "  </thead>\n",
       "  <tbody>\n",
       "    <tr>\n",
       "      <th>0</th>\n",
       "      <td>0</td>\n",
       "      <td>0</td>\n",
       "      <td>1</td>\n",
       "      <td>0</td>\n",
       "      <td>0</td>\n",
       "      <td>0</td>\n",
       "      <td>0</td>\n",
       "      <td>0</td>\n",
       "      <td>0</td>\n",
       "      <td>0</td>\n",
       "      <td>...</td>\n",
       "      <td>0</td>\n",
       "      <td>0</td>\n",
       "      <td>0</td>\n",
       "      <td>0</td>\n",
       "      <td>0</td>\n",
       "      <td>0</td>\n",
       "      <td>0</td>\n",
       "      <td>0</td>\n",
       "      <td>0</td>\n",
       "      <td>0</td>\n",
       "    </tr>\n",
       "    <tr>\n",
       "      <th>1</th>\n",
       "      <td>0</td>\n",
       "      <td>0</td>\n",
       "      <td>0</td>\n",
       "      <td>0</td>\n",
       "      <td>0</td>\n",
       "      <td>0</td>\n",
       "      <td>0</td>\n",
       "      <td>0</td>\n",
       "      <td>0</td>\n",
       "      <td>1</td>\n",
       "      <td>...</td>\n",
       "      <td>0</td>\n",
       "      <td>0</td>\n",
       "      <td>0</td>\n",
       "      <td>0</td>\n",
       "      <td>0</td>\n",
       "      <td>0</td>\n",
       "      <td>0</td>\n",
       "      <td>0</td>\n",
       "      <td>0</td>\n",
       "      <td>0</td>\n",
       "    </tr>\n",
       "    <tr>\n",
       "      <th>2</th>\n",
       "      <td>0</td>\n",
       "      <td>0</td>\n",
       "      <td>0</td>\n",
       "      <td>1</td>\n",
       "      <td>0</td>\n",
       "      <td>0</td>\n",
       "      <td>0</td>\n",
       "      <td>0</td>\n",
       "      <td>0</td>\n",
       "      <td>0</td>\n",
       "      <td>...</td>\n",
       "      <td>0</td>\n",
       "      <td>0</td>\n",
       "      <td>0</td>\n",
       "      <td>0</td>\n",
       "      <td>0</td>\n",
       "      <td>0</td>\n",
       "      <td>0</td>\n",
       "      <td>0</td>\n",
       "      <td>0</td>\n",
       "      <td>0</td>\n",
       "    </tr>\n",
       "    <tr>\n",
       "      <th>3</th>\n",
       "      <td>0</td>\n",
       "      <td>0</td>\n",
       "      <td>0</td>\n",
       "      <td>0</td>\n",
       "      <td>0</td>\n",
       "      <td>0</td>\n",
       "      <td>1</td>\n",
       "      <td>0</td>\n",
       "      <td>0</td>\n",
       "      <td>0</td>\n",
       "      <td>...</td>\n",
       "      <td>0</td>\n",
       "      <td>0</td>\n",
       "      <td>0</td>\n",
       "      <td>0</td>\n",
       "      <td>0</td>\n",
       "      <td>0</td>\n",
       "      <td>0</td>\n",
       "      <td>0</td>\n",
       "      <td>0</td>\n",
       "      <td>0</td>\n",
       "    </tr>\n",
       "    <tr>\n",
       "      <th>4</th>\n",
       "      <td>1</td>\n",
       "      <td>0</td>\n",
       "      <td>0</td>\n",
       "      <td>0</td>\n",
       "      <td>0</td>\n",
       "      <td>0</td>\n",
       "      <td>0</td>\n",
       "      <td>0</td>\n",
       "      <td>0</td>\n",
       "      <td>0</td>\n",
       "      <td>...</td>\n",
       "      <td>0</td>\n",
       "      <td>0</td>\n",
       "      <td>0</td>\n",
       "      <td>0</td>\n",
       "      <td>0</td>\n",
       "      <td>0</td>\n",
       "      <td>0</td>\n",
       "      <td>0</td>\n",
       "      <td>0</td>\n",
       "      <td>0</td>\n",
       "    </tr>\n",
       "  </tbody>\n",
       "</table>\n",
       "<p>5 rows × 75 columns</p>\n",
       "</div>"
      ],
      "text/plain": [
       "   CPD  CB  EWC  Exec  FEW  SP  RE  Sup  SW  TEPE  ...  VMG_Improve_program  \\\n",
       "0    0   0    1     0    0   0   0    0   0     0  ...                    0   \n",
       "1    0   0    0     0    0   0   0    0   0     1  ...                    0   \n",
       "2    0   0    0     1    0   0   0    0   0     0  ...                    0   \n",
       "3    0   0    0     0    0   0   1    0   0     0  ...                    0   \n",
       "4    1   0    0     0    0   0   0    0   0     0  ...                    0   \n",
       "\n",
       "   VMG_Pay_attention_to_the_public_interest  VMG_Review_funding_or_budget  \\\n",
       "0                                         0                             0   \n",
       "1                                         0                             0   \n",
       "2                                         0                             0   \n",
       "3                                         0                             0   \n",
       "4                                         0                             0   \n",
       "\n",
       "   VMG_Remove_political_influence  VMG_other  OTH_Other_related  \\\n",
       "0                               0          0                  0   \n",
       "1                               0          0                  0   \n",
       "2                               0          0                  0   \n",
       "3                               0          0                  0   \n",
       "4                               0          0                  0   \n",
       "\n",
       "   OTH_Positive_comments  OTH_Survey_feedback  OTH_Covid  Unrelated  \n",
       "0                      0                    0          0          0  \n",
       "1                      0                    0          0          0  \n",
       "2                      0                    0          0          0  \n",
       "3                      0                    0          0          0  \n",
       "4                      0                    0          0          0  \n",
       "\n",
       "[5 rows x 75 columns]"
      ]
     },
     "execution_count": 14,
     "metadata": {},
     "output_type": "execute_result"
    }
   ],
   "source": [
    "y_train_Q1.head()"
   ]
  },
  {
   "cell_type": "code",
   "execution_count": 16,
   "metadata": {},
   "outputs": [
    {
     "data": {
      "text/html": [
       "<div>\n",
       "<style scoped>\n",
       "    .dataframe tbody tr th:only-of-type {\n",
       "        vertical-align: middle;\n",
       "    }\n",
       "\n",
       "    .dataframe tbody tr th {\n",
       "        vertical-align: top;\n",
       "    }\n",
       "\n",
       "    .dataframe thead th {\n",
       "        text-align: right;\n",
       "    }\n",
       "</style>\n",
       "<table border=\"1\" class=\"dataframe\">\n",
       "  <thead>\n",
       "    <tr style=\"text-align: right;\">\n",
       "      <th></th>\n",
       "      <th>CPD</th>\n",
       "      <th>CB</th>\n",
       "      <th>EWC</th>\n",
       "      <th>Exec</th>\n",
       "      <th>FEW</th>\n",
       "      <th>SP</th>\n",
       "      <th>RE</th>\n",
       "      <th>Sup</th>\n",
       "      <th>SW</th>\n",
       "      <th>TEPE</th>\n",
       "      <th>VMG</th>\n",
       "      <th>OTH</th>\n",
       "    </tr>\n",
       "  </thead>\n",
       "  <tbody>\n",
       "    <tr>\n",
       "      <th>0</th>\n",
       "      <td>0</td>\n",
       "      <td>0</td>\n",
       "      <td>1</td>\n",
       "      <td>0</td>\n",
       "      <td>0</td>\n",
       "      <td>0</td>\n",
       "      <td>0</td>\n",
       "      <td>0</td>\n",
       "      <td>0</td>\n",
       "      <td>0</td>\n",
       "      <td>0</td>\n",
       "      <td>0</td>\n",
       "    </tr>\n",
       "    <tr>\n",
       "      <th>1</th>\n",
       "      <td>0</td>\n",
       "      <td>0</td>\n",
       "      <td>0</td>\n",
       "      <td>0</td>\n",
       "      <td>0</td>\n",
       "      <td>0</td>\n",
       "      <td>0</td>\n",
       "      <td>0</td>\n",
       "      <td>0</td>\n",
       "      <td>1</td>\n",
       "      <td>0</td>\n",
       "      <td>0</td>\n",
       "    </tr>\n",
       "    <tr>\n",
       "      <th>2</th>\n",
       "      <td>0</td>\n",
       "      <td>0</td>\n",
       "      <td>0</td>\n",
       "      <td>1</td>\n",
       "      <td>0</td>\n",
       "      <td>0</td>\n",
       "      <td>0</td>\n",
       "      <td>0</td>\n",
       "      <td>0</td>\n",
       "      <td>0</td>\n",
       "      <td>0</td>\n",
       "      <td>0</td>\n",
       "    </tr>\n",
       "    <tr>\n",
       "      <th>3</th>\n",
       "      <td>0</td>\n",
       "      <td>0</td>\n",
       "      <td>0</td>\n",
       "      <td>0</td>\n",
       "      <td>0</td>\n",
       "      <td>0</td>\n",
       "      <td>1</td>\n",
       "      <td>0</td>\n",
       "      <td>0</td>\n",
       "      <td>0</td>\n",
       "      <td>0</td>\n",
       "      <td>0</td>\n",
       "    </tr>\n",
       "    <tr>\n",
       "      <th>4</th>\n",
       "      <td>1</td>\n",
       "      <td>0</td>\n",
       "      <td>0</td>\n",
       "      <td>0</td>\n",
       "      <td>0</td>\n",
       "      <td>0</td>\n",
       "      <td>0</td>\n",
       "      <td>0</td>\n",
       "      <td>0</td>\n",
       "      <td>0</td>\n",
       "      <td>0</td>\n",
       "      <td>0</td>\n",
       "    </tr>\n",
       "  </tbody>\n",
       "</table>\n",
       "</div>"
      ],
      "text/plain": [
       "   CPD  CB  EWC  Exec  FEW  SP  RE  Sup  SW  TEPE  VMG  OTH\n",
       "0    0   0    1     0    0   0   0    0   0     0    0    0\n",
       "1    0   0    0     0    0   0   0    0   0     1    0    0\n",
       "2    0   0    0     1    0   0   0    0   0     0    0    0\n",
       "3    0   0    0     0    0   0   1    0   0     0    0    0\n",
       "4    1   0    0     0    0   0   0    0   0     0    0    0"
      ]
     },
     "execution_count": 16,
     "metadata": {},
     "output_type": "execute_result"
    }
   ],
   "source": [
    "y_train_Q1.head().iloc[:,0:12]"
   ]
  },
  {
   "cell_type": "code",
   "execution_count": 35,
   "metadata": {},
   "outputs": [],
   "source": [
    "df = pd.concat([X_train_Q1, y_train_Q1.iloc[:,0:12]], axis = 1)"
   ]
  },
  {
   "cell_type": "code",
   "execution_count": 59,
   "metadata": {},
   "outputs": [
    {
     "data": {
      "text/html": [
       "<div>\n",
       "<style scoped>\n",
       "    .dataframe tbody tr th:only-of-type {\n",
       "        vertical-align: middle;\n",
       "    }\n",
       "\n",
       "    .dataframe tbody tr th {\n",
       "        vertical-align: top;\n",
       "    }\n",
       "\n",
       "    .dataframe thead th {\n",
       "        text-align: right;\n",
       "    }\n",
       "</style>\n",
       "<table border=\"1\" class=\"dataframe\">\n",
       "  <thead>\n",
       "    <tr style=\"text-align: right;\">\n",
       "      <th></th>\n",
       "      <th>Comment</th>\n",
       "      <th>CPD</th>\n",
       "      <th>CB</th>\n",
       "      <th>EWC</th>\n",
       "      <th>Exec</th>\n",
       "      <th>FEW</th>\n",
       "      <th>SP</th>\n",
       "      <th>RE</th>\n",
       "      <th>Sup</th>\n",
       "      <th>SW</th>\n",
       "      <th>TEPE</th>\n",
       "      <th>VMG</th>\n",
       "      <th>OTH</th>\n",
       "    </tr>\n",
       "  </thead>\n",
       "  <tbody>\n",
       "    <tr>\n",
       "      <th>0</th>\n",
       "      <td>to be real about diversity, you need to create...</td>\n",
       "      <td>0</td>\n",
       "      <td>0</td>\n",
       "      <td>1</td>\n",
       "      <td>0</td>\n",
       "      <td>0</td>\n",
       "      <td>0</td>\n",
       "      <td>0</td>\n",
       "      <td>0</td>\n",
       "      <td>0</td>\n",
       "      <td>0</td>\n",
       "      <td>0</td>\n",
       "      <td>0</td>\n",
       "    </tr>\n",
       "    <tr>\n",
       "      <th>1</th>\n",
       "      <td>Keep the building warmer and provide warm wate...</td>\n",
       "      <td>0</td>\n",
       "      <td>0</td>\n",
       "      <td>0</td>\n",
       "      <td>0</td>\n",
       "      <td>0</td>\n",
       "      <td>0</td>\n",
       "      <td>0</td>\n",
       "      <td>0</td>\n",
       "      <td>0</td>\n",
       "      <td>1</td>\n",
       "      <td>0</td>\n",
       "      <td>0</td>\n",
       "    </tr>\n",
       "    <tr>\n",
       "      <th>2</th>\n",
       "      <td>better communication from the top down</td>\n",
       "      <td>0</td>\n",
       "      <td>0</td>\n",
       "      <td>0</td>\n",
       "      <td>1</td>\n",
       "      <td>0</td>\n",
       "      <td>0</td>\n",
       "      <td>0</td>\n",
       "      <td>0</td>\n",
       "      <td>0</td>\n",
       "      <td>0</td>\n",
       "      <td>0</td>\n",
       "      <td>0</td>\n",
       "    </tr>\n",
       "    <tr>\n",
       "      <th>3</th>\n",
       "      <td>It would be beneficial if Management did not m...</td>\n",
       "      <td>0</td>\n",
       "      <td>0</td>\n",
       "      <td>0</td>\n",
       "      <td>0</td>\n",
       "      <td>0</td>\n",
       "      <td>0</td>\n",
       "      <td>1</td>\n",
       "      <td>0</td>\n",
       "      <td>0</td>\n",
       "      <td>0</td>\n",
       "      <td>0</td>\n",
       "      <td>0</td>\n",
       "    </tr>\n",
       "    <tr>\n",
       "      <th>4</th>\n",
       "      <td>more education applicable to my job</td>\n",
       "      <td>1</td>\n",
       "      <td>0</td>\n",
       "      <td>0</td>\n",
       "      <td>0</td>\n",
       "      <td>0</td>\n",
       "      <td>0</td>\n",
       "      <td>0</td>\n",
       "      <td>0</td>\n",
       "      <td>0</td>\n",
       "      <td>0</td>\n",
       "      <td>0</td>\n",
       "      <td>0</td>\n",
       "    </tr>\n",
       "    <tr>\n",
       "      <th>5</th>\n",
       "      <td>Allocating resources appropriately. It feels a...</td>\n",
       "      <td>0</td>\n",
       "      <td>0</td>\n",
       "      <td>0</td>\n",
       "      <td>0</td>\n",
       "      <td>0</td>\n",
       "      <td>0</td>\n",
       "      <td>0</td>\n",
       "      <td>0</td>\n",
       "      <td>0</td>\n",
       "      <td>0</td>\n",
       "      <td>1</td>\n",
       "      <td>0</td>\n",
       "    </tr>\n",
       "    <tr>\n",
       "      <th>6</th>\n",
       "      <td>Stop moving forward with open concept offices.</td>\n",
       "      <td>0</td>\n",
       "      <td>0</td>\n",
       "      <td>0</td>\n",
       "      <td>0</td>\n",
       "      <td>1</td>\n",
       "      <td>0</td>\n",
       "      <td>0</td>\n",
       "      <td>0</td>\n",
       "      <td>0</td>\n",
       "      <td>0</td>\n",
       "      <td>0</td>\n",
       "      <td>0</td>\n",
       "    </tr>\n",
       "    <tr>\n",
       "      <th>7</th>\n",
       "      <td>Go back to the old way of doing computer refre...</td>\n",
       "      <td>0</td>\n",
       "      <td>0</td>\n",
       "      <td>0</td>\n",
       "      <td>0</td>\n",
       "      <td>0</td>\n",
       "      <td>0</td>\n",
       "      <td>0</td>\n",
       "      <td>0</td>\n",
       "      <td>1</td>\n",
       "      <td>1</td>\n",
       "      <td>0</td>\n",
       "      <td>0</td>\n",
       "    </tr>\n",
       "    <tr>\n",
       "      <th>8</th>\n",
       "      <td>greater understanding of the importance of tra...</td>\n",
       "      <td>1</td>\n",
       "      <td>0</td>\n",
       "      <td>0</td>\n",
       "      <td>0</td>\n",
       "      <td>0</td>\n",
       "      <td>0</td>\n",
       "      <td>0</td>\n",
       "      <td>0</td>\n",
       "      <td>0</td>\n",
       "      <td>0</td>\n",
       "      <td>0</td>\n",
       "      <td>0</td>\n",
       "    </tr>\n",
       "    <tr>\n",
       "      <th>9</th>\n",
       "      <td>accountability /measures required when people ...</td>\n",
       "      <td>0</td>\n",
       "      <td>0</td>\n",
       "      <td>0</td>\n",
       "      <td>0</td>\n",
       "      <td>1</td>\n",
       "      <td>0</td>\n",
       "      <td>0</td>\n",
       "      <td>1</td>\n",
       "      <td>0</td>\n",
       "      <td>0</td>\n",
       "      <td>0</td>\n",
       "      <td>0</td>\n",
       "    </tr>\n",
       "  </tbody>\n",
       "</table>\n",
       "</div>"
      ],
      "text/plain": [
       "                                             Comment  CPD  CB  EWC  Exec  FEW  \\\n",
       "0  to be real about diversity, you need to create...    0   0    1     0    0   \n",
       "1  Keep the building warmer and provide warm wate...    0   0    0     0    0   \n",
       "2             better communication from the top down    0   0    0     1    0   \n",
       "3  It would be beneficial if Management did not m...    0   0    0     0    0   \n",
       "4                more education applicable to my job    1   0    0     0    0   \n",
       "5  Allocating resources appropriately. It feels a...    0   0    0     0    0   \n",
       "6     Stop moving forward with open concept offices.    0   0    0     0    1   \n",
       "7  Go back to the old way of doing computer refre...    0   0    0     0    0   \n",
       "8  greater understanding of the importance of tra...    1   0    0     0    0   \n",
       "9  accountability /measures required when people ...    0   0    0     0    1   \n",
       "\n",
       "   SP  RE  Sup  SW  TEPE  VMG  OTH  \n",
       "0   0   0    0   0     0    0    0  \n",
       "1   0   0    0   0     1    0    0  \n",
       "2   0   0    0   0     0    0    0  \n",
       "3   0   1    0   0     0    0    0  \n",
       "4   0   0    0   0     0    0    0  \n",
       "5   0   0    0   0     0    1    0  \n",
       "6   0   0    0   0     0    0    0  \n",
       "7   0   0    0   1     1    0    0  \n",
       "8   0   0    0   0     0    0    0  \n",
       "9   0   0    1   0     0    0    0  "
      ]
     },
     "execution_count": 59,
     "metadata": {},
     "output_type": "execute_result"
    }
   ],
   "source": [
    "df.head(10)"
   ]
  },
  {
   "cell_type": "code",
   "execution_count": 68,
   "metadata": {},
   "outputs": [],
   "source": [
    "import numpy as np\n",
    "labels = np.where(df.iloc[9,1:] ==1,df.iloc[0,1:].index,0)"
   ]
  },
  {
   "cell_type": "code",
   "execution_count": 69,
   "metadata": {},
   "outputs": [],
   "source": [
    "names = labels[np.nonzero(labels)]"
   ]
  },
  {
   "cell_type": "code",
   "execution_count": 76,
   "metadata": {},
   "outputs": [],
   "source": [
    "def combine_labels(list):\n",
    "    all_labels= ''\n",
    "    for tag in list:\n",
    "        all_labels = all_labels + str(tag) + ','\n",
    "    return all_labels[:-1]"
   ]
  },
  {
   "cell_type": "code",
   "execution_count": 77,
   "metadata": {},
   "outputs": [
    {
     "name": "stdout",
     "output_type": "stream",
     "text": [
      "FEW,Sup\n"
     ]
    }
   ],
   "source": [
    "print(combine_labels(names))"
   ]
  },
  {
   "cell_type": "code",
   "execution_count": null,
   "metadata": {},
   "outputs": [],
   "source": []
  },
  {
   "cell_type": "code",
   "execution_count": null,
   "metadata": {},
   "outputs": [],
   "source": []
  },
  {
   "cell_type": "code",
   "execution_count": null,
   "metadata": {},
   "outputs": [],
   "source": []
  },
  {
   "cell_type": "code",
   "execution_count": null,
   "metadata": {},
   "outputs": [],
   "source": []
  },
  {
   "cell_type": "code",
   "execution_count": null,
   "metadata": {},
   "outputs": [],
   "source": []
  }
 ],
 "metadata": {
  "kernelspec": {
   "display_name": "Python 3",
   "language": "python",
   "name": "python3"
  },
  "language_info": {
   "codemirror_mode": {
    "name": "ipython",
    "version": 3
   },
   "file_extension": ".py",
   "mimetype": "text/x-python",
   "name": "python",
   "nbconvert_exporter": "python",
   "pygments_lexer": "ipython3",
   "version": "3.7.7"
  }
 },
 "nbformat": 4,
 "nbformat_minor": 4
}
